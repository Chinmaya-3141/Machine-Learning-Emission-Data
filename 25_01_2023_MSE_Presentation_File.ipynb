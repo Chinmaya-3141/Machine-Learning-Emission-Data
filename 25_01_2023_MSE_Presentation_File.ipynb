{
  "cells": [
    {
      "cell_type": "markdown",
      "metadata": {
        "id": "view-in-github",
        "colab_type": "text"
      },
      "source": [
        "<a href=\"https://colab.research.google.com/github/Chinmaya-3141/Machine-Learning-Emission-Data/blob/edit1/25_01_2023_MSE_Presentation_File.ipynb\" target=\"_parent\"><img src=\"https://colab.research.google.com/assets/colab-badge.svg\" alt=\"Open In Colab\"/></a>"
      ]
    },
    {
      "cell_type": "markdown",
      "source": [
        "# **Gas Turbine Emission Data**"
      ],
      "metadata": {
        "id": "K7c13I_-X1Gg"
      }
    },
    {
      "cell_type": "markdown",
      "source": [
        "### Fetch Data"
      ],
      "metadata": {
        "id": "VryRaYvMYFkj"
      }
    },
    {
      "cell_type": "code",
      "source": [
        "from datetime import datetime\n",
        "import pytz\n",
        "print('Code execution last started at  ',datetime.now(pytz.timezone('Asia/Kolkata')))"
      ],
      "metadata": {
        "colab": {
          "base_uri": "https://localhost:8080/"
        },
        "id": "4Cx-RDX6px6J",
        "outputId": "7464d3c0-ad78-4227-cbea-3aa0e227546f"
      },
      "execution_count": 1,
      "outputs": [
        {
          "output_type": "stream",
          "name": "stdout",
          "text": [
            "Code execution last started at   2023-02-13 12:59:13.190858+05:30\n"
          ]
        }
      ]
    },
    {
      "cell_type": "code",
      "execution_count": 2,
      "metadata": {
        "colab": {
          "base_uri": "https://localhost:8080/"
        },
        "id": "ER-Lp-gKNpIw",
        "outputId": "d15e88ca-d7a5-4b2b-ccea-e1ccc4bc59ce"
      },
      "outputs": [
        {
          "output_type": "stream",
          "name": "stdout",
          "text": [
            "--2023-02-13 07:29:13--  https://archive.ics.uci.edu/ml/machine-learning-databases/00551/pp_gas_emission.zip\n",
            "Resolving archive.ics.uci.edu (archive.ics.uci.edu)... 128.195.10.252\n",
            "Connecting to archive.ics.uci.edu (archive.ics.uci.edu)|128.195.10.252|:443... connected.\n",
            "HTTP request sent, awaiting response... 200 OK\n",
            "Length: 1090294 (1.0M) [application/x-httpd-php]\n",
            "Saving to: ‘pp_gas_emission.zip’\n",
            "\n",
            "pp_gas_emission.zip 100%[===================>]   1.04M  3.64MB/s    in 0.3s    \n",
            "\n",
            "2023-02-13 07:29:13 (3.64 MB/s) - ‘pp_gas_emission.zip’ saved [1090294/1090294]\n",
            "\n"
          ]
        }
      ],
      "source": [
        "!wget https://archive.ics.uci.edu/ml/machine-learning-databases/00551/pp_gas_emission.zip"
      ]
    },
    {
      "cell_type": "code",
      "source": [
        "# !gdown 1otUkltGJRfbVDTvCmElLTnmnV-4FEtrF"
      ],
      "metadata": {
        "id": "AaJ5Bb0hniJO"
      },
      "execution_count": 3,
      "outputs": []
    },
    {
      "cell_type": "code",
      "execution_count": 4,
      "metadata": {
        "colab": {
          "base_uri": "https://localhost:8080/"
        },
        "id": "Nb1xKBjKNs8M",
        "outputId": "02ef3fea-2868-4a6e-b42f-82bba58ab773"
      },
      "outputs": [
        {
          "output_type": "stream",
          "name": "stdout",
          "text": [
            "Archive:  pp_gas_emission.zip\n",
            "  inflating: gt_2011.csv             \n",
            "  inflating: gt_2012.csv             \n",
            "  inflating: gt_2013.csv             \n",
            "  inflating: gt_2014.csv             \n",
            "  inflating: gt_2015.csv             \n"
          ]
        }
      ],
      "source": [
        "!unzip pp_gas_emission.zip"
      ]
    },
    {
      "cell_type": "markdown",
      "source": [
        "## Preprocessing"
      ],
      "metadata": {
        "id": "_tnn0yQOYTVL"
      }
    },
    {
      "cell_type": "markdown",
      "source": [
        "### Import Data"
      ],
      "metadata": {
        "id": "R_tLIV8FYmFt"
      }
    },
    {
      "cell_type": "code",
      "execution_count": 5,
      "metadata": {
        "id": "TK9Au794NvI5"
      },
      "outputs": [],
      "source": [
        "import pandas as pd\n",
        "import numpy as np\n",
        "import seaborn as sns\n",
        "import matplotlib.pyplot as plt\n",
        "import seaborn as sns"
      ]
    },
    {
      "cell_type": "code",
      "execution_count": 6,
      "metadata": {
        "id": "rHgJaQKJ61AN"
      },
      "outputs": [],
      "source": [
        "data_2015=pd.concat([pd.read_csv(\"gt_2011.csv\"),\\\n",
        "                     pd.read_csv(\"gt_2012.csv\"),\\\n",
        "                     pd.read_csv(\"gt_2013.csv\"),\\\n",
        "                     pd.read_csv(\"gt_2014.csv\"),\\\n",
        "                     pd.read_csv(\"gt_2015.csv\")],\\\n",
        "                    axis=0)"
      ]
    },
    {
      "cell_type": "code",
      "execution_count": 7,
      "metadata": {
        "colab": {
          "base_uri": "https://localhost:8080/"
        },
        "id": "4YR5UZVd7FgA",
        "outputId": "07058f8a-1f65-47a1-93cb-4ffc3f43921b"
      },
      "outputs": [
        {
          "output_type": "execute_result",
          "data": {
            "text/plain": [
              "(36733, 11)"
            ]
          },
          "metadata": {},
          "execution_count": 7
        }
      ],
      "source": [
        "data_2015.shape"
      ]
    },
    {
      "cell_type": "code",
      "execution_count": 8,
      "metadata": {
        "colab": {
          "base_uri": "https://localhost:8080/",
          "height": 364
        },
        "id": "YQuAuxRuN30N",
        "outputId": "2210ca47-ab7c-43d0-b4f8-e4185955285a"
      },
      "outputs": [
        {
          "output_type": "execute_result",
          "data": {
            "text/plain": [
              "                 AT            AP            AH          AFDP          GTEP  \\\n",
              "count  36733.000000  36733.000000  36733.000000  36733.000000  36733.000000   \n",
              "mean      17.712726   1013.070165     77.867015      3.925518     25.563801   \n",
              "std        7.447451      6.463346     14.461355      0.773936      4.195957   \n",
              "min       -6.234800    985.850000     24.085000      2.087400     17.698000   \n",
              "25%       11.781000   1008.800000     68.188000      3.355600     23.129000   \n",
              "50%       17.801000   1012.600000     80.470000      3.937700     25.104000   \n",
              "75%       23.665000   1017.000000     89.376000      4.376900     29.061000   \n",
              "max       37.103000   1036.600000    100.200000      7.610600     40.716000   \n",
              "\n",
              "                TIT           TAT           TEY           CDP            CO  \\\n",
              "count  36733.000000  36733.000000  36733.000000  36733.000000  36733.000000   \n",
              "mean    1081.428084    546.158517    133.506404     12.060525      2.372468   \n",
              "std       17.536373      6.842360     15.618634      1.088795      2.262672   \n",
              "min     1000.800000    511.040000    100.020000      9.851800      0.000388   \n",
              "25%     1071.800000    544.720000    124.450000     11.435000      1.182400   \n",
              "50%     1085.900000    549.880000    133.730000     11.965000      1.713500   \n",
              "75%     1097.000000    550.040000    144.080000     12.855000      2.842900   \n",
              "max     1100.900000    550.610000    179.500000     15.159000     44.103000   \n",
              "\n",
              "                NOX  \n",
              "count  36733.000000  \n",
              "mean      65.293067  \n",
              "std       11.678357  \n",
              "min       25.905000  \n",
              "25%       57.162000  \n",
              "50%       63.849000  \n",
              "75%       71.548000  \n",
              "max      119.910000  "
            ],
            "text/html": [
              "\n",
              "  <div id=\"df-7ef4fd15-c1ab-411a-a53b-1fa297b69a33\">\n",
              "    <div class=\"colab-df-container\">\n",
              "      <div>\n",
              "<style scoped>\n",
              "    .dataframe tbody tr th:only-of-type {\n",
              "        vertical-align: middle;\n",
              "    }\n",
              "\n",
              "    .dataframe tbody tr th {\n",
              "        vertical-align: top;\n",
              "    }\n",
              "\n",
              "    .dataframe thead th {\n",
              "        text-align: right;\n",
              "    }\n",
              "</style>\n",
              "<table border=\"1\" class=\"dataframe\">\n",
              "  <thead>\n",
              "    <tr style=\"text-align: right;\">\n",
              "      <th></th>\n",
              "      <th>AT</th>\n",
              "      <th>AP</th>\n",
              "      <th>AH</th>\n",
              "      <th>AFDP</th>\n",
              "      <th>GTEP</th>\n",
              "      <th>TIT</th>\n",
              "      <th>TAT</th>\n",
              "      <th>TEY</th>\n",
              "      <th>CDP</th>\n",
              "      <th>CO</th>\n",
              "      <th>NOX</th>\n",
              "    </tr>\n",
              "  </thead>\n",
              "  <tbody>\n",
              "    <tr>\n",
              "      <th>count</th>\n",
              "      <td>36733.000000</td>\n",
              "      <td>36733.000000</td>\n",
              "      <td>36733.000000</td>\n",
              "      <td>36733.000000</td>\n",
              "      <td>36733.000000</td>\n",
              "      <td>36733.000000</td>\n",
              "      <td>36733.000000</td>\n",
              "      <td>36733.000000</td>\n",
              "      <td>36733.000000</td>\n",
              "      <td>36733.000000</td>\n",
              "      <td>36733.000000</td>\n",
              "    </tr>\n",
              "    <tr>\n",
              "      <th>mean</th>\n",
              "      <td>17.712726</td>\n",
              "      <td>1013.070165</td>\n",
              "      <td>77.867015</td>\n",
              "      <td>3.925518</td>\n",
              "      <td>25.563801</td>\n",
              "      <td>1081.428084</td>\n",
              "      <td>546.158517</td>\n",
              "      <td>133.506404</td>\n",
              "      <td>12.060525</td>\n",
              "      <td>2.372468</td>\n",
              "      <td>65.293067</td>\n",
              "    </tr>\n",
              "    <tr>\n",
              "      <th>std</th>\n",
              "      <td>7.447451</td>\n",
              "      <td>6.463346</td>\n",
              "      <td>14.461355</td>\n",
              "      <td>0.773936</td>\n",
              "      <td>4.195957</td>\n",
              "      <td>17.536373</td>\n",
              "      <td>6.842360</td>\n",
              "      <td>15.618634</td>\n",
              "      <td>1.088795</td>\n",
              "      <td>2.262672</td>\n",
              "      <td>11.678357</td>\n",
              "    </tr>\n",
              "    <tr>\n",
              "      <th>min</th>\n",
              "      <td>-6.234800</td>\n",
              "      <td>985.850000</td>\n",
              "      <td>24.085000</td>\n",
              "      <td>2.087400</td>\n",
              "      <td>17.698000</td>\n",
              "      <td>1000.800000</td>\n",
              "      <td>511.040000</td>\n",
              "      <td>100.020000</td>\n",
              "      <td>9.851800</td>\n",
              "      <td>0.000388</td>\n",
              "      <td>25.905000</td>\n",
              "    </tr>\n",
              "    <tr>\n",
              "      <th>25%</th>\n",
              "      <td>11.781000</td>\n",
              "      <td>1008.800000</td>\n",
              "      <td>68.188000</td>\n",
              "      <td>3.355600</td>\n",
              "      <td>23.129000</td>\n",
              "      <td>1071.800000</td>\n",
              "      <td>544.720000</td>\n",
              "      <td>124.450000</td>\n",
              "      <td>11.435000</td>\n",
              "      <td>1.182400</td>\n",
              "      <td>57.162000</td>\n",
              "    </tr>\n",
              "    <tr>\n",
              "      <th>50%</th>\n",
              "      <td>17.801000</td>\n",
              "      <td>1012.600000</td>\n",
              "      <td>80.470000</td>\n",
              "      <td>3.937700</td>\n",
              "      <td>25.104000</td>\n",
              "      <td>1085.900000</td>\n",
              "      <td>549.880000</td>\n",
              "      <td>133.730000</td>\n",
              "      <td>11.965000</td>\n",
              "      <td>1.713500</td>\n",
              "      <td>63.849000</td>\n",
              "    </tr>\n",
              "    <tr>\n",
              "      <th>75%</th>\n",
              "      <td>23.665000</td>\n",
              "      <td>1017.000000</td>\n",
              "      <td>89.376000</td>\n",
              "      <td>4.376900</td>\n",
              "      <td>29.061000</td>\n",
              "      <td>1097.000000</td>\n",
              "      <td>550.040000</td>\n",
              "      <td>144.080000</td>\n",
              "      <td>12.855000</td>\n",
              "      <td>2.842900</td>\n",
              "      <td>71.548000</td>\n",
              "    </tr>\n",
              "    <tr>\n",
              "      <th>max</th>\n",
              "      <td>37.103000</td>\n",
              "      <td>1036.600000</td>\n",
              "      <td>100.200000</td>\n",
              "      <td>7.610600</td>\n",
              "      <td>40.716000</td>\n",
              "      <td>1100.900000</td>\n",
              "      <td>550.610000</td>\n",
              "      <td>179.500000</td>\n",
              "      <td>15.159000</td>\n",
              "      <td>44.103000</td>\n",
              "      <td>119.910000</td>\n",
              "    </tr>\n",
              "  </tbody>\n",
              "</table>\n",
              "</div>\n",
              "      <button class=\"colab-df-convert\" onclick=\"convertToInteractive('df-7ef4fd15-c1ab-411a-a53b-1fa297b69a33')\"\n",
              "              title=\"Convert this dataframe to an interactive table.\"\n",
              "              style=\"display:none;\">\n",
              "        \n",
              "  <svg xmlns=\"http://www.w3.org/2000/svg\" height=\"24px\"viewBox=\"0 0 24 24\"\n",
              "       width=\"24px\">\n",
              "    <path d=\"M0 0h24v24H0V0z\" fill=\"none\"/>\n",
              "    <path d=\"M18.56 5.44l.94 2.06.94-2.06 2.06-.94-2.06-.94-.94-2.06-.94 2.06-2.06.94zm-11 1L8.5 8.5l.94-2.06 2.06-.94-2.06-.94L8.5 2.5l-.94 2.06-2.06.94zm10 10l.94 2.06.94-2.06 2.06-.94-2.06-.94-.94-2.06-.94 2.06-2.06.94z\"/><path d=\"M17.41 7.96l-1.37-1.37c-.4-.4-.92-.59-1.43-.59-.52 0-1.04.2-1.43.59L10.3 9.45l-7.72 7.72c-.78.78-.78 2.05 0 2.83L4 21.41c.39.39.9.59 1.41.59.51 0 1.02-.2 1.41-.59l7.78-7.78 2.81-2.81c.8-.78.8-2.07 0-2.86zM5.41 20L4 18.59l7.72-7.72 1.47 1.35L5.41 20z\"/>\n",
              "  </svg>\n",
              "      </button>\n",
              "      \n",
              "  <style>\n",
              "    .colab-df-container {\n",
              "      display:flex;\n",
              "      flex-wrap:wrap;\n",
              "      gap: 12px;\n",
              "    }\n",
              "\n",
              "    .colab-df-convert {\n",
              "      background-color: #E8F0FE;\n",
              "      border: none;\n",
              "      border-radius: 50%;\n",
              "      cursor: pointer;\n",
              "      display: none;\n",
              "      fill: #1967D2;\n",
              "      height: 32px;\n",
              "      padding: 0 0 0 0;\n",
              "      width: 32px;\n",
              "    }\n",
              "\n",
              "    .colab-df-convert:hover {\n",
              "      background-color: #E2EBFA;\n",
              "      box-shadow: 0px 1px 2px rgba(60, 64, 67, 0.3), 0px 1px 3px 1px rgba(60, 64, 67, 0.15);\n",
              "      fill: #174EA6;\n",
              "    }\n",
              "\n",
              "    [theme=dark] .colab-df-convert {\n",
              "      background-color: #3B4455;\n",
              "      fill: #D2E3FC;\n",
              "    }\n",
              "\n",
              "    [theme=dark] .colab-df-convert:hover {\n",
              "      background-color: #434B5C;\n",
              "      box-shadow: 0px 1px 3px 1px rgba(0, 0, 0, 0.15);\n",
              "      filter: drop-shadow(0px 1px 2px rgba(0, 0, 0, 0.3));\n",
              "      fill: #FFFFFF;\n",
              "    }\n",
              "  </style>\n",
              "\n",
              "      <script>\n",
              "        const buttonEl =\n",
              "          document.querySelector('#df-7ef4fd15-c1ab-411a-a53b-1fa297b69a33 button.colab-df-convert');\n",
              "        buttonEl.style.display =\n",
              "          google.colab.kernel.accessAllowed ? 'block' : 'none';\n",
              "\n",
              "        async function convertToInteractive(key) {\n",
              "          const element = document.querySelector('#df-7ef4fd15-c1ab-411a-a53b-1fa297b69a33');\n",
              "          const dataTable =\n",
              "            await google.colab.kernel.invokeFunction('convertToInteractive',\n",
              "                                                     [key], {});\n",
              "          if (!dataTable) return;\n",
              "\n",
              "          const docLinkHtml = 'Like what you see? Visit the ' +\n",
              "            '<a target=\"_blank\" href=https://colab.research.google.com/notebooks/data_table.ipynb>data table notebook</a>'\n",
              "            + ' to learn more about interactive tables.';\n",
              "          element.innerHTML = '';\n",
              "          dataTable['output_type'] = 'display_data';\n",
              "          await google.colab.output.renderOutput(dataTable, element);\n",
              "          const docLink = document.createElement('div');\n",
              "          docLink.innerHTML = docLinkHtml;\n",
              "          element.appendChild(docLink);\n",
              "        }\n",
              "      </script>\n",
              "    </div>\n",
              "  </div>\n",
              "  "
            ]
          },
          "metadata": {},
          "execution_count": 8
        }
      ],
      "source": [
        "data_2015.describe()"
      ]
    },
    {
      "cell_type": "markdown",
      "source": [
        "### EDA"
      ],
      "metadata": {
        "id": "P59MNe_FYLbJ"
      }
    },
    {
      "cell_type": "code",
      "execution_count": 9,
      "metadata": {
        "colab": {
          "base_uri": "https://localhost:8080/",
          "height": 106
        },
        "id": "ffyI3etQOyPL",
        "outputId": "45248ef5-c847-4549-bfd0-23da1b1a0109"
      },
      "outputs": [
        {
          "output_type": "execute_result",
          "data": {
            "text/plain": [
              "<matplotlib.axes._subplots.AxesSubplot at 0x7f13201b4ee0>"
            ]
          },
          "metadata": {},
          "execution_count": 9
        },
        {
          "output_type": "display_data",
          "data": {
            "text/plain": [
              "<Figure size 864x864 with 2 Axes>"
            ],
            "image/png": "[encoded data removed]"
          },
          "metadata": {
            "needs_background": "light"
          }
        }
      ],
      "source": [
        "# Showing correlation of all variables among each other and not selecting target variables\n",
        "\n",
        "plt.figure(figsize=(12,12))\n",
        "sns.heatmap(data_2015.loc[:,'AT':'CDP'].corr(),annot=True)\n",
        "# plt.savefig(\"corr.png\")"
      ]
    },
    {
      "cell_type": "code",
      "execution_count": 10,
      "metadata": {
        "id": "-_bZqXvzQRFE"
      },
      "outputs": [],
      "source": [
        "# import seaborn as sns\n",
        "# import matplotlib.pyplot as plt\n",
        "# plt.rcParams['figure.figsize']=(16,7)\n",
        "# f, (ax1,ax2,ax3,ax4,ax5,ax6,ax7,ax8,ax9) = plt.subplots(1,9)\n",
        "# sns.boxplot(data=data_2015['AT'], ax=ax1, palette = 'coolwarm')\n",
        "# sns.boxplot(data=data_2015['AP'], ax=ax2)\n",
        "# sns.boxplot(data=data_2015['AH'], ax=ax3, palette = 'coolwarm')\n",
        "# sns.boxplot(data=data_2015['AFDP'], ax=ax4)\n",
        "# sns.boxplot(data=data_2015['GTEP'], ax=ax5, palette='coolwarm')\n",
        "# sns.boxplot(data=data_2015['TIT'], ax=ax6)\n",
        "# sns.boxplot(data=data_2015['TAT'], ax=ax7, palette='coolwarm')\n",
        "# sns.boxplot(data=data_2015['TEY'], ax=ax8)\n",
        "# sns.boxplot(data=data_2015['CDP'], ax=ax9, palette = 'coolwarm')\n",
        "# f.tight_layout()\n",
        "# plt.savefig(\"boxplot.png\")"
      ]
    },
    {
      "cell_type": "code",
      "execution_count": 11,
      "metadata": {
        "id": "s-llaCxMilLI"
      },
      "outputs": [],
      "source": [
        "# data_2015.to_csv()"
      ]
    },
    {
      "cell_type": "markdown",
      "source": [
        "### Outlier Treatment"
      ],
      "metadata": {
        "id": "dZrytQf1YO2D"
      }
    },
    {
      "cell_type": "code",
      "execution_count": 12,
      "metadata": {
        "id": "cYhpNYmaP5Pz"
      },
      "outputs": [],
      "source": [
        "#LOF is a robust outlier detection method in ML\n",
        "\n",
        "from sklearn.neighbors import LocalOutlierFactor\n",
        "from sklearn.preprocessing import StandardScaler"
      ]
    },
    {
      "cell_type": "code",
      "execution_count": 13,
      "metadata": {
        "id": "SnBFVd6dQ_RY"
      },
      "outputs": [],
      "source": [
        "# Scaling all variables except for target variables\n",
        "\n",
        "data_2015_scaled= StandardScaler().fit_transform(data_2015.loc[:,'AT':'CDP'])"
      ]
    },
    {
      "cell_type": "code",
      "execution_count": 14,
      "metadata": {
        "colab": {
          "base_uri": "https://localhost:8080/"
        },
        "id": "b_ZHolwHRgbQ",
        "outputId": "aecac61a-630e-4657-b0e5-78499a50c823"
      },
      "outputs": [
        {
          "output_type": "execute_result",
          "data": {
            "text/plain": [
              "(36733, 11)"
            ]
          },
          "metadata": {},
          "execution_count": 14
        }
      ],
      "source": [
        "data_2015.shape"
      ]
    },
    {
      "cell_type": "code",
      "execution_count": 15,
      "metadata": {
        "id": "LZ9fzT4bR1y7"
      },
      "outputs": [],
      "source": [
        "# Using Local Outlier Factor to identify potential outliers\n",
        "\n",
        "lof=LocalOutlierFactor(n_neighbors=5)\n",
        "pred = lof.fit_predict(data_2015_scaled)"
      ]
    },
    {
      "cell_type": "code",
      "execution_count": 16,
      "metadata": {
        "colab": {
          "base_uri": "https://localhost:8080/"
        },
        "id": "jg90HqKoSUYY",
        "outputId": "6d76a41a-40e0-4b23-f48e-8686c1b3f362"
      },
      "outputs": [
        {
          "output_type": "execute_result",
          "data": {
            "text/plain": [
              " 1    35425\n",
              "-1     1308\n",
              "dtype: int64"
            ]
          },
          "metadata": {},
          "execution_count": 16
        }
      ],
      "source": [
        "pd.Series(pred).value_counts()"
      ]
    },
    {
      "cell_type": "code",
      "execution_count": 17,
      "metadata": {
        "id": "Bi7ZuJFdS4fK"
      },
      "outputs": [],
      "source": [
        "# initialising an empty array, passing no of rows/entries using shape[0]\n",
        "# storing predictions for 5,7,9 neighbours in all_preds by looping n_neigh over range(5,10,2)\n",
        "\n",
        "all_preds = np.zeros(shape=(data_2015_scaled.shape[0],3))\n",
        "i=0\n",
        "for n_neigh in range(5,10,2):\n",
        "  lof=LocalOutlierFactor(n_neighbors=n_neigh)\n",
        "  pred=lof.fit_predict(data_2015_scaled)\n",
        "  all_preds[:,i]=pred\n",
        "  i+=1"
      ]
    },
    {
      "cell_type": "code",
      "execution_count": 18,
      "metadata": {
        "colab": {
          "base_uri": "https://localhost:8080/"
        },
        "id": "3CjGZSrkU2DH",
        "outputId": "041bfc89-a2f3-4b99-e5e0-014fd1a5b8ee"
      },
      "outputs": [
        {
          "output_type": "execute_result",
          "data": {
            "text/plain": [
              "array([[ 1.,  1.,  1.],\n",
              "       [ 1.,  1.,  1.],\n",
              "       [ 1.,  1.,  1.],\n",
              "       ...,\n",
              "       [ 1.,  1.,  1.],\n",
              "       [-1., -1.,  1.],\n",
              "       [ 1.,  1.,  1.]])"
            ]
          },
          "metadata": {},
          "execution_count": 18
        }
      ],
      "source": [
        "all_preds"
      ]
    },
    {
      "cell_type": "code",
      "execution_count": 19,
      "metadata": {
        "id": "nILnF4vbVH8F"
      },
      "outputs": [],
      "source": [
        "# Sum along rows, that is sum prediction whether outlier or not according to 5,7 and 9 neighbour prediction\n",
        "\n",
        "outlier_preds = all_preds.sum(axis=1)"
      ]
    },
    {
      "cell_type": "code",
      "source": [
        "# outlier_preds"
      ],
      "metadata": {
        "id": "gmotcB2mUcPn"
      },
      "execution_count": 20,
      "outputs": []
    },
    {
      "cell_type": "code",
      "source": [
        "# Summed values\n",
        "\n",
        "# np.unique(outlier_preds)"
      ],
      "metadata": {
        "id": "lZkRAX9UUtwc"
      },
      "execution_count": 21,
      "outputs": []
    },
    {
      "cell_type": "code",
      "execution_count": 22,
      "metadata": {
        "id": "6nHrKQOQWIhK"
      },
      "outputs": [],
      "source": [
        "# Pick points which are considered outliers by at least two out of three n_neighbours lof\n",
        "# This will happen when sum of row is 1 or 3\n",
        "# final_outlier assigns 1 to outliers\n",
        "# This is done by checking if rowsum is >= 1, that is 1 or 3\n",
        "# If two lof numbers say not outlier, we keep it\n",
        "# Like a voting method.\n",
        "\n",
        "final_outlier=np.where(outlier_preds>=1,1,-1)"
      ]
    },
    {
      "cell_type": "code",
      "source": [
        "final_outlier"
      ],
      "metadata": {
        "colab": {
          "base_uri": "https://localhost:8080/"
        },
        "id": "teQDRVM4UPbk",
        "outputId": "3d5dbe64-9ff7-4b80-ff3f-c4167fcd1026"
      },
      "execution_count": 23,
      "outputs": [
        {
          "output_type": "execute_result",
          "data": {
            "text/plain": [
              "array([ 1,  1,  1, ...,  1, -1,  1])"
            ]
          },
          "metadata": {},
          "execution_count": 23
        }
      ]
    },
    {
      "cell_type": "code",
      "execution_count": 24,
      "metadata": {
        "colab": {
          "base_uri": "https://localhost:8080/"
        },
        "id": "LPXUaLk-WSEf",
        "outputId": "9575194a-f2b9-4d01-983e-494cd9ea2e79"
      },
      "outputs": [
        {
          "output_type": "execute_result",
          "data": {
            "text/plain": [
              " 1    0.973784\n",
              "-1    0.026216\n",
              "dtype: float64"
            ]
          },
          "metadata": {},
          "execution_count": 24
        }
      ],
      "source": [
        "# Checking percentage of Outliers to non-outliers from our prediction\n",
        "\n",
        "pd.Series(final_outlier).value_counts(normalize=True)"
      ]
    },
    {
      "cell_type": "markdown",
      "source": [
        "Consensus outliers:\n",
        "\n",
        "(963/36733)*100 \\\n",
        "= 2.6216208858519587%"
      ],
      "metadata": {
        "id": "ERLrrHcEWka8"
      }
    },
    {
      "cell_type": "code",
      "execution_count": 25,
      "metadata": {
        "id": "SVvoodmXXeP6"
      },
      "outputs": [],
      "source": [
        "data_2015_no_outlier = data_2015[final_outlier==1]"
      ]
    },
    {
      "cell_type": "markdown",
      "source": [
        "## Multiple Linear Regression"
      ],
      "metadata": {
        "id": "t2qCQmJkYgQ2"
      }
    },
    {
      "cell_type": "markdown",
      "source": [
        "### Import Modules"
      ],
      "metadata": {
        "id": "BBE1V5f-dL8K"
      }
    },
    {
      "cell_type": "code",
      "source": [
        "import statsmodels.formula.api as sm"
      ],
      "metadata": {
        "id": "-ncXIsDRYvuu"
      },
      "execution_count": 26,
      "outputs": []
    },
    {
      "cell_type": "code",
      "execution_count": 27,
      "metadata": {
        "id": "XbgvOgnfaQPx"
      },
      "outputs": [],
      "source": [
        "columns=data_2015.columns"
      ]
    },
    {
      "cell_type": "code",
      "source": [
        "columns"
      ],
      "metadata": {
        "id": "BQbeMC_WZ1Qk",
        "colab": {
          "base_uri": "https://localhost:8080/"
        },
        "outputId": "1feafe80-5dfc-441a-941d-a80b34214c3a"
      },
      "execution_count": 28,
      "outputs": [
        {
          "output_type": "execute_result",
          "data": {
            "text/plain": [
              "Index(['AT', 'AP', 'AH', 'AFDP', 'GTEP', 'TIT', 'TAT', 'TEY', 'CDP', 'CO',\n",
              "       'NOX'],\n",
              "      dtype='object')"
            ]
          },
          "metadata": {},
          "execution_count": 28
        }
      ]
    },
    {
      "cell_type": "code",
      "source": [
        "# data_2015_NOx=data_2015_no_outlier.drop('CO',axis=1)\n",
        "# data_2015_CO=data_2015_no_outlier.drop('NOX',axis=1)"
      ],
      "metadata": {
        "id": "rUFHnlBnZ43M"
      },
      "execution_count": 29,
      "outputs": []
    },
    {
      "cell_type": "markdown",
      "source": [
        "### Linear Regression"
      ],
      "metadata": {
        "id": "2zQo6nKFaKTD"
      }
    },
    {
      "cell_type": "code",
      "source": [
        "# Join column numbers 1 to 9 to pass string with formula for CO\n",
        "\n",
        "f1='CO~'+'+'.join(columns[:9])\n",
        "f1"
      ],
      "metadata": {
        "id": "P7cxWCxiaFQx",
        "colab": {
          "base_uri": "https://localhost:8080/",
          "height": 593
        },
        "outputId": "94d9e0a9-77ed-4fd6-8695-14363abb6201"
      },
      "execution_count": 30,
      "outputs": [
        {
          "output_type": "execute_result",
          "data": {
            "text/plain": [
              "'CO~AT+AP+AH+AFDP+GTEP+TIT+TAT+TEY+CDP'"
            ],
            "application/vnd.google.colaboratory.intrinsic+json": {
              "type": "string"
            }
          },
          "metadata": {},
          "execution_count": 30
        }
      ]
    },
    {
      "cell_type": "code",
      "source": [
        "r_co=sm.ols(formula=f1, data=data_2015_no_outlier)"
      ],
      "metadata": {
        "id": "NW7kAYI_ZXVZ"
      },
      "execution_count": 31,
      "outputs": []
    },
    {
      "cell_type": "code",
      "source": [
        "result_co=r_co.fit()"
      ],
      "metadata": {
        "id": "hNoUypFeaVIw"
      },
      "execution_count": 32,
      "outputs": []
    },
    {
      "cell_type": "code",
      "source": [
        "result_co.summary()"
      ],
      "metadata": {
        "id": "uhPNDJGEZaTg",
        "colab": {
          "base_uri": "https://localhost:8080/",
          "height": 1000
        },
        "outputId": "2129e525-b8e8-484d-c0f7-5a9360ee99a9"
      },
      "execution_count": 33,
      "outputs": [
        {
          "output_type": "execute_result",
          "data": {
            "text/plain": [
              "<class 'statsmodels.iolib.summary.Summary'>\n",
              "\"\"\"\n",
              "                            OLS Regression Results                            \n",
              "==============================================================================\n",
              "Dep. Variable:                     CO   R-squared:                       0.582\n",
              "Model:                            OLS   Adj. R-squared:                  0.582\n",
              "Method:                 Least Squares   F-statistic:                     5536.\n",
              "Date:                Mon, 13 Feb 2023   Prob (F-statistic):               0.00\n",
              "Time:                        07:29:32   Log-Likelihood:                -62953.\n",
              "No. Observations:               35770   AIC:                         1.259e+05\n",
              "Df Residuals:                   35760   BIC:                         1.260e+05\n",
              "Df Model:                           9                                         \n",
              "Covariance Type:            nonrobust                                         \n",
              "==============================================================================\n",
              "                 coef    std err          t      P>|t|      [0.025      0.975]\n",
              "------------------------------------------------------------------------------\n",
              "Intercept    121.8235      2.119     57.502      0.000     117.671     125.976\n",
              "AT            -0.0501      0.003    -17.351      0.000      -0.056      -0.044\n",
              "AP            -0.0020      0.001     -1.389      0.165      -0.005       0.001\n",
              "AH            -0.0076      0.001    -11.773      0.000      -0.009      -0.006\n",
              "AFDP          -0.1614      0.015    -10.550      0.000      -0.191      -0.131\n",
              "GTEP           0.1016      0.010     10.427      0.000       0.082       0.121\n",
              "TIT           -0.0690      0.003    -26.221      0.000      -0.074      -0.064\n",
              "TAT           -0.0754      0.003    -21.650      0.000      -0.082      -0.069\n",
              "TEY           -0.1916      0.008    -25.040      0.000      -0.207      -0.177\n",
              "CDP            1.9421      0.108     17.977      0.000       1.730       2.154\n",
              "==============================================================================\n",
              "Omnibus:                    45324.595   Durbin-Watson:                   0.791\n",
              "Prob(Omnibus):                  0.000   Jarque-Bera (JB):         21766576.561\n",
              "Skew:                           6.593   Prob(JB):                         0.00\n",
              "Kurtosis:                     123.127   Cond. No.                     4.52e+05\n",
              "==============================================================================\n",
              "\n",
              "Notes:\n",
              "[1] Standard Errors assume that the covariance matrix of the errors is correctly specified.\n",
              "[2] The condition number is large, 4.52e+05. This might indicate that there are\n",
              "strong multicollinearity or other numerical problems.\n",
              "\"\"\""
            ],
            "text/html": [
              "<table class=\"simpletable\">\n",
              "<caption>OLS Regression Results</caption>\n",
              "<tr>\n",
              "  <th>Dep. Variable:</th>           <td>CO</td>        <th>  R-squared:         </th> <td>   0.582</td> \n",
              "</tr>\n",
              "<tr>\n",
              "  <th>Model:</th>                   <td>OLS</td>       <th>  Adj. R-squared:    </th> <td>   0.582</td> \n",
              "</tr>\n",
              "<tr>\n",
              "  <th>Method:</th>             <td>Least Squares</td>  <th>  F-statistic:       </th> <td>   5536.</td> \n",
              "</tr>\n",
              "<tr>\n",
              "  <th>Date:</th>             <td>Mon, 13 Feb 2023</td> <th>  Prob (F-statistic):</th>  <td>  0.00</td>  \n",
              "</tr>\n",
              "<tr>\n",
              "  <th>Time:</th>                 <td>07:29:32</td>     <th>  Log-Likelihood:    </th> <td> -62953.</td> \n",
              "</tr>\n",
              "<tr>\n",
              "  <th>No. Observations:</th>      <td> 35770</td>      <th>  AIC:               </th> <td>1.259e+05</td>\n",
              "</tr>\n",
              "<tr>\n",
              "  <th>Df Residuals:</th>          <td> 35760</td>      <th>  BIC:               </th> <td>1.260e+05</td>\n",
              "</tr>\n",
              "<tr>\n",
              "  <th>Df Model:</th>              <td>     9</td>      <th>                     </th>     <td> </td>    \n",
              "</tr>\n",
              "<tr>\n",
              "  <th>Covariance Type:</th>      <td>nonrobust</td>    <th>                     </th>     <td> </td>    \n",
              "</tr>\n",
              "</table>\n",
              "<table class=\"simpletable\">\n",
              "<tr>\n",
              "      <td></td>         <th>coef</th>     <th>std err</th>      <th>t</th>      <th>P>|t|</th>  <th>[0.025</th>    <th>0.975]</th>  \n",
              "</tr>\n",
              "<tr>\n",
              "  <th>Intercept</th> <td>  121.8235</td> <td>    2.119</td> <td>   57.502</td> <td> 0.000</td> <td>  117.671</td> <td>  125.976</td>\n",
              "</tr>\n",
              "<tr>\n",
              "  <th>AT</th>        <td>   -0.0501</td> <td>    0.003</td> <td>  -17.351</td> <td> 0.000</td> <td>   -0.056</td> <td>   -0.044</td>\n",
              "</tr>\n",
              "<tr>\n",
              "  <th>AP</th>        <td>   -0.0020</td> <td>    0.001</td> <td>   -1.389</td> <td> 0.165</td> <td>   -0.005</td> <td>    0.001</td>\n",
              "</tr>\n",
              "<tr>\n",
              "  <th>AH</th>        <td>   -0.0076</td> <td>    0.001</td> <td>  -11.773</td> <td> 0.000</td> <td>   -0.009</td> <td>   -0.006</td>\n",
              "</tr>\n",
              "<tr>\n",
              "  <th>AFDP</th>      <td>   -0.1614</td> <td>    0.015</td> <td>  -10.550</td> <td> 0.000</td> <td>   -0.191</td> <td>   -0.131</td>\n",
              "</tr>\n",
              "<tr>\n",
              "  <th>GTEP</th>      <td>    0.1016</td> <td>    0.010</td> <td>   10.427</td> <td> 0.000</td> <td>    0.082</td> <td>    0.121</td>\n",
              "</tr>\n",
              "<tr>\n",
              "  <th>TIT</th>       <td>   -0.0690</td> <td>    0.003</td> <td>  -26.221</td> <td> 0.000</td> <td>   -0.074</td> <td>   -0.064</td>\n",
              "</tr>\n",
              "<tr>\n",
              "  <th>TAT</th>       <td>   -0.0754</td> <td>    0.003</td> <td>  -21.650</td> <td> 0.000</td> <td>   -0.082</td> <td>   -0.069</td>\n",
              "</tr>\n",
              "<tr>\n",
              "  <th>TEY</th>       <td>   -0.1916</td> <td>    0.008</td> <td>  -25.040</td> <td> 0.000</td> <td>   -0.207</td> <td>   -0.177</td>\n",
              "</tr>\n",
              "<tr>\n",
              "  <th>CDP</th>       <td>    1.9421</td> <td>    0.108</td> <td>   17.977</td> <td> 0.000</td> <td>    1.730</td> <td>    2.154</td>\n",
              "</tr>\n",
              "</table>\n",
              "<table class=\"simpletable\">\n",
              "<tr>\n",
              "  <th>Omnibus:</th>       <td>45324.595</td> <th>  Durbin-Watson:     </th>   <td>   0.791</td>  \n",
              "</tr>\n",
              "<tr>\n",
              "  <th>Prob(Omnibus):</th>  <td> 0.000</td>   <th>  Jarque-Bera (JB):  </th> <td>21766576.561</td>\n",
              "</tr>\n",
              "<tr>\n",
              "  <th>Skew:</th>           <td> 6.593</td>   <th>  Prob(JB):          </th>   <td>    0.00</td>  \n",
              "</tr>\n",
              "<tr>\n",
              "  <th>Kurtosis:</th>       <td>123.127</td>  <th>  Cond. No.          </th>   <td>4.52e+05</td>  \n",
              "</tr>\n",
              "</table><br/><br/>Notes:<br/>[1] Standard Errors assume that the covariance matrix of the errors is correctly specified.<br/>[2] The condition number is large, 4.52e+05. This might indicate that there are<br/>strong multicollinearity or other numerical problems."
            ]
          },
          "metadata": {},
          "execution_count": 33
        }
      ]
    },
    {
      "cell_type": "code",
      "execution_count": 34,
      "metadata": {
        "colab": {
          "base_uri": "https://localhost:8080/",
          "height": 611
        },
        "id": "WOjzitYqakvO",
        "outputId": "53902694-31ff-439e-8695-c8f4a6411c1d"
      },
      "outputs": [
        {
          "output_type": "execute_result",
          "data": {
            "text/plain": [
              "'NOX~AT+AP+AH+AFDP+GTEP+TIT+TAT+TEY+CDP'"
            ],
            "application/vnd.google.colaboratory.intrinsic+json": {
              "type": "string"
            }
          },
          "metadata": {},
          "execution_count": 34
        }
      ],
      "source": [
        "# Join column numbers 1 to 9 to pass string with formula for NOx\n",
        "\n",
        "f2='NOX~'+'+'.join(columns[:9])\n",
        "f2"
      ]
    },
    {
      "cell_type": "code",
      "execution_count": 35,
      "metadata": {
        "id": "OMHp8QJYayjL"
      },
      "outputs": [],
      "source": [
        "# OLS Regression\n",
        "\n",
        "r_nox=sm.ols(formula=f2, data=data_2015_no_outlier)"
      ]
    },
    {
      "cell_type": "code",
      "execution_count": 36,
      "metadata": {
        "id": "uaagwIe6brIi"
      },
      "outputs": [],
      "source": [
        "result_nox=r_nox.fit()"
      ]
    },
    {
      "cell_type": "code",
      "execution_count": 37,
      "metadata": {
        "colab": {
          "base_uri": "https://localhost:8080/",
          "height": 1000
        },
        "id": "VWRqFUsgb13A",
        "outputId": "d7cf15bd-3309-49fb-c1b0-76100534e662"
      },
      "outputs": [
        {
          "output_type": "execute_result",
          "data": {
            "text/plain": [
              "<class 'statsmodels.iolib.summary.Summary'>\n",
              "\"\"\"\n",
              "                            OLS Regression Results                            \n",
              "==============================================================================\n",
              "Dep. Variable:                    NOX   R-squared:                       0.518\n",
              "Model:                            OLS   Adj. R-squared:                  0.518\n",
              "Method:                 Least Squares   F-statistic:                     4268.\n",
              "Date:                Mon, 13 Feb 2023   Prob (F-statistic):               0.00\n",
              "Time:                        07:29:33   Log-Likelihood:            -1.2546e+05\n",
              "No. Observations:               35770   AIC:                         2.509e+05\n",
              "Df Residuals:                   35760   BIC:                         2.510e+05\n",
              "Df Model:                           9                                         \n",
              "Covariance Type:            nonrobust                                         \n",
              "==============================================================================\n",
              "                 coef    std err          t      P>|t|      [0.025      0.975]\n",
              "------------------------------------------------------------------------------\n",
              "Intercept    -61.5671     12.162     -5.062      0.000     -85.406     -37.728\n",
              "AT            -1.7649      0.017   -106.504      0.000      -1.797      -1.732\n",
              "AP            -0.2360      0.008    -28.839      0.000      -0.252      -0.220\n",
              "AH            -0.2224      0.004    -60.016      0.000      -0.230      -0.215\n",
              "AFDP           0.7286      0.088      8.295      0.000       0.556       0.901\n",
              "GTEP          -0.1015      0.056     -1.815      0.070      -0.211       0.008\n",
              "TIT            1.4144      0.015     93.655      0.000       1.385       1.444\n",
              "TAT           -1.5245      0.020    -76.244      0.000      -1.564      -1.485\n",
              "TEY           -1.9461      0.044    -44.304      0.000      -2.032      -1.860\n",
              "CDP           -1.9019      0.620     -3.067      0.002      -3.117      -0.686\n",
              "==============================================================================\n",
              "Omnibus:                     7249.078   Durbin-Watson:                   0.369\n",
              "Prob(Omnibus):                  0.000   Jarque-Bera (JB):            26041.843\n",
              "Skew:                           0.996   Prob(JB):                         0.00\n",
              "Kurtosis:                       6.675   Cond. No.                     4.52e+05\n",
              "==============================================================================\n",
              "\n",
              "Notes:\n",
              "[1] Standard Errors assume that the covariance matrix of the errors is correctly specified.\n",
              "[2] The condition number is large, 4.52e+05. This might indicate that there are\n",
              "strong multicollinearity or other numerical problems.\n",
              "\"\"\""
            ],
            "text/html": [
              "<table class=\"simpletable\">\n",
              "<caption>OLS Regression Results</caption>\n",
              "<tr>\n",
              "  <th>Dep. Variable:</th>           <td>NOX</td>       <th>  R-squared:         </th>  <td>   0.518</td>  \n",
              "</tr>\n",
              "<tr>\n",
              "  <th>Model:</th>                   <td>OLS</td>       <th>  Adj. R-squared:    </th>  <td>   0.518</td>  \n",
              "</tr>\n",
              "<tr>\n",
              "  <th>Method:</th>             <td>Least Squares</td>  <th>  F-statistic:       </th>  <td>   4268.</td>  \n",
              "</tr>\n",
              "<tr>\n",
              "  <th>Date:</th>             <td>Mon, 13 Feb 2023</td> <th>  Prob (F-statistic):</th>   <td>  0.00</td>   \n",
              "</tr>\n",
              "<tr>\n",
              "  <th>Time:</th>                 <td>07:29:33</td>     <th>  Log-Likelihood:    </th> <td>-1.2546e+05</td>\n",
              "</tr>\n",
              "<tr>\n",
              "  <th>No. Observations:</th>      <td> 35770</td>      <th>  AIC:               </th>  <td>2.509e+05</td> \n",
              "</tr>\n",
              "<tr>\n",
              "  <th>Df Residuals:</th>          <td> 35760</td>      <th>  BIC:               </th>  <td>2.510e+05</td> \n",
              "</tr>\n",
              "<tr>\n",
              "  <th>Df Model:</th>              <td>     9</td>      <th>                     </th>      <td> </td>     \n",
              "</tr>\n",
              "<tr>\n",
              "  <th>Covariance Type:</th>      <td>nonrobust</td>    <th>                     </th>      <td> </td>     \n",
              "</tr>\n",
              "</table>\n",
              "<table class=\"simpletable\">\n",
              "<tr>\n",
              "      <td></td>         <th>coef</th>     <th>std err</th>      <th>t</th>      <th>P>|t|</th>  <th>[0.025</th>    <th>0.975]</th>  \n",
              "</tr>\n",
              "<tr>\n",
              "  <th>Intercept</th> <td>  -61.5671</td> <td>   12.162</td> <td>   -5.062</td> <td> 0.000</td> <td>  -85.406</td> <td>  -37.728</td>\n",
              "</tr>\n",
              "<tr>\n",
              "  <th>AT</th>        <td>   -1.7649</td> <td>    0.017</td> <td> -106.504</td> <td> 0.000</td> <td>   -1.797</td> <td>   -1.732</td>\n",
              "</tr>\n",
              "<tr>\n",
              "  <th>AP</th>        <td>   -0.2360</td> <td>    0.008</td> <td>  -28.839</td> <td> 0.000</td> <td>   -0.252</td> <td>   -0.220</td>\n",
              "</tr>\n",
              "<tr>\n",
              "  <th>AH</th>        <td>   -0.2224</td> <td>    0.004</td> <td>  -60.016</td> <td> 0.000</td> <td>   -0.230</td> <td>   -0.215</td>\n",
              "</tr>\n",
              "<tr>\n",
              "  <th>AFDP</th>      <td>    0.7286</td> <td>    0.088</td> <td>    8.295</td> <td> 0.000</td> <td>    0.556</td> <td>    0.901</td>\n",
              "</tr>\n",
              "<tr>\n",
              "  <th>GTEP</th>      <td>   -0.1015</td> <td>    0.056</td> <td>   -1.815</td> <td> 0.070</td> <td>   -0.211</td> <td>    0.008</td>\n",
              "</tr>\n",
              "<tr>\n",
              "  <th>TIT</th>       <td>    1.4144</td> <td>    0.015</td> <td>   93.655</td> <td> 0.000</td> <td>    1.385</td> <td>    1.444</td>\n",
              "</tr>\n",
              "<tr>\n",
              "  <th>TAT</th>       <td>   -1.5245</td> <td>    0.020</td> <td>  -76.244</td> <td> 0.000</td> <td>   -1.564</td> <td>   -1.485</td>\n",
              "</tr>\n",
              "<tr>\n",
              "  <th>TEY</th>       <td>   -1.9461</td> <td>    0.044</td> <td>  -44.304</td> <td> 0.000</td> <td>   -2.032</td> <td>   -1.860</td>\n",
              "</tr>\n",
              "<tr>\n",
              "  <th>CDP</th>       <td>   -1.9019</td> <td>    0.620</td> <td>   -3.067</td> <td> 0.002</td> <td>   -3.117</td> <td>   -0.686</td>\n",
              "</tr>\n",
              "</table>\n",
              "<table class=\"simpletable\">\n",
              "<tr>\n",
              "  <th>Omnibus:</th>       <td>7249.078</td> <th>  Durbin-Watson:     </th> <td>   0.369</td> \n",
              "</tr>\n",
              "<tr>\n",
              "  <th>Prob(Omnibus):</th>  <td> 0.000</td>  <th>  Jarque-Bera (JB):  </th> <td>26041.843</td>\n",
              "</tr>\n",
              "<tr>\n",
              "  <th>Skew:</th>           <td> 0.996</td>  <th>  Prob(JB):          </th> <td>    0.00</td> \n",
              "</tr>\n",
              "<tr>\n",
              "  <th>Kurtosis:</th>       <td> 6.675</td>  <th>  Cond. No.          </th> <td>4.52e+05</td> \n",
              "</tr>\n",
              "</table><br/><br/>Notes:<br/>[1] Standard Errors assume that the covariance matrix of the errors is correctly specified.<br/>[2] The condition number is large, 4.52e+05. This might indicate that there are<br/>strong multicollinearity or other numerical problems."
            ]
          },
          "metadata": {},
          "execution_count": 37
        }
      ],
      "source": [
        "result_nox.summary()"
      ]
    },
    {
      "cell_type": "markdown",
      "source": [
        "### Variable selection using Variance Inflation Factor (VIF)"
      ],
      "metadata": {
        "id": "R1vYCLu0acZT"
      }
    },
    {
      "cell_type": "code",
      "execution_count": 38,
      "metadata": {
        "id": "5pvs0GVSs002"
      },
      "outputs": [],
      "source": [
        "from statsmodels.stats.outliers_influence import variance_inflation_factor"
      ]
    },
    {
      "cell_type": "code",
      "execution_count": 39,
      "metadata": {
        "colab": {
          "base_uri": "https://localhost:8080/"
        },
        "id": "lvy4ZPN2tkWB",
        "outputId": "526b6cfa-0333-4e1e-9ccc-6bad78b2ab7d"
      },
      "outputs": [
        {
          "output_type": "execute_result",
          "data": {
            "text/plain": [
              "46.86457466862405"
            ]
          },
          "metadata": {},
          "execution_count": 39
        }
      ],
      "source": [
        "variance_inflation_factor(data_2015_no_outlier.loc[:,'AT':'CDP'].values,0)"
      ]
    },
    {
      "cell_type": "code",
      "execution_count": 40,
      "metadata": {
        "colab": {
          "base_uri": "https://localhost:8080/"
        },
        "id": "B6O1ut9otF2D",
        "outputId": "b5a429e8-047a-460f-bce6-43188be7a337"
      },
      "outputs": [
        {
          "output_type": "execute_result",
          "data": {
            "text/plain": [
              "[0, 1, 2, 3, 4, 5, 6, 7, 8, 9]"
            ]
          },
          "metadata": {},
          "execution_count": 40
        }
      ],
      "source": [
        "[i for i in range(10)]"
      ]
    },
    {
      "cell_type": "code",
      "execution_count": 41,
      "metadata": {
        "id": "TRwUndSJuDnC"
      },
      "outputs": [],
      "source": [
        "X_1 = data_2015_no_outlier.loc[:,'AT':'CDP'].copy()"
      ]
    },
    {
      "cell_type": "code",
      "execution_count": 42,
      "metadata": {
        "id": "ijC8YmSBtcR1"
      },
      "outputs": [],
      "source": [
        "vif_scores = {k: v for k, v in zip(X_1.columns,\n",
        "                                   [variance_inflation_factor(X_1.values, i) \\\n",
        "                                    for i in range(len(X_1.columns))])}"
      ]
    },
    {
      "cell_type": "code",
      "execution_count": 43,
      "metadata": {
        "id": "okiHGu90t8EY"
      },
      "outputs": [],
      "source": [
        "vif_scores_sorted = {k:v for k, v in sorted(vif_scores.items(),key=lambda item:item[1], reverse = True)}"
      ]
    },
    {
      "cell_type": "code",
      "execution_count": 44,
      "metadata": {
        "colab": {
          "base_uri": "https://localhost:8080/"
        },
        "id": "jMLz2pwKw2SC",
        "outputId": "8b3fd1bb-a7d4-4d37-d95a-dd24e388e049"
      },
      "outputs": [
        {
          "output_type": "execute_result",
          "data": {
            "text/plain": [
              "{'TIT': 121734.40451561549,\n",
              " 'TAT': 63794.72222418256,\n",
              " 'AP': 28307.64508797133,\n",
              " 'CDP': 27875.950114991723,\n",
              " 'TEY': 13827.838631867879,\n",
              " 'GTEP': 1057.1442758291464,\n",
              " 'AFDP': 67.3993997468524,\n",
              " 'AT': 46.86457466862405,\n",
              " 'AH': 46.00271067397057}"
            ]
          },
          "metadata": {},
          "execution_count": 44
        }
      ],
      "source": [
        "vif_scores_sorted"
      ]
    },
    {
      "cell_type": "code",
      "execution_count": 45,
      "metadata": {
        "id": "4E4rqljNw8NJ"
      },
      "outputs": [],
      "source": [
        "# X_1.columns.drop('TIT')"
      ]
    },
    {
      "cell_type": "markdown",
      "source": [
        "#### Defining functions to select variables with lowest VIF"
      ],
      "metadata": {
        "id": "wHpeTNOxa7o9"
      }
    },
    {
      "cell_type": "code",
      "execution_count": 46,
      "metadata": {
        "id": "wE09NVRqxOPM"
      },
      "outputs": [],
      "source": [
        "def var_selection_vif(data_exog: pd.DataFrame, th: int=5):\n",
        "  vif_scores = {k: v for k, v in zip(data_exog.columns,\n",
        "                                     [variance_inflation_factor(data_exog.values,i)\\\n",
        "                                      for i in range(len(data_exog.columns))])}\n",
        "  vif_scores_sorted = {k:v for k, v in sorted(vif_scores.items(),\n",
        "                                            key=lambda item:item[1],\n",
        "                                            reverse = True)}\n",
        "  if vif_scores_sorted[list(vif_scores_sorted.keys())[0]]>th:\n",
        "    vars = data_exog.columns.drop(list(vif_scores_sorted.keys())[0])\n",
        "    return (data_exog[vars], vif_scores_sorted)\n",
        "  else:\n",
        "    return(data_exog, vif_scores_sorted)"
      ]
    },
    {
      "cell_type": "code",
      "execution_count": 47,
      "metadata": {
        "colab": {
          "base_uri": "https://localhost:8080/"
        },
        "id": "pXC2HQ7d1COY",
        "outputId": "427a8a23-dcd4-43be-c354-f08e0313c484"
      },
      "outputs": [
        {
          "output_type": "stream",
          "name": "stdout",
          "text": [
            "{'TIT': 121734.40451561549, 'TAT': 63794.72222418256, 'AP': 28307.64508797133, 'CDP': 27875.950114991723, 'TEY': 13827.838631867879, 'GTEP': 1057.1442758291464, 'AFDP': 67.3993997468524, 'AT': 46.86457466862405, 'AH': 46.00271067397057}\n",
            "{'CDP': 26213.793293308318, 'AP': 25132.999808507677, 'TAT': 16654.669880172027, 'TEY': 12389.760061720457, 'GTEP': 998.8772137798093, 'AFDP': 64.11990672897241, 'AH': 45.076480065618966, 'AT': 42.38049924200662}\n",
            "{'AP': 10427.885813072946, 'TAT': 10285.376502461655, 'TEY': 1652.4813561896851, 'GTEP': 881.4367428504926, 'AFDP': 63.55045455859313, 'AH': 44.157242132533455, 'AT': 18.663482430935414}\n",
            "{'TEY': 1633.9781998684982, 'GTEP': 820.2615455119885, 'TAT': 273.0289962365141, 'AFDP': 61.77791042516804, 'AH': 43.633800292642555, 'AT': 14.028633028570969}\n",
            "{'TAT': 117.53107832474556, 'GTEP': 75.85442546047754, 'AFDP': 57.56605380964737, 'AH': 43.38510835859359, 'AT': 10.44256264426581}\n",
            "{'AFDP': 56.88593015304628, 'GTEP': 54.566599149677266, 'AH': 14.490126431591, 'AT': 6.954100711295353}\n",
            "{'GTEP': 19.919363834268736, 'AH': 13.954846421857894, 'AT': 6.041180227940001}\n",
            "{'AH': 4.218225878943134, 'AT': 4.218225878943132}\n"
          ]
        }
      ],
      "source": [
        "n_old = len(X_1.columns)\n",
        "n_new = 0\n",
        "while n_old != n_new:\n",
        "  X_1, vif = var_selection_vif(X_1)\n",
        "  print(vif)\n",
        "  n = len(X_1.columns)\n",
        "  n_old = n_new\n",
        "  n_new= n"
      ]
    },
    {
      "cell_type": "markdown",
      "source": [
        "### Regression with variables having appropriate VIF"
      ],
      "metadata": {
        "id": "wYOhnvhLamzZ"
      }
    },
    {
      "cell_type": "code",
      "source": [
        "r_final_co = sm.ols(formula='CO~AT+AH', \n",
        "                 data = data_2015_no_outlier[list(X_1.columns)+['CO']])\n",
        "result_final_co = r_final_co.fit()\n",
        "print(result_final_co.summary())"
      ],
      "metadata": {
        "id": "yr3nkLowavsu",
        "colab": {
          "base_uri": "https://localhost:8080/"
        },
        "outputId": "1dc9c83c-4ba1-49a0-98ad-e5bbd9fa79b7"
      },
      "execution_count": 48,
      "outputs": [
        {
          "output_type": "stream",
          "name": "stdout",
          "text": [
            "                            OLS Regression Results                            \n",
            "==============================================================================\n",
            "Dep. Variable:                     CO   R-squared:                       0.033\n",
            "Model:                            OLS   Adj. R-squared:                  0.033\n",
            "Method:                 Least Squares   F-statistic:                     614.8\n",
            "Date:                Mon, 13 Feb 2023   Prob (F-statistic):          3.03e-263\n",
            "Time:                        07:29:37   Log-Likelihood:                -77956.\n",
            "No. Observations:               35770   AIC:                         1.559e+05\n",
            "Df Residuals:                   35767   BIC:                         1.559e+05\n",
            "Df Model:                           2                                         \n",
            "Covariance Type:            nonrobust                                         \n",
            "==============================================================================\n",
            "                 coef    std err          t      P>|t|      [0.025      0.975]\n",
            "------------------------------------------------------------------------------\n",
            "Intercept      2.7753      0.089     31.036      0.000       2.600       2.951\n",
            "AT            -0.0476      0.002    -27.406      0.000      -0.051      -0.044\n",
            "AH             0.0054      0.001      6.069      0.000       0.004       0.007\n",
            "==============================================================================\n",
            "Omnibus:                    33593.422   Durbin-Watson:                   0.620\n",
            "Prob(Omnibus):                  0.000   Jarque-Bera (JB):          2933107.711\n",
            "Skew:                           4.298   Prob(JB):                         0.00\n",
            "Kurtosis:                      46.521   Cond. No.                         640.\n",
            "==============================================================================\n",
            "\n",
            "Notes:\n",
            "[1] Standard Errors assume that the covariance matrix of the errors is correctly specified.\n"
          ]
        }
      ]
    },
    {
      "cell_type": "code",
      "execution_count": 49,
      "metadata": {
        "colab": {
          "base_uri": "https://localhost:8080/"
        },
        "id": "TQjURV92KdL2",
        "outputId": "971eddcc-12e9-4159-a534-fa9b11d532bc"
      },
      "outputs": [
        {
          "output_type": "stream",
          "name": "stdout",
          "text": [
            "                            OLS Regression Results                            \n",
            "==============================================================================\n",
            "Dep. Variable:                    NOX   R-squared:                       0.324\n",
            "Model:                            OLS   Adj. R-squared:                  0.324\n",
            "Method:                 Least Squares   F-statistic:                     8574.\n",
            "Date:                Mon, 13 Feb 2023   Prob (F-statistic):               0.00\n",
            "Time:                        07:29:37   Log-Likelihood:            -1.3151e+05\n",
            "No. Observations:               35770   AIC:                         2.630e+05\n",
            "Df Residuals:                   35767   BIC:                         2.630e+05\n",
            "Df Model:                           2                                         \n",
            "Covariance Type:            nonrobust                                         \n",
            "==============================================================================\n",
            "                 coef    std err          t      P>|t|      [0.025      0.975]\n",
            "------------------------------------------------------------------------------\n",
            "Intercept     90.5104      0.400    226.492      0.000      89.727      91.294\n",
            "AT            -0.9703      0.008   -125.090      0.000      -0.985      -0.955\n",
            "AH            -0.1038      0.004    -25.944      0.000      -0.112      -0.096\n",
            "==============================================================================\n",
            "Omnibus:                     5163.068   Durbin-Watson:                   0.301\n",
            "Prob(Omnibus):                  0.000   Jarque-Bera (JB):            13428.258\n",
            "Skew:                           0.807   Prob(JB):                         0.00\n",
            "Kurtosis:                       5.531   Cond. No.                         640.\n",
            "==============================================================================\n",
            "\n",
            "Notes:\n",
            "[1] Standard Errors assume that the covariance matrix of the errors is correctly specified.\n"
          ]
        }
      ],
      "source": [
        "r_final_nox = sm.ols(formula='NOX~AT+AH', \n",
        "                 data = data_2015_no_outlier[list(X_1.columns)+['NOX']])\n",
        "result_final_nox = r_final_nox.fit()\n",
        "print(result_final_nox.summary())"
      ]
    },
    {
      "cell_type": "markdown",
      "source": [
        "### Variable selection using Lasso regression coefficients"
      ],
      "metadata": {
        "id": "TUd362MXcZ94"
      }
    },
    {
      "cell_type": "code",
      "execution_count": 50,
      "metadata": {
        "id": "MXXDj1T2LKO7"
      },
      "outputs": [],
      "source": [
        "from sklearn.linear_model import Lasso"
      ]
    },
    {
      "cell_type": "code",
      "execution_count": 51,
      "metadata": {
        "colab": {
          "base_uri": "https://localhost:8080/"
        },
        "id": "9wCzsp3LLQ-c",
        "outputId": "e2c74f98-89db-4912-e6ce-5e45fb811e47"
      },
      "outputs": [
        {
          "output_type": "execute_result",
          "data": {
            "text/plain": [
              "Lasso(alpha=2)"
            ]
          },
          "metadata": {},
          "execution_count": 51
        }
      ],
      "source": [
        "lasso_reg1 = Lasso(alpha=2)\n",
        "lasso_reg1.fit(X=data_2015_no_outlier.loc[:,'AT':'CDP'],\\\n",
        "              y=data_2015_no_outlier['CO'])"
      ]
    },
    {
      "cell_type": "code",
      "execution_count": 52,
      "metadata": {
        "id": "l-8cZmZkLn6c"
      },
      "outputs": [],
      "source": [
        "CO_vars = {k:v for k,v in zip(data_2015_no_outlier.loc[:,'AT':'CDP'].columns, lasso_reg1.coef_)}"
      ]
    },
    {
      "cell_type": "code",
      "execution_count": 53,
      "metadata": {
        "colab": {
          "base_uri": "https://localhost:8080/"
        },
        "id": "ILa2XAxLMeB3",
        "outputId": "1bebd15a-6af7-4bea-925b-ddbb2fb2f73c"
      },
      "outputs": [
        {
          "output_type": "execute_result",
          "data": {
            "text/plain": [
              "0.5374513201552922"
            ]
          },
          "metadata": {},
          "execution_count": 53
        }
      ],
      "source": [
        "lasso_reg1.score(X=data_2015_no_outlier.loc[:,'AT':'CDP'],\\\n",
        "              y=data_2015_no_outlier['CO'])"
      ]
    },
    {
      "cell_type": "code",
      "source": [
        "lasso_reg2 = Lasso(alpha=2)\n",
        "lasso_reg2.fit(X=data_2015_no_outlier.loc[:,'AT':'CDP'],\\\n",
        "               y=data_2015_no_outlier['NOX'])"
      ],
      "metadata": {
        "id": "euASmdGrc2v6",
        "colab": {
          "base_uri": "https://localhost:8080/"
        },
        "outputId": "3854c105-17d4-4ce8-ad96-970ec111521d"
      },
      "execution_count": 54,
      "outputs": [
        {
          "output_type": "execute_result",
          "data": {
            "text/plain": [
              "Lasso(alpha=2)"
            ]
          },
          "metadata": {},
          "execution_count": 54
        }
      ]
    },
    {
      "cell_type": "code",
      "source": [
        "NOx_vars = {k:v for k,v in zip(data_2015_no_outlier.loc[:,'AT':'CDP'].columns, lasso_reg2.coef_)}"
      ],
      "metadata": {
        "id": "gVeWQXH3c2tP"
      },
      "execution_count": 55,
      "outputs": []
    },
    {
      "cell_type": "code",
      "source": [
        "lasso_reg2.score(X=data_2015_no_outlier.loc[:,'AT':'CDP'],\\\n",
        "                 y=data_2015_no_outlier['NOX'])"
      ],
      "metadata": {
        "id": "roCmYxfxc2qo",
        "colab": {
          "base_uri": "https://localhost:8080/"
        },
        "outputId": "8046eec6-e015-4f4e-a1e8-c8077f8c0327"
      },
      "execution_count": 56,
      "outputs": [
        {
          "output_type": "execute_result",
          "data": {
            "text/plain": [
              "0.46343430445271516"
            ]
          },
          "metadata": {},
          "execution_count": 56
        }
      ]
    },
    {
      "cell_type": "markdown",
      "source": [
        "### Analysis of errors"
      ],
      "metadata": {
        "id": "EDk7pxLQcQat"
      }
    },
    {
      "cell_type": "code",
      "execution_count": 57,
      "metadata": {
        "colab": {
          "base_uri": "https://localhost:8080/",
          "height": 369
        },
        "id": "JYacc1mjMwUK",
        "outputId": "728ceaa8-5f06-49d5-9ea1-4a56d8d39b78"
      },
      "outputs": [
        {
          "output_type": "display_data",
          "data": {
            "text/plain": [
              "<Figure size 360x360 with 1 Axes>"
            ],
            "image/png": "[encoded data removed]"
          },
          "metadata": {
            "needs_background": "light"
          }
        }
      ],
      "source": [
        "errors1 = data_2015_no_outlier['CO'] - lasso_reg1.predict(data_2015_no_outlier.loc[:,'AT':'CDP'])\n",
        "d1=sns.displot(errors1)\n",
        "plt.savefig('error-plot-CO.png')"
      ]
    },
    {
      "cell_type": "code",
      "source": [
        "errors2 = data_2015_no_outlier['NOX'] - lasso_reg2.predict(data_2015_no_outlier.loc[:,'AT':'CDP'])\n",
        "d2=sns.displot(errors2)\n",
        "plt.savefig('error-plot-NOx.png')"
      ],
      "metadata": {
        "id": "x1Ja_03ydlVv",
        "colab": {
          "base_uri": "https://localhost:8080/",
          "height": 369
        },
        "outputId": "d0027a7f-4c71-4c21-9cfc-da0002e71589"
      },
      "execution_count": 58,
      "outputs": [
        {
          "output_type": "display_data",
          "data": {
            "text/plain": [
              "<Figure size 360x360 with 1 Axes>"
            ],
            "image/png": "[encoded data removed]"
          },
          "metadata": {
            "needs_background": "light"
          }
        }
      ]
    },
    {
      "cell_type": "code",
      "execution_count": 59,
      "metadata": {
        "id": "_gU7uDjyQGU2"
      },
      "outputs": [],
      "source": [
        "import statsmodels.api as smf"
      ]
    },
    {
      "cell_type": "code",
      "execution_count": 60,
      "metadata": {
        "colab": {
          "base_uri": "https://localhost:8080/",
          "height": 296
        },
        "id": "qSfT_VUDQ_fi",
        "outputId": "e8c881b3-d775-4981-e167-ba9cc248a49b"
      },
      "outputs": [
        {
          "output_type": "display_data",
          "data": {
            "text/plain": [
              "<Figure size 432x288 with 1 Axes>"
            ],
            "image/png": "[encoded data removed]"
          },
          "metadata": {
            "needs_background": "light"
          }
        },
        {
          "output_type": "display_data",
          "data": {
            "text/plain": [
              "<Figure size 432x288 with 0 Axes>"
            ]
          },
          "metadata": {}
        }
      ],
      "source": [
        "smf.qqplot(errors1)\n",
        "plt.show()\n",
        "plt.savefig('error-dist-CO.png')"
      ]
    },
    {
      "cell_type": "code",
      "source": [
        "smf.qqplot(errors2)\n",
        "plt.show()\n",
        "plt.savefig('error-dist-NOx.png')"
      ],
      "metadata": {
        "id": "lM2WO26deMXA",
        "colab": {
          "base_uri": "https://localhost:8080/",
          "height": 296
        },
        "outputId": "d2ef8c93-f839-4047-c202-2b39781064a1"
      },
      "execution_count": 61,
      "outputs": [
        {
          "output_type": "display_data",
          "data": {
            "text/plain": [
              "<Figure size 432x288 with 1 Axes>"
            ],
            "image/png": "[encoded data removed]"
          },
          "metadata": {
            "needs_background": "light"
          }
        },
        {
          "output_type": "display_data",
          "data": {
            "text/plain": [
              "<Figure size 432x288 with 0 Axes>"
            ]
          },
          "metadata": {}
        }
      ]
    },
    {
      "cell_type": "markdown",
      "source": [
        "### Multiple Linear Regression with relevant variables"
      ],
      "metadata": {
        "id": "kdwMMjxlcjIk"
      }
    },
    {
      "cell_type": "code",
      "source": [
        "r_co_final_combined = sm.ols(formula='CO~AT+AH+TIT+TAT',\\\n",
        "                             data = data_2015[['AT','AP','AH','TIT','TAT']+['CO']])\n",
        "result_co = r_co_final_combined.fit()\n",
        "print(result_co.summary())"
      ],
      "metadata": {
        "id": "AhiVBde8eY3s",
        "colab": {
          "base_uri": "https://localhost:8080/"
        },
        "outputId": "9cc759e0-4967-4538-b836-c32df1ea01dc"
      },
      "execution_count": 63,
      "outputs": [
        {
          "output_type": "stream",
          "name": "stdout",
          "text": [
            "                            OLS Regression Results                            \n",
            "==============================================================================\n",
            "Dep. Variable:                     CO   R-squared:                       0.556\n",
            "Model:                            OLS   Adj. R-squared:                  0.555\n",
            "Method:                 Least Squares   F-statistic:                 1.148e+04\n",
            "Date:                Mon, 13 Feb 2023   Prob (F-statistic):               0.00\n",
            "Time:                        07:30:24   Log-Likelihood:                -67223.\n",
            "No. Observations:               36733   AIC:                         1.345e+05\n",
            "Df Residuals:                   36728   BIC:                         1.345e+05\n",
            "Df Model:                           4                                         \n",
            "Covariance Type:            nonrobust                                         \n",
            "==============================================================================\n",
            "                 coef    std err          t      P>|t|      [0.025      0.975]\n",
            "------------------------------------------------------------------------------\n",
            "Intercept    164.5889      1.100    149.691      0.000     162.434     166.744\n",
            "AT             0.0065      0.001      4.956      0.000       0.004       0.009\n",
            "AH            -0.0093      0.001    -14.755      0.000      -0.011      -0.008\n",
            "TIT           -0.1061      0.001   -205.794      0.000      -0.107      -0.105\n",
            "TAT           -0.0858      0.001    -63.049      0.000      -0.088      -0.083\n",
            "==============================================================================\n",
            "Omnibus:                    48025.143   Durbin-Watson:                   0.889\n",
            "Prob(Omnibus):                  0.000   Jarque-Bera (JB):         22487507.794\n",
            "Skew:                           7.033   Prob(JB):                         0.00\n",
            "Kurtosis:                     123.394   Cond. No.                     1.70e+05\n",
            "==============================================================================\n",
            "\n",
            "Notes:\n",
            "[1] Standard Errors assume that the covariance matrix of the errors is correctly specified.\n",
            "[2] The condition number is large, 1.7e+05. This might indicate that there are\n",
            "strong multicollinearity or other numerical problems.\n"
          ]
        }
      ]
    },
    {
      "cell_type": "code",
      "execution_count": 65,
      "metadata": {
        "colab": {
          "base_uri": "https://localhost:8080/"
        },
        "id": "rrMGFTlqRl9v",
        "outputId": "9cf153bf-6d5f-410b-f909-26485a15e7e7"
      },
      "outputs": [
        {
          "output_type": "stream",
          "name": "stdout",
          "text": [
            "                            OLS Regression Results                            \n",
            "==============================================================================\n",
            "Dep. Variable:                    NOX   R-squared:                       0.517\n",
            "Model:                            OLS   Adj. R-squared:                  0.517\n",
            "Method:                 Least Squares   F-statistic:                     6546.\n",
            "Date:                Mon, 13 Feb 2023   Prob (F-statistic):               0.00\n",
            "Time:                        07:30:45   Log-Likelihood:            -1.2904e+05\n",
            "No. Observations:               36733   AIC:                         2.581e+05\n",
            "Df Residuals:                   36726   BIC:                         2.582e+05\n",
            "Df Model:                           6                                         \n",
            "Covariance Type:            nonrobust                                         \n",
            "==============================================================================\n",
            "                 coef    std err          t      P>|t|      [0.025      0.975]\n",
            "------------------------------------------------------------------------------\n",
            "Intercept    -83.1243     10.420     -7.978      0.000    -103.547     -62.701\n",
            "AT            -1.7945      0.010   -174.485      0.000      -1.815      -1.774\n",
            "AP            -0.2419      0.008    -32.171      0.000      -0.257      -0.227\n",
            "AH            -0.2174      0.004    -60.970      0.000      -0.224      -0.210\n",
            "TIT            1.4467      0.014    105.278      0.000       1.420       1.474\n",
            "TAT           -1.5370      0.016    -96.666      0.000      -1.568      -1.506\n",
            "TEY           -2.1188      0.019   -113.363      0.000      -2.155      -2.082\n",
            "==============================================================================\n",
            "Omnibus:                     7100.246   Durbin-Watson:                   0.374\n",
            "Prob(Omnibus):                  0.000   Jarque-Bera (JB):            24481.310\n",
            "Skew:                           0.963   Prob(JB):                         0.00\n",
            "Kurtosis:                       6.505   Cond. No.                     3.90e+05\n",
            "==============================================================================\n",
            "\n",
            "Notes:\n",
            "[1] Standard Errors assume that the covariance matrix of the errors is correctly specified.\n",
            "[2] The condition number is large, 3.9e+05. This might indicate that there are\n",
            "strong multicollinearity or other numerical problems.\n"
          ]
        }
      ],
      "source": [
        "r_nox_final_combined = sm.ols(formula='NOX~AT+AP+AH+TIT+TAT+TEY',\\\n",
        "                              data = data_2015[['AT','AP','AH','TIT','TAT','TEY']+['NOX']])\n",
        "result_nox = r_nox_final_combined.fit()\n",
        "print(result_nox.summary())"
      ]
    },
    {
      "cell_type": "markdown",
      "source": [
        "### Cook's Distance"
      ],
      "metadata": {
        "id": "wKa7q8YhfPLx"
      }
    },
    {
      "cell_type": "code",
      "execution_count": 66,
      "metadata": {
        "id": "w_M_qv4KTsLf"
      },
      "outputs": [],
      "source": [
        "#cook's distnace tells the change in model when a single datapoint is dropped"
      ]
    },
    {
      "cell_type": "code",
      "execution_count": 67,
      "metadata": {
        "id": "atxZqj3MT2wi"
      },
      "outputs": [],
      "source": [
        "from statsmodels.stats.outliers_influence import OLSInfluence as influence"
      ]
    },
    {
      "cell_type": "code",
      "execution_count": 69,
      "metadata": {
        "id": "_FYsJxLRVKc0"
      },
      "outputs": [],
      "source": [
        "inf1 = influence(result_co)"
      ]
    },
    {
      "cell_type": "code",
      "source": [
        "inf2 = influence(result_nox)"
      ],
      "metadata": {
        "id": "WiI2HfM8r5mH"
      },
      "execution_count": 70,
      "outputs": []
    },
    {
      "cell_type": "code",
      "execution_count": 71,
      "metadata": {
        "colab": {
          "base_uri": "https://localhost:8080/"
        },
        "id": "RmUGm9frVRnr",
        "outputId": "4b16a9a5-4a9c-41bd-a4f8-721313c98249"
      },
      "outputs": [
        {
          "output_type": "execute_result",
          "data": {
            "text/plain": [
              "(0       0.000020\n",
              " 1       0.000016\n",
              " 2       0.000015\n",
              " 3       0.000023\n",
              " 4       0.000024\n",
              "           ...   \n",
              " 7379    0.000378\n",
              " 7380    0.000412\n",
              " 7381    0.000463\n",
              " 7382    0.000013\n",
              " 7383    0.000737\n",
              " Length: 36733, dtype: float64,\n",
              " array([1.        , 1.        , 1.        , ..., 0.99999999, 1.        ,\n",
              "        0.99999996]))"
            ]
          },
          "metadata": {},
          "execution_count": 71
        }
      ],
      "source": [
        "inf1.cooks_distance"
      ]
    },
    {
      "cell_type": "code",
      "source": [
        "inf2.cooks_distance"
      ],
      "metadata": {
        "colab": {
          "base_uri": "https://localhost:8080/"
        },
        "id": "QQLyIIxDr-MO",
        "outputId": "9d736d32-3cbd-46fd-f71d-11b4ae63f0c9"
      },
      "execution_count": 72,
      "outputs": [
        {
          "output_type": "execute_result",
          "data": {
            "text/plain": [
              "(0       5.465794e-06\n",
              " 1       4.153554e-06\n",
              " 2       9.388358e-07\n",
              " 3       5.122620e-06\n",
              " 4       8.282686e-06\n",
              "             ...     \n",
              " 7379    1.089896e-04\n",
              " 7380    1.152904e-04\n",
              " 7381    3.589406e-04\n",
              " 7382    2.392390e-05\n",
              " 7383    7.031486e-04\n",
              " Length: 36733, dtype: float64, array([1., 1., 1., ..., 1., 1., 1.]))"
            ]
          },
          "metadata": {},
          "execution_count": 72
        }
      ]
    },
    {
      "cell_type": "code",
      "execution_count": 73,
      "metadata": {
        "colab": {
          "base_uri": "https://localhost:8080/",
          "height": 424
        },
        "id": "r0AcjwSsVbYH",
        "outputId": "5f779117-5a56-4594-a96b-10b9b6f662ce"
      },
      "outputs": [
        {
          "output_type": "execute_result",
          "data": {
            "text/plain": [
              "      dfb_Intercept    dfb_AT    dfb_AH   dfb_TIT   dfb_TAT   cooks_d  \\\n",
              "3          0.006502  0.009174  0.002067 -0.004850 -0.006445  0.000693   \n",
              "3          0.000243  0.003362 -0.001180  0.001860 -0.001816  0.000693   \n",
              "3          0.051298  0.005481  0.003651 -0.050245 -0.038437  0.000693   \n",
              "3          0.001513  0.002611 -0.002163  0.000057 -0.002254  0.000693   \n",
              "3         -0.002322 -0.005774 -0.002892  0.001084  0.003015  0.000693   \n",
              "...             ...       ...       ...       ...       ...       ...   \n",
              "7383      -0.003697  0.002241 -0.003833 -0.002215  0.007269  0.000737   \n",
              "7383      -0.009004 -0.037144  0.009282 -0.003783  0.017022  0.000737   \n",
              "7471       0.046349  0.006420  0.008775 -0.043829 -0.036325  0.000573   \n",
              "7474       0.060770  0.006322  0.008377 -0.056612 -0.048002  0.000963   \n",
              "7602       0.055007  0.010858  0.010149 -0.052491 -0.042835  0.000781   \n",
              "\n",
              "      standard_resid  hat_diag  dffits_internal  student_resid    dffits  \n",
              "3           3.037518  0.000376         0.058879       3.037858  0.058886  \n",
              "3           3.037518  0.000376         0.058879       3.037858  0.058886  \n",
              "3           3.037518  0.000376         0.058879       3.037858  0.058886  \n",
              "3           3.037518  0.000376         0.058879       3.037858  0.058886  \n",
              "3           3.037518  0.000376         0.058879       3.037858  0.058886  \n",
              "...              ...       ...              ...            ...       ...  \n",
              "7383        5.689572  0.000114         0.060698       5.692003  0.060724  \n",
              "7383        5.689572  0.000114         0.060698       5.692003  0.060724  \n",
              "7471        2.543104  0.000443         0.053524       2.543293  0.053528  \n",
              "7474        3.184583  0.000474         0.069384       3.184980  0.069392  \n",
              "7602        3.067947  0.000414         0.062473       3.068299  0.062480  \n",
              "\n",
              "[1440 rows x 11 columns]"
            ],
            "text/html": [
              "\n",
              "  <div id=\"df-dbc47c32-1db7-4041-986d-805441a21aff\">\n",
              "    <div class=\"colab-df-container\">\n",
              "      <div>\n",
              "<style scoped>\n",
              "    .dataframe tbody tr th:only-of-type {\n",
              "        vertical-align: middle;\n",
              "    }\n",
              "\n",
              "    .dataframe tbody tr th {\n",
              "        vertical-align: top;\n",
              "    }\n",
              "\n",
              "    .dataframe thead th {\n",
              "        text-align: right;\n",
              "    }\n",
              "</style>\n",
              "<table border=\"1\" class=\"dataframe\">\n",
              "  <thead>\n",
              "    <tr style=\"text-align: right;\">\n",
              "      <th></th>\n",
              "      <th>dfb_Intercept</th>\n",
              "      <th>dfb_AT</th>\n",
              "      <th>dfb_AH</th>\n",
              "      <th>dfb_TIT</th>\n",
              "      <th>dfb_TAT</th>\n",
              "      <th>cooks_d</th>\n",
              "      <th>standard_resid</th>\n",
              "      <th>hat_diag</th>\n",
              "      <th>dffits_internal</th>\n",
              "      <th>student_resid</th>\n",
              "      <th>dffits</th>\n",
              "    </tr>\n",
              "  </thead>\n",
              "  <tbody>\n",
              "    <tr>\n",
              "      <th>3</th>\n",
              "      <td>0.006502</td>\n",
              "      <td>0.009174</td>\n",
              "      <td>0.002067</td>\n",
              "      <td>-0.004850</td>\n",
              "      <td>-0.006445</td>\n",
              "      <td>0.000693</td>\n",
              "      <td>3.037518</td>\n",
              "      <td>0.000376</td>\n",
              "      <td>0.058879</td>\n",
              "      <td>3.037858</td>\n",
              "      <td>0.058886</td>\n",
              "    </tr>\n",
              "    <tr>\n",
              "      <th>3</th>\n",
              "      <td>0.000243</td>\n",
              "      <td>0.003362</td>\n",
              "      <td>-0.001180</td>\n",
              "      <td>0.001860</td>\n",
              "      <td>-0.001816</td>\n",
              "      <td>0.000693</td>\n",
              "      <td>3.037518</td>\n",
              "      <td>0.000376</td>\n",
              "      <td>0.058879</td>\n",
              "      <td>3.037858</td>\n",
              "      <td>0.058886</td>\n",
              "    </tr>\n",
              "    <tr>\n",
              "      <th>3</th>\n",
              "      <td>0.051298</td>\n",
              "      <td>0.005481</td>\n",
              "      <td>0.003651</td>\n",
              "      <td>-0.050245</td>\n",
              "      <td>-0.038437</td>\n",
              "      <td>0.000693</td>\n",
              "      <td>3.037518</td>\n",
              "      <td>0.000376</td>\n",
              "      <td>0.058879</td>\n",
              "      <td>3.037858</td>\n",
              "      <td>0.058886</td>\n",
              "    </tr>\n",
              "    <tr>\n",
              "      <th>3</th>\n",
              "      <td>0.001513</td>\n",
              "      <td>0.002611</td>\n",
              "      <td>-0.002163</td>\n",
              "      <td>0.000057</td>\n",
              "      <td>-0.002254</td>\n",
              "      <td>0.000693</td>\n",
              "      <td>3.037518</td>\n",
              "      <td>0.000376</td>\n",
              "      <td>0.058879</td>\n",
              "      <td>3.037858</td>\n",
              "      <td>0.058886</td>\n",
              "    </tr>\n",
              "    <tr>\n",
              "      <th>3</th>\n",
              "      <td>-0.002322</td>\n",
              "      <td>-0.005774</td>\n",
              "      <td>-0.002892</td>\n",
              "      <td>0.001084</td>\n",
              "      <td>0.003015</td>\n",
              "      <td>0.000693</td>\n",
              "      <td>3.037518</td>\n",
              "      <td>0.000376</td>\n",
              "      <td>0.058879</td>\n",
              "      <td>3.037858</td>\n",
              "      <td>0.058886</td>\n",
              "    </tr>\n",
              "    <tr>\n",
              "      <th>...</th>\n",
              "      <td>...</td>\n",
              "      <td>...</td>\n",
              "      <td>...</td>\n",
              "      <td>...</td>\n",
              "      <td>...</td>\n",
              "      <td>...</td>\n",
              "      <td>...</td>\n",
              "      <td>...</td>\n",
              "      <td>...</td>\n",
              "      <td>...</td>\n",
              "      <td>...</td>\n",
              "    </tr>\n",
              "    <tr>\n",
              "      <th>7383</th>\n",
              "      <td>-0.003697</td>\n",
              "      <td>0.002241</td>\n",
              "      <td>-0.003833</td>\n",
              "      <td>-0.002215</td>\n",
              "      <td>0.007269</td>\n",
              "      <td>0.000737</td>\n",
              "      <td>5.689572</td>\n",
              "      <td>0.000114</td>\n",
              "      <td>0.060698</td>\n",
              "      <td>5.692003</td>\n",
              "      <td>0.060724</td>\n",
              "    </tr>\n",
              "    <tr>\n",
              "      <th>7383</th>\n",
              "      <td>-0.009004</td>\n",
              "      <td>-0.037144</td>\n",
              "      <td>0.009282</td>\n",
              "      <td>-0.003783</td>\n",
              "      <td>0.017022</td>\n",
              "      <td>0.000737</td>\n",
              "      <td>5.689572</td>\n",
              "      <td>0.000114</td>\n",
              "      <td>0.060698</td>\n",
              "      <td>5.692003</td>\n",
              "      <td>0.060724</td>\n",
              "    </tr>\n",
              "    <tr>\n",
              "      <th>7471</th>\n",
              "      <td>0.046349</td>\n",
              "      <td>0.006420</td>\n",
              "      <td>0.008775</td>\n",
              "      <td>-0.043829</td>\n",
              "      <td>-0.036325</td>\n",
              "      <td>0.000573</td>\n",
              "      <td>2.543104</td>\n",
              "      <td>0.000443</td>\n",
              "      <td>0.053524</td>\n",
              "      <td>2.543293</td>\n",
              "      <td>0.053528</td>\n",
              "    </tr>\n",
              "    <tr>\n",
              "      <th>7474</th>\n",
              "      <td>0.060770</td>\n",
              "      <td>0.006322</td>\n",
              "      <td>0.008377</td>\n",
              "      <td>-0.056612</td>\n",
              "      <td>-0.048002</td>\n",
              "      <td>0.000963</td>\n",
              "      <td>3.184583</td>\n",
              "      <td>0.000474</td>\n",
              "      <td>0.069384</td>\n",
              "      <td>3.184980</td>\n",
              "      <td>0.069392</td>\n",
              "    </tr>\n",
              "    <tr>\n",
              "      <th>7602</th>\n",
              "      <td>0.055007</td>\n",
              "      <td>0.010858</td>\n",
              "      <td>0.010149</td>\n",
              "      <td>-0.052491</td>\n",
              "      <td>-0.042835</td>\n",
              "      <td>0.000781</td>\n",
              "      <td>3.067947</td>\n",
              "      <td>0.000414</td>\n",
              "      <td>0.062473</td>\n",
              "      <td>3.068299</td>\n",
              "      <td>0.062480</td>\n",
              "    </tr>\n",
              "  </tbody>\n",
              "</table>\n",
              "<p>1440 rows × 11 columns</p>\n",
              "</div>\n",
              "      <button class=\"colab-df-convert\" onclick=\"convertToInteractive('df-dbc47c32-1db7-4041-986d-805441a21aff')\"\n",
              "              title=\"Convert this dataframe to an interactive table.\"\n",
              "              style=\"display:none;\">\n",
              "        \n",
              "  <svg xmlns=\"http://www.w3.org/2000/svg\" height=\"24px\"viewBox=\"0 0 24 24\"\n",
              "       width=\"24px\">\n",
              "    <path d=\"M0 0h24v24H0V0z\" fill=\"none\"/>\n",
              "    <path d=\"M18.56 5.44l.94 2.06.94-2.06 2.06-.94-2.06-.94-.94-2.06-.94 2.06-2.06.94zm-11 1L8.5 8.5l.94-2.06 2.06-.94-2.06-.94L8.5 2.5l-.94 2.06-2.06.94zm10 10l.94 2.06.94-2.06 2.06-.94-2.06-.94-.94-2.06-.94 2.06-2.06.94z\"/><path d=\"M17.41 7.96l-1.37-1.37c-.4-.4-.92-.59-1.43-.59-.52 0-1.04.2-1.43.59L10.3 9.45l-7.72 7.72c-.78.78-.78 2.05 0 2.83L4 21.41c.39.39.9.59 1.41.59.51 0 1.02-.2 1.41-.59l7.78-7.78 2.81-2.81c.8-.78.8-2.07 0-2.86zM5.41 20L4 18.59l7.72-7.72 1.47 1.35L5.41 20z\"/>\n",
              "  </svg>\n",
              "      </button>\n",
              "      \n",
              "  <style>\n",
              "    .colab-df-container {\n",
              "      display:flex;\n",
              "      flex-wrap:wrap;\n",
              "      gap: 12px;\n",
              "    }\n",
              "\n",
              "    .colab-df-convert {\n",
              "      background-color: #E8F0FE;\n",
              "      border: none;\n",
              "      border-radius: 50%;\n",
              "      cursor: pointer;\n",
              "      display: none;\n",
              "      fill: #1967D2;\n",
              "      height: 32px;\n",
              "      padding: 0 0 0 0;\n",
              "      width: 32px;\n",
              "    }\n",
              "\n",
              "    .colab-df-convert:hover {\n",
              "      background-color: #E2EBFA;\n",
              "      box-shadow: 0px 1px 2px rgba(60, 64, 67, 0.3), 0px 1px 3px 1px rgba(60, 64, 67, 0.15);\n",
              "      fill: #174EA6;\n",
              "    }\n",
              "\n",
              "    [theme=dark] .colab-df-convert {\n",
              "      background-color: #3B4455;\n",
              "      fill: #D2E3FC;\n",
              "    }\n",
              "\n",
              "    [theme=dark] .colab-df-convert:hover {\n",
              "      background-color: #434B5C;\n",
              "      box-shadow: 0px 1px 3px 1px rgba(0, 0, 0, 0.15);\n",
              "      filter: drop-shadow(0px 1px 2px rgba(0, 0, 0, 0.3));\n",
              "      fill: #FFFFFF;\n",
              "    }\n",
              "  </style>\n",
              "\n",
              "      <script>\n",
              "        const buttonEl =\n",
              "          document.querySelector('#df-dbc47c32-1db7-4041-986d-805441a21aff button.colab-df-convert');\n",
              "        buttonEl.style.display =\n",
              "          google.colab.kernel.accessAllowed ? 'block' : 'none';\n",
              "\n",
              "        async function convertToInteractive(key) {\n",
              "          const element = document.querySelector('#df-dbc47c32-1db7-4041-986d-805441a21aff');\n",
              "          const dataTable =\n",
              "            await google.colab.kernel.invokeFunction('convertToInteractive',\n",
              "                                                     [key], {});\n",
              "          if (!dataTable) return;\n",
              "\n",
              "          const docLinkHtml = 'Like what you see? Visit the ' +\n",
              "            '<a target=\"_blank\" href=https://colab.research.google.com/notebooks/data_table.ipynb>data table notebook</a>'\n",
              "            + ' to learn more about interactive tables.';\n",
              "          element.innerHTML = '';\n",
              "          dataTable['output_type'] = 'display_data';\n",
              "          await google.colab.output.renderOutput(dataTable, element);\n",
              "          const docLink = document.createElement('div');\n",
              "          docLink.innerHTML = docLinkHtml;\n",
              "          element.appendChild(docLink);\n",
              "        }\n",
              "      </script>\n",
              "    </div>\n",
              "  </div>\n",
              "  "
            ]
          },
          "metadata": {},
          "execution_count": 73
        }
      ],
      "source": [
        "# Something needs to be changed here\n",
        "\n",
        "inf1.summary_frame()[inf1.summary_frame()['cooks_d']>=4/7384]"
      ]
    },
    {
      "cell_type": "code",
      "source": [
        "# Something needs to be changed here\n",
        "\n",
        "inf2.summary_frame()[inf2.summary_frame()['cooks_d']>=4/7384]"
      ],
      "metadata": {
        "colab": {
          "base_uri": "https://localhost:8080/",
          "height": 468
        },
        "id": "mppjFg1bsAYr",
        "outputId": "7ed80ff9-cbf7-475f-aeeb-0099d4f6873b"
      },
      "execution_count": 74,
      "outputs": [
        {
          "output_type": "execute_result",
          "data": {
            "text/plain": [
              "      dfb_Intercept    dfb_AT    dfb_AP    dfb_AH   dfb_TIT   dfb_TAT  \\\n",
              "3          0.002758  0.004970  0.000309  0.001477 -0.003339  0.001135   \n",
              "3         -0.000253  0.001672  0.001039  0.000161 -0.001145  0.000944   \n",
              "3          0.021690 -0.003621  0.007904  0.003436  0.005048 -0.036486   \n",
              "3         -0.001645  0.002358  0.003547  0.003137 -0.004266  0.004777   \n",
              "3         -0.002847 -0.006443  0.000901 -0.004554  0.000011  0.002795   \n",
              "...             ...       ...       ...       ...       ...       ...   \n",
              "7471       0.019997  0.000050  0.008847  0.010374  0.002379 -0.032190   \n",
              "7474       0.026688 -0.001911  0.007468  0.008464  0.002005 -0.037805   \n",
              "7475       0.016522 -0.006085  0.008953  0.009717  0.005027 -0.031999   \n",
              "7516       0.000762 -0.021793  0.007682  0.010414  0.024935 -0.040240   \n",
              "7603       0.007432  0.002713  0.019304  0.011028  0.004078 -0.029058   \n",
              "\n",
              "       dfb_TEY   cooks_d  standard_resid  hat_diag  dffits_internal  \\\n",
              "3     0.002920  0.000772        3.643041  0.000407         0.073498   \n",
              "3     0.001263  0.000772        3.643041  0.000407         0.073498   \n",
              "3    -0.017582  0.000772        3.643041  0.000407         0.073498   \n",
              "3     0.004345  0.000772        3.643041  0.000407         0.073498   \n",
              "3     0.000379  0.000772        3.643041  0.000407         0.073498   \n",
              "...        ...       ...             ...       ...              ...   \n",
              "7471 -0.013530  0.000660        3.122949  0.000473         0.067957   \n",
              "7474 -0.015103  0.000906        3.561255  0.000500         0.079620   \n",
              "7475 -0.015213  0.000646        3.621418  0.000345         0.067253   \n",
              "7516 -0.034293  0.000698        4.161266  0.000282         0.069880   \n",
              "7603 -0.014278  0.000581        3.185626  0.000401         0.063773   \n",
              "\n",
              "      student_resid    dffits  \n",
              "3          3.643649  0.073511  \n",
              "3          3.643649  0.073511  \n",
              "3          3.643649  0.073511  \n",
              "3          3.643649  0.073511  \n",
              "3          3.643649  0.073511  \n",
              "...             ...       ...  \n",
              "7471       3.123321  0.067965  \n",
              "7474       3.561821  0.079633  \n",
              "7475       3.622016  0.067264  \n",
              "7516       4.162191  0.069896  \n",
              "7603       3.186023  0.063781  \n",
              "\n",
              "[2267 rows x 13 columns]"
            ],
            "text/html": [
              "\n",
              "  <div id=\"df-a0dd99ce-92dd-435f-92d6-0e1d120d51cb\">\n",
              "    <div class=\"colab-df-container\">\n",
              "      <div>\n",
              "<style scoped>\n",
              "    .dataframe tbody tr th:only-of-type {\n",
              "        vertical-align: middle;\n",
              "    }\n",
              "\n",
              "    .dataframe tbody tr th {\n",
              "        vertical-align: top;\n",
              "    }\n",
              "\n",
              "    .dataframe thead th {\n",
              "        text-align: right;\n",
              "    }\n",
              "</style>\n",
              "<table border=\"1\" class=\"dataframe\">\n",
              "  <thead>\n",
              "    <tr style=\"text-align: right;\">\n",
              "      <th></th>\n",
              "      <th>dfb_Intercept</th>\n",
              "      <th>dfb_AT</th>\n",
              "      <th>dfb_AP</th>\n",
              "      <th>dfb_AH</th>\n",
              "      <th>dfb_TIT</th>\n",
              "      <th>dfb_TAT</th>\n",
              "      <th>dfb_TEY</th>\n",
              "      <th>cooks_d</th>\n",
              "      <th>standard_resid</th>\n",
              "      <th>hat_diag</th>\n",
              "      <th>dffits_internal</th>\n",
              "      <th>student_resid</th>\n",
              "      <th>dffits</th>\n",
              "    </tr>\n",
              "  </thead>\n",
              "  <tbody>\n",
              "    <tr>\n",
              "      <th>3</th>\n",
              "      <td>0.002758</td>\n",
              "      <td>0.004970</td>\n",
              "      <td>0.000309</td>\n",
              "      <td>0.001477</td>\n",
              "      <td>-0.003339</td>\n",
              "      <td>0.001135</td>\n",
              "      <td>0.002920</td>\n",
              "      <td>0.000772</td>\n",
              "      <td>3.643041</td>\n",
              "      <td>0.000407</td>\n",
              "      <td>0.073498</td>\n",
              "      <td>3.643649</td>\n",
              "      <td>0.073511</td>\n",
              "    </tr>\n",
              "    <tr>\n",
              "      <th>3</th>\n",
              "      <td>-0.000253</td>\n",
              "      <td>0.001672</td>\n",
              "      <td>0.001039</td>\n",
              "      <td>0.000161</td>\n",
              "      <td>-0.001145</td>\n",
              "      <td>0.000944</td>\n",
              "      <td>0.001263</td>\n",
              "      <td>0.000772</td>\n",
              "      <td>3.643041</td>\n",
              "      <td>0.000407</td>\n",
              "      <td>0.073498</td>\n",
              "      <td>3.643649</td>\n",
              "      <td>0.073511</td>\n",
              "    </tr>\n",
              "    <tr>\n",
              "      <th>3</th>\n",
              "      <td>0.021690</td>\n",
              "      <td>-0.003621</td>\n",
              "      <td>0.007904</td>\n",
              "      <td>0.003436</td>\n",
              "      <td>0.005048</td>\n",
              "      <td>-0.036486</td>\n",
              "      <td>-0.017582</td>\n",
              "      <td>0.000772</td>\n",
              "      <td>3.643041</td>\n",
              "      <td>0.000407</td>\n",
              "      <td>0.073498</td>\n",
              "      <td>3.643649</td>\n",
              "      <td>0.073511</td>\n",
              "    </tr>\n",
              "    <tr>\n",
              "      <th>3</th>\n",
              "      <td>-0.001645</td>\n",
              "      <td>0.002358</td>\n",
              "      <td>0.003547</td>\n",
              "      <td>0.003137</td>\n",
              "      <td>-0.004266</td>\n",
              "      <td>0.004777</td>\n",
              "      <td>0.004345</td>\n",
              "      <td>0.000772</td>\n",
              "      <td>3.643041</td>\n",
              "      <td>0.000407</td>\n",
              "      <td>0.073498</td>\n",
              "      <td>3.643649</td>\n",
              "      <td>0.073511</td>\n",
              "    </tr>\n",
              "    <tr>\n",
              "      <th>3</th>\n",
              "      <td>-0.002847</td>\n",
              "      <td>-0.006443</td>\n",
              "      <td>0.000901</td>\n",
              "      <td>-0.004554</td>\n",
              "      <td>0.000011</td>\n",
              "      <td>0.002795</td>\n",
              "      <td>0.000379</td>\n",
              "      <td>0.000772</td>\n",
              "      <td>3.643041</td>\n",
              "      <td>0.000407</td>\n",
              "      <td>0.073498</td>\n",
              "      <td>3.643649</td>\n",
              "      <td>0.073511</td>\n",
              "    </tr>\n",
              "    <tr>\n",
              "      <th>...</th>\n",
              "      <td>...</td>\n",
              "      <td>...</td>\n",
              "      <td>...</td>\n",
              "      <td>...</td>\n",
              "      <td>...</td>\n",
              "      <td>...</td>\n",
              "      <td>...</td>\n",
              "      <td>...</td>\n",
              "      <td>...</td>\n",
              "      <td>...</td>\n",
              "      <td>...</td>\n",
              "      <td>...</td>\n",
              "      <td>...</td>\n",
              "    </tr>\n",
              "    <tr>\n",
              "      <th>7471</th>\n",
              "      <td>0.019997</td>\n",
              "      <td>0.000050</td>\n",
              "      <td>0.008847</td>\n",
              "      <td>0.010374</td>\n",
              "      <td>0.002379</td>\n",
              "      <td>-0.032190</td>\n",
              "      <td>-0.013530</td>\n",
              "      <td>0.000660</td>\n",
              "      <td>3.122949</td>\n",
              "      <td>0.000473</td>\n",
              "      <td>0.067957</td>\n",
              "      <td>3.123321</td>\n",
              "      <td>0.067965</td>\n",
              "    </tr>\n",
              "    <tr>\n",
              "      <th>7474</th>\n",
              "      <td>0.026688</td>\n",
              "      <td>-0.001911</td>\n",
              "      <td>0.007468</td>\n",
              "      <td>0.008464</td>\n",
              "      <td>0.002005</td>\n",
              "      <td>-0.037805</td>\n",
              "      <td>-0.015103</td>\n",
              "      <td>0.000906</td>\n",
              "      <td>3.561255</td>\n",
              "      <td>0.000500</td>\n",
              "      <td>0.079620</td>\n",
              "      <td>3.561821</td>\n",
              "      <td>0.079633</td>\n",
              "    </tr>\n",
              "    <tr>\n",
              "      <th>7475</th>\n",
              "      <td>0.016522</td>\n",
              "      <td>-0.006085</td>\n",
              "      <td>0.008953</td>\n",
              "      <td>0.009717</td>\n",
              "      <td>0.005027</td>\n",
              "      <td>-0.031999</td>\n",
              "      <td>-0.015213</td>\n",
              "      <td>0.000646</td>\n",
              "      <td>3.621418</td>\n",
              "      <td>0.000345</td>\n",
              "      <td>0.067253</td>\n",
              "      <td>3.622016</td>\n",
              "      <td>0.067264</td>\n",
              "    </tr>\n",
              "    <tr>\n",
              "      <th>7516</th>\n",
              "      <td>0.000762</td>\n",
              "      <td>-0.021793</td>\n",
              "      <td>0.007682</td>\n",
              "      <td>0.010414</td>\n",
              "      <td>0.024935</td>\n",
              "      <td>-0.040240</td>\n",
              "      <td>-0.034293</td>\n",
              "      <td>0.000698</td>\n",
              "      <td>4.161266</td>\n",
              "      <td>0.000282</td>\n",
              "      <td>0.069880</td>\n",
              "      <td>4.162191</td>\n",
              "      <td>0.069896</td>\n",
              "    </tr>\n",
              "    <tr>\n",
              "      <th>7603</th>\n",
              "      <td>0.007432</td>\n",
              "      <td>0.002713</td>\n",
              "      <td>0.019304</td>\n",
              "      <td>0.011028</td>\n",
              "      <td>0.004078</td>\n",
              "      <td>-0.029058</td>\n",
              "      <td>-0.014278</td>\n",
              "      <td>0.000581</td>\n",
              "      <td>3.185626</td>\n",
              "      <td>0.000401</td>\n",
              "      <td>0.063773</td>\n",
              "      <td>3.186023</td>\n",
              "      <td>0.063781</td>\n",
              "    </tr>\n",
              "  </tbody>\n",
              "</table>\n",
              "<p>2267 rows × 13 columns</p>\n",
              "</div>\n",
              "      <button class=\"colab-df-convert\" onclick=\"convertToInteractive('df-a0dd99ce-92dd-435f-92d6-0e1d120d51cb')\"\n",
              "              title=\"Convert this dataframe to an interactive table.\"\n",
              "              style=\"display:none;\">\n",
              "        \n",
              "  <svg xmlns=\"http://www.w3.org/2000/svg\" height=\"24px\"viewBox=\"0 0 24 24\"\n",
              "       width=\"24px\">\n",
              "    <path d=\"M0 0h24v24H0V0z\" fill=\"none\"/>\n",
              "    <path d=\"M18.56 5.44l.94 2.06.94-2.06 2.06-.94-2.06-.94-.94-2.06-.94 2.06-2.06.94zm-11 1L8.5 8.5l.94-2.06 2.06-.94-2.06-.94L8.5 2.5l-.94 2.06-2.06.94zm10 10l.94 2.06.94-2.06 2.06-.94-2.06-.94-.94-2.06-.94 2.06-2.06.94z\"/><path d=\"M17.41 7.96l-1.37-1.37c-.4-.4-.92-.59-1.43-.59-.52 0-1.04.2-1.43.59L10.3 9.45l-7.72 7.72c-.78.78-.78 2.05 0 2.83L4 21.41c.39.39.9.59 1.41.59.51 0 1.02-.2 1.41-.59l7.78-7.78 2.81-2.81c.8-.78.8-2.07 0-2.86zM5.41 20L4 18.59l7.72-7.72 1.47 1.35L5.41 20z\"/>\n",
              "  </svg>\n",
              "      </button>\n",
              "      \n",
              "  <style>\n",
              "    .colab-df-container {\n",
              "      display:flex;\n",
              "      flex-wrap:wrap;\n",
              "      gap: 12px;\n",
              "    }\n",
              "\n",
              "    .colab-df-convert {\n",
              "      background-color: #E8F0FE;\n",
              "      border: none;\n",
              "      border-radius: 50%;\n",
              "      cursor: pointer;\n",
              "      display: none;\n",
              "      fill: #1967D2;\n",
              "      height: 32px;\n",
              "      padding: 0 0 0 0;\n",
              "      width: 32px;\n",
              "    }\n",
              "\n",
              "    .colab-df-convert:hover {\n",
              "      background-color: #E2EBFA;\n",
              "      box-shadow: 0px 1px 2px rgba(60, 64, 67, 0.3), 0px 1px 3px 1px rgba(60, 64, 67, 0.15);\n",
              "      fill: #174EA6;\n",
              "    }\n",
              "\n",
              "    [theme=dark] .colab-df-convert {\n",
              "      background-color: #3B4455;\n",
              "      fill: #D2E3FC;\n",
              "    }\n",
              "\n",
              "    [theme=dark] .colab-df-convert:hover {\n",
              "      background-color: #434B5C;\n",
              "      box-shadow: 0px 1px 3px 1px rgba(0, 0, 0, 0.15);\n",
              "      filter: drop-shadow(0px 1px 2px rgba(0, 0, 0, 0.3));\n",
              "      fill: #FFFFFF;\n",
              "    }\n",
              "  </style>\n",
              "\n",
              "      <script>\n",
              "        const buttonEl =\n",
              "          document.querySelector('#df-a0dd99ce-92dd-435f-92d6-0e1d120d51cb button.colab-df-convert');\n",
              "        buttonEl.style.display =\n",
              "          google.colab.kernel.accessAllowed ? 'block' : 'none';\n",
              "\n",
              "        async function convertToInteractive(key) {\n",
              "          const element = document.querySelector('#df-a0dd99ce-92dd-435f-92d6-0e1d120d51cb');\n",
              "          const dataTable =\n",
              "            await google.colab.kernel.invokeFunction('convertToInteractive',\n",
              "                                                     [key], {});\n",
              "          if (!dataTable) return;\n",
              "\n",
              "          const docLinkHtml = 'Like what you see? Visit the ' +\n",
              "            '<a target=\"_blank\" href=https://colab.research.google.com/notebooks/data_table.ipynb>data table notebook</a>'\n",
              "            + ' to learn more about interactive tables.';\n",
              "          element.innerHTML = '';\n",
              "          dataTable['output_type'] = 'display_data';\n",
              "          await google.colab.output.renderOutput(dataTable, element);\n",
              "          const docLink = document.createElement('div');\n",
              "          docLink.innerHTML = docLinkHtml;\n",
              "          element.appendChild(docLink);\n",
              "        }\n",
              "      </script>\n",
              "    </div>\n",
              "  </div>\n",
              "  "
            ]
          },
          "metadata": {},
          "execution_count": 74
        }
      ]
    },
    {
      "cell_type": "markdown",
      "source": [
        "## Machine Learning models"
      ],
      "metadata": {
        "id": "uU-tazgNfZF7"
      }
    },
    {
      "cell_type": "markdown",
      "source": [
        "### Importing Relevant modules"
      ],
      "metadata": {
        "id": "dvbT_z6Gfwf2"
      }
    },
    {
      "cell_type": "code",
      "execution_count": 75,
      "metadata": {
        "id": "mBP38WvWWzDP"
      },
      "outputs": [],
      "source": [
        "from hyperopt import fmin, hp, STATUS_OK, tpe , Trials\n",
        "from hyperopt.pyll.base import scope\n",
        "import hyperopt"
      ]
    },
    {
      "cell_type": "code",
      "execution_count": 76,
      "metadata": {
        "id": "72Z4fkf9XEAx"
      },
      "outputs": [],
      "source": [
        "from sklearn.linear_model import LinearRegression\n",
        "from sklearn.tree import DecisionTreeRegressor\n",
        "from sklearn.ensemble import AdaBoostRegressor, RandomForestRegressor, GradientBoostingRegressor\n",
        "from xgboost import XGBRegressor"
      ]
    },
    {
      "cell_type": "code",
      "execution_count": 77,
      "metadata": {
        "id": "3wZWKGvwYP3-"
      },
      "outputs": [],
      "source": [
        "lin_reg = LinearRegression()\n",
        "dt_reg = DecisionTreeRegressor()\n",
        "rf_reg = RandomForestRegressor()\n",
        "gbm_reg = GradientBoostingRegressor()\n",
        "xgb_reg = XGBRegressor()"
      ]
    },
    {
      "cell_type": "markdown",
      "source": [
        "### Setting up parameter search space for hyperopt"
      ],
      "metadata": {
        "id": "wbFE1ecef5CG"
      }
    },
    {
      "cell_type": "code",
      "execution_count": 78,
      "metadata": {
        "id": "xSk6PoUJYvgS",
        "colab": {
          "base_uri": "https://localhost:8080/"
        },
        "outputId": "3e22f920-fbc1-4af6-d04b-c588ee628642"
      },
      "outputs": [
        {
          "output_type": "execute_result",
          "data": {
            "text/plain": [
              "(36733, 10)"
            ]
          },
          "metadata": {},
          "execution_count": 78
        }
      ],
      "source": [
        "gt_new = data_2015.loc[:,'AT':'CO']\n",
        "gt_new.shape"
      ]
    },
    {
      "cell_type": "code",
      "execution_count": 79,
      "metadata": {
        "id": "qk5jvS__ZETK"
      },
      "outputs": [],
      "source": [
        "param_dt={\n",
        "    'max_depth': scope.int(hp.quniform('max_depth',2,20,1)),\n",
        "    'ccp_alpha': hp.uniform('ccp_alpha',0.001,0.1)\n",
        "}\n",
        "\n",
        "param_rf={\n",
        "    'n_estimators':scope.int(hp.quniform('n_estimators',50,500,1)),\n",
        "    'max_features':hp.choice('max_features',list(range(2,7)))\n",
        "}\n",
        "\n",
        "param_gbm = {\n",
        "    'max_depth':scope.int(hp.quniform('max_depth',1,6,1)),\n",
        "    'n_estimators':scope.int(hp.quniform('n_estimators',50,500,1)),\n",
        "    'learning_rate':hp.uniform('learning_rate',0.001,0.1)\n",
        "}\n",
        "\n",
        "param_xgb = {\n",
        "    'max_depth':scope.int(hp.quniform('max_depth',1,6,1)),\n",
        "    'n_estimators':scope.int(hp.quniform('n_estimators',50,500,1)),\n",
        "    'learning_rate':hp.uniform('learning_rate',0.001,0.1),\n",
        "    'colsample_bytree':hp.uniform('colsample_bytree',0.2,0.8)\n",
        "}"
      ]
    },
    {
      "cell_type": "code",
      "execution_count": 80,
      "metadata": {
        "id": "5BtqD-hpbBp2"
      },
      "outputs": [],
      "source": [
        "from sklearn.metrics import make_scorer, mean_squared_error\n",
        "from sklearn.model_selection import train_test_split, cross_val_score"
      ]
    },
    {
      "cell_type": "code",
      "execution_count": 81,
      "metadata": {
        "id": "OjCiyJdJbV1S"
      },
      "outputs": [],
      "source": [
        "x_train, x_test, y_train, y_test = train_test_split(gt_new.loc[:, 'AT':'CDP'],gt_new['CO'],test_size=0.3, random_state=123)"
      ]
    },
    {
      "cell_type": "code",
      "execution_count": 82,
      "metadata": {
        "id": "kfYKwIdObx3N"
      },
      "outputs": [],
      "source": [
        "def rmse(y_act, y_pred):\n",
        "  return (np.sqrt(np.mean((y_act-y_pred)**2)))\n",
        "\n",
        "rmse = make_scorer(rmse, greater_is_better=False)"
      ]
    },
    {
      "cell_type": "code",
      "execution_count": 83,
      "metadata": {
        "id": "20a9LXGVcdsA"
      },
      "outputs": [],
      "source": [
        "def hp_obj_func_dt(param):\n",
        "  dt= DecisionTreeRegressor(**param)\n",
        "  out=cross_val_score(dt, X=x_train, y= y_train, scoring='neg_root_mean_squared_error', cv=5).mean()\n",
        "  print(out)\n",
        "  return out"
      ]
    },
    {
      "cell_type": "code",
      "execution_count": 84,
      "metadata": {
        "id": "fLlWHWHKdLQ-"
      },
      "outputs": [],
      "source": [
        "def surr_func_dt(params):\n",
        "  perf= hp_obj_func_dt(params)\n",
        "  return {'loss':-perf,'status': STATUS_OK}"
      ]
    },
    {
      "cell_type": "markdown",
      "metadata": {
        "id": "4-wiIMeoG1TH"
      },
      "source": [
        "### Linear Regression"
      ]
    },
    {
      "cell_type": "code",
      "execution_count": 85,
      "metadata": {
        "id": "O-PAr6YNf2cc",
        "colab": {
          "base_uri": "https://localhost:8080/"
        },
        "outputId": "e15c2f68-e34a-462b-a478-210d72c35244"
      },
      "outputs": [
        {
          "output_type": "stream",
          "name": "stdout",
          "text": [
            "1.9456774833850263\n"
          ]
        }
      ],
      "source": [
        "lin_reg.fit(x_train, y_train)\n",
        "pred_lin_reg = lin_reg.predict(x_test)\n",
        "print(mean_squared_error(pred_lin_reg, y_test))"
      ]
    },
    {
      "cell_type": "markdown",
      "source": [
        "### Decision Tree"
      ],
      "metadata": {
        "id": "zfsVV1ofgE-o"
      }
    },
    {
      "cell_type": "code",
      "execution_count": 86,
      "metadata": {
        "colab": {
          "base_uri": "https://localhost:8080/"
        },
        "id": "aolDubRYdhIP",
        "outputId": "9fbbd9bd-ae6f-4be2-bed4-908775b0a0ef"
      },
      "outputs": [
        {
          "output_type": "stream",
          "name": "stdout",
          "text": [
            "-1.3817372124604959\n",
            "-1.4356217294509475\n",
            "-1.3942711102078094\n",
            "-1.421153849411904\n",
            "-1.4138366787926024\n",
            "-1.4356217294509475\n",
            "-1.4356217294509475\n",
            "-1.3944950905241407\n",
            "-1.4188803776053973\n",
            "-1.4383060184174137\n",
            "-1.4425818819548355\n",
            "-1.4253863139244665\n",
            "-1.4551618339568377\n",
            "-1.4472811670586945\n",
            "-1.4425818819548355\n",
            "-1.3979046016690861\n",
            "-1.4211538494119038\n",
            "-1.3979046016690861\n",
            "-1.4035250564205217\n",
            "-1.4356217294509475\n",
            "-1.4041412861172045\n",
            "-1.419869592736513\n",
            "-1.4041412861172042\n",
            "-1.4043695776746112\n",
            "-1.4133814931322977\n",
            "-1.3991384144674228\n",
            "-1.3887147801969224\n",
            "-1.4255889410233338\n",
            "-1.3979046016690861\n",
            "-1.4245151680086132\n",
            "-1.3993686243340857\n",
            "-1.4252543761838188\n",
            "-1.446606708880228\n",
            "-1.3923791169645479\n",
            "-1.453247366303718\n",
            "-1.4092281271861777\n",
            "-1.415452080930289\n",
            "-1.4047230288778472\n",
            "-1.438431717146586\n",
            "-1.4008487020159688\n",
            "-1.4622434594183031\n",
            "-1.4224300056125336\n",
            "-1.3871380311800676\n",
            "-1.374636177333126\n",
            "-1.3805238383327338\n",
            "-1.3954571201048682\n",
            "-1.3783945183905821\n",
            "-1.4213666396015499\n",
            "-1.421153849411904\n",
            "-1.371434543932478\n",
            "-1.4383060184174135\n",
            "-1.4985134912272335\n",
            "-1.42408299177384\n",
            "-1.4985134912272335\n",
            "-1.390274842533024\n",
            "-1.4041412861172042\n",
            "-1.4247910251119236\n",
            "-1.415616065908406\n",
            "-1.4092354488091696\n",
            "-1.4425818819548355\n",
            "-1.4224300056125339\n",
            "-1.427878895564738\n",
            "-1.3988410453858564\n",
            "-1.4350583793136134\n",
            "-1.4472811670586945\n",
            "-1.3669448703778169\n",
            "-1.390817617492017\n",
            "-1.4231868756807586\n",
            "-1.3787870839051724\n",
            "-1.4013052227860459\n",
            "-1.4332337988862989\n",
            "-1.390088246997368\n",
            "-1.4029278305247797\n",
            "-1.4985134912272335\n",
            "-1.4156160659084063\n",
            "-1.3814041180402894\n",
            "-1.4255439458410566\n",
            "-1.4041412861172042\n",
            "-1.4162294484221092\n",
            "-1.427878895564738\n",
            "-1.3742728823149934\n",
            "-1.3979046016690861\n",
            "-1.389651223913693\n",
            "-1.4315162127095913\n",
            "-1.3971429581499102\n",
            "-1.401311371369863\n",
            "-1.446606708880228\n",
            "-1.4416376850654022\n",
            "-1.4303231889604\n",
            "-1.415616065908406\n",
            "-1.4985134912272335\n",
            "-1.4255889410233338\n",
            "-1.4262646887548551\n",
            "-1.4159518503201554\n",
            "-1.3972475872914139\n",
            "-1.4047230288778472\n",
            "-1.4381585045838654\n",
            "-1.4356217294509475\n",
            "-1.4425818819548355\n",
            "-1.3841771693870737\n",
            "100%|██████████| 100/100 [01:55<00:00,  1.16s/it, best loss: 1.3669448703778169]\n",
            "best_dt:\n",
            "{'ccp_alpha': 0.004127261289188508, 'max_depth': 6.0}\n"
          ]
        }
      ],
      "source": [
        "trials = Trials()\n",
        "best_dt = fmin(surr_func_dt, space=param_dt, algo=tpe.suggest,\n",
        "               max_evals=100, trials=trials)\n",
        "print('best_dt:')\n",
        "print(best_dt)"
      ]
    },
    {
      "cell_type": "code",
      "execution_count": 87,
      "metadata": {
        "id": "EJ4-zQsgeTpi",
        "colab": {
          "base_uri": "https://localhost:8080/"
        },
        "outputId": "26daf02b-d8c8-4f49-bf4a-ec4980d2253d"
      },
      "outputs": [
        {
          "output_type": "stream",
          "name": "stdout",
          "text": [
            "1.6687517008912107\n"
          ]
        }
      ],
      "source": [
        "dt_reg = DecisionTreeRegressor(**best_dt)\n",
        "dt_reg.fit(x_train, y_train)\n",
        "pred_dt = dt_reg.predict(x_test)\n",
        "print(mean_squared_error(pred_dt, y_test))"
      ]
    },
    {
      "cell_type": "markdown",
      "metadata": {
        "id": "weHNJ8kUEXxx"
      },
      "source": [
        "### Random forest\n",
        "\n",
        "\n"
      ]
    },
    {
      "cell_type": "code",
      "execution_count": 88,
      "metadata": {
        "id": "rHCZdUsKE8pK"
      },
      "outputs": [],
      "source": [
        "def hp_obj_func_rf(param):\n",
        "  rf= RandomForestRegressor(**param)\n",
        "  out=cross_val_score(rf, X=x_train, y= y_train, scoring='neg_root_mean_squared_error', cv=5).mean()\n",
        "  print(out)\n",
        "  return out"
      ]
    },
    {
      "cell_type": "code",
      "execution_count": 89,
      "metadata": {
        "id": "vsjYWDz0FESs"
      },
      "outputs": [],
      "source": [
        "def surr_func_rf(params):\n",
        "  perf= hp_obj_func_rf(params)\n",
        "  return {'loss':-perf,'status': STATUS_OK}"
      ]
    },
    {
      "cell_type": "code",
      "execution_count": 90,
      "metadata": {
        "colab": {
          "base_uri": "https://localhost:8080/"
        },
        "id": "Tt1wvXx-CcKn",
        "outputId": "046ce31b-8613-4dc6-9380-11b24ef811a9"
      },
      "outputs": [
        {
          "output_type": "stream",
          "name": "stdout",
          "text": [
            "-1.1239147444407782\n",
            "-1.1100896072295035\n",
            "-1.1135025147588442\n",
            "-1.126853550069745\n",
            "-1.112587472459468\n",
            "-1.1093222475180364\n",
            "-1.121026239127528\n",
            "-1.1146867689971562\n",
            "-1.1268767726147666\n",
            "-1.1089613349842906\n",
            "-1.1156798251400213\n",
            "-1.126726644894824\n",
            "-1.1119528172831767\n",
            "-1.115193372317373\n",
            "-1.1210917985326148\n",
            "-1.1095193234839202\n",
            "-1.1093009345900287\n",
            "-1.1222364319370208\n",
            "-1.1193720811845551\n",
            "-1.1147141476693316\n",
            "-1.1084296715013953\n",
            "-1.1127401498808926\n",
            "-1.110618817602412\n",
            "-1.109194025708254\n",
            "-1.1129689553678719\n",
            "100%|██████████| 25/25 [54:14<00:00, 130.17s/it, best loss: 1.1084296715013953]\n",
            "best_rf:\n",
            "{'max_features': 1, 'n_estimators': 498.0}\n"
          ]
        }
      ],
      "source": [
        "trials = Trials()\n",
        "best_rf = fmin(surr_func_rf, space=param_rf, algo=tpe.suggest,\n",
        "               max_evals=25, trials=trials)\n",
        "print('best_rf:')\n",
        "print(best_rf)"
      ]
    },
    {
      "cell_type": "code",
      "execution_count": 91,
      "metadata": {
        "id": "9Q2ce2bsJub5"
      },
      "outputs": [],
      "source": [
        "# best_rf={'max_features': 2, 'n_estimators': 451}"
      ]
    },
    {
      "cell_type": "code",
      "execution_count": 92,
      "metadata": {
        "id": "L-XcIjkNGSGu",
        "colab": {
          "base_uri": "https://localhost:8080/"
        },
        "outputId": "7e82b72e-5035-46c3-cc7c-2e076f9e2a9c"
      },
      "outputs": [
        {
          "output_type": "stream",
          "name": "stdout",
          "text": [
            "1.0524261566795023\n"
          ]
        }
      ],
      "source": [
        "rf_reg = RandomForestRegressor(**best_rf)\n",
        "rf_reg.fit(x_train, y_train)\n",
        "pred_rf = rf_reg.predict(x_test)\n",
        "print(mean_squared_error(pred_rf, y_test))"
      ]
    },
    {
      "cell_type": "code",
      "execution_count": 93,
      "metadata": {
        "id": "HEd3Rhg6PtxG",
        "colab": {
          "base_uri": "https://localhost:8080/",
          "height": 1000
        },
        "outputId": "d60a811c-a669-4e21-a170-07938dd99f45"
      },
      "outputs": [
        {
          "output_type": "stream",
          "name": "stderr",
          "text": [
            "/usr/local/lib/python3.8/dist-packages/seaborn/distributions.py:2619: FutureWarning: `distplot` is a deprecated function and will be removed in a future version. Please adapt your code to use either `displot` (a figure-level function with similar flexibility) or `histplot` (an axes-level function for histograms).\n",
            "  warnings.warn(msg, FutureWarning)\n",
            "/usr/local/lib/python3.8/dist-packages/seaborn/distributions.py:2657: RuntimeWarning: Mean of empty slice.\n",
            "  line, = ax.plot(a.mean(), 0)\n",
            "/usr/local/lib/python3.8/dist-packages/numpy/core/_methods.py:189: RuntimeWarning: invalid value encountered in double_scalars\n",
            "  ret = ret.dtype.type(ret / rcount)\n",
            "/usr/local/lib/python3.8/dist-packages/numpy/lib/histograms.py:906: RuntimeWarning: invalid value encountered in true_divide\n",
            "  return n/db/n.sum(), bin_edges\n",
            "/usr/local/lib/python3.8/dist-packages/seaborn/distributions.py:2619: FutureWarning: `distplot` is a deprecated function and will be removed in a future version. Please adapt your code to use either `displot` (a figure-level function with similar flexibility) or `histplot` (an axes-level function for histograms).\n",
            "  warnings.warn(msg, FutureWarning)\n",
            "/usr/local/lib/python3.8/dist-packages/seaborn/distributions.py:2619: FutureWarning: `distplot` is a deprecated function and will be removed in a future version. Please adapt your code to use either `displot` (a figure-level function with similar flexibility) or `histplot` (an axes-level function for histograms).\n",
            "  warnings.warn(msg, FutureWarning)\n",
            "/usr/local/lib/python3.8/dist-packages/seaborn/distributions.py:2619: FutureWarning: `distplot` is a deprecated function and will be removed in a future version. Please adapt your code to use either `displot` (a figure-level function with similar flexibility) or `histplot` (an axes-level function for histograms).\n",
            "  warnings.warn(msg, FutureWarning)\n",
            "/usr/local/lib/python3.8/dist-packages/seaborn/distributions.py:2619: FutureWarning: `distplot` is a deprecated function and will be removed in a future version. Please adapt your code to use either `displot` (a figure-level function with similar flexibility) or `histplot` (an axes-level function for histograms).\n",
            "  warnings.warn(msg, FutureWarning)\n",
            "/usr/local/lib/python3.8/dist-packages/seaborn/distributions.py:2619: FutureWarning: `distplot` is a deprecated function and will be removed in a future version. Please adapt your code to use either `displot` (a figure-level function with similar flexibility) or `histplot` (an axes-level function for histograms).\n",
            "  warnings.warn(msg, FutureWarning)\n",
            "/usr/local/lib/python3.8/dist-packages/seaborn/distributions.py:2619: FutureWarning: `distplot` is a deprecated function and will be removed in a future version. Please adapt your code to use either `displot` (a figure-level function with similar flexibility) or `histplot` (an axes-level function for histograms).\n",
            "  warnings.warn(msg, FutureWarning)\n",
            "/usr/local/lib/python3.8/dist-packages/seaborn/distributions.py:2619: FutureWarning: `distplot` is a deprecated function and will be removed in a future version. Please adapt your code to use either `displot` (a figure-level function with similar flexibility) or `histplot` (an axes-level function for histograms).\n",
            "  warnings.warn(msg, FutureWarning)\n"
          ]
        },
        {
          "output_type": "display_data",
          "data": {
            "text/plain": [
              "<Figure size 864x864 with 9 Axes>"
            ],
            "image/png": "[encoded data removed]"
          },
          "metadata": {
            "needs_background": "light"
          }
        }
      ],
      "source": [
        "plt.figure(figsize=(12,12))\n",
        "for i in range(1,10):\n",
        "  plt.subplot(3,3,i)\n",
        "  sns.distplot(data_2015.iloc[:i-1])"
      ]
    },
    {
      "cell_type": "markdown",
      "source": [
        "### GBM"
      ],
      "metadata": {
        "id": "ni6rPxNngLaD"
      }
    },
    {
      "cell_type": "code",
      "source": [
        "def hp_obj_func_gbm(param):\n",
        "  gbm= GradientBoostingRegressor(**param)\n",
        "  out=cross_val_score(gbm, X=x_train, y= y_train, scoring='neg_root_mean_squared_error', cv=5).mean()\n",
        "  print(out)\n",
        "  return out"
      ],
      "metadata": {
        "id": "CI1yHOzvgWou"
      },
      "execution_count": 93,
      "outputs": []
    },
    {
      "cell_type": "code",
      "source": [
        "def surr_func_gbm(params):\n",
        "  perf= hp_obj_func_gbm(params)\n",
        "  return {'loss':-perf,'status': STATUS_OK}"
      ],
      "metadata": {
        "id": "6MxXlpQJJ4KZ"
      },
      "execution_count": null,
      "outputs": []
    },
    {
      "cell_type": "code",
      "source": [
        "trials = Trials()\n",
        "best_gbm = fmin(surr_func_gbm, space=param_gbm, algo=tpe.suggest,\n",
        "               max_evals=100, trials=trials)\n",
        "print('best_gbm:')\n",
        "print(best_gbm)"
      ],
      "metadata": {
        "id": "CRz9pZTFJ4F6"
      },
      "execution_count": null,
      "outputs": []
    },
    {
      "cell_type": "code",
      "source": [
        "best_gbm"
      ],
      "metadata": {
        "id": "-KrWU8UOJ4DA"
      },
      "execution_count": null,
      "outputs": []
    },
    {
      "cell_type": "code",
      "source": [
        "gbm_reg = GradientBoostingRegressor(**best_gbm)\n",
        "gbm_reg.fit(x_train, y_train)\n",
        "pred_gbm = gbm_reg.predict(x_test)\n",
        "print(mean_squared_error(pred_gbm, y_test))"
      ],
      "metadata": {
        "id": "x-uHBFQgJ4AK"
      },
      "execution_count": null,
      "outputs": []
    },
    {
      "cell_type": "code",
      "source": [
        "gbm_reg = GradientBoostingRegressor(**best_gbm)\n",
        "gbm_reg.fit(x_train, y_train)\n",
        "pred_gbm = gbm_reg.predict(x_test)\n",
        "print(mean_squared_error(pred_gbm, y_test))"
      ],
      "metadata": {
        "id": "RfkU--gVKH21"
      },
      "execution_count": null,
      "outputs": []
    },
    {
      "cell_type": "markdown",
      "metadata": {
        "id": "HYJY7dOqeKgA"
      },
      "source": [
        "### XgBoost"
      ]
    },
    {
      "cell_type": "code",
      "execution_count": 94,
      "metadata": {
        "id": "ie8ErSixeV6-"
      },
      "outputs": [],
      "source": [
        "def hp_obj_func_xgb(param):\n",
        "  xgb= XGBRegressor(**param)\n",
        "  out=cross_val_score(xgb, X=x_train, y= y_train, scoring='neg_root_mean_squared_error', cv=5).mean()\n",
        "  print(out)\n",
        "  return out"
      ]
    },
    {
      "cell_type": "code",
      "execution_count": 95,
      "metadata": {
        "id": "d9Rr4_oTeaGU"
      },
      "outputs": [],
      "source": [
        "def surr_func_xgb(params):\n",
        "  perf= hp_obj_func_xgb(params)\n",
        "  return {'loss':-perf,'status': STATUS_OK}"
      ]
    },
    {
      "cell_type": "code",
      "execution_count": 96,
      "metadata": {
        "colab": {
          "base_uri": "https://localhost:8080/"
        },
        "id": "M-No8HQaeatA",
        "outputId": "8eb506a5-fbfb-470e-f75d-8ffbca143b79"
      },
      "outputs": [
        {
          "output_type": "stream",
          "name": "stdout",
          "text": [
            "[08:51:03] WARNING: /workspace/src/objective/regression_obj.cu:152: reg:linear is now deprecated in favor of reg:squarederror.\n",
            "[08:51:09] WARNING: /workspace/src/objective/regression_obj.cu:152: reg:linear is now deprecated in favor of reg:squarederror.\n",
            "[08:51:15] WARNING: /workspace/src/objective/regression_obj.cu:152: reg:linear is now deprecated in favor of reg:squarederror.\n",
            "[08:51:20] WARNING: /workspace/src/objective/regression_obj.cu:152: reg:linear is now deprecated in favor of reg:squarederror.\n",
            "[08:51:26] WARNING: /workspace/src/objective/regression_obj.cu:152: reg:linear is now deprecated in favor of reg:squarederror.\n",
            "-1.1914817119686911\n",
            "[08:51:32] WARNING: /workspace/src/objective/regression_obj.cu:152: reg:linear is now deprecated in favor of reg:squarederror.\n",
            "[08:51:34] WARNING: /workspace/src/objective/regression_obj.cu:152: reg:linear is now deprecated in favor of reg:squarederror.\n",
            "[08:51:36] WARNING: /workspace/src/objective/regression_obj.cu:152: reg:linear is now deprecated in favor of reg:squarederror.\n",
            "[08:51:39] WARNING: /workspace/src/objective/regression_obj.cu:152: reg:linear is now deprecated in favor of reg:squarederror.\n",
            "[08:51:41] WARNING: /workspace/src/objective/regression_obj.cu:152: reg:linear is now deprecated in favor of reg:squarederror.\n",
            "-1.3993932748590758\n",
            "[08:51:43] WARNING: /workspace/src/objective/regression_obj.cu:152: reg:linear is now deprecated in favor of reg:squarederror.\n",
            "[08:51:44] WARNING: /workspace/src/objective/regression_obj.cu:152: reg:linear is now deprecated in favor of reg:squarederror.\n",
            "[08:51:45] WARNING: /workspace/src/objective/regression_obj.cu:152: reg:linear is now deprecated in favor of reg:squarederror.\n",
            "[08:51:46] WARNING: /workspace/src/objective/regression_obj.cu:152: reg:linear is now deprecated in favor of reg:squarederror.\n",
            "[08:51:46] WARNING: /workspace/src/objective/regression_obj.cu:152: reg:linear is now deprecated in favor of reg:squarederror.\n",
            "-1.3347758477772427\n",
            "[08:51:47] WARNING: /workspace/src/objective/regression_obj.cu:152: reg:linear is now deprecated in favor of reg:squarederror.\n",
            "[08:51:50] WARNING: /workspace/src/objective/regression_obj.cu:152: reg:linear is now deprecated in favor of reg:squarederror.\n",
            "[08:51:52] WARNING: /workspace/src/objective/regression_obj.cu:152: reg:linear is now deprecated in favor of reg:squarederror.\n",
            "[08:51:54] WARNING: /workspace/src/objective/regression_obj.cu:152: reg:linear is now deprecated in favor of reg:squarederror.\n",
            "[08:51:56] WARNING: /workspace/src/objective/regression_obj.cu:152: reg:linear is now deprecated in favor of reg:squarederror.\n",
            "-1.2915972214904523\n",
            "[08:51:57] WARNING: /workspace/src/objective/regression_obj.cu:152: reg:linear is now deprecated in favor of reg:squarederror.\n",
            "[08:52:05] WARNING: /workspace/src/objective/regression_obj.cu:152: reg:linear is now deprecated in favor of reg:squarederror.\n",
            "[08:52:11] WARNING: /workspace/src/objective/regression_obj.cu:152: reg:linear is now deprecated in favor of reg:squarederror.\n",
            "[08:52:19] WARNING: /workspace/src/objective/regression_obj.cu:152: reg:linear is now deprecated in favor of reg:squarederror.\n",
            "[08:52:25] WARNING: /workspace/src/objective/regression_obj.cu:152: reg:linear is now deprecated in favor of reg:squarederror.\n",
            "-1.1665311718846638\n",
            "[08:52:33] WARNING: /workspace/src/objective/regression_obj.cu:152: reg:linear is now deprecated in favor of reg:squarederror.\n",
            "[08:52:36] WARNING: /workspace/src/objective/regression_obj.cu:152: reg:linear is now deprecated in favor of reg:squarederror.\n",
            "[08:52:39] WARNING: /workspace/src/objective/regression_obj.cu:152: reg:linear is now deprecated in favor of reg:squarederror.\n",
            "[08:52:43] WARNING: /workspace/src/objective/regression_obj.cu:152: reg:linear is now deprecated in favor of reg:squarederror.\n",
            "[08:52:46] WARNING: /workspace/src/objective/regression_obj.cu:152: reg:linear is now deprecated in favor of reg:squarederror.\n",
            "-1.2156647957978746\n",
            "[08:52:48] WARNING: /workspace/src/objective/regression_obj.cu:152: reg:linear is now deprecated in favor of reg:squarederror.\n",
            "[08:52:55] WARNING: /workspace/src/objective/regression_obj.cu:152: reg:linear is now deprecated in favor of reg:squarederror.\n",
            "[08:53:01] WARNING: /workspace/src/objective/regression_obj.cu:152: reg:linear is now deprecated in favor of reg:squarederror.\n",
            "[08:53:08] WARNING: /workspace/src/objective/regression_obj.cu:152: reg:linear is now deprecated in favor of reg:squarederror.\n",
            "[08:53:13] WARNING: /workspace/src/objective/regression_obj.cu:152: reg:linear is now deprecated in favor of reg:squarederror.\n",
            "-1.3052089893548877\n",
            "[08:53:20] WARNING: /workspace/src/objective/regression_obj.cu:152: reg:linear is now deprecated in favor of reg:squarederror.\n",
            "[08:53:25] WARNING: /workspace/src/objective/regression_obj.cu:152: reg:linear is now deprecated in favor of reg:squarederror.\n",
            "[08:53:31] WARNING: /workspace/src/objective/regression_obj.cu:152: reg:linear is now deprecated in favor of reg:squarederror.\n",
            "[08:53:37] WARNING: /workspace/src/objective/regression_obj.cu:152: reg:linear is now deprecated in favor of reg:squarederror.\n",
            "[08:53:42] WARNING: /workspace/src/objective/regression_obj.cu:152: reg:linear is now deprecated in favor of reg:squarederror.\n",
            "-1.1916978566520213\n",
            "[08:53:48] WARNING: /workspace/src/objective/regression_obj.cu:152: reg:linear is now deprecated in favor of reg:squarederror.\n",
            "[08:53:49] WARNING: /workspace/src/objective/regression_obj.cu:152: reg:linear is now deprecated in favor of reg:squarederror.\n",
            "[08:53:49] WARNING: /workspace/src/objective/regression_obj.cu:152: reg:linear is now deprecated in favor of reg:squarederror.\n",
            "[08:53:50] WARNING: /workspace/src/objective/regression_obj.cu:152: reg:linear is now deprecated in favor of reg:squarederror.\n",
            "[08:53:51] WARNING: /workspace/src/objective/regression_obj.cu:152: reg:linear is now deprecated in favor of reg:squarederror.\n",
            "-1.6120801698882534\n",
            "[08:53:52] WARNING: /workspace/src/objective/regression_obj.cu:152: reg:linear is now deprecated in favor of reg:squarederror.\n",
            "[08:53:53] WARNING: /workspace/src/objective/regression_obj.cu:152: reg:linear is now deprecated in favor of reg:squarederror.\n",
            "[08:53:54] WARNING: /workspace/src/objective/regression_obj.cu:152: reg:linear is now deprecated in favor of reg:squarederror.\n",
            "[08:53:55] WARNING: /workspace/src/objective/regression_obj.cu:152: reg:linear is now deprecated in favor of reg:squarederror.\n",
            "[08:53:57] WARNING: /workspace/src/objective/regression_obj.cu:152: reg:linear is now deprecated in favor of reg:squarederror.\n",
            "-1.2662432946667819\n",
            "[08:53:58] WARNING: /workspace/src/objective/regression_obj.cu:152: reg:linear is now deprecated in favor of reg:squarederror.\n",
            "[08:53:59] WARNING: /workspace/src/objective/regression_obj.cu:152: reg:linear is now deprecated in favor of reg:squarederror.\n",
            "[08:54:00] WARNING: /workspace/src/objective/regression_obj.cu:152: reg:linear is now deprecated in favor of reg:squarederror.\n",
            "[08:54:01] WARNING: /workspace/src/objective/regression_obj.cu:152: reg:linear is now deprecated in favor of reg:squarederror.\n",
            "[08:54:02] WARNING: /workspace/src/objective/regression_obj.cu:152: reg:linear is now deprecated in favor of reg:squarederror.\n",
            "-1.3287450256390159\n",
            "[08:54:03] WARNING: /workspace/src/objective/regression_obj.cu:152: reg:linear is now deprecated in favor of reg:squarederror.\n",
            "[08:54:04] WARNING: /workspace/src/objective/regression_obj.cu:152: reg:linear is now deprecated in favor of reg:squarederror.\n",
            "[08:54:04] WARNING: /workspace/src/objective/regression_obj.cu:152: reg:linear is now deprecated in favor of reg:squarederror.\n",
            "[08:54:05] WARNING: /workspace/src/objective/regression_obj.cu:152: reg:linear is now deprecated in favor of reg:squarederror.\n",
            "[08:54:06] WARNING: /workspace/src/objective/regression_obj.cu:152: reg:linear is now deprecated in favor of reg:squarederror.\n",
            "-1.4438616269107443\n",
            "[08:54:07] WARNING: /workspace/src/objective/regression_obj.cu:152: reg:linear is now deprecated in favor of reg:squarederror.\n",
            "[08:54:10] WARNING: /workspace/src/objective/regression_obj.cu:152: reg:linear is now deprecated in favor of reg:squarederror.\n",
            "[08:54:13] WARNING: /workspace/src/objective/regression_obj.cu:152: reg:linear is now deprecated in favor of reg:squarederror.\n",
            "[08:54:15] WARNING: /workspace/src/objective/regression_obj.cu:152: reg:linear is now deprecated in favor of reg:squarederror.\n",
            "[08:54:17] WARNING: /workspace/src/objective/regression_obj.cu:152: reg:linear is now deprecated in favor of reg:squarederror.\n",
            "-1.3944817506131244\n",
            "[08:54:20] WARNING: /workspace/src/objective/regression_obj.cu:152: reg:linear is now deprecated in favor of reg:squarederror.\n",
            "[08:54:20] WARNING: /workspace/src/objective/regression_obj.cu:152: reg:linear is now deprecated in favor of reg:squarederror.\n",
            "[08:54:21] WARNING: /workspace/src/objective/regression_obj.cu:152: reg:linear is now deprecated in favor of reg:squarederror.\n",
            "[08:54:22] WARNING: /workspace/src/objective/regression_obj.cu:152: reg:linear is now deprecated in favor of reg:squarederror.\n",
            "[08:54:22] WARNING: /workspace/src/objective/regression_obj.cu:152: reg:linear is now deprecated in favor of reg:squarederror.\n",
            "-1.3624733901614474\n",
            "[08:54:23] WARNING: /workspace/src/objective/regression_obj.cu:152: reg:linear is now deprecated in favor of reg:squarederror.\n",
            "[08:54:27] WARNING: /workspace/src/objective/regression_obj.cu:152: reg:linear is now deprecated in favor of reg:squarederror.\n",
            "[08:54:31] WARNING: /workspace/src/objective/regression_obj.cu:152: reg:linear is now deprecated in favor of reg:squarederror.\n",
            "[08:54:37] WARNING: /workspace/src/objective/regression_obj.cu:152: reg:linear is now deprecated in favor of reg:squarederror.\n",
            "[08:54:41] WARNING: /workspace/src/objective/regression_obj.cu:152: reg:linear is now deprecated in favor of reg:squarederror.\n",
            "-1.2813406494178037\n",
            "[08:54:45] WARNING: /workspace/src/objective/regression_obj.cu:152: reg:linear is now deprecated in favor of reg:squarederror.\n",
            "[08:54:47] WARNING: /workspace/src/objective/regression_obj.cu:152: reg:linear is now deprecated in favor of reg:squarederror.\n",
            "[08:54:49] WARNING: /workspace/src/objective/regression_obj.cu:152: reg:linear is now deprecated in favor of reg:squarederror.\n",
            "[08:54:51] WARNING: /workspace/src/objective/regression_obj.cu:152: reg:linear is now deprecated in favor of reg:squarederror.\n",
            "[08:54:53] WARNING: /workspace/src/objective/regression_obj.cu:152: reg:linear is now deprecated in favor of reg:squarederror.\n",
            "-1.2417003018698687\n",
            "[08:54:54] WARNING: /workspace/src/objective/regression_obj.cu:152: reg:linear is now deprecated in favor of reg:squarederror.\n",
            "[08:54:56] WARNING: /workspace/src/objective/regression_obj.cu:152: reg:linear is now deprecated in favor of reg:squarederror.\n",
            "[08:54:57] WARNING: /workspace/src/objective/regression_obj.cu:152: reg:linear is now deprecated in favor of reg:squarederror.\n",
            "[08:54:58] WARNING: /workspace/src/objective/regression_obj.cu:152: reg:linear is now deprecated in favor of reg:squarederror.\n",
            "[08:55:00] WARNING: /workspace/src/objective/regression_obj.cu:152: reg:linear is now deprecated in favor of reg:squarederror.\n",
            "-1.4243546361225135\n",
            "[08:55:02] WARNING: /workspace/src/objective/regression_obj.cu:152: reg:linear is now deprecated in favor of reg:squarederror.\n",
            "[08:55:05] WARNING: /workspace/src/objective/regression_obj.cu:152: reg:linear is now deprecated in favor of reg:squarederror.\n",
            "[08:55:08] WARNING: /workspace/src/objective/regression_obj.cu:152: reg:linear is now deprecated in favor of reg:squarederror.\n",
            "[08:55:12] WARNING: /workspace/src/objective/regression_obj.cu:152: reg:linear is now deprecated in favor of reg:squarederror.\n",
            "[08:55:16] WARNING: /workspace/src/objective/regression_obj.cu:152: reg:linear is now deprecated in favor of reg:squarederror.\n",
            "-1.2007480457222004\n",
            "[08:55:19] WARNING: /workspace/src/objective/regression_obj.cu:152: reg:linear is now deprecated in favor of reg:squarederror.\n",
            "[08:55:28] WARNING: /workspace/src/objective/regression_obj.cu:152: reg:linear is now deprecated in favor of reg:squarederror.\n",
            "[08:55:36] WARNING: /workspace/src/objective/regression_obj.cu:152: reg:linear is now deprecated in favor of reg:squarederror.\n",
            "[08:55:46] WARNING: /workspace/src/objective/regression_obj.cu:152: reg:linear is now deprecated in favor of reg:squarederror.\n",
            "[08:55:55] WARNING: /workspace/src/objective/regression_obj.cu:152: reg:linear is now deprecated in favor of reg:squarederror.\n",
            "-1.1597485870562139\n",
            "[08:56:03] WARNING: /workspace/src/objective/regression_obj.cu:152: reg:linear is now deprecated in favor of reg:squarederror.\n",
            "[08:56:04] WARNING: /workspace/src/objective/regression_obj.cu:152: reg:linear is now deprecated in favor of reg:squarederror.\n",
            "[08:56:05] WARNING: /workspace/src/objective/regression_obj.cu:152: reg:linear is now deprecated in favor of reg:squarederror.\n",
            "[08:56:06] WARNING: /workspace/src/objective/regression_obj.cu:152: reg:linear is now deprecated in favor of reg:squarederror.\n",
            "[08:56:06] WARNING: /workspace/src/objective/regression_obj.cu:152: reg:linear is now deprecated in favor of reg:squarederror.\n",
            "-1.3851037340371017\n",
            "[08:56:07] WARNING: /workspace/src/objective/regression_obj.cu:152: reg:linear is now deprecated in favor of reg:squarederror.\n",
            "[08:56:15] WARNING: /workspace/src/objective/regression_obj.cu:152: reg:linear is now deprecated in favor of reg:squarederror.\n",
            "[08:56:23] WARNING: /workspace/src/objective/regression_obj.cu:152: reg:linear is now deprecated in favor of reg:squarederror.\n",
            "[08:56:32] WARNING: /workspace/src/objective/regression_obj.cu:152: reg:linear is now deprecated in favor of reg:squarederror.\n",
            "[08:56:40] WARNING: /workspace/src/objective/regression_obj.cu:152: reg:linear is now deprecated in favor of reg:squarederror.\n",
            "-1.1662193609719997\n",
            "[08:56:48] WARNING: /workspace/src/objective/regression_obj.cu:152: reg:linear is now deprecated in favor of reg:squarederror.\n",
            "[08:56:57] WARNING: /workspace/src/objective/regression_obj.cu:152: reg:linear is now deprecated in favor of reg:squarederror.\n",
            "[08:57:04] WARNING: /workspace/src/objective/regression_obj.cu:152: reg:linear is now deprecated in favor of reg:squarederror.\n",
            "[08:57:12] WARNING: /workspace/src/objective/regression_obj.cu:152: reg:linear is now deprecated in favor of reg:squarederror.\n",
            "[08:57:19] WARNING: /workspace/src/objective/regression_obj.cu:152: reg:linear is now deprecated in favor of reg:squarederror.\n",
            "-1.1603926791144406\n",
            "[08:57:27] WARNING: /workspace/src/objective/regression_obj.cu:152: reg:linear is now deprecated in favor of reg:squarederror.\n",
            "[08:57:35] WARNING: /workspace/src/objective/regression_obj.cu:152: reg:linear is now deprecated in favor of reg:squarederror.\n",
            "[08:57:42] WARNING: /workspace/src/objective/regression_obj.cu:152: reg:linear is now deprecated in favor of reg:squarederror.\n",
            "[08:57:50] WARNING: /workspace/src/objective/regression_obj.cu:152: reg:linear is now deprecated in favor of reg:squarederror.\n",
            "[08:57:57] WARNING: /workspace/src/objective/regression_obj.cu:152: reg:linear is now deprecated in favor of reg:squarederror.\n",
            "-1.1567600473558368\n",
            "[08:58:04] WARNING: /workspace/src/objective/regression_obj.cu:152: reg:linear is now deprecated in favor of reg:squarederror.\n",
            "[08:58:10] WARNING: /workspace/src/objective/regression_obj.cu:152: reg:linear is now deprecated in favor of reg:squarederror.\n",
            "[08:58:17] WARNING: /workspace/src/objective/regression_obj.cu:152: reg:linear is now deprecated in favor of reg:squarederror.\n",
            "[08:58:22] WARNING: /workspace/src/objective/regression_obj.cu:152: reg:linear is now deprecated in favor of reg:squarederror.\n",
            "[08:58:29] WARNING: /workspace/src/objective/regression_obj.cu:152: reg:linear is now deprecated in favor of reg:squarederror.\n",
            "-1.1644230549615149\n",
            "[08:58:34] WARNING: /workspace/src/objective/regression_obj.cu:152: reg:linear is now deprecated in favor of reg:squarederror.\n",
            "[08:58:43] WARNING: /workspace/src/objective/regression_obj.cu:152: reg:linear is now deprecated in favor of reg:squarederror.\n",
            "[08:58:51] WARNING: /workspace/src/objective/regression_obj.cu:152: reg:linear is now deprecated in favor of reg:squarederror.\n",
            "[08:58:59] WARNING: /workspace/src/objective/regression_obj.cu:152: reg:linear is now deprecated in favor of reg:squarederror.\n",
            "[08:59:07] WARNING: /workspace/src/objective/regression_obj.cu:152: reg:linear is now deprecated in favor of reg:squarederror.\n",
            "-1.152899676821127\n",
            "[08:59:15] WARNING: /workspace/src/objective/regression_obj.cu:152: reg:linear is now deprecated in favor of reg:squarederror.\n",
            "[08:59:22] WARNING: /workspace/src/objective/regression_obj.cu:152: reg:linear is now deprecated in favor of reg:squarederror.\n",
            "[08:59:29] WARNING: /workspace/src/objective/regression_obj.cu:152: reg:linear is now deprecated in favor of reg:squarederror.\n",
            "[08:59:36] WARNING: /workspace/src/objective/regression_obj.cu:152: reg:linear is now deprecated in favor of reg:squarederror.\n",
            "[08:59:43] WARNING: /workspace/src/objective/regression_obj.cu:152: reg:linear is now deprecated in favor of reg:squarederror.\n",
            "-1.1649749847940882\n",
            "[08:59:50] WARNING: /workspace/src/objective/regression_obj.cu:152: reg:linear is now deprecated in favor of reg:squarederror.\n",
            "[08:59:56] WARNING: /workspace/src/objective/regression_obj.cu:152: reg:linear is now deprecated in favor of reg:squarederror.\n",
            "[09:00:01] WARNING: /workspace/src/objective/regression_obj.cu:152: reg:linear is now deprecated in favor of reg:squarederror.\n",
            "[09:00:08] WARNING: /workspace/src/objective/regression_obj.cu:152: reg:linear is now deprecated in favor of reg:squarederror.\n",
            "[09:00:13] WARNING: /workspace/src/objective/regression_obj.cu:152: reg:linear is now deprecated in favor of reg:squarederror.\n",
            "-1.1637903867037749\n",
            "[09:00:19] WARNING: /workspace/src/objective/regression_obj.cu:152: reg:linear is now deprecated in favor of reg:squarederror.\n",
            "[09:00:27] WARNING: /workspace/src/objective/regression_obj.cu:152: reg:linear is now deprecated in favor of reg:squarederror.\n",
            "[09:00:37] WARNING: /workspace/src/objective/regression_obj.cu:152: reg:linear is now deprecated in favor of reg:squarederror.\n",
            "[09:00:46] WARNING: /workspace/src/objective/regression_obj.cu:152: reg:linear is now deprecated in favor of reg:squarederror.\n",
            "[09:00:54] WARNING: /workspace/src/objective/regression_obj.cu:152: reg:linear is now deprecated in favor of reg:squarederror.\n",
            "-1.1604873314776978\n",
            "[09:01:03] WARNING: /workspace/src/objective/regression_obj.cu:152: reg:linear is now deprecated in favor of reg:squarederror.\n",
            "[09:01:10] WARNING: /workspace/src/objective/regression_obj.cu:152: reg:linear is now deprecated in favor of reg:squarederror.\n",
            "[09:01:16] WARNING: /workspace/src/objective/regression_obj.cu:152: reg:linear is now deprecated in favor of reg:squarederror.\n",
            "[09:01:23] WARNING: /workspace/src/objective/regression_obj.cu:152: reg:linear is now deprecated in favor of reg:squarederror.\n",
            "[09:01:29] WARNING: /workspace/src/objective/regression_obj.cu:152: reg:linear is now deprecated in favor of reg:squarederror.\n",
            "-1.1674838890519117\n",
            "[09:01:36] WARNING: /workspace/src/objective/regression_obj.cu:152: reg:linear is now deprecated in favor of reg:squarederror.\n",
            "[09:01:42] WARNING: /workspace/src/objective/regression_obj.cu:152: reg:linear is now deprecated in favor of reg:squarederror.\n",
            "[09:01:50] WARNING: /workspace/src/objective/regression_obj.cu:152: reg:linear is now deprecated in favor of reg:squarederror.\n",
            "[09:01:57] WARNING: /workspace/src/objective/regression_obj.cu:152: reg:linear is now deprecated in favor of reg:squarederror.\n",
            "[09:02:04] WARNING: /workspace/src/objective/regression_obj.cu:152: reg:linear is now deprecated in favor of reg:squarederror.\n",
            "-1.171569691019797\n",
            "[09:02:11] WARNING: /workspace/src/objective/regression_obj.cu:152: reg:linear is now deprecated in favor of reg:squarederror.\n",
            "[09:02:17] WARNING: /workspace/src/objective/regression_obj.cu:152: reg:linear is now deprecated in favor of reg:squarederror.\n",
            "[09:02:23] WARNING: /workspace/src/objective/regression_obj.cu:152: reg:linear is now deprecated in favor of reg:squarederror.\n",
            "[09:02:29] WARNING: /workspace/src/objective/regression_obj.cu:152: reg:linear is now deprecated in favor of reg:squarederror.\n",
            "[09:02:34] WARNING: /workspace/src/objective/regression_obj.cu:152: reg:linear is now deprecated in favor of reg:squarederror.\n",
            "-1.1717241070342639\n",
            "[09:02:41] WARNING: /workspace/src/objective/regression_obj.cu:152: reg:linear is now deprecated in favor of reg:squarederror.\n",
            "[09:02:48] WARNING: /workspace/src/objective/regression_obj.cu:152: reg:linear is now deprecated in favor of reg:squarederror.\n",
            "[09:02:57] WARNING: /workspace/src/objective/regression_obj.cu:152: reg:linear is now deprecated in favor of reg:squarederror.\n",
            "[09:03:05] WARNING: /workspace/src/objective/regression_obj.cu:152: reg:linear is now deprecated in favor of reg:squarederror.\n",
            "[09:03:13] WARNING: /workspace/src/objective/regression_obj.cu:152: reg:linear is now deprecated in favor of reg:squarederror.\n",
            "-1.1626179030696555\n",
            "[09:03:21] WARNING: /workspace/src/objective/regression_obj.cu:152: reg:linear is now deprecated in favor of reg:squarederror.\n",
            "[09:03:25] WARNING: /workspace/src/objective/regression_obj.cu:152: reg:linear is now deprecated in favor of reg:squarederror.\n",
            "[09:03:30] WARNING: /workspace/src/objective/regression_obj.cu:152: reg:linear is now deprecated in favor of reg:squarederror.\n",
            "[09:03:33] WARNING: /workspace/src/objective/regression_obj.cu:152: reg:linear is now deprecated in favor of reg:squarederror.\n",
            "[09:03:37] WARNING: /workspace/src/objective/regression_obj.cu:152: reg:linear is now deprecated in favor of reg:squarederror.\n",
            "-1.2019222232967348\n",
            "[09:03:41] WARNING: /workspace/src/objective/regression_obj.cu:152: reg:linear is now deprecated in favor of reg:squarederror.\n",
            "[09:03:45] WARNING: /workspace/src/objective/regression_obj.cu:152: reg:linear is now deprecated in favor of reg:squarederror.\n",
            "[09:03:49] WARNING: /workspace/src/objective/regression_obj.cu:152: reg:linear is now deprecated in favor of reg:squarederror.\n",
            "[09:03:53] WARNING: /workspace/src/objective/regression_obj.cu:152: reg:linear is now deprecated in favor of reg:squarederror.\n",
            "[09:03:57] WARNING: /workspace/src/objective/regression_obj.cu:152: reg:linear is now deprecated in favor of reg:squarederror.\n",
            "-1.182668829952798\n",
            "[09:04:01] WARNING: /workspace/src/objective/regression_obj.cu:152: reg:linear is now deprecated in favor of reg:squarederror.\n",
            "[09:04:08] WARNING: /workspace/src/objective/regression_obj.cu:152: reg:linear is now deprecated in favor of reg:squarederror.\n",
            "[09:04:14] WARNING: /workspace/src/objective/regression_obj.cu:152: reg:linear is now deprecated in favor of reg:squarederror.\n",
            "[09:04:21] WARNING: /workspace/src/objective/regression_obj.cu:152: reg:linear is now deprecated in favor of reg:squarederror.\n",
            "[09:04:27] WARNING: /workspace/src/objective/regression_obj.cu:152: reg:linear is now deprecated in favor of reg:squarederror.\n",
            "-1.1824685755892859\n",
            "[09:04:34] WARNING: /workspace/src/objective/regression_obj.cu:152: reg:linear is now deprecated in favor of reg:squarederror.\n",
            "[09:04:43] WARNING: /workspace/src/objective/regression_obj.cu:152: reg:linear is now deprecated in favor of reg:squarederror.\n",
            "[09:04:53] WARNING: /workspace/src/objective/regression_obj.cu:152: reg:linear is now deprecated in favor of reg:squarederror.\n",
            "[09:05:03] WARNING: /workspace/src/objective/regression_obj.cu:152: reg:linear is now deprecated in favor of reg:squarederror.\n",
            "[09:05:14] WARNING: /workspace/src/objective/regression_obj.cu:152: reg:linear is now deprecated in favor of reg:squarederror.\n",
            "-1.161846029098734\n",
            "[09:05:23] WARNING: /workspace/src/objective/regression_obj.cu:152: reg:linear is now deprecated in favor of reg:squarederror.\n",
            "[09:05:27] WARNING: /workspace/src/objective/regression_obj.cu:152: reg:linear is now deprecated in favor of reg:squarederror.\n",
            "[09:05:31] WARNING: /workspace/src/objective/regression_obj.cu:152: reg:linear is now deprecated in favor of reg:squarederror.\n",
            "[09:05:35] WARNING: /workspace/src/objective/regression_obj.cu:152: reg:linear is now deprecated in favor of reg:squarederror.\n",
            "[09:05:39] WARNING: /workspace/src/objective/regression_obj.cu:152: reg:linear is now deprecated in favor of reg:squarederror.\n",
            "-1.2061200257550924\n",
            "[09:05:43] WARNING: /workspace/src/objective/regression_obj.cu:152: reg:linear is now deprecated in favor of reg:squarederror.\n",
            "[09:05:50] WARNING: /workspace/src/objective/regression_obj.cu:152: reg:linear is now deprecated in favor of reg:squarederror.\n",
            "[09:05:57] WARNING: /workspace/src/objective/regression_obj.cu:152: reg:linear is now deprecated in favor of reg:squarederror.\n",
            "[09:06:04] WARNING: /workspace/src/objective/regression_obj.cu:152: reg:linear is now deprecated in favor of reg:squarederror.\n",
            "[09:06:11] WARNING: /workspace/src/objective/regression_obj.cu:152: reg:linear is now deprecated in favor of reg:squarederror.\n",
            "-1.801364235838675\n",
            "[09:06:18] WARNING: /workspace/src/objective/regression_obj.cu:152: reg:linear is now deprecated in favor of reg:squarederror.\n",
            "[09:06:27] WARNING: /workspace/src/objective/regression_obj.cu:152: reg:linear is now deprecated in favor of reg:squarederror.\n",
            "[09:06:35] WARNING: /workspace/src/objective/regression_obj.cu:152: reg:linear is now deprecated in favor of reg:squarederror.\n",
            "[09:06:45] WARNING: /workspace/src/objective/regression_obj.cu:152: reg:linear is now deprecated in favor of reg:squarederror.\n",
            "[09:06:54] WARNING: /workspace/src/objective/regression_obj.cu:152: reg:linear is now deprecated in favor of reg:squarederror.\n",
            "-1.1651443162835882\n",
            "[09:07:02] WARNING: /workspace/src/objective/regression_obj.cu:152: reg:linear is now deprecated in favor of reg:squarederror.\n",
            "[09:07:06] WARNING: /workspace/src/objective/regression_obj.cu:152: reg:linear is now deprecated in favor of reg:squarederror.\n",
            "[09:07:09] WARNING: /workspace/src/objective/regression_obj.cu:152: reg:linear is now deprecated in favor of reg:squarederror.\n",
            "[09:07:12] WARNING: /workspace/src/objective/regression_obj.cu:152: reg:linear is now deprecated in favor of reg:squarederror.\n",
            "[09:07:15] WARNING: /workspace/src/objective/regression_obj.cu:152: reg:linear is now deprecated in favor of reg:squarederror.\n",
            "-1.202171239676637\n",
            "[09:07:18] WARNING: /workspace/src/objective/regression_obj.cu:152: reg:linear is now deprecated in favor of reg:squarederror.\n",
            "[09:07:24] WARNING: /workspace/src/objective/regression_obj.cu:152: reg:linear is now deprecated in favor of reg:squarederror.\n",
            "[09:07:31] WARNING: /workspace/src/objective/regression_obj.cu:152: reg:linear is now deprecated in favor of reg:squarederror.\n",
            "[09:07:37] WARNING: /workspace/src/objective/regression_obj.cu:152: reg:linear is now deprecated in favor of reg:squarederror.\n",
            "[09:07:44] WARNING: /workspace/src/objective/regression_obj.cu:152: reg:linear is now deprecated in favor of reg:squarederror.\n",
            "-1.1765734991040162\n",
            "[09:07:50] WARNING: /workspace/src/objective/regression_obj.cu:152: reg:linear is now deprecated in favor of reg:squarederror.\n",
            "[09:07:57] WARNING: /workspace/src/objective/regression_obj.cu:152: reg:linear is now deprecated in favor of reg:squarederror.\n",
            "[09:08:03] WARNING: /workspace/src/objective/regression_obj.cu:152: reg:linear is now deprecated in favor of reg:squarederror.\n",
            "[09:08:09] WARNING: /workspace/src/objective/regression_obj.cu:152: reg:linear is now deprecated in favor of reg:squarederror.\n",
            "[09:08:15] WARNING: /workspace/src/objective/regression_obj.cu:152: reg:linear is now deprecated in favor of reg:squarederror.\n",
            "-1.1657882578362202\n",
            "[09:08:22] WARNING: /workspace/src/objective/regression_obj.cu:152: reg:linear is now deprecated in favor of reg:squarederror.\n",
            "[09:08:24] WARNING: /workspace/src/objective/regression_obj.cu:152: reg:linear is now deprecated in favor of reg:squarederror.\n",
            "[09:08:26] WARNING: /workspace/src/objective/regression_obj.cu:152: reg:linear is now deprecated in favor of reg:squarederror.\n",
            "[09:08:28] WARNING: /workspace/src/objective/regression_obj.cu:152: reg:linear is now deprecated in favor of reg:squarederror.\n",
            "[09:08:30] WARNING: /workspace/src/objective/regression_obj.cu:152: reg:linear is now deprecated in favor of reg:squarederror.\n",
            "-1.2117469065247035\n",
            "[09:08:32] WARNING: /workspace/src/objective/regression_obj.cu:152: reg:linear is now deprecated in favor of reg:squarederror.\n",
            "[09:08:40] WARNING: /workspace/src/objective/regression_obj.cu:152: reg:linear is now deprecated in favor of reg:squarederror.\n",
            "[09:08:47] WARNING: /workspace/src/objective/regression_obj.cu:152: reg:linear is now deprecated in favor of reg:squarederror.\n",
            "[09:08:54] WARNING: /workspace/src/objective/regression_obj.cu:152: reg:linear is now deprecated in favor of reg:squarederror.\n",
            "[09:09:02] WARNING: /workspace/src/objective/regression_obj.cu:152: reg:linear is now deprecated in favor of reg:squarederror.\n",
            "-1.1847101004860332\n",
            "[09:09:09] WARNING: /workspace/src/objective/regression_obj.cu:152: reg:linear is now deprecated in favor of reg:squarederror.\n",
            "[09:09:15] WARNING: /workspace/src/objective/regression_obj.cu:152: reg:linear is now deprecated in favor of reg:squarederror.\n",
            "[09:09:19] WARNING: /workspace/src/objective/regression_obj.cu:152: reg:linear is now deprecated in favor of reg:squarederror.\n",
            "[09:09:25] WARNING: /workspace/src/objective/regression_obj.cu:152: reg:linear is now deprecated in favor of reg:squarederror.\n",
            "[09:09:30] WARNING: /workspace/src/objective/regression_obj.cu:152: reg:linear is now deprecated in favor of reg:squarederror.\n",
            "-1.1987807170707037\n",
            "[09:09:35] WARNING: /workspace/src/objective/regression_obj.cu:152: reg:linear is now deprecated in favor of reg:squarederror.\n",
            "[09:09:41] WARNING: /workspace/src/objective/regression_obj.cu:152: reg:linear is now deprecated in favor of reg:squarederror.\n",
            "[09:09:46] WARNING: /workspace/src/objective/regression_obj.cu:152: reg:linear is now deprecated in favor of reg:squarederror.\n",
            "[09:09:52] WARNING: /workspace/src/objective/regression_obj.cu:152: reg:linear is now deprecated in favor of reg:squarederror.\n",
            "[09:09:57] WARNING: /workspace/src/objective/regression_obj.cu:152: reg:linear is now deprecated in favor of reg:squarederror.\n",
            "-1.175985286581613\n",
            "[09:10:03] WARNING: /workspace/src/objective/regression_obj.cu:152: reg:linear is now deprecated in favor of reg:squarederror.\n",
            "[09:10:08] WARNING: /workspace/src/objective/regression_obj.cu:152: reg:linear is now deprecated in favor of reg:squarederror.\n",
            "[09:10:12] WARNING: /workspace/src/objective/regression_obj.cu:152: reg:linear is now deprecated in favor of reg:squarederror.\n",
            "[09:10:17] WARNING: /workspace/src/objective/regression_obj.cu:152: reg:linear is now deprecated in favor of reg:squarederror.\n",
            "[09:10:22] WARNING: /workspace/src/objective/regression_obj.cu:152: reg:linear is now deprecated in favor of reg:squarederror.\n",
            "-1.1767091020378468\n",
            "[09:10:26] WARNING: /workspace/src/objective/regression_obj.cu:152: reg:linear is now deprecated in favor of reg:squarederror.\n",
            "[09:10:29] WARNING: /workspace/src/objective/regression_obj.cu:152: reg:linear is now deprecated in favor of reg:squarederror.\n",
            "[09:10:32] WARNING: /workspace/src/objective/regression_obj.cu:152: reg:linear is now deprecated in favor of reg:squarederror.\n",
            "[09:10:35] WARNING: /workspace/src/objective/regression_obj.cu:152: reg:linear is now deprecated in favor of reg:squarederror.\n",
            "[09:10:38] WARNING: /workspace/src/objective/regression_obj.cu:152: reg:linear is now deprecated in favor of reg:squarederror.\n",
            "-1.2636177359363663\n",
            "[09:10:41] WARNING: /workspace/src/objective/regression_obj.cu:152: reg:linear is now deprecated in favor of reg:squarederror.\n",
            "[09:10:43] WARNING: /workspace/src/objective/regression_obj.cu:152: reg:linear is now deprecated in favor of reg:squarederror.\n",
            "[09:10:44] WARNING: /workspace/src/objective/regression_obj.cu:152: reg:linear is now deprecated in favor of reg:squarederror.\n",
            "[09:10:46] WARNING: /workspace/src/objective/regression_obj.cu:152: reg:linear is now deprecated in favor of reg:squarederror.\n",
            "[09:10:48] WARNING: /workspace/src/objective/regression_obj.cu:152: reg:linear is now deprecated in favor of reg:squarederror.\n",
            "-1.4664929667070408\n",
            "[09:10:49] WARNING: /workspace/src/objective/regression_obj.cu:152: reg:linear is now deprecated in favor of reg:squarederror.\n",
            "[09:10:58] WARNING: /workspace/src/objective/regression_obj.cu:152: reg:linear is now deprecated in favor of reg:squarederror.\n",
            "[09:11:05] WARNING: /workspace/src/objective/regression_obj.cu:152: reg:linear is now deprecated in favor of reg:squarederror.\n",
            "[09:11:13] WARNING: /workspace/src/objective/regression_obj.cu:152: reg:linear is now deprecated in favor of reg:squarederror.\n",
            "[09:11:21] WARNING: /workspace/src/objective/regression_obj.cu:152: reg:linear is now deprecated in favor of reg:squarederror.\n",
            "-1.1729223431967906\n",
            "[09:11:28] WARNING: /workspace/src/objective/regression_obj.cu:152: reg:linear is now deprecated in favor of reg:squarederror.\n",
            "[09:11:30] WARNING: /workspace/src/objective/regression_obj.cu:152: reg:linear is now deprecated in favor of reg:squarederror.\n",
            "[09:11:31] WARNING: /workspace/src/objective/regression_obj.cu:152: reg:linear is now deprecated in favor of reg:squarederror.\n",
            "[09:11:33] WARNING: /workspace/src/objective/regression_obj.cu:152: reg:linear is now deprecated in favor of reg:squarederror.\n",
            "[09:11:34] WARNING: /workspace/src/objective/regression_obj.cu:152: reg:linear is now deprecated in favor of reg:squarederror.\n",
            "-1.3138893594763055\n",
            "[09:11:36] WARNING: /workspace/src/objective/regression_obj.cu:152: reg:linear is now deprecated in favor of reg:squarederror.\n",
            "[09:11:37] WARNING: /workspace/src/objective/regression_obj.cu:152: reg:linear is now deprecated in favor of reg:squarederror.\n",
            "[09:11:37] WARNING: /workspace/src/objective/regression_obj.cu:152: reg:linear is now deprecated in favor of reg:squarederror.\n",
            "[09:11:38] WARNING: /workspace/src/objective/regression_obj.cu:152: reg:linear is now deprecated in favor of reg:squarederror.\n",
            "[09:11:39] WARNING: /workspace/src/objective/regression_obj.cu:152: reg:linear is now deprecated in favor of reg:squarederror.\n",
            "-1.4763673059134477\n",
            "[09:11:40] WARNING: /workspace/src/objective/regression_obj.cu:152: reg:linear is now deprecated in favor of reg:squarederror.\n",
            "[09:11:45] WARNING: /workspace/src/objective/regression_obj.cu:152: reg:linear is now deprecated in favor of reg:squarederror.\n",
            "[09:11:49] WARNING: /workspace/src/objective/regression_obj.cu:152: reg:linear is now deprecated in favor of reg:squarederror.\n",
            "[09:11:53] WARNING: /workspace/src/objective/regression_obj.cu:152: reg:linear is now deprecated in favor of reg:squarederror.\n",
            "[09:11:59] WARNING: /workspace/src/objective/regression_obj.cu:152: reg:linear is now deprecated in favor of reg:squarederror.\n",
            "-1.1882055785951486\n",
            "[09:12:03] WARNING: /workspace/src/objective/regression_obj.cu:152: reg:linear is now deprecated in favor of reg:squarederror.\n",
            "[09:12:07] WARNING: /workspace/src/objective/regression_obj.cu:152: reg:linear is now deprecated in favor of reg:squarederror.\n",
            "[09:12:13] WARNING: /workspace/src/objective/regression_obj.cu:152: reg:linear is now deprecated in favor of reg:squarederror.\n",
            "[09:12:17] WARNING: /workspace/src/objective/regression_obj.cu:152: reg:linear is now deprecated in favor of reg:squarederror.\n",
            "[09:12:22] WARNING: /workspace/src/objective/regression_obj.cu:152: reg:linear is now deprecated in favor of reg:squarederror.\n",
            "-1.2067631669774317\n",
            "[09:12:27] WARNING: /workspace/src/objective/regression_obj.cu:152: reg:linear is now deprecated in favor of reg:squarederror.\n",
            "[09:12:32] WARNING: /workspace/src/objective/regression_obj.cu:152: reg:linear is now deprecated in favor of reg:squarederror.\n",
            "[09:12:38] WARNING: /workspace/src/objective/regression_obj.cu:152: reg:linear is now deprecated in favor of reg:squarederror.\n",
            "[09:12:43] WARNING: /workspace/src/objective/regression_obj.cu:152: reg:linear is now deprecated in favor of reg:squarederror.\n",
            "[09:12:49] WARNING: /workspace/src/objective/regression_obj.cu:152: reg:linear is now deprecated in favor of reg:squarederror.\n",
            "-1.1738970083666775\n",
            "[09:12:54] WARNING: /workspace/src/objective/regression_obj.cu:152: reg:linear is now deprecated in favor of reg:squarederror.\n",
            "[09:12:57] WARNING: /workspace/src/objective/regression_obj.cu:152: reg:linear is now deprecated in favor of reg:squarederror.\n",
            "[09:13:01] WARNING: /workspace/src/objective/regression_obj.cu:152: reg:linear is now deprecated in favor of reg:squarederror.\n",
            "[09:13:04] WARNING: /workspace/src/objective/regression_obj.cu:152: reg:linear is now deprecated in favor of reg:squarederror.\n",
            "[09:13:07] WARNING: /workspace/src/objective/regression_obj.cu:152: reg:linear is now deprecated in favor of reg:squarederror.\n",
            "-1.21240416364897\n",
            "[09:13:10] WARNING: /workspace/src/objective/regression_obj.cu:152: reg:linear is now deprecated in favor of reg:squarederror.\n",
            "[09:13:19] WARNING: /workspace/src/objective/regression_obj.cu:152: reg:linear is now deprecated in favor of reg:squarederror.\n",
            "[09:13:29] WARNING: /workspace/src/objective/regression_obj.cu:152: reg:linear is now deprecated in favor of reg:squarederror.\n",
            "[09:13:37] WARNING: /workspace/src/objective/regression_obj.cu:152: reg:linear is now deprecated in favor of reg:squarederror.\n",
            "[09:13:47] WARNING: /workspace/src/objective/regression_obj.cu:152: reg:linear is now deprecated in favor of reg:squarederror.\n",
            "-1.1606822232155494\n",
            "[09:13:57] WARNING: /workspace/src/objective/regression_obj.cu:152: reg:linear is now deprecated in favor of reg:squarederror.\n",
            "[09:14:04] WARNING: /workspace/src/objective/regression_obj.cu:152: reg:linear is now deprecated in favor of reg:squarederror.\n",
            "[09:14:12] WARNING: /workspace/src/objective/regression_obj.cu:152: reg:linear is now deprecated in favor of reg:squarederror.\n",
            "[09:14:20] WARNING: /workspace/src/objective/regression_obj.cu:152: reg:linear is now deprecated in favor of reg:squarederror.\n",
            "[09:14:27] WARNING: /workspace/src/objective/regression_obj.cu:152: reg:linear is now deprecated in favor of reg:squarederror.\n",
            "-1.2168988783273895\n",
            "[09:14:36] WARNING: /workspace/src/objective/regression_obj.cu:152: reg:linear is now deprecated in favor of reg:squarederror.\n",
            "[09:14:40] WARNING: /workspace/src/objective/regression_obj.cu:152: reg:linear is now deprecated in favor of reg:squarederror.\n",
            "[09:14:46] WARNING: /workspace/src/objective/regression_obj.cu:152: reg:linear is now deprecated in favor of reg:squarederror.\n",
            "[09:14:50] WARNING: /workspace/src/objective/regression_obj.cu:152: reg:linear is now deprecated in favor of reg:squarederror.\n",
            "[09:14:56] WARNING: /workspace/src/objective/regression_obj.cu:152: reg:linear is now deprecated in favor of reg:squarederror.\n",
            "-1.182560248844401\n",
            "[09:15:00] WARNING: /workspace/src/objective/regression_obj.cu:152: reg:linear is now deprecated in favor of reg:squarederror.\n",
            "[09:15:03] WARNING: /workspace/src/objective/regression_obj.cu:152: reg:linear is now deprecated in favor of reg:squarederror.\n",
            "[09:15:05] WARNING: /workspace/src/objective/regression_obj.cu:152: reg:linear is now deprecated in favor of reg:squarederror.\n",
            "[09:15:09] WARNING: /workspace/src/objective/regression_obj.cu:152: reg:linear is now deprecated in favor of reg:squarederror.\n",
            "[09:15:11] WARNING: /workspace/src/objective/regression_obj.cu:152: reg:linear is now deprecated in favor of reg:squarederror.\n",
            "-1.4045182331627821\n",
            "[09:15:14] WARNING: /workspace/src/objective/regression_obj.cu:152: reg:linear is now deprecated in favor of reg:squarederror.\n",
            "[09:15:18] WARNING: /workspace/src/objective/regression_obj.cu:152: reg:linear is now deprecated in favor of reg:squarederror.\n",
            "[09:15:23] WARNING: /workspace/src/objective/regression_obj.cu:152: reg:linear is now deprecated in favor of reg:squarederror.\n",
            "[09:15:28] WARNING: /workspace/src/objective/regression_obj.cu:152: reg:linear is now deprecated in favor of reg:squarederror.\n",
            "[09:15:33] WARNING: /workspace/src/objective/regression_obj.cu:152: reg:linear is now deprecated in favor of reg:squarederror.\n",
            "-1.2109462007454888\n",
            "[09:15:38] WARNING: /workspace/src/objective/regression_obj.cu:152: reg:linear is now deprecated in favor of reg:squarederror.\n",
            "[09:15:44] WARNING: /workspace/src/objective/regression_obj.cu:152: reg:linear is now deprecated in favor of reg:squarederror.\n",
            "[09:15:52] WARNING: /workspace/src/objective/regression_obj.cu:152: reg:linear is now deprecated in favor of reg:squarederror.\n",
            "[09:15:59] WARNING: /workspace/src/objective/regression_obj.cu:152: reg:linear is now deprecated in favor of reg:squarederror.\n",
            "[09:16:06] WARNING: /workspace/src/objective/regression_obj.cu:152: reg:linear is now deprecated in favor of reg:squarederror.\n",
            "-1.1915614958113587\n",
            "[09:16:14] WARNING: /workspace/src/objective/regression_obj.cu:152: reg:linear is now deprecated in favor of reg:squarederror.\n",
            "[09:16:17] WARNING: /workspace/src/objective/regression_obj.cu:152: reg:linear is now deprecated in favor of reg:squarederror.\n",
            "[09:16:20] WARNING: /workspace/src/objective/regression_obj.cu:152: reg:linear is now deprecated in favor of reg:squarederror.\n",
            "[09:16:24] WARNING: /workspace/src/objective/regression_obj.cu:152: reg:linear is now deprecated in favor of reg:squarederror.\n",
            "[09:16:28] WARNING: /workspace/src/objective/regression_obj.cu:152: reg:linear is now deprecated in favor of reg:squarederror.\n",
            "-1.1757324998263008\n",
            "[09:16:31] WARNING: /workspace/src/objective/regression_obj.cu:152: reg:linear is now deprecated in favor of reg:squarederror.\n",
            "[09:16:34] WARNING: /workspace/src/objective/regression_obj.cu:152: reg:linear is now deprecated in favor of reg:squarederror.\n",
            "[09:16:37] WARNING: /workspace/src/objective/regression_obj.cu:152: reg:linear is now deprecated in favor of reg:squarederror.\n",
            "[09:16:40] WARNING: /workspace/src/objective/regression_obj.cu:152: reg:linear is now deprecated in favor of reg:squarederror.\n",
            "[09:16:42] WARNING: /workspace/src/objective/regression_obj.cu:152: reg:linear is now deprecated in favor of reg:squarederror.\n",
            "-1.281204647605984\n",
            "[09:16:44] WARNING: /workspace/src/objective/regression_obj.cu:152: reg:linear is now deprecated in favor of reg:squarederror.\n",
            "[09:16:53] WARNING: /workspace/src/objective/regression_obj.cu:152: reg:linear is now deprecated in favor of reg:squarederror.\n",
            "[09:17:00] WARNING: /workspace/src/objective/regression_obj.cu:152: reg:linear is now deprecated in favor of reg:squarederror.\n",
            "[09:17:08] WARNING: /workspace/src/objective/regression_obj.cu:152: reg:linear is now deprecated in favor of reg:squarederror.\n",
            "[09:17:16] WARNING: /workspace/src/objective/regression_obj.cu:152: reg:linear is now deprecated in favor of reg:squarederror.\n",
            "-1.1678471487679851\n",
            "[09:17:24] WARNING: /workspace/src/objective/regression_obj.cu:152: reg:linear is now deprecated in favor of reg:squarederror.\n",
            "[09:17:33] WARNING: /workspace/src/objective/regression_obj.cu:152: reg:linear is now deprecated in favor of reg:squarederror.\n",
            "[09:17:42] WARNING: /workspace/src/objective/regression_obj.cu:152: reg:linear is now deprecated in favor of reg:squarederror.\n",
            "[09:17:50] WARNING: /workspace/src/objective/regression_obj.cu:152: reg:linear is now deprecated in favor of reg:squarederror.\n",
            "[09:18:00] WARNING: /workspace/src/objective/regression_obj.cu:152: reg:linear is now deprecated in favor of reg:squarederror.\n",
            "-1.1552925421408042\n",
            "[09:18:09] WARNING: /workspace/src/objective/regression_obj.cu:152: reg:linear is now deprecated in favor of reg:squarederror.\n",
            "[09:18:16] WARNING: /workspace/src/objective/regression_obj.cu:152: reg:linear is now deprecated in favor of reg:squarederror.\n",
            "[09:18:25] WARNING: /workspace/src/objective/regression_obj.cu:152: reg:linear is now deprecated in favor of reg:squarederror.\n",
            "[09:18:33] WARNING: /workspace/src/objective/regression_obj.cu:152: reg:linear is now deprecated in favor of reg:squarederror.\n",
            "[09:18:41] WARNING: /workspace/src/objective/regression_obj.cu:152: reg:linear is now deprecated in favor of reg:squarederror.\n",
            "-1.1615580683571336\n",
            "[09:18:49] WARNING: /workspace/src/objective/regression_obj.cu:152: reg:linear is now deprecated in favor of reg:squarederror.\n",
            "[09:18:57] WARNING: /workspace/src/objective/regression_obj.cu:152: reg:linear is now deprecated in favor of reg:squarederror.\n",
            "[09:19:05] WARNING: /workspace/src/objective/regression_obj.cu:152: reg:linear is now deprecated in favor of reg:squarederror.\n",
            "[09:19:13] WARNING: /workspace/src/objective/regression_obj.cu:152: reg:linear is now deprecated in favor of reg:squarederror.\n",
            "[09:19:21] WARNING: /workspace/src/objective/regression_obj.cu:152: reg:linear is now deprecated in favor of reg:squarederror.\n",
            "-1.1619103048622121\n",
            "[09:19:29] WARNING: /workspace/src/objective/regression_obj.cu:152: reg:linear is now deprecated in favor of reg:squarederror.\n",
            "[09:19:39] WARNING: /workspace/src/objective/regression_obj.cu:152: reg:linear is now deprecated in favor of reg:squarederror.\n",
            "[09:19:48] WARNING: /workspace/src/objective/regression_obj.cu:152: reg:linear is now deprecated in favor of reg:squarederror.\n",
            "[09:19:56] WARNING: /workspace/src/objective/regression_obj.cu:152: reg:linear is now deprecated in favor of reg:squarederror.\n",
            "[09:20:06] WARNING: /workspace/src/objective/regression_obj.cu:152: reg:linear is now deprecated in favor of reg:squarederror.\n",
            "-1.1729203635411882\n",
            "[09:20:15] WARNING: /workspace/src/objective/regression_obj.cu:152: reg:linear is now deprecated in favor of reg:squarederror.\n",
            "[09:20:22] WARNING: /workspace/src/objective/regression_obj.cu:152: reg:linear is now deprecated in favor of reg:squarederror.\n",
            "[09:20:30] WARNING: /workspace/src/objective/regression_obj.cu:152: reg:linear is now deprecated in favor of reg:squarederror.\n",
            "[09:20:37] WARNING: /workspace/src/objective/regression_obj.cu:152: reg:linear is now deprecated in favor of reg:squarederror.\n",
            "[09:20:44] WARNING: /workspace/src/objective/regression_obj.cu:152: reg:linear is now deprecated in favor of reg:squarederror.\n",
            "-1.15642238416785\n",
            "[09:20:52] WARNING: /workspace/src/objective/regression_obj.cu:152: reg:linear is now deprecated in favor of reg:squarederror.\n",
            "[09:21:00] WARNING: /workspace/src/objective/regression_obj.cu:152: reg:linear is now deprecated in favor of reg:squarederror.\n",
            "[09:21:08] WARNING: /workspace/src/objective/regression_obj.cu:152: reg:linear is now deprecated in favor of reg:squarederror.\n",
            "[09:21:15] WARNING: /workspace/src/objective/regression_obj.cu:152: reg:linear is now deprecated in favor of reg:squarederror.\n",
            "[09:21:23] WARNING: /workspace/src/objective/regression_obj.cu:152: reg:linear is now deprecated in favor of reg:squarederror.\n",
            "-1.175263973573301\n",
            "[09:21:32] WARNING: /workspace/src/objective/regression_obj.cu:152: reg:linear is now deprecated in favor of reg:squarederror.\n",
            "[09:21:39] WARNING: /workspace/src/objective/regression_obj.cu:152: reg:linear is now deprecated in favor of reg:squarederror.\n",
            "[09:21:47] WARNING: /workspace/src/objective/regression_obj.cu:152: reg:linear is now deprecated in favor of reg:squarederror.\n",
            "[09:21:56] WARNING: /workspace/src/objective/regression_obj.cu:152: reg:linear is now deprecated in favor of reg:squarederror.\n",
            "[09:22:03] WARNING: /workspace/src/objective/regression_obj.cu:152: reg:linear is now deprecated in favor of reg:squarederror.\n",
            "-1.160809838627609\n",
            "[09:22:11] WARNING: /workspace/src/objective/regression_obj.cu:152: reg:linear is now deprecated in favor of reg:squarederror.\n",
            "[09:22:18] WARNING: /workspace/src/objective/regression_obj.cu:152: reg:linear is now deprecated in favor of reg:squarederror.\n",
            "[09:22:25] WARNING: /workspace/src/objective/regression_obj.cu:152: reg:linear is now deprecated in favor of reg:squarederror.\n",
            "[09:22:32] WARNING: /workspace/src/objective/regression_obj.cu:152: reg:linear is now deprecated in favor of reg:squarederror.\n",
            "[09:22:39] WARNING: /workspace/src/objective/regression_obj.cu:152: reg:linear is now deprecated in favor of reg:squarederror.\n",
            "-1.1886824938644118\n",
            "[09:22:46] WARNING: /workspace/src/objective/regression_obj.cu:152: reg:linear is now deprecated in favor of reg:squarederror.\n",
            "[09:22:54] WARNING: /workspace/src/objective/regression_obj.cu:152: reg:linear is now deprecated in favor of reg:squarederror.\n",
            "[09:23:02] WARNING: /workspace/src/objective/regression_obj.cu:152: reg:linear is now deprecated in favor of reg:squarederror.\n",
            "[09:23:11] WARNING: /workspace/src/objective/regression_obj.cu:152: reg:linear is now deprecated in favor of reg:squarederror.\n",
            "[09:23:19] WARNING: /workspace/src/objective/regression_obj.cu:152: reg:linear is now deprecated in favor of reg:squarederror.\n",
            "-1.1631600300484797\n",
            "[09:23:27] WARNING: /workspace/src/objective/regression_obj.cu:152: reg:linear is now deprecated in favor of reg:squarederror.\n",
            "[09:23:34] WARNING: /workspace/src/objective/regression_obj.cu:152: reg:linear is now deprecated in favor of reg:squarederror.\n",
            "[09:23:42] WARNING: /workspace/src/objective/regression_obj.cu:152: reg:linear is now deprecated in favor of reg:squarederror.\n",
            "[09:23:50] WARNING: /workspace/src/objective/regression_obj.cu:152: reg:linear is now deprecated in favor of reg:squarederror.\n",
            "[09:23:57] WARNING: /workspace/src/objective/regression_obj.cu:152: reg:linear is now deprecated in favor of reg:squarederror.\n",
            "-1.1578551852332133\n",
            "[09:24:05] WARNING: /workspace/src/objective/regression_obj.cu:152: reg:linear is now deprecated in favor of reg:squarederror.\n",
            "[09:24:10] WARNING: /workspace/src/objective/regression_obj.cu:152: reg:linear is now deprecated in favor of reg:squarederror.\n",
            "[09:24:16] WARNING: /workspace/src/objective/regression_obj.cu:152: reg:linear is now deprecated in favor of reg:squarederror.\n",
            "[09:24:21] WARNING: /workspace/src/objective/regression_obj.cu:152: reg:linear is now deprecated in favor of reg:squarederror.\n",
            "[09:24:27] WARNING: /workspace/src/objective/regression_obj.cu:152: reg:linear is now deprecated in favor of reg:squarederror.\n",
            "-1.1617928203626637\n",
            "[09:24:33] WARNING: /workspace/src/objective/regression_obj.cu:152: reg:linear is now deprecated in favor of reg:squarederror.\n",
            "[09:24:39] WARNING: /workspace/src/objective/regression_obj.cu:152: reg:linear is now deprecated in favor of reg:squarederror.\n",
            "[09:24:46] WARNING: /workspace/src/objective/regression_obj.cu:152: reg:linear is now deprecated in favor of reg:squarederror.\n",
            "[09:24:52] WARNING: /workspace/src/objective/regression_obj.cu:152: reg:linear is now deprecated in favor of reg:squarederror.\n",
            "[09:24:59] WARNING: /workspace/src/objective/regression_obj.cu:152: reg:linear is now deprecated in favor of reg:squarederror.\n",
            "-1.172733078078839\n",
            "[09:25:05] WARNING: /workspace/src/objective/regression_obj.cu:152: reg:linear is now deprecated in favor of reg:squarederror.\n",
            "[09:25:11] WARNING: /workspace/src/objective/regression_obj.cu:152: reg:linear is now deprecated in favor of reg:squarederror.\n",
            "[09:25:17] WARNING: /workspace/src/objective/regression_obj.cu:152: reg:linear is now deprecated in favor of reg:squarederror.\n",
            "[09:25:23] WARNING: /workspace/src/objective/regression_obj.cu:152: reg:linear is now deprecated in favor of reg:squarederror.\n",
            "[09:25:29] WARNING: /workspace/src/objective/regression_obj.cu:152: reg:linear is now deprecated in favor of reg:squarederror.\n",
            "-1.177920155461671\n",
            "[09:25:35] WARNING: /workspace/src/objective/regression_obj.cu:152: reg:linear is now deprecated in favor of reg:squarederror.\n",
            "[09:25:42] WARNING: /workspace/src/objective/regression_obj.cu:152: reg:linear is now deprecated in favor of reg:squarederror.\n",
            "[09:25:50] WARNING: /workspace/src/objective/regression_obj.cu:152: reg:linear is now deprecated in favor of reg:squarederror.\n",
            "[09:25:58] WARNING: /workspace/src/objective/regression_obj.cu:152: reg:linear is now deprecated in favor of reg:squarederror.\n",
            "[09:26:04] WARNING: /workspace/src/objective/regression_obj.cu:152: reg:linear is now deprecated in favor of reg:squarederror.\n",
            "-1.1604653022777656\n",
            "[09:26:12] WARNING: /workspace/src/objective/regression_obj.cu:152: reg:linear is now deprecated in favor of reg:squarederror.\n",
            "[09:26:19] WARNING: /workspace/src/objective/regression_obj.cu:152: reg:linear is now deprecated in favor of reg:squarederror.\n",
            "[09:26:26] WARNING: /workspace/src/objective/regression_obj.cu:152: reg:linear is now deprecated in favor of reg:squarederror.\n",
            "[09:26:32] WARNING: /workspace/src/objective/regression_obj.cu:152: reg:linear is now deprecated in favor of reg:squarederror.\n",
            "[09:26:40] WARNING: /workspace/src/objective/regression_obj.cu:152: reg:linear is now deprecated in favor of reg:squarederror.\n",
            "-1.171739461929373\n",
            "[09:26:47] WARNING: /workspace/src/objective/regression_obj.cu:152: reg:linear is now deprecated in favor of reg:squarederror.\n",
            "[09:26:52] WARNING: /workspace/src/objective/regression_obj.cu:152: reg:linear is now deprecated in favor of reg:squarederror.\n",
            "[09:26:57] WARNING: /workspace/src/objective/regression_obj.cu:152: reg:linear is now deprecated in favor of reg:squarederror.\n",
            "[09:27:03] WARNING: /workspace/src/objective/regression_obj.cu:152: reg:linear is now deprecated in favor of reg:squarederror.\n",
            "[09:27:07] WARNING: /workspace/src/objective/regression_obj.cu:152: reg:linear is now deprecated in favor of reg:squarederror.\n",
            "-1.1802083991892558\n",
            "[09:27:13] WARNING: /workspace/src/objective/regression_obj.cu:152: reg:linear is now deprecated in favor of reg:squarederror.\n",
            "[09:27:14] WARNING: /workspace/src/objective/regression_obj.cu:152: reg:linear is now deprecated in favor of reg:squarederror.\n",
            "[09:27:15] WARNING: /workspace/src/objective/regression_obj.cu:152: reg:linear is now deprecated in favor of reg:squarederror.\n",
            "[09:27:16] WARNING: /workspace/src/objective/regression_obj.cu:152: reg:linear is now deprecated in favor of reg:squarederror.\n",
            "[09:27:17] WARNING: /workspace/src/objective/regression_obj.cu:152: reg:linear is now deprecated in favor of reg:squarederror.\n",
            "-1.2078550860672528\n",
            "[09:27:18] WARNING: /workspace/src/objective/regression_obj.cu:152: reg:linear is now deprecated in favor of reg:squarederror.\n",
            "[09:27:24] WARNING: /workspace/src/objective/regression_obj.cu:152: reg:linear is now deprecated in favor of reg:squarederror.\n",
            "[09:27:30] WARNING: /workspace/src/objective/regression_obj.cu:152: reg:linear is now deprecated in favor of reg:squarederror.\n",
            "[09:27:35] WARNING: /workspace/src/objective/regression_obj.cu:152: reg:linear is now deprecated in favor of reg:squarederror.\n",
            "[09:27:42] WARNING: /workspace/src/objective/regression_obj.cu:152: reg:linear is now deprecated in favor of reg:squarederror.\n",
            "-1.166843425417529\n",
            "[09:27:47] WARNING: /workspace/src/objective/regression_obj.cu:152: reg:linear is now deprecated in favor of reg:squarederror.\n",
            "[09:27:48] WARNING: /workspace/src/objective/regression_obj.cu:152: reg:linear is now deprecated in favor of reg:squarederror.\n",
            "[09:27:48] WARNING: /workspace/src/objective/regression_obj.cu:152: reg:linear is now deprecated in favor of reg:squarederror.\n",
            "[09:27:49] WARNING: /workspace/src/objective/regression_obj.cu:152: reg:linear is now deprecated in favor of reg:squarederror.\n",
            "[09:27:50] WARNING: /workspace/src/objective/regression_obj.cu:152: reg:linear is now deprecated in favor of reg:squarederror.\n",
            "-1.5956706919401233\n",
            "[09:27:51] WARNING: /workspace/src/objective/regression_obj.cu:152: reg:linear is now deprecated in favor of reg:squarederror.\n",
            "[09:27:58] WARNING: /workspace/src/objective/regression_obj.cu:152: reg:linear is now deprecated in favor of reg:squarederror.\n",
            "[09:28:05] WARNING: /workspace/src/objective/regression_obj.cu:152: reg:linear is now deprecated in favor of reg:squarederror.\n",
            "[09:28:12] WARNING: /workspace/src/objective/regression_obj.cu:152: reg:linear is now deprecated in favor of reg:squarederror.\n",
            "[09:28:19] WARNING: /workspace/src/objective/regression_obj.cu:152: reg:linear is now deprecated in favor of reg:squarederror.\n",
            "-1.1598661583234875\n",
            "[09:28:26] WARNING: /workspace/src/objective/regression_obj.cu:152: reg:linear is now deprecated in favor of reg:squarederror.\n",
            "[09:28:29] WARNING: /workspace/src/objective/regression_obj.cu:152: reg:linear is now deprecated in favor of reg:squarederror.\n",
            "[09:28:32] WARNING: /workspace/src/objective/regression_obj.cu:152: reg:linear is now deprecated in favor of reg:squarederror.\n",
            "[09:28:35] WARNING: /workspace/src/objective/regression_obj.cu:152: reg:linear is now deprecated in favor of reg:squarederror.\n",
            "[09:28:37] WARNING: /workspace/src/objective/regression_obj.cu:152: reg:linear is now deprecated in favor of reg:squarederror.\n",
            "-1.2101913832552436\n",
            "[09:28:40] WARNING: /workspace/src/objective/regression_obj.cu:152: reg:linear is now deprecated in favor of reg:squarederror.\n",
            "[09:28:46] WARNING: /workspace/src/objective/regression_obj.cu:152: reg:linear is now deprecated in favor of reg:squarederror.\n",
            "[09:28:50] WARNING: /workspace/src/objective/regression_obj.cu:152: reg:linear is now deprecated in favor of reg:squarederror.\n",
            "[09:28:56] WARNING: /workspace/src/objective/regression_obj.cu:152: reg:linear is now deprecated in favor of reg:squarederror.\n",
            "[09:29:01] WARNING: /workspace/src/objective/regression_obj.cu:152: reg:linear is now deprecated in favor of reg:squarederror.\n",
            "-1.1832947681110588\n",
            "[09:29:05] WARNING: /workspace/src/objective/regression_obj.cu:152: reg:linear is now deprecated in favor of reg:squarederror.\n",
            "[09:29:15] WARNING: /workspace/src/objective/regression_obj.cu:152: reg:linear is now deprecated in favor of reg:squarederror.\n",
            "[09:29:24] WARNING: /workspace/src/objective/regression_obj.cu:152: reg:linear is now deprecated in favor of reg:squarederror.\n",
            "[09:29:34] WARNING: /workspace/src/objective/regression_obj.cu:152: reg:linear is now deprecated in favor of reg:squarederror.\n",
            "[09:29:42] WARNING: /workspace/src/objective/regression_obj.cu:152: reg:linear is now deprecated in favor of reg:squarederror.\n",
            "-1.1709261656856849\n",
            "[09:29:52] WARNING: /workspace/src/objective/regression_obj.cu:152: reg:linear is now deprecated in favor of reg:squarederror.\n",
            "[09:29:59] WARNING: /workspace/src/objective/regression_obj.cu:152: reg:linear is now deprecated in favor of reg:squarederror.\n",
            "[09:30:05] WARNING: /workspace/src/objective/regression_obj.cu:152: reg:linear is now deprecated in favor of reg:squarederror.\n",
            "[09:30:13] WARNING: /workspace/src/objective/regression_obj.cu:152: reg:linear is now deprecated in favor of reg:squarederror.\n",
            "[09:30:19] WARNING: /workspace/src/objective/regression_obj.cu:152: reg:linear is now deprecated in favor of reg:squarederror.\n",
            "-1.2005870307511273\n",
            "[09:30:26] WARNING: /workspace/src/objective/regression_obj.cu:152: reg:linear is now deprecated in favor of reg:squarederror.\n",
            "[09:30:32] WARNING: /workspace/src/objective/regression_obj.cu:152: reg:linear is now deprecated in favor of reg:squarederror.\n",
            "[09:30:39] WARNING: /workspace/src/objective/regression_obj.cu:152: reg:linear is now deprecated in favor of reg:squarederror.\n",
            "[09:30:46] WARNING: /workspace/src/objective/regression_obj.cu:152: reg:linear is now deprecated in favor of reg:squarederror.\n",
            "[09:30:53] WARNING: /workspace/src/objective/regression_obj.cu:152: reg:linear is now deprecated in favor of reg:squarederror.\n",
            "-1.1691596607601038\n",
            "[09:30:59] WARNING: /workspace/src/objective/regression_obj.cu:152: reg:linear is now deprecated in favor of reg:squarederror.\n",
            "[09:31:00] WARNING: /workspace/src/objective/regression_obj.cu:152: reg:linear is now deprecated in favor of reg:squarederror.\n",
            "[09:31:02] WARNING: /workspace/src/objective/regression_obj.cu:152: reg:linear is now deprecated in favor of reg:squarederror.\n",
            "[09:31:03] WARNING: /workspace/src/objective/regression_obj.cu:152: reg:linear is now deprecated in favor of reg:squarederror.\n",
            "[09:31:04] WARNING: /workspace/src/objective/regression_obj.cu:152: reg:linear is now deprecated in favor of reg:squarederror.\n",
            "-1.2623454097409532\n",
            "[09:31:06] WARNING: /workspace/src/objective/regression_obj.cu:152: reg:linear is now deprecated in favor of reg:squarederror.\n",
            "[09:31:14] WARNING: /workspace/src/objective/regression_obj.cu:152: reg:linear is now deprecated in favor of reg:squarederror.\n",
            "[09:31:23] WARNING: /workspace/src/objective/regression_obj.cu:152: reg:linear is now deprecated in favor of reg:squarederror.\n",
            "[09:31:32] WARNING: /workspace/src/objective/regression_obj.cu:152: reg:linear is now deprecated in favor of reg:squarederror.\n",
            "[09:31:41] WARNING: /workspace/src/objective/regression_obj.cu:152: reg:linear is now deprecated in favor of reg:squarederror.\n",
            "-1.1629632292855885\n",
            "[09:31:49] WARNING: /workspace/src/objective/regression_obj.cu:152: reg:linear is now deprecated in favor of reg:squarederror.\n",
            "[09:31:56] WARNING: /workspace/src/objective/regression_obj.cu:152: reg:linear is now deprecated in favor of reg:squarederror.\n",
            "[09:32:01] WARNING: /workspace/src/objective/regression_obj.cu:152: reg:linear is now deprecated in favor of reg:squarederror.\n",
            "[09:32:08] WARNING: /workspace/src/objective/regression_obj.cu:152: reg:linear is now deprecated in favor of reg:squarederror.\n",
            "[09:32:14] WARNING: /workspace/src/objective/regression_obj.cu:152: reg:linear is now deprecated in favor of reg:squarederror.\n",
            "-1.220575107756791\n",
            "[09:32:20] WARNING: /workspace/src/objective/regression_obj.cu:152: reg:linear is now deprecated in favor of reg:squarederror.\n",
            "[09:32:28] WARNING: /workspace/src/objective/regression_obj.cu:152: reg:linear is now deprecated in favor of reg:squarederror.\n",
            "[09:32:37] WARNING: /workspace/src/objective/regression_obj.cu:152: reg:linear is now deprecated in favor of reg:squarederror.\n",
            "[09:32:45] WARNING: /workspace/src/objective/regression_obj.cu:152: reg:linear is now deprecated in favor of reg:squarederror.\n",
            "[09:32:53] WARNING: /workspace/src/objective/regression_obj.cu:152: reg:linear is now deprecated in favor of reg:squarederror.\n",
            "-1.1673488453739058\n",
            "[09:33:02] WARNING: /workspace/src/objective/regression_obj.cu:152: reg:linear is now deprecated in favor of reg:squarederror.\n",
            "[09:33:09] WARNING: /workspace/src/objective/regression_obj.cu:152: reg:linear is now deprecated in favor of reg:squarederror.\n",
            "[09:33:17] WARNING: /workspace/src/objective/regression_obj.cu:152: reg:linear is now deprecated in favor of reg:squarederror.\n",
            "[09:33:25] WARNING: /workspace/src/objective/regression_obj.cu:152: reg:linear is now deprecated in favor of reg:squarederror.\n",
            "[09:33:32] WARNING: /workspace/src/objective/regression_obj.cu:152: reg:linear is now deprecated in favor of reg:squarederror.\n",
            "-1.1651756451562716\n",
            "[09:33:40] WARNING: /workspace/src/objective/regression_obj.cu:152: reg:linear is now deprecated in favor of reg:squarederror.\n",
            "[09:33:44] WARNING: /workspace/src/objective/regression_obj.cu:152: reg:linear is now deprecated in favor of reg:squarederror.\n",
            "[09:33:50] WARNING: /workspace/src/objective/regression_obj.cu:152: reg:linear is now deprecated in favor of reg:squarederror.\n",
            "[09:33:55] WARNING: /workspace/src/objective/regression_obj.cu:152: reg:linear is now deprecated in favor of reg:squarederror.\n",
            "[09:34:00] WARNING: /workspace/src/objective/regression_obj.cu:152: reg:linear is now deprecated in favor of reg:squarederror.\n",
            "-1.2463293097771255\n",
            "[09:34:05] WARNING: /workspace/src/objective/regression_obj.cu:152: reg:linear is now deprecated in favor of reg:squarederror.\n",
            "[09:34:09] WARNING: /workspace/src/objective/regression_obj.cu:152: reg:linear is now deprecated in favor of reg:squarederror.\n",
            "[09:34:15] WARNING: /workspace/src/objective/regression_obj.cu:152: reg:linear is now deprecated in favor of reg:squarederror.\n",
            "[09:34:20] WARNING: /workspace/src/objective/regression_obj.cu:152: reg:linear is now deprecated in favor of reg:squarederror.\n",
            "[09:34:25] WARNING: /workspace/src/objective/regression_obj.cu:152: reg:linear is now deprecated in favor of reg:squarederror.\n",
            "-1.19287566449641\n",
            "[09:34:30] WARNING: /workspace/src/objective/regression_obj.cu:152: reg:linear is now deprecated in favor of reg:squarederror.\n",
            "[09:34:33] WARNING: /workspace/src/objective/regression_obj.cu:152: reg:linear is now deprecated in favor of reg:squarederror.\n",
            "[09:34:37] WARNING: /workspace/src/objective/regression_obj.cu:152: reg:linear is now deprecated in favor of reg:squarederror.\n",
            "[09:34:41] WARNING: /workspace/src/objective/regression_obj.cu:152: reg:linear is now deprecated in favor of reg:squarederror.\n",
            "[09:34:45] WARNING: /workspace/src/objective/regression_obj.cu:152: reg:linear is now deprecated in favor of reg:squarederror.\n",
            "-1.1890371176602346\n",
            "[09:34:49] WARNING: /workspace/src/objective/regression_obj.cu:152: reg:linear is now deprecated in favor of reg:squarederror.\n",
            "[09:34:52] WARNING: /workspace/src/objective/regression_obj.cu:152: reg:linear is now deprecated in favor of reg:squarederror.\n",
            "[09:34:55] WARNING: /workspace/src/objective/regression_obj.cu:152: reg:linear is now deprecated in favor of reg:squarederror.\n",
            "[09:34:58] WARNING: /workspace/src/objective/regression_obj.cu:152: reg:linear is now deprecated in favor of reg:squarederror.\n",
            "[09:35:00] WARNING: /workspace/src/objective/regression_obj.cu:152: reg:linear is now deprecated in favor of reg:squarederror.\n",
            "-1.2990298603256993\n",
            "[09:35:04] WARNING: /workspace/src/objective/regression_obj.cu:152: reg:linear is now deprecated in favor of reg:squarederror.\n",
            "[09:35:13] WARNING: /workspace/src/objective/regression_obj.cu:152: reg:linear is now deprecated in favor of reg:squarederror.\n",
            "[09:35:23] WARNING: /workspace/src/objective/regression_obj.cu:152: reg:linear is now deprecated in favor of reg:squarederror.\n",
            "[09:35:34] WARNING: /workspace/src/objective/regression_obj.cu:152: reg:linear is now deprecated in favor of reg:squarederror.\n",
            "[09:35:44] WARNING: /workspace/src/objective/regression_obj.cu:152: reg:linear is now deprecated in favor of reg:squarederror.\n",
            "-1.1622443407246865\n",
            "100%|██████████| 100/100 [44:49<00:00, 26.89s/it, best loss: 1.152899676821127]\n",
            "best_xgb:\n",
            "{'colsample_bytree': 0.7161378029130846, 'learning_rate': 0.08675454229863903, 'max_depth': 5.0, 'n_estimators': 447.0}\n"
          ]
        }
      ],
      "source": [
        "trials = Trials()\n",
        "best_xgb = fmin(surr_func_xgb, space=param_xgb, algo=tpe.suggest,\n",
        "               max_evals=100, trials=trials)\n",
        "print('best_xgb:')\n",
        "print(best_xgb)"
      ]
    },
    {
      "cell_type": "code",
      "execution_count": 97,
      "metadata": {
        "id": "JCjgj0aZeanI"
      },
      "outputs": [],
      "source": [
        "# best_xgb = {'colsample_bytree': 0.5904951775918889, 'learning_rate': 0.024729072063200287, 'max_depth': 5, 'n_estimators': 267}"
      ]
    },
    {
      "cell_type": "code",
      "execution_count": 98,
      "metadata": {
        "id": "wTFykYXMh3hk"
      },
      "outputs": [],
      "source": [
        "# best_xgb = {'colsample_bytree': 0.7974445913518547, 'learning_rate': 0.09830911482175203, 'max_depth': 5, 'n_estimators': 380}"
      ]
    },
    {
      "cell_type": "code",
      "source": [
        "best_xgb"
      ],
      "metadata": {
        "colab": {
          "base_uri": "https://localhost:8080/"
        },
        "id": "FurpJPjQInpQ",
        "outputId": "36b3b1db-f741-458a-d632-c5bfba39e354"
      },
      "execution_count": 108,
      "outputs": [
        {
          "output_type": "execute_result",
          "data": {
            "text/plain": [
              "{'colsample_bytree': 0.7974445913518547,\n",
              " 'learning_rate': 0.09830911482175203,\n",
              " 'max_depth': 5,\n",
              " 'n_estimators': 380}"
            ]
          },
          "metadata": {},
          "execution_count": 108
        }
      ]
    },
    {
      "cell_type": "code",
      "execution_count": 99,
      "metadata": {
        "colab": {
          "base_uri": "https://localhost:8080/"
        },
        "id": "dN7_wCe0eakS",
        "outputId": "7290d041-8716-408a-9fe8-03477b072069"
      },
      "outputs": [
        {
          "output_type": "stream",
          "name": "stdout",
          "text": [
            "[09:35:53] WARNING: /workspace/src/objective/regression_obj.cu:152: reg:linear is now deprecated in favor of reg:squarederror.\n",
            "1.2103713408160324\n"
          ]
        }
      ],
      "source": [
        "xgb_reg = XGBRegressor(**best_xgb)\n",
        "xgb_reg.fit(x_train, y_train)\n",
        "pred_xgb = xgb_reg.predict(x_test)\n",
        "print(mean_squared_error(pred_xgb, y_test))"
      ]
    },
    {
      "cell_type": "code",
      "execution_count": 100,
      "metadata": {
        "colab": {
          "base_uri": "https://localhost:8080/"
        },
        "id": "7UdboPABrV50",
        "outputId": "d748127e-bc8a-4c2c-c4c9-64b28f3f2817"
      },
      "outputs": [
        {
          "output_type": "stream",
          "name": "stdout",
          "text": [
            "[09:36:02] WARNING: /workspace/src/objective/regression_obj.cu:152: reg:linear is now deprecated in favor of reg:squarederror.\n",
            "1.2103713408160324\n"
          ]
        }
      ],
      "source": [
        "xgb_reg = XGBRegressor(**best_xgb)\n",
        "xgb_reg.fit(x_train, y_train)\n",
        "pred_xgb = xgb_reg.predict(x_test)\n",
        "print(mean_squared_error(pred_xgb, y_test))"
      ]
    },
    {
      "cell_type": "code",
      "execution_count": 101,
      "metadata": {
        "id": "WAvG6yroeahL",
        "colab": {
          "base_uri": "https://localhost:8080/",
          "height": 1000
        },
        "outputId": "d953eba0-e382-477d-a765-6987c00d361b"
      },
      "outputs": [
        {
          "output_type": "stream",
          "name": "stderr",
          "text": [
            "/usr/local/lib/python3.8/dist-packages/seaborn/distributions.py:2619: FutureWarning: `distplot` is a deprecated function and will be removed in a future version. Please adapt your code to use either `displot` (a figure-level function with similar flexibility) or `histplot` (an axes-level function for histograms).\n",
            "  warnings.warn(msg, FutureWarning)\n",
            "/usr/local/lib/python3.8/dist-packages/seaborn/distributions.py:2657: RuntimeWarning: Mean of empty slice.\n",
            "  line, = ax.plot(a.mean(), 0)\n",
            "/usr/local/lib/python3.8/dist-packages/numpy/core/_methods.py:189: RuntimeWarning: invalid value encountered in double_scalars\n",
            "  ret = ret.dtype.type(ret / rcount)\n",
            "/usr/local/lib/python3.8/dist-packages/numpy/lib/histograms.py:906: RuntimeWarning: invalid value encountered in true_divide\n",
            "  return n/db/n.sum(), bin_edges\n",
            "/usr/local/lib/python3.8/dist-packages/seaborn/distributions.py:2619: FutureWarning: `distplot` is a deprecated function and will be removed in a future version. Please adapt your code to use either `displot` (a figure-level function with similar flexibility) or `histplot` (an axes-level function for histograms).\n",
            "  warnings.warn(msg, FutureWarning)\n",
            "/usr/local/lib/python3.8/dist-packages/seaborn/distributions.py:2619: FutureWarning: `distplot` is a deprecated function and will be removed in a future version. Please adapt your code to use either `displot` (a figure-level function with similar flexibility) or `histplot` (an axes-level function for histograms).\n",
            "  warnings.warn(msg, FutureWarning)\n",
            "/usr/local/lib/python3.8/dist-packages/seaborn/distributions.py:2619: FutureWarning: `distplot` is a deprecated function and will be removed in a future version. Please adapt your code to use either `displot` (a figure-level function with similar flexibility) or `histplot` (an axes-level function for histograms).\n",
            "  warnings.warn(msg, FutureWarning)\n",
            "/usr/local/lib/python3.8/dist-packages/seaborn/distributions.py:2619: FutureWarning: `distplot` is a deprecated function and will be removed in a future version. Please adapt your code to use either `displot` (a figure-level function with similar flexibility) or `histplot` (an axes-level function for histograms).\n",
            "  warnings.warn(msg, FutureWarning)\n",
            "/usr/local/lib/python3.8/dist-packages/seaborn/distributions.py:2619: FutureWarning: `distplot` is a deprecated function and will be removed in a future version. Please adapt your code to use either `displot` (a figure-level function with similar flexibility) or `histplot` (an axes-level function for histograms).\n",
            "  warnings.warn(msg, FutureWarning)\n",
            "/usr/local/lib/python3.8/dist-packages/seaborn/distributions.py:2619: FutureWarning: `distplot` is a deprecated function and will be removed in a future version. Please adapt your code to use either `displot` (a figure-level function with similar flexibility) or `histplot` (an axes-level function for histograms).\n",
            "  warnings.warn(msg, FutureWarning)\n",
            "/usr/local/lib/python3.8/dist-packages/seaborn/distributions.py:2619: FutureWarning: `distplot` is a deprecated function and will be removed in a future version. Please adapt your code to use either `displot` (a figure-level function with similar flexibility) or `histplot` (an axes-level function for histograms).\n",
            "  warnings.warn(msg, FutureWarning)\n"
          ]
        },
        {
          "output_type": "display_data",
          "data": {
            "text/plain": [
              "<Figure size 864x864 with 9 Axes>"
            ],
            "image/png": "[encoded data removed]"
          },
          "metadata": {
            "needs_background": "light"
          }
        }
      ],
      "source": [
        "plt.figure(figsize=(12,12))\n",
        "for i in range(1,10):\n",
        "  plt.subplot(3,3,i)\n",
        "  sns.distplot(data_2015.iloc[:i-1])"
      ]
    },
    {
      "cell_type": "markdown",
      "source": [
        "### (Possible addition) LightGBM"
      ],
      "metadata": {
        "id": "Sh4yxBmQgOiw"
      }
    },
    {
      "cell_type": "code",
      "source": [],
      "metadata": {
        "id": "WlbCD-kSgYbE"
      },
      "execution_count": 101,
      "outputs": []
    },
    {
      "cell_type": "markdown",
      "source": [
        "### SVM"
      ],
      "metadata": {
        "id": "Vj3QMimRLm1A"
      }
    },
    {
      "cell_type": "code",
      "source": [
        "from sklearn.svm import SVR\n",
        "svr_linear = SVR(kernel='linear',gamma='scale', C=1.0, epsilon=0.1)\n",
        "svr_linear.fit(x_train, y_train)"
      ],
      "metadata": {
        "id": "nIJo3la5LlkG"
      },
      "execution_count": null,
      "outputs": []
    },
    {
      "cell_type": "code",
      "source": [
        "svr_linear.score(x_test,y_test)"
      ],
      "metadata": {
        "id": "91w4Uj8lL37G"
      },
      "execution_count": null,
      "outputs": []
    },
    {
      "cell_type": "code",
      "source": [
        "svr_rbf = SVR(kernel='rbf',gamma='scale', C=1.0, epsilon=0.1)\n",
        "svr_rbf.fit(x_train, y_train) "
      ],
      "metadata": {
        "id": "dV0EnUV9L35B"
      },
      "execution_count": null,
      "outputs": []
    },
    {
      "cell_type": "code",
      "source": [
        "svr_rbf.score(x_test,y_test)"
      ],
      "metadata": {
        "id": "XKALmkt2L32L"
      },
      "execution_count": null,
      "outputs": []
    },
    {
      "cell_type": "code",
      "source": [
        "from sklearn.metrics import mean_squared_error"
      ],
      "metadata": {
        "id": "N3c3orvdL3zo"
      },
      "execution_count": null,
      "outputs": []
    },
    {
      "cell_type": "code",
      "source": [
        "print(\"RMSE for linear SVR:\",np.sqrt(mean_squared_error(y_test,svr_linear.predict(x_test))))\n",
        "print(\"RMSE for RBF kernelized SVR:\",np.sqrt(mean_squared_error(y_test,svr_rbf.predict(x_test))))"
      ],
      "metadata": {
        "id": "dAw1W8UzMIlX"
      },
      "execution_count": null,
      "outputs": []
    },
    {
      "cell_type": "markdown",
      "source": [
        "### Code Last Run:"
      ],
      "metadata": {
        "id": "tBEqjilGqCFT"
      }
    },
    {
      "cell_type": "code",
      "source": [
        "from datetime import datetime\n",
        "import pytz\n",
        "print('signed off at  ',datetime.now(pytz.timezone('Asia/Kolkata')))"
      ],
      "metadata": {
        "colab": {
          "base_uri": "https://localhost:8080/"
        },
        "id": "fRL8otw8qA-K",
        "outputId": "bc526c49-6035-466a-95db-2daec8010419"
      },
      "execution_count": 102,
      "outputs": [
        {
          "output_type": "stream",
          "name": "stdout",
          "text": [
            "signed off at   2023-02-13 15:06:14.189804+05:30\n"
          ]
        }
      ]
    },
    {
      "cell_type": "markdown",
      "metadata": {
        "id": "Ma4g1dqQPQEZ"
      },
      "source": [
        "## Hypothesis Testing"
      ]
    },
    {
      "cell_type": "markdown",
      "metadata": {
        "id": "EE44-3dBaEUt"
      },
      "source": [
        "###Z-Test 2 sample test\n"
      ]
    },
    {
      "cell_type": "code",
      "execution_count": 103,
      "metadata": {
        "id": "GgDO7N9hPPZ0"
      },
      "outputs": [],
      "source": [
        "import math\n",
        "import numpy as np\n",
        "from numpy.random import randn\n",
        "from statsmodels.stats.weightstats import ztest as ztest\n",
        "import pandas as pd\n",
        "\n"
      ]
    },
    {
      "cell_type": "code",
      "execution_count": 104,
      "metadata": {
        "id": "kUau8HWdRo9r"
      },
      "outputs": [],
      "source": [
        "df1=pd.concat([pd.read_csv(\"gt_2011.csv\"),pd.read_csv(\"gt_2012.csv\"),pd.read_csv(\"gt_2013.csv\"),pd.read_csv(\"gt_2014.csv\")],axis=0)\n",
        "df2=pd.read_csv(\"gt_2015.csv\")\n",
        "df3=pd.read_csv(\"gt_2014.csv\")\n"
      ]
    },
    {
      "cell_type": "code",
      "execution_count": 105,
      "metadata": {
        "id": "V3nQMLU9bhs7",
        "colab": {
          "base_uri": "https://localhost:8080/"
        },
        "outputId": "7530873e-76cf-4cf5-bd8a-f279cd827336"
      },
      "outputs": [
        {
          "output_type": "execute_result",
          "data": {
            "text/plain": [
              "(1.4964623288921, 0.13453321762917658)"
            ]
          },
          "metadata": {},
          "execution_count": 105
        }
      ],
      "source": [
        "ztest(df3['NOX'], value=np.mean(df2['NOX']))"
      ]
    },
    {
      "cell_type": "markdown",
      "metadata": {
        "id": "sGIRMcAxaokR"
      },
      "source": [
        "Conclusion: The mean value of NOX emission for 2015 is  equal to the mean value of the NOX emissions of years from 2014."
      ]
    },
    {
      "cell_type": "code",
      "execution_count": 106,
      "metadata": {
        "id": "RVW-OwEYa_EI",
        "colab": {
          "base_uri": "https://localhost:8080/"
        },
        "outputId": "c832e173-f5d8-43c1-baad-abfcbf535ba0"
      },
      "outputs": [
        {
          "output_type": "execute_result",
          "data": {
            "text/plain": [
              "(-44.21694756923266, 0.0)"
            ]
          },
          "metadata": {},
          "execution_count": 106
        }
      ],
      "source": [
        "ztest(df3['CO'], value= np.mean(df2['CO'])) "
      ]
    },
    {
      "cell_type": "markdown",
      "metadata": {
        "id": "YggmwxXGeGV2"
      },
      "source": [
        "Conclusion: The mean value of CO emission for 2015 is not equal to the mean value of the CO emissions of years from 2014."
      ]
    },
    {
      "cell_type": "markdown",
      "metadata": {
        "id": "mqD8s53DaMPJ"
      },
      "source": [
        "###ANOVA"
      ]
    },
    {
      "cell_type": "code",
      "execution_count": 107,
      "metadata": {
        "id": "k9Q8IQoraLFi",
        "colab": {
          "base_uri": "https://localhost:8080/"
        },
        "outputId": "ff594ec3-c6e4-4a96-e9e3-ca2f5b30a9da"
      },
      "outputs": [
        {
          "output_type": "execute_result",
          "data": {
            "text/plain": [
              "F_onewayResult(statistic=50.66293889000715, pvalue=1.1463244391073537e-12)"
            ]
          },
          "metadata": {},
          "execution_count": 107
        }
      ],
      "source": [
        "from scipy.stats import f_oneway\n",
        "# result= f_oneway(pd.read_csv(\"gt_2011.csv\")['NOX'],pd.read_csv(\"gt_2012.csv\")['NOX'],pd.read_csv(\"gt_2013.csv\")['NOX'],pd.read_csv(\"gt_2014.csv\")['NOX'],df2['NOX'])\n",
        "result= f_oneway(pd.read_csv(\"gt_2011.csv\")['NOX'],pd.read_csv(\"gt_2012.csv\")['NOX'])\n",
        "result"
      ]
    }
  ],
  "metadata": {
    "colab": {
      "provenance": [],
      "collapsed_sections": [
        "VryRaYvMYFkj",
        "_tnn0yQOYTVL",
        "R_tLIV8FYmFt",
        "P59MNe_FYLbJ",
        "dZrytQf1YO2D",
        "t2qCQmJkYgQ2",
        "BBE1V5f-dL8K",
        "2zQo6nKFaKTD",
        "R1vYCLu0acZT",
        "wHpeTNOxa7o9",
        "wYOhnvhLamzZ",
        "TUd362MXcZ94",
        "EDk7pxLQcQat",
        "kdwMMjxlcjIk",
        "wKa7q8YhfPLx",
        "dvbT_z6Gfwf2",
        "wbFE1ecef5CG",
        "4-wiIMeoG1TH",
        "zfsVV1ofgE-o",
        "weHNJ8kUEXxx",
        "ni6rPxNngLaD",
        "HYJY7dOqeKgA",
        "Sh4yxBmQgOiw",
        "tBEqjilGqCFT",
        "Ma4g1dqQPQEZ",
        "EE44-3dBaEUt",
        "mqD8s53DaMPJ"
      ],
      "include_colab_link": true
    },
    "gpuClass": "standard",
    "kernelspec": {
      "display_name": "Python 3",
      "name": "python3"
    },
    "language_info": {
      "name": "python"
    }
  },
  "nbformat": 4,
  "nbformat_minor": 0
}