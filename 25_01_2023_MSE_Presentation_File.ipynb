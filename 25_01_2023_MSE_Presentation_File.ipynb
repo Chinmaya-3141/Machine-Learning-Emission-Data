{
  "cells": [
    {
      "cell_type": "markdown",
      "metadata": {
        "id": "view-in-github",
        "colab_type": "text"
      },
      "source": [
        "<a href=\"https://colab.research.google.com/github/Chinmaya-3141/Machine-Learning-Emission-Data/blob/edit1/25_01_2023_MSE_Presentation_File.ipynb\" target=\"_parent\"><img src=\"https://colab.research.google.com/assets/colab-badge.svg\" alt=\"Open In Colab\"/></a>"
      ]
    },
    {
      "cell_type": "markdown",
      "source": [
        "# **Gas Turbine Emission Data**"
      ],
      "metadata": {
        "id": "K7c13I_-X1Gg"
      }
    },
    {
      "cell_type": "markdown",
      "source": [
        "### Fetch Data"
      ],
      "metadata": {
        "id": "VryRaYvMYFkj"
      }
    },
    {
      "cell_type": "code",
      "source": [
        "from datetime import datetime\n",
        "import pytz\n",
        "print('Code execution last started at  ',datetime.now(pytz.timezone('Asia/Kolkata')))"
      ],
      "metadata": {
        "colab": {
          "base_uri": "https://localhost:8080/"
        },
        "id": "4Cx-RDX6px6J",
        "outputId": "b5984063-f006-4fb1-f1d2-fedc749d4920"
      },
      "execution_count": 1,
      "outputs": [
        {
          "output_type": "stream",
          "name": "stdout",
          "text": [
            "Code execution last started at   2023-02-13 16:00:53.647251+05:30\n"
          ]
        }
      ]
    },
    {
      "cell_type": "code",
      "execution_count": null,
      "metadata": {
        "colab": {
          "base_uri": "https://localhost:8080/"
        },
        "id": "ER-Lp-gKNpIw",
        "outputId": "41bad573-46fb-4f04-b158-7e8cbcec0868"
      },
      "outputs": [
        {
          "output_type": "stream",
          "name": "stdout",
          "text": [
            "--2023-02-13 10:30:53--  https://archive.ics.uci.edu/ml/machine-learning-databases/00551/pp_gas_emission.zip\n",
            "Resolving archive.ics.uci.edu (archive.ics.uci.edu)... 128.195.10.252\n",
            "Connecting to archive.ics.uci.edu (archive.ics.uci.edu)|128.195.10.252|:443... connected.\n"
          ]
        }
      ],
      "source": [
        "!wget https://archive.ics.uci.edu/ml/machine-learning-databases/00551/pp_gas_emission.zip"
      ]
    },
    {
      "cell_type": "code",
      "source": [
        "# !gdown 1otUkltGJRfbVDTvCmElLTnmnV-4FEtrF"
      ],
      "metadata": {
        "id": "AaJ5Bb0hniJO"
      },
      "execution_count": null,
      "outputs": []
    },
    {
      "cell_type": "code",
      "execution_count": null,
      "metadata": {
        "id": "Nb1xKBjKNs8M"
      },
      "outputs": [],
      "source": [
        "!unzip pp_gas_emission.zip"
      ]
    },
    {
      "cell_type": "markdown",
      "source": [
        "## Preprocessing"
      ],
      "metadata": {
        "id": "_tnn0yQOYTVL"
      }
    },
    {
      "cell_type": "markdown",
      "source": [
        "### Import Data"
      ],
      "metadata": {
        "id": "R_tLIV8FYmFt"
      }
    },
    {
      "cell_type": "code",
      "execution_count": null,
      "metadata": {
        "id": "TK9Au794NvI5"
      },
      "outputs": [],
      "source": [
        "import pandas as pd\n",
        "import numpy as np\n",
        "import seaborn as sns\n",
        "import matplotlib.pyplot as plt\n",
        "import seaborn as sns"
      ]
    },
    {
      "cell_type": "code",
      "execution_count": null,
      "metadata": {
        "id": "rHgJaQKJ61AN"
      },
      "outputs": [],
      "source": [
        "data_2015=pd.concat([pd.read_csv(\"gt_2011.csv\"),\\\n",
        "                     pd.read_csv(\"gt_2012.csv\"),\\\n",
        "                     pd.read_csv(\"gt_2013.csv\"),\\\n",
        "                     pd.read_csv(\"gt_2014.csv\"),\\\n",
        "                     pd.read_csv(\"gt_2015.csv\")],\\\n",
        "                    axis=0)"
      ]
    },
    {
      "cell_type": "code",
      "execution_count": null,
      "metadata": {
        "id": "4YR5UZVd7FgA"
      },
      "outputs": [],
      "source": [
        "data_2015.shape"
      ]
    },
    {
      "cell_type": "code",
      "execution_count": null,
      "metadata": {
        "id": "YQuAuxRuN30N"
      },
      "outputs": [],
      "source": [
        "data_2015.describe()"
      ]
    },
    {
      "cell_type": "markdown",
      "source": [
        "### EDA"
      ],
      "metadata": {
        "id": "P59MNe_FYLbJ"
      }
    },
    {
      "cell_type": "code",
      "execution_count": null,
      "metadata": {
        "id": "ffyI3etQOyPL"
      },
      "outputs": [],
      "source": [
        "# Showing correlation of all variables among each other and not selecting target variables\n",
        "\n",
        "plt.figure(figsize=(12,12))\n",
        "sns.heatmap(data_2015.loc[:,'AT':'CDP'].corr(),annot=True)\n",
        "# plt.savefig(\"corr.png\")"
      ]
    },
    {
      "cell_type": "code",
      "execution_count": null,
      "metadata": {
        "id": "-_bZqXvzQRFE"
      },
      "outputs": [],
      "source": [
        "# import seaborn as sns\n",
        "# import matplotlib.pyplot as plt\n",
        "# plt.rcParams['figure.figsize']=(16,7)\n",
        "# f, (ax1,ax2,ax3,ax4,ax5,ax6,ax7,ax8,ax9) = plt.subplots(1,9)\n",
        "# sns.boxplot(data=data_2015['AT'], ax=ax1, palette = 'coolwarm')\n",
        "# sns.boxplot(data=data_2015['AP'], ax=ax2)\n",
        "# sns.boxplot(data=data_2015['AH'], ax=ax3, palette = 'coolwarm')\n",
        "# sns.boxplot(data=data_2015['AFDP'], ax=ax4)\n",
        "# sns.boxplot(data=data_2015['GTEP'], ax=ax5, palette='coolwarm')\n",
        "# sns.boxplot(data=data_2015['TIT'], ax=ax6)\n",
        "# sns.boxplot(data=data_2015['TAT'], ax=ax7, palette='coolwarm')\n",
        "# sns.boxplot(data=data_2015['TEY'], ax=ax8)\n",
        "# sns.boxplot(data=data_2015['CDP'], ax=ax9, palette = 'coolwarm')\n",
        "# f.tight_layout()\n",
        "# plt.savefig(\"boxplot.png\")"
      ]
    },
    {
      "cell_type": "code",
      "execution_count": null,
      "metadata": {
        "id": "s-llaCxMilLI"
      },
      "outputs": [],
      "source": [
        "# data_2015.to_csv()"
      ]
    },
    {
      "cell_type": "markdown",
      "source": [
        "### Outlier Treatment"
      ],
      "metadata": {
        "id": "dZrytQf1YO2D"
      }
    },
    {
      "cell_type": "code",
      "execution_count": null,
      "metadata": {
        "id": "cYhpNYmaP5Pz"
      },
      "outputs": [],
      "source": [
        "#LOF is a robust outlier detection method in ML\n",
        "\n",
        "from sklearn.neighbors import LocalOutlierFactor\n",
        "from sklearn.preprocessing import StandardScaler"
      ]
    },
    {
      "cell_type": "code",
      "execution_count": null,
      "metadata": {
        "id": "SnBFVd6dQ_RY"
      },
      "outputs": [],
      "source": [
        "# Scaling all variables except for target variables\n",
        "\n",
        "data_2015_scaled= StandardScaler().fit_transform(data_2015.loc[:,'AT':'CDP'])"
      ]
    },
    {
      "cell_type": "code",
      "execution_count": null,
      "metadata": {
        "id": "b_ZHolwHRgbQ"
      },
      "outputs": [],
      "source": [
        "data_2015.shape"
      ]
    },
    {
      "cell_type": "code",
      "execution_count": null,
      "metadata": {
        "id": "LZ9fzT4bR1y7"
      },
      "outputs": [],
      "source": [
        "# Using Local Outlier Factor to identify potential outliers\n",
        "\n",
        "lof=LocalOutlierFactor(n_neighbors=5)\n",
        "pred = lof.fit_predict(data_2015_scaled)"
      ]
    },
    {
      "cell_type": "code",
      "execution_count": null,
      "metadata": {
        "id": "jg90HqKoSUYY"
      },
      "outputs": [],
      "source": [
        "pd.Series(pred).value_counts()"
      ]
    },
    {
      "cell_type": "code",
      "execution_count": null,
      "metadata": {
        "id": "Bi7ZuJFdS4fK"
      },
      "outputs": [],
      "source": [
        "# initialising an empty array, passing no of rows/entries using shape[0]\n",
        "# storing predictions for 5,7,9 neighbours in all_preds by looping n_neigh over range(5,10,2)\n",
        "\n",
        "all_preds = np.zeros(shape=(data_2015_scaled.shape[0],3))\n",
        "i=0\n",
        "for n_neigh in range(5,10,2):\n",
        "  lof=LocalOutlierFactor(n_neighbors=n_neigh)\n",
        "  pred=lof.fit_predict(data_2015_scaled)\n",
        "  all_preds[:,i]=pred\n",
        "  i+=1"
      ]
    },
    {
      "cell_type": "code",
      "execution_count": null,
      "metadata": {
        "id": "3CjGZSrkU2DH"
      },
      "outputs": [],
      "source": [
        "all_preds"
      ]
    },
    {
      "cell_type": "code",
      "execution_count": null,
      "metadata": {
        "id": "nILnF4vbVH8F"
      },
      "outputs": [],
      "source": [
        "# Sum along rows, that is sum prediction whether outlier or not according to 5,7 and 9 neighbour prediction\n",
        "\n",
        "outlier_preds = all_preds.sum(axis=1)"
      ]
    },
    {
      "cell_type": "code",
      "source": [
        "# outlier_preds"
      ],
      "metadata": {
        "id": "gmotcB2mUcPn"
      },
      "execution_count": null,
      "outputs": []
    },
    {
      "cell_type": "code",
      "source": [
        "# Summed values\n",
        "\n",
        "# np.unique(outlier_preds)"
      ],
      "metadata": {
        "id": "lZkRAX9UUtwc"
      },
      "execution_count": null,
      "outputs": []
    },
    {
      "cell_type": "code",
      "execution_count": null,
      "metadata": {
        "id": "6nHrKQOQWIhK"
      },
      "outputs": [],
      "source": [
        "# Pick points which are considered outliers by at least two out of three n_neighbours lof\n",
        "# This will happen when sum of row is 1 or 3\n",
        "# final_outlier assigns 1 to outliers\n",
        "# This is done by checking if rowsum is >= 1, that is 1 or 3\n",
        "# If two lof numbers say not outlier, we keep it\n",
        "# Like a voting method.\n",
        "\n",
        "final_outlier=np.where(outlier_preds>=1,1,-1)"
      ]
    },
    {
      "cell_type": "code",
      "source": [
        "final_outlier"
      ],
      "metadata": {
        "id": "teQDRVM4UPbk"
      },
      "execution_count": null,
      "outputs": []
    },
    {
      "cell_type": "code",
      "execution_count": null,
      "metadata": {
        "id": "LPXUaLk-WSEf"
      },
      "outputs": [],
      "source": [
        "# Checking percentage of Outliers to non-outliers from our prediction\n",
        "\n",
        "pd.Series(final_outlier).value_counts(normalize=True)"
      ]
    },
    {
      "cell_type": "markdown",
      "source": [
        "Consensus outliers:\n",
        "\n",
        "(963/36733)*100 \\\n",
        "= 2.6216208858519587%"
      ],
      "metadata": {
        "id": "ERLrrHcEWka8"
      }
    },
    {
      "cell_type": "code",
      "execution_count": null,
      "metadata": {
        "id": "SVvoodmXXeP6"
      },
      "outputs": [],
      "source": [
        "data_2015_no_outlier = data_2015[final_outlier==1]"
      ]
    },
    {
      "cell_type": "markdown",
      "source": [
        "## Multiple Linear Regression"
      ],
      "metadata": {
        "id": "t2qCQmJkYgQ2"
      }
    },
    {
      "cell_type": "markdown",
      "source": [
        "### Import Modules"
      ],
      "metadata": {
        "id": "BBE1V5f-dL8K"
      }
    },
    {
      "cell_type": "code",
      "source": [
        "import statsmodels.formula.api as sm"
      ],
      "metadata": {
        "id": "-ncXIsDRYvuu"
      },
      "execution_count": null,
      "outputs": []
    },
    {
      "cell_type": "code",
      "execution_count": null,
      "metadata": {
        "id": "XbgvOgnfaQPx"
      },
      "outputs": [],
      "source": [
        "columns=data_2015.columns"
      ]
    },
    {
      "cell_type": "code",
      "source": [
        "columns"
      ],
      "metadata": {
        "id": "BQbeMC_WZ1Qk"
      },
      "execution_count": null,
      "outputs": []
    },
    {
      "cell_type": "code",
      "source": [
        "# data_2015_NOx=data_2015_no_outlier.drop('CO',axis=1)\n",
        "# data_2015_CO=data_2015_no_outlier.drop('NOX',axis=1)"
      ],
      "metadata": {
        "id": "rUFHnlBnZ43M"
      },
      "execution_count": null,
      "outputs": []
    },
    {
      "cell_type": "markdown",
      "source": [
        "### Linear Regression"
      ],
      "metadata": {
        "id": "2zQo6nKFaKTD"
      }
    },
    {
      "cell_type": "code",
      "source": [
        "# Join column numbers 1 to 9 to pass string with formula for CO\n",
        "\n",
        "f1='CO~'+'+'.join(columns[:9])\n",
        "f1"
      ],
      "metadata": {
        "id": "P7cxWCxiaFQx"
      },
      "execution_count": null,
      "outputs": []
    },
    {
      "cell_type": "code",
      "source": [
        "r_co=sm.ols(formula=f1, data=data_2015_no_outlier)"
      ],
      "metadata": {
        "id": "NW7kAYI_ZXVZ"
      },
      "execution_count": null,
      "outputs": []
    },
    {
      "cell_type": "code",
      "source": [
        "result_co=r_co.fit()"
      ],
      "metadata": {
        "id": "hNoUypFeaVIw"
      },
      "execution_count": null,
      "outputs": []
    },
    {
      "cell_type": "code",
      "source": [
        "result_co.summary()"
      ],
      "metadata": {
        "id": "uhPNDJGEZaTg"
      },
      "execution_count": null,
      "outputs": []
    },
    {
      "cell_type": "code",
      "execution_count": null,
      "metadata": {
        "id": "WOjzitYqakvO"
      },
      "outputs": [],
      "source": [
        "# Join column numbers 1 to 9 to pass string with formula for NOx\n",
        "\n",
        "f2='NOX~'+'+'.join(columns[:9])\n",
        "f2"
      ]
    },
    {
      "cell_type": "code",
      "execution_count": null,
      "metadata": {
        "id": "OMHp8QJYayjL"
      },
      "outputs": [],
      "source": [
        "# OLS Regression\n",
        "\n",
        "r_nox=sm.ols(formula=f2, data=data_2015_no_outlier)"
      ]
    },
    {
      "cell_type": "code",
      "execution_count": null,
      "metadata": {
        "id": "uaagwIe6brIi"
      },
      "outputs": [],
      "source": [
        "result_nox=r_nox.fit()"
      ]
    },
    {
      "cell_type": "code",
      "execution_count": null,
      "metadata": {
        "id": "VWRqFUsgb13A"
      },
      "outputs": [],
      "source": [
        "result_nox.summary()"
      ]
    },
    {
      "cell_type": "markdown",
      "source": [
        "### Variable selection using Variance Inflation Factor (VIF)"
      ],
      "metadata": {
        "id": "R1vYCLu0acZT"
      }
    },
    {
      "cell_type": "code",
      "execution_count": null,
      "metadata": {
        "id": "5pvs0GVSs002"
      },
      "outputs": [],
      "source": [
        "from statsmodels.stats.outliers_influence import variance_inflation_factor"
      ]
    },
    {
      "cell_type": "code",
      "execution_count": null,
      "metadata": {
        "id": "lvy4ZPN2tkWB"
      },
      "outputs": [],
      "source": [
        "variance_inflation_factor(data_2015_no_outlier.loc[:,'AT':'CDP'].values,0)"
      ]
    },
    {
      "cell_type": "code",
      "execution_count": null,
      "metadata": {
        "id": "B6O1ut9otF2D"
      },
      "outputs": [],
      "source": [
        "[i for i in range(10)]"
      ]
    },
    {
      "cell_type": "code",
      "execution_count": null,
      "metadata": {
        "id": "TRwUndSJuDnC"
      },
      "outputs": [],
      "source": [
        "X_1 = data_2015_no_outlier.loc[:,'AT':'CDP'].copy()"
      ]
    },
    {
      "cell_type": "code",
      "execution_count": null,
      "metadata": {
        "id": "ijC8YmSBtcR1"
      },
      "outputs": [],
      "source": [
        "vif_scores = {k: v for k, v in zip(X_1.columns,\n",
        "                                   [variance_inflation_factor(X_1.values, i) \\\n",
        "                                    for i in range(len(X_1.columns))])}"
      ]
    },
    {
      "cell_type": "code",
      "execution_count": null,
      "metadata": {
        "id": "okiHGu90t8EY"
      },
      "outputs": [],
      "source": [
        "vif_scores_sorted = {k:v for k, v in sorted(vif_scores.items(),key=lambda item:item[1], reverse = True)}"
      ]
    },
    {
      "cell_type": "code",
      "execution_count": null,
      "metadata": {
        "id": "jMLz2pwKw2SC"
      },
      "outputs": [],
      "source": [
        "vif_scores_sorted"
      ]
    },
    {
      "cell_type": "code",
      "execution_count": null,
      "metadata": {
        "id": "4E4rqljNw8NJ"
      },
      "outputs": [],
      "source": [
        "# X_1.columns.drop('TIT')"
      ]
    },
    {
      "cell_type": "markdown",
      "source": [
        "#### Defining functions to select variables with lowest VIF"
      ],
      "metadata": {
        "id": "wHpeTNOxa7o9"
      }
    },
    {
      "cell_type": "code",
      "execution_count": null,
      "metadata": {
        "id": "wE09NVRqxOPM"
      },
      "outputs": [],
      "source": [
        "def var_selection_vif(data_exog: pd.DataFrame, th: int=5):\n",
        "  vif_scores = {k: v for k, v in zip(data_exog.columns,\n",
        "                                     [variance_inflation_factor(data_exog.values,i)\\\n",
        "                                      for i in range(len(data_exog.columns))])}\n",
        "  vif_scores_sorted = {k:v for k, v in sorted(vif_scores.items(),\n",
        "                                            key=lambda item:item[1],\n",
        "                                            reverse = True)}\n",
        "  if vif_scores_sorted[list(vif_scores_sorted.keys())[0]]>th:\n",
        "    vars = data_exog.columns.drop(list(vif_scores_sorted.keys())[0])\n",
        "    return (data_exog[vars], vif_scores_sorted)\n",
        "  else:\n",
        "    return(data_exog, vif_scores_sorted)"
      ]
    },
    {
      "cell_type": "code",
      "execution_count": null,
      "metadata": {
        "id": "pXC2HQ7d1COY"
      },
      "outputs": [],
      "source": [
        "n_old = len(X_1.columns)\n",
        "n_new = 0\n",
        "while n_old != n_new:\n",
        "  X_1, vif = var_selection_vif(X_1)\n",
        "  print(vif)\n",
        "  n = len(X_1.columns)\n",
        "  n_old = n_new\n",
        "  n_new= n"
      ]
    },
    {
      "cell_type": "markdown",
      "source": [
        "### Regression with variables having appropriate VIF"
      ],
      "metadata": {
        "id": "wYOhnvhLamzZ"
      }
    },
    {
      "cell_type": "code",
      "source": [
        "r_final_co = sm.ols(formula='CO~AT+AH', \n",
        "                 data = data_2015_no_outlier[list(X_1.columns)+['CO']])\n",
        "result_final_co = r_final_co.fit()\n",
        "print(result_final_co.summary())"
      ],
      "metadata": {
        "id": "yr3nkLowavsu"
      },
      "execution_count": null,
      "outputs": []
    },
    {
      "cell_type": "code",
      "execution_count": null,
      "metadata": {
        "id": "TQjURV92KdL2"
      },
      "outputs": [],
      "source": [
        "r_final_nox = sm.ols(formula='NOX~AT+AH', \n",
        "                 data = data_2015_no_outlier[list(X_1.columns)+['NOX']])\n",
        "result_final_nox = r_final_nox.fit()\n",
        "print(result_final_nox.summary())"
      ]
    },
    {
      "cell_type": "markdown",
      "source": [
        "### Variable selection using Lasso regression coefficients"
      ],
      "metadata": {
        "id": "TUd362MXcZ94"
      }
    },
    {
      "cell_type": "code",
      "execution_count": null,
      "metadata": {
        "id": "MXXDj1T2LKO7"
      },
      "outputs": [],
      "source": [
        "from sklearn.linear_model import Lasso"
      ]
    },
    {
      "cell_type": "code",
      "execution_count": null,
      "metadata": {
        "id": "9wCzsp3LLQ-c"
      },
      "outputs": [],
      "source": [
        "lasso_reg1 = Lasso(alpha=2)\n",
        "lasso_reg1.fit(X=data_2015_no_outlier.loc[:,'AT':'CDP'],\\\n",
        "              y=data_2015_no_outlier['CO'])"
      ]
    },
    {
      "cell_type": "code",
      "execution_count": null,
      "metadata": {
        "id": "l-8cZmZkLn6c"
      },
      "outputs": [],
      "source": [
        "CO_vars = {k:v for k,v in zip(data_2015_no_outlier.loc[:,'AT':'CDP'].columns, lasso_reg1.coef_)}"
      ]
    },
    {
      "cell_type": "code",
      "execution_count": null,
      "metadata": {
        "id": "ILa2XAxLMeB3"
      },
      "outputs": [],
      "source": [
        "lasso_reg1.score(X=data_2015_no_outlier.loc[:,'AT':'CDP'],\\\n",
        "              y=data_2015_no_outlier['CO'])"
      ]
    },
    {
      "cell_type": "code",
      "source": [
        "lasso_reg2 = Lasso(alpha=2)\n",
        "lasso_reg2.fit(X=data_2015_no_outlier.loc[:,'AT':'CDP'],\\\n",
        "               y=data_2015_no_outlier['NOX'])"
      ],
      "metadata": {
        "id": "euASmdGrc2v6"
      },
      "execution_count": null,
      "outputs": []
    },
    {
      "cell_type": "code",
      "source": [
        "NOx_vars = {k:v for k,v in zip(data_2015_no_outlier.loc[:,'AT':'CDP'].columns, lasso_reg2.coef_)}"
      ],
      "metadata": {
        "id": "gVeWQXH3c2tP"
      },
      "execution_count": null,
      "outputs": []
    },
    {
      "cell_type": "code",
      "source": [
        "lasso_reg2.score(X=data_2015_no_outlier.loc[:,'AT':'CDP'],\\\n",
        "                 y=data_2015_no_outlier['NOX'])"
      ],
      "metadata": {
        "id": "roCmYxfxc2qo"
      },
      "execution_count": null,
      "outputs": []
    },
    {
      "cell_type": "markdown",
      "source": [
        "### Analysis of errors"
      ],
      "metadata": {
        "id": "EDk7pxLQcQat"
      }
    },
    {
      "cell_type": "code",
      "execution_count": null,
      "metadata": {
        "id": "JYacc1mjMwUK"
      },
      "outputs": [],
      "source": [
        "errors1 = data_2015_no_outlier['CO'] - lasso_reg1.predict(data_2015_no_outlier.loc[:,'AT':'CDP'])\n",
        "d1=sns.displot(errors1)\n",
        "plt.savefig('error-plot-CO.png')"
      ]
    },
    {
      "cell_type": "code",
      "source": [
        "errors2 = data_2015_no_outlier['NOX'] - lasso_reg2.predict(data_2015_no_outlier.loc[:,'AT':'CDP'])\n",
        "d2=sns.displot(errors2)\n",
        "plt.savefig('error-plot-NOx.png')"
      ],
      "metadata": {
        "id": "x1Ja_03ydlVv"
      },
      "execution_count": null,
      "outputs": []
    },
    {
      "cell_type": "code",
      "execution_count": null,
      "metadata": {
        "id": "_gU7uDjyQGU2"
      },
      "outputs": [],
      "source": [
        "import statsmodels.api as smf"
      ]
    },
    {
      "cell_type": "code",
      "execution_count": null,
      "metadata": {
        "id": "qSfT_VUDQ_fi"
      },
      "outputs": [],
      "source": [
        "smf.qqplot(errors1)\n",
        "plt.show()\n",
        "plt.savefig('error-dist-CO.png')"
      ]
    },
    {
      "cell_type": "code",
      "source": [
        "smf.qqplot(errors2)\n",
        "plt.show()\n",
        "plt.savefig('error-dist-NOx.png')"
      ],
      "metadata": {
        "id": "lM2WO26deMXA"
      },
      "execution_count": null,
      "outputs": []
    },
    {
      "cell_type": "markdown",
      "source": [
        "### Multiple Linear Regression with relevant variables"
      ],
      "metadata": {
        "id": "kdwMMjxlcjIk"
      }
    },
    {
      "cell_type": "code",
      "source": [
        "r_co_final_combined = sm.ols(formula='CO~AT+AH+TIT+TAT',\\\n",
        "                             data = data_2015[['AT','AP','AH','TIT','TAT']+['CO']])\n",
        "result_co = r_co_final_combined.fit()\n",
        "print(result_co.summary())"
      ],
      "metadata": {
        "id": "AhiVBde8eY3s"
      },
      "execution_count": null,
      "outputs": []
    },
    {
      "cell_type": "code",
      "execution_count": null,
      "metadata": {
        "id": "rrMGFTlqRl9v"
      },
      "outputs": [],
      "source": [
        "r_nox_final_combined = sm.ols(formula='NOX~AT+AP+AH+TIT+TAT+TEY',\\\n",
        "                              data = data_2015[['AT','AP','AH','TIT','TAT','TEY']+['NOX']])\n",
        "result_nox = r_nox_final_combined.fit()\n",
        "print(result_nox.summary())"
      ]
    },
    {
      "cell_type": "markdown",
      "source": [
        "### Cook's Distance"
      ],
      "metadata": {
        "id": "wKa7q8YhfPLx"
      }
    },
    {
      "cell_type": "code",
      "execution_count": null,
      "metadata": {
        "id": "w_M_qv4KTsLf"
      },
      "outputs": [],
      "source": [
        "#cook's distnace tells the change in model when a single datapoint is dropped"
      ]
    },
    {
      "cell_type": "code",
      "execution_count": null,
      "metadata": {
        "id": "atxZqj3MT2wi"
      },
      "outputs": [],
      "source": [
        "from statsmodels.stats.outliers_influence import OLSInfluence as influence"
      ]
    },
    {
      "cell_type": "code",
      "execution_count": null,
      "metadata": {
        "id": "_FYsJxLRVKc0"
      },
      "outputs": [],
      "source": [
        "inf1 = influence(result_co)"
      ]
    },
    {
      "cell_type": "code",
      "source": [
        "inf2 = influence(result_nox)"
      ],
      "metadata": {
        "id": "WiI2HfM8r5mH"
      },
      "execution_count": null,
      "outputs": []
    },
    {
      "cell_type": "code",
      "execution_count": null,
      "metadata": {
        "id": "RmUGm9frVRnr"
      },
      "outputs": [],
      "source": [
        "inf1.cooks_distance"
      ]
    },
    {
      "cell_type": "code",
      "source": [
        "inf2.cooks_distance"
      ],
      "metadata": {
        "id": "QQLyIIxDr-MO"
      },
      "execution_count": null,
      "outputs": []
    },
    {
      "cell_type": "code",
      "execution_count": null,
      "metadata": {
        "id": "r0AcjwSsVbYH"
      },
      "outputs": [],
      "source": [
        "# Something needs to be changed here\n",
        "\n",
        "inf1.summary_frame()[inf1.summary_frame()['cooks_d']>=4/7384]"
      ]
    },
    {
      "cell_type": "code",
      "source": [
        "# Something needs to be changed here\n",
        "\n",
        "inf2.summary_frame()[inf2.summary_frame()['cooks_d']>=4/7384]"
      ],
      "metadata": {
        "id": "mppjFg1bsAYr"
      },
      "execution_count": null,
      "outputs": []
    },
    {
      "cell_type": "markdown",
      "source": [
        "## Machine Learning models"
      ],
      "metadata": {
        "id": "uU-tazgNfZF7"
      }
    },
    {
      "cell_type": "markdown",
      "source": [
        "### Importing Relevant modules"
      ],
      "metadata": {
        "id": "dvbT_z6Gfwf2"
      }
    },
    {
      "cell_type": "code",
      "source": [
        "# !pip install xgboost\n",
        "# !pip install lightgbm"
      ],
      "metadata": {
        "id": "lZHcXG3zQMVl"
      },
      "execution_count": null,
      "outputs": []
    },
    {
      "cell_type": "code",
      "execution_count": null,
      "metadata": {
        "id": "mBP38WvWWzDP"
      },
      "outputs": [],
      "source": [
        "from hyperopt import fmin, hp, STATUS_OK, tpe , Trials\n",
        "from hyperopt.pyll.base import scope\n",
        "import hyperopt"
      ]
    },
    {
      "cell_type": "code",
      "execution_count": null,
      "metadata": {
        "id": "72Z4fkf9XEAx"
      },
      "outputs": [],
      "source": [
        "from sklearn.linear_model import LinearRegression\n",
        "from sklearn.tree import DecisionTreeRegressor\n",
        "from sklearn.ensemble import AdaBoostRegressor, RandomForestRegressor, GradientBoostingRegressor\n",
        "from xgboost import XGBRegressor\n",
        "from lightgbm import LGBMRegressor"
      ]
    },
    {
      "cell_type": "code",
      "execution_count": null,
      "metadata": {
        "id": "3wZWKGvwYP3-"
      },
      "outputs": [],
      "source": [
        "lin_reg = LinearRegression()\n",
        "dt_reg = DecisionTreeRegressor()\n",
        "rf_reg = RandomForestRegressor()\n",
        "gbm_reg = GradientBoostingRegressor()\n",
        "xgb_reg = XGBRegressor()\n",
        "lgbm_reg = LGBMRegressor()"
      ]
    },
    {
      "cell_type": "markdown",
      "source": [
        "### Setting up parameter search space for hyperopt"
      ],
      "metadata": {
        "id": "wbFE1ecef5CG"
      }
    },
    {
      "cell_type": "code",
      "execution_count": null,
      "metadata": {
        "id": "xSk6PoUJYvgS"
      },
      "outputs": [],
      "source": [
        "gt_new = data_2015.loc[:,'AT':'CO']\n",
        "gt_new.shape"
      ]
    },
    {
      "cell_type": "code",
      "execution_count": null,
      "metadata": {
        "id": "qk5jvS__ZETK"
      },
      "outputs": [],
      "source": [
        "param_dt={\n",
        "    'max_depth': scope.int(hp.quniform('max_depth',2,20,1)),\n",
        "    'ccp_alpha': hp.uniform('ccp_alpha',0.001,0.1)\n",
        "}\n",
        "\n",
        "param_rf={\n",
        "    'n_estimators':scope.int(hp.quniform('n_estimators',50,500,1)),\n",
        "    'max_features':hp.choice('max_features',list(range(2,7)))\n",
        "}\n",
        "\n",
        "param_gbm = {\n",
        "    'max_depth':scope.int(hp.quniform('max_depth',1,6,1)),\n",
        "    'n_estimators':scope.int(hp.quniform('n_estimators',50,500,1)),\n",
        "    'learning_rate':hp.uniform('learning_rate',0.001,0.1)\n",
        "}\n",
        "\n",
        "param_xgb = {\n",
        "    'max_depth':scope.int(hp.quniform('max_depth',1,6,1)),\n",
        "    'n_estimators':scope.int(hp.quniform('n_estimators',50,500,1)),\n",
        "    'learning_rate':hp.uniform('learning_rate',0.001,0.1),\n",
        "    'colsample_bytree':hp.uniform('colsample_bytree',0.2,0.8)\n",
        "}\n",
        "\n",
        "param_lgbm = {\n",
        "    # 'boosting_type': 'rf',\n",
        "    'max_depth': scope.int(hp.quniform('max_depth',1,7,1)),\n",
        "    'learning_rate': hp.uniform('learning_rate',0.001,0.1),\n",
        "    'n_estimators': scope.int(hp.quniform('n_estimators',50,500,1)),\n",
        "    'colsample_bytree': hp.uniform('colsample_bytree',0.2,0.8)\n",
        "}"
      ]
    },
    {
      "cell_type": "code",
      "execution_count": null,
      "metadata": {
        "id": "5BtqD-hpbBp2"
      },
      "outputs": [],
      "source": [
        "from sklearn.metrics import make_scorer, mean_squared_error\n",
        "from sklearn.model_selection import train_test_split, cross_val_score"
      ]
    },
    {
      "cell_type": "code",
      "execution_count": null,
      "metadata": {
        "id": "OjCiyJdJbV1S"
      },
      "outputs": [],
      "source": [
        "x_train, x_test, y_train, y_test = train_test_split(gt_new.loc[:, 'AT':'CDP'],gt_new['CO'],test_size=0.3, random_state=123)"
      ]
    },
    {
      "cell_type": "code",
      "execution_count": null,
      "metadata": {
        "id": "kfYKwIdObx3N"
      },
      "outputs": [],
      "source": [
        "def rmse(y_act, y_pred):\n",
        "  return (np.sqrt(np.mean((y_act-y_pred)**2)))\n",
        "\n",
        "rmse = make_scorer(rmse, greater_is_better=False)"
      ]
    },
    {
      "cell_type": "code",
      "execution_count": null,
      "metadata": {
        "id": "20a9LXGVcdsA"
      },
      "outputs": [],
      "source": [
        "def hp_obj_func_dt(param):\n",
        "  dt= DecisionTreeRegressor(**param)\n",
        "  out=cross_val_score(dt, X=x_train, y= y_train, scoring='neg_root_mean_squared_error', cv=5).mean()\n",
        "  print(out)\n",
        "  return out"
      ]
    },
    {
      "cell_type": "code",
      "execution_count": null,
      "metadata": {
        "id": "fLlWHWHKdLQ-"
      },
      "outputs": [],
      "source": [
        "def surr_func_dt(params):\n",
        "  perf= hp_obj_func_dt(params)\n",
        "  return {'loss':-perf,'status': STATUS_OK}"
      ]
    },
    {
      "cell_type": "markdown",
      "metadata": {
        "id": "4-wiIMeoG1TH"
      },
      "source": [
        "### Linear Regression"
      ]
    },
    {
      "cell_type": "code",
      "execution_count": null,
      "metadata": {
        "id": "O-PAr6YNf2cc"
      },
      "outputs": [],
      "source": [
        "lin_reg.fit(x_train, y_train)\n",
        "pred_lin_reg = lin_reg.predict(x_test)\n",
        "print(mean_squared_error(pred_lin_reg, y_test))"
      ]
    },
    {
      "cell_type": "markdown",
      "source": [
        "### Decision Tree"
      ],
      "metadata": {
        "id": "zfsVV1ofgE-o"
      }
    },
    {
      "cell_type": "code",
      "execution_count": null,
      "metadata": {
        "id": "aolDubRYdhIP"
      },
      "outputs": [],
      "source": [
        "trials = Trials()\n",
        "best_dt = fmin(surr_func_dt, space=param_dt, algo=tpe.suggest,\n",
        "               max_evals=100, trials=trials)\n",
        "print('best_dt:')\n",
        "print(best_dt)"
      ]
    },
    {
      "cell_type": "code",
      "execution_count": null,
      "metadata": {
        "id": "EJ4-zQsgeTpi"
      },
      "outputs": [],
      "source": [
        "dt_reg = DecisionTreeRegressor(**best_dt)\n",
        "dt_reg.fit(x_train, y_train)\n",
        "pred_dt = dt_reg.predict(x_test)\n",
        "print(mean_squared_error(pred_dt, y_test))"
      ]
    },
    {
      "cell_type": "markdown",
      "metadata": {
        "id": "weHNJ8kUEXxx"
      },
      "source": [
        "### Random forest\n",
        "\n",
        "\n"
      ]
    },
    {
      "cell_type": "code",
      "execution_count": null,
      "metadata": {
        "id": "rHCZdUsKE8pK"
      },
      "outputs": [],
      "source": [
        "def hp_obj_func_rf(param):\n",
        "  rf= RandomForestRegressor(**param)\n",
        "  out=cross_val_score(rf, X=x_train, y= y_train, scoring='neg_root_mean_squared_error', cv=5).mean()\n",
        "  print(out)\n",
        "  return out"
      ]
    },
    {
      "cell_type": "code",
      "execution_count": null,
      "metadata": {
        "id": "vsjYWDz0FESs"
      },
      "outputs": [],
      "source": [
        "def surr_func_rf(params):\n",
        "  perf= hp_obj_func_rf(params)\n",
        "  return {'loss':-perf,'status': STATUS_OK}"
      ]
    },
    {
      "cell_type": "code",
      "execution_count": null,
      "metadata": {
        "id": "Tt1wvXx-CcKn"
      },
      "outputs": [],
      "source": [
        "trials = Trials()\n",
        "best_rf = fmin(surr_func_rf, space=param_rf, algo=tpe.suggest,\n",
        "               max_evals=25, trials=trials)\n",
        "print('best_rf:')\n",
        "print(best_rf)"
      ]
    },
    {
      "cell_type": "code",
      "execution_count": null,
      "metadata": {
        "id": "9Q2ce2bsJub5"
      },
      "outputs": [],
      "source": [
        "# best_rf={'max_features': 2, 'n_estimators': 451}"
      ]
    },
    {
      "cell_type": "code",
      "execution_count": null,
      "metadata": {
        "id": "L-XcIjkNGSGu"
      },
      "outputs": [],
      "source": [
        "rf_reg = RandomForestRegressor(**best_rf)\n",
        "rf_reg.fit(x_train, y_train)\n",
        "pred_rf = rf_reg.predict(x_test)\n",
        "print(mean_squared_error(pred_rf, y_test))"
      ]
    },
    {
      "cell_type": "code",
      "execution_count": null,
      "metadata": {
        "id": "HEd3Rhg6PtxG"
      },
      "outputs": [],
      "source": [
        "plt.figure(figsize=(12,12))\n",
        "for i in range(1,10):\n",
        "  plt.subplot(3,3,i)\n",
        "  sns.distplot(data_2015.iloc[:i-1])"
      ]
    },
    {
      "cell_type": "markdown",
      "source": [
        "### GBM"
      ],
      "metadata": {
        "id": "ni6rPxNngLaD"
      }
    },
    {
      "cell_type": "code",
      "source": [
        "def hp_obj_func_gbm(param):\n",
        "  gbm= GradientBoostingRegressor(**param)\n",
        "  out=cross_val_score(gbm, X=x_train, y= y_train, scoring='neg_root_mean_squared_error', cv=5).mean()\n",
        "  print(out)\n",
        "  return out"
      ],
      "metadata": {
        "id": "CI1yHOzvgWou"
      },
      "execution_count": null,
      "outputs": []
    },
    {
      "cell_type": "code",
      "source": [
        "def surr_func_gbm(params):\n",
        "  perf= hp_obj_func_gbm(params)\n",
        "  return {'loss':-perf,'status': STATUS_OK}"
      ],
      "metadata": {
        "id": "6MxXlpQJJ4KZ"
      },
      "execution_count": null,
      "outputs": []
    },
    {
      "cell_type": "code",
      "source": [
        "trials = Trials()\n",
        "best_gbm = fmin(surr_func_gbm, space=param_gbm, algo=tpe.suggest,\n",
        "               max_evals=100, trials=trials)\n",
        "print('best_gbm:')\n",
        "print(best_gbm)"
      ],
      "metadata": {
        "id": "CRz9pZTFJ4F6"
      },
      "execution_count": null,
      "outputs": []
    },
    {
      "cell_type": "code",
      "source": [
        "best_gbm"
      ],
      "metadata": {
        "id": "-KrWU8UOJ4DA"
      },
      "execution_count": null,
      "outputs": []
    },
    {
      "cell_type": "code",
      "source": [
        "gbm_reg = GradientBoostingRegressor(**best_gbm)\n",
        "gbm_reg.fit(x_train, y_train)\n",
        "pred_gbm = gbm_reg.predict(x_test)\n",
        "print(mean_squared_error(pred_gbm, y_test))"
      ],
      "metadata": {
        "id": "x-uHBFQgJ4AK"
      },
      "execution_count": null,
      "outputs": []
    },
    {
      "cell_type": "code",
      "source": [
        "gbm_reg = GradientBoostingRegressor(**best_gbm)\n",
        "gbm_reg.fit(x_train, y_train)\n",
        "pred_gbm = gbm_reg.predict(x_test)\n",
        "print(mean_squared_error(pred_gbm, y_test))"
      ],
      "metadata": {
        "id": "RfkU--gVKH21"
      },
      "execution_count": null,
      "outputs": []
    },
    {
      "cell_type": "markdown",
      "metadata": {
        "id": "HYJY7dOqeKgA"
      },
      "source": [
        "### XgBoost"
      ]
    },
    {
      "cell_type": "code",
      "execution_count": null,
      "metadata": {
        "id": "ie8ErSixeV6-"
      },
      "outputs": [],
      "source": [
        "def hp_obj_func_xgb(param):\n",
        "  xgb= XGBRegressor(**param)\n",
        "  out=cross_val_score(xgb, X=x_train, y= y_train, scoring='neg_root_mean_squared_error', cv=5).mean()\n",
        "  print(out)\n",
        "  return out"
      ]
    },
    {
      "cell_type": "code",
      "execution_count": null,
      "metadata": {
        "id": "d9Rr4_oTeaGU"
      },
      "outputs": [],
      "source": [
        "def surr_func_xgb(params):\n",
        "  perf= hp_obj_func_xgb(params)\n",
        "  return {'loss':-perf,'status': STATUS_OK}"
      ]
    },
    {
      "cell_type": "code",
      "execution_count": null,
      "metadata": {
        "id": "M-No8HQaeatA"
      },
      "outputs": [],
      "source": [
        "trials = Trials()\n",
        "best_xgb = fmin(surr_func_xgb, space=param_xgb, algo=tpe.suggest,\n",
        "               max_evals=100, trials=trials)\n",
        "print('best_xgb:')\n",
        "print(best_xgb)"
      ]
    },
    {
      "cell_type": "code",
      "execution_count": null,
      "metadata": {
        "id": "JCjgj0aZeanI"
      },
      "outputs": [],
      "source": [
        "# best_xgb = {'colsample_bytree': 0.5904951775918889, 'learning_rate': 0.024729072063200287, 'max_depth': 5, 'n_estimators': 267}"
      ]
    },
    {
      "cell_type": "code",
      "execution_count": null,
      "metadata": {
        "id": "wTFykYXMh3hk"
      },
      "outputs": [],
      "source": [
        "# best_xgb = {'colsample_bytree': 0.7974445913518547, 'learning_rate': 0.09830911482175203, 'max_depth': 5, 'n_estimators': 380}"
      ]
    },
    {
      "cell_type": "code",
      "source": [
        "best_xgb"
      ],
      "metadata": {
        "id": "FurpJPjQInpQ"
      },
      "execution_count": null,
      "outputs": []
    },
    {
      "cell_type": "code",
      "execution_count": null,
      "metadata": {
        "id": "dN7_wCe0eakS"
      },
      "outputs": [],
      "source": [
        "xgb_reg = XGBRegressor(**best_xgb)\n",
        "xgb_reg.fit(x_train, y_train)\n",
        "pred_xgb = xgb_reg.predict(x_test)\n",
        "print(mean_squared_error(pred_xgb, y_test))"
      ]
    },
    {
      "cell_type": "code",
      "execution_count": null,
      "metadata": {
        "id": "7UdboPABrV50"
      },
      "outputs": [],
      "source": [
        "xgb_reg = XGBRegressor(**best_xgb)\n",
        "xgb_reg.fit(x_train, y_train)\n",
        "pred_xgb = xgb_reg.predict(x_test)\n",
        "print(mean_squared_error(pred_xgb, y_test))"
      ]
    },
    {
      "cell_type": "code",
      "execution_count": null,
      "metadata": {
        "id": "WAvG6yroeahL"
      },
      "outputs": [],
      "source": [
        "plt.figure(figsize=(12,12))\n",
        "for i in range(1,10):\n",
        "  plt.subplot(3,3,i)\n",
        "  sns.distplot(data_2015.iloc[:i-1])"
      ]
    },
    {
      "cell_type": "markdown",
      "source": [
        "### LightGBM"
      ],
      "metadata": {
        "id": "Sh4yxBmQgOiw"
      }
    },
    {
      "cell_type": "code",
      "source": [
        "def hp_obj_func_lgbm(param):\n",
        "  lgbm= LGBMRegressor(**param)\n",
        "  out=cross_val_score(lgbm, X=x_train, y= y_train, scoring='neg_root_mean_squared_error', cv=5).mean()\n",
        "  print(out)\n",
        "  return out"
      ],
      "metadata": {
        "id": "YMKa-GArOnUf"
      },
      "execution_count": null,
      "outputs": []
    },
    {
      "cell_type": "code",
      "source": [
        "def surr_func_lgbm(params):\n",
        "  perf= hp_obj_func_lgbm(params)\n",
        "  return {'loss':-perf,'status': STATUS_OK}"
      ],
      "metadata": {
        "id": "XtqSKj8nQhjO"
      },
      "execution_count": null,
      "outputs": []
    },
    {
      "cell_type": "code",
      "source": [
        "trials = Trials()\n",
        "best_lgbm = fmin(surr_func_lgbm, space=param_lgbm, algo=tpe.suggest,\n",
        "               max_evals=500, trials=trials)\n",
        "print('best_lgbm:')\n",
        "print(best_lgbm)"
      ],
      "metadata": {
        "id": "-PEBe6INQhck"
      },
      "execution_count": null,
      "outputs": []
    },
    {
      "cell_type": "code",
      "source": [
        "# best_lgbm = {'colsample_bytree': 0.6669160688292152,\n",
        "#              'learning_rate': 0.07968656287632815,\n",
        "#              'max_depth': 6,\n",
        "#              'n_estimators': 491}"
      ],
      "metadata": {
        "id": "_PT6TDnvQhZk"
      },
      "execution_count": null,
      "outputs": []
    },
    {
      "cell_type": "code",
      "source": [
        "lgbm_reg = LGBMRegressor( **best_lgbm)\n",
        "lgbm_reg.fit(x_train, y_train)\n",
        "pred_lgbm = lgbm_reg.predict(x_test)\n",
        "print(mean_squared_error(pred_lgbm, y_test))"
      ],
      "metadata": {
        "id": "-nxDDI4uQ-l6"
      },
      "execution_count": null,
      "outputs": []
    },
    {
      "cell_type": "code",
      "source": [
        "# lgbm = LGBMRegressor(boosting_type = 'rf', \\\n",
        "#                      num_leaves = \\\n",
        "#                      max_depth = \\\n",
        "#                      learning_rate = \\\n",
        "#                      n_estimators = \\\n",
        "#                      objective='regression', \\\n",
        "#                      random_state=123\\\n",
        "#                      n_jobs)\n",
        "\n",
        "# lgbm.fit(X, y)\n",
        "\n",
        "# y_pred = lgbm.predict(X_test)"
      ],
      "metadata": {
        "id": "WlbCD-kSgYbE"
      },
      "execution_count": null,
      "outputs": []
    },
    {
      "cell_type": "markdown",
      "source": [
        "### SVM"
      ],
      "metadata": {
        "id": "Vj3QMimRLm1A"
      }
    },
    {
      "cell_type": "code",
      "source": [
        "from sklearn.svm import SVR\n",
        "svr_linear = SVR(kernel='linear',gamma='scale', C=1.0, epsilon=0.1)\n",
        "svr_linear.fit(x_train, y_train)"
      ],
      "metadata": {
        "id": "nIJo3la5LlkG"
      },
      "execution_count": null,
      "outputs": []
    },
    {
      "cell_type": "code",
      "source": [
        "svr_linear.score(x_test,y_test)"
      ],
      "metadata": {
        "id": "91w4Uj8lL37G"
      },
      "execution_count": null,
      "outputs": []
    },
    {
      "cell_type": "code",
      "source": [
        "svr_rbf = SVR(kernel='rbf',gamma='scale', C=1.0, epsilon=0.1)\n",
        "svr_rbf.fit(x_train, y_train) "
      ],
      "metadata": {
        "id": "dV0EnUV9L35B"
      },
      "execution_count": null,
      "outputs": []
    },
    {
      "cell_type": "code",
      "source": [
        "svr_rbf.score(x_test,y_test)"
      ],
      "metadata": {
        "id": "XKALmkt2L32L"
      },
      "execution_count": null,
      "outputs": []
    },
    {
      "cell_type": "code",
      "source": [
        "from sklearn.metrics import mean_squared_error"
      ],
      "metadata": {
        "id": "N3c3orvdL3zo"
      },
      "execution_count": null,
      "outputs": []
    },
    {
      "cell_type": "code",
      "source": [
        "print(\"RMSE for linear SVR:\",np.sqrt(mean_squared_error(y_test,svr_linear.predict(x_test))))\n",
        "print(\"RMSE for RBF kernelized SVR:\",np.sqrt(mean_squared_error(y_test,svr_rbf.predict(x_test))))"
      ],
      "metadata": {
        "id": "dAw1W8UzMIlX"
      },
      "execution_count": null,
      "outputs": []
    },
    {
      "cell_type": "markdown",
      "source": [
        "### Code Last Run:"
      ],
      "metadata": {
        "id": "tBEqjilGqCFT"
      }
    },
    {
      "cell_type": "code",
      "source": [
        "from datetime import datetime\n",
        "import pytz\n",
        "print('signed off at  ',datetime.now(pytz.timezone('Asia/Kolkata')))"
      ],
      "metadata": {
        "id": "fRL8otw8qA-K"
      },
      "execution_count": null,
      "outputs": []
    },
    {
      "cell_type": "markdown",
      "metadata": {
        "id": "Ma4g1dqQPQEZ"
      },
      "source": [
        "## Hypothesis Testing"
      ]
    },
    {
      "cell_type": "markdown",
      "metadata": {
        "id": "EE44-3dBaEUt"
      },
      "source": [
        "###Z-Test 2 sample test\n"
      ]
    },
    {
      "cell_type": "code",
      "execution_count": null,
      "metadata": {
        "id": "GgDO7N9hPPZ0"
      },
      "outputs": [],
      "source": [
        "import math\n",
        "import numpy as np\n",
        "from numpy.random import randn\n",
        "from statsmodels.stats.weightstats import ztest as ztest\n",
        "import pandas as pd\n",
        "\n"
      ]
    },
    {
      "cell_type": "code",
      "execution_count": null,
      "metadata": {
        "id": "kUau8HWdRo9r"
      },
      "outputs": [],
      "source": [
        "df1=pd.concat([pd.read_csv(\"gt_2011.csv\"),pd.read_csv(\"gt_2012.csv\"),pd.read_csv(\"gt_2013.csv\"),pd.read_csv(\"gt_2014.csv\")],axis=0)\n",
        "df2=pd.read_csv(\"gt_2015.csv\")\n",
        "df3=pd.read_csv(\"gt_2014.csv\")\n"
      ]
    },
    {
      "cell_type": "code",
      "execution_count": null,
      "metadata": {
        "id": "V3nQMLU9bhs7"
      },
      "outputs": [],
      "source": [
        "ztest(df3['NOX'], value=np.mean(df2['NOX']))"
      ]
    },
    {
      "cell_type": "markdown",
      "metadata": {
        "id": "sGIRMcAxaokR"
      },
      "source": [
        "Conclusion: The mean value of NOX emission for 2015 is  equal to the mean value of the NOX emissions of years from 2014."
      ]
    },
    {
      "cell_type": "code",
      "execution_count": null,
      "metadata": {
        "id": "RVW-OwEYa_EI"
      },
      "outputs": [],
      "source": [
        "ztest(df3['CO'], value= np.mean(df2['CO'])) "
      ]
    },
    {
      "cell_type": "markdown",
      "metadata": {
        "id": "YggmwxXGeGV2"
      },
      "source": [
        "Conclusion: The mean value of CO emission for 2015 is not equal to the mean value of the CO emissions of years from 2014."
      ]
    },
    {
      "cell_type": "markdown",
      "metadata": {
        "id": "mqD8s53DaMPJ"
      },
      "source": [
        "###ANOVA"
      ]
    },
    {
      "cell_type": "code",
      "execution_count": null,
      "metadata": {
        "id": "k9Q8IQoraLFi"
      },
      "outputs": [],
      "source": [
        "from scipy.stats import f_oneway\n",
        "# result= f_oneway(pd.read_csv(\"gt_2011.csv\")['NOX'],pd.read_csv(\"gt_2012.csv\")['NOX'],pd.read_csv(\"gt_2013.csv\")['NOX'],pd.read_csv(\"gt_2014.csv\")['NOX'],df2['NOX'])\n",
        "result= f_oneway(pd.read_csv(\"gt_2011.csv\")['NOX'],pd.read_csv(\"gt_2012.csv\")['NOX'])\n",
        "result"
      ]
    }
  ],
  "metadata": {
    "colab": {
      "provenance": [],
      "collapsed_sections": [
        "VryRaYvMYFkj",
        "_tnn0yQOYTVL",
        "R_tLIV8FYmFt",
        "P59MNe_FYLbJ",
        "dZrytQf1YO2D",
        "t2qCQmJkYgQ2",
        "BBE1V5f-dL8K",
        "2zQo6nKFaKTD",
        "R1vYCLu0acZT",
        "wHpeTNOxa7o9",
        "wYOhnvhLamzZ",
        "TUd362MXcZ94",
        "EDk7pxLQcQat",
        "kdwMMjxlcjIk",
        "wKa7q8YhfPLx",
        "dvbT_z6Gfwf2",
        "4-wiIMeoG1TH",
        "zfsVV1ofgE-o",
        "weHNJ8kUEXxx",
        "ni6rPxNngLaD",
        "HYJY7dOqeKgA",
        "Sh4yxBmQgOiw",
        "Vj3QMimRLm1A",
        "tBEqjilGqCFT",
        "Ma4g1dqQPQEZ",
        "EE44-3dBaEUt",
        "mqD8s53DaMPJ"
      ],
      "include_colab_link": true
    },
    "gpuClass": "standard",
    "kernelspec": {
      "display_name": "Python 3",
      "name": "python3"
    },
    "language_info": {
      "name": "python"
    }
  },
  "nbformat": 4,
  "nbformat_minor": 0
}