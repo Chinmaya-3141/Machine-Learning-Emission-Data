{
  "cells": [
    {
      "cell_type": "markdown",
      "metadata": {
        "id": "view-in-github",
        "colab_type": "text"
      },
      "source": [
        "<a href=\"https://colab.research.google.com/github/Chinmaya-3141/Machine-Learning-Emission-Data/blob/edit1/25_01_2023_MSE_Presentation_File.ipynb\" target=\"_parent\"><img src=\"https://colab.research.google.com/assets/colab-badge.svg\" alt=\"Open In Colab\"/></a>"
      ]
    },
    {
      "cell_type": "markdown",
      "source": [
        "# **Gas Turbine Emission Data**"
      ],
      "metadata": {
        "id": "K7c13I_-X1Gg"
      }
    },
    {
      "cell_type": "markdown",
      "source": [
        "### Fetch Data"
      ],
      "metadata": {
        "id": "VryRaYvMYFkj"
      }
    },
    {
      "cell_type": "code",
      "execution_count": 1,
      "metadata": {
        "colab": {
          "base_uri": "https://localhost:8080/"
        },
        "id": "ER-Lp-gKNpIw",
        "outputId": "4ee0787a-c7a9-471b-d780-f5ad0bd365cc"
      },
      "outputs": [
        {
          "output_type": "stream",
          "name": "stdout",
          "text": [
            "--2023-02-13 05:48:22--  https://archive.ics.uci.edu/ml/machine-learning-databases/00551/pp_gas_emission.zip\n",
            "Resolving archive.ics.uci.edu (archive.ics.uci.edu)... 128.195.10.252\n",
            "Connecting to archive.ics.uci.edu (archive.ics.uci.edu)|128.195.10.252|:443... connected.\n",
            "HTTP request sent, awaiting response... 200 OK\n",
            "Length: 1090294 (1.0M) [application/x-httpd-php]\n",
            "Saving to: ‘pp_gas_emission.zip’\n",
            "\n",
            "\rpp_gas_emission.zip   0%[                    ]       0  --.-KB/s               \rpp_gas_emission.zip 100%[===================>]   1.04M  --.-KB/s    in 0.06s   \n",
            "\n",
            "2023-02-13 05:48:22 (18.2 MB/s) - ‘pp_gas_emission.zip’ saved [1090294/1090294]\n",
            "\n"
          ]
        }
      ],
      "source": [
        "!wget https://archive.ics.uci.edu/ml/machine-learning-databases/00551/pp_gas_emission.zip"
      ]
    },
    {
      "cell_type": "code",
      "execution_count": 2,
      "metadata": {
        "colab": {
          "base_uri": "https://localhost:8080/"
        },
        "id": "Nb1xKBjKNs8M",
        "outputId": "22e9e16f-2add-43c9-8508-76042984d1b6"
      },
      "outputs": [
        {
          "output_type": "stream",
          "name": "stdout",
          "text": [
            "Archive:  pp_gas_emission.zip\n",
            "  inflating: gt_2011.csv             \n",
            "  inflating: gt_2012.csv             \n",
            "  inflating: gt_2013.csv             \n",
            "  inflating: gt_2014.csv             \n",
            "  inflating: gt_2015.csv             \n"
          ]
        }
      ],
      "source": [
        "!unzip pp_gas_emission.zip"
      ]
    },
    {
      "cell_type": "markdown",
      "source": [
        "## Preprocessing"
      ],
      "metadata": {
        "id": "_tnn0yQOYTVL"
      }
    },
    {
      "cell_type": "markdown",
      "source": [
        "### Import Data"
      ],
      "metadata": {
        "id": "R_tLIV8FYmFt"
      }
    },
    {
      "cell_type": "code",
      "execution_count": 3,
      "metadata": {
        "id": "TK9Au794NvI5"
      },
      "outputs": [],
      "source": [
        "import pandas as pd\n",
        "import numpy as np\n",
        "import seaborn as sns\n",
        "import matplotlib.pyplot as plt\n",
        "import seaborn as sns"
      ]
    },
    {
      "cell_type": "code",
      "execution_count": 4,
      "metadata": {
        "id": "rHgJaQKJ61AN"
      },
      "outputs": [],
      "source": [
        "data_2015=pd.concat([pd.read_csv(\"gt_2011.csv\"),\\\n",
        "                     pd.read_csv(\"gt_2012.csv\"),\\\n",
        "                     pd.read_csv(\"gt_2013.csv\"),\\\n",
        "                     pd.read_csv(\"gt_2014.csv\"),\\\n",
        "                     pd.read_csv(\"gt_2015.csv\")],\\\n",
        "                    axis=0)"
      ]
    },
    {
      "cell_type": "code",
      "execution_count": 5,
      "metadata": {
        "colab": {
          "base_uri": "https://localhost:8080/"
        },
        "id": "4YR5UZVd7FgA",
        "outputId": "041f5cf3-6815-4a9a-fb63-344d35115f29"
      },
      "outputs": [
        {
          "output_type": "execute_result",
          "data": {
            "text/plain": [
              "(36733, 11)"
            ]
          },
          "metadata": {},
          "execution_count": 5
        }
      ],
      "source": [
        "data_2015.shape"
      ]
    },
    {
      "cell_type": "code",
      "execution_count": 6,
      "metadata": {
        "colab": {
          "base_uri": "https://localhost:8080/",
          "height": 344
        },
        "id": "YQuAuxRuN30N",
        "outputId": "48ec7e5d-ae51-4011-dfbe-fb94ca690583"
      },
      "outputs": [
        {
          "output_type": "execute_result",
          "data": {
            "text/plain": [
              "                 AT            AP            AH          AFDP          GTEP  \\\n",
              "count  36733.000000  36733.000000  36733.000000  36733.000000  36733.000000   \n",
              "mean      17.712726   1013.070165     77.867015      3.925518     25.563801   \n",
              "std        7.447451      6.463346     14.461355      0.773936      4.195957   \n",
              "min       -6.234800    985.850000     24.085000      2.087400     17.698000   \n",
              "25%       11.781000   1008.800000     68.188000      3.355600     23.129000   \n",
              "50%       17.801000   1012.600000     80.470000      3.937700     25.104000   \n",
              "75%       23.665000   1017.000000     89.376000      4.376900     29.061000   \n",
              "max       37.103000   1036.600000    100.200000      7.610600     40.716000   \n",
              "\n",
              "                TIT           TAT           TEY           CDP            CO  \\\n",
              "count  36733.000000  36733.000000  36733.000000  36733.000000  36733.000000   \n",
              "mean    1081.428084    546.158517    133.506404     12.060525      2.372468   \n",
              "std       17.536373      6.842360     15.618634      1.088795      2.262672   \n",
              "min     1000.800000    511.040000    100.020000      9.851800      0.000388   \n",
              "25%     1071.800000    544.720000    124.450000     11.435000      1.182400   \n",
              "50%     1085.900000    549.880000    133.730000     11.965000      1.713500   \n",
              "75%     1097.000000    550.040000    144.080000     12.855000      2.842900   \n",
              "max     1100.900000    550.610000    179.500000     15.159000     44.103000   \n",
              "\n",
              "                NOX  \n",
              "count  36733.000000  \n",
              "mean      65.293067  \n",
              "std       11.678357  \n",
              "min       25.905000  \n",
              "25%       57.162000  \n",
              "50%       63.849000  \n",
              "75%       71.548000  \n",
              "max      119.910000  "
            ],
            "text/html": [
              "\n",
              "  <div id=\"df-5e898038-8a28-4b97-b29c-b30e654bd3a7\">\n",
              "    <div class=\"colab-df-container\">\n",
              "      <div>\n",
              "<style scoped>\n",
              "    .dataframe tbody tr th:only-of-type {\n",
              "        vertical-align: middle;\n",
              "    }\n",
              "\n",
              "    .dataframe tbody tr th {\n",
              "        vertical-align: top;\n",
              "    }\n",
              "\n",
              "    .dataframe thead th {\n",
              "        text-align: right;\n",
              "    }\n",
              "</style>\n",
              "<table border=\"1\" class=\"dataframe\">\n",
              "  <thead>\n",
              "    <tr style=\"text-align: right;\">\n",
              "      <th></th>\n",
              "      <th>AT</th>\n",
              "      <th>AP</th>\n",
              "      <th>AH</th>\n",
              "      <th>AFDP</th>\n",
              "      <th>GTEP</th>\n",
              "      <th>TIT</th>\n",
              "      <th>TAT</th>\n",
              "      <th>TEY</th>\n",
              "      <th>CDP</th>\n",
              "      <th>CO</th>\n",
              "      <th>NOX</th>\n",
              "    </tr>\n",
              "  </thead>\n",
              "  <tbody>\n",
              "    <tr>\n",
              "      <th>count</th>\n",
              "      <td>36733.000000</td>\n",
              "      <td>36733.000000</td>\n",
              "      <td>36733.000000</td>\n",
              "      <td>36733.000000</td>\n",
              "      <td>36733.000000</td>\n",
              "      <td>36733.000000</td>\n",
              "      <td>36733.000000</td>\n",
              "      <td>36733.000000</td>\n",
              "      <td>36733.000000</td>\n",
              "      <td>36733.000000</td>\n",
              "      <td>36733.000000</td>\n",
              "    </tr>\n",
              "    <tr>\n",
              "      <th>mean</th>\n",
              "      <td>17.712726</td>\n",
              "      <td>1013.070165</td>\n",
              "      <td>77.867015</td>\n",
              "      <td>3.925518</td>\n",
              "      <td>25.563801</td>\n",
              "      <td>1081.428084</td>\n",
              "      <td>546.158517</td>\n",
              "      <td>133.506404</td>\n",
              "      <td>12.060525</td>\n",
              "      <td>2.372468</td>\n",
              "      <td>65.293067</td>\n",
              "    </tr>\n",
              "    <tr>\n",
              "      <th>std</th>\n",
              "      <td>7.447451</td>\n",
              "      <td>6.463346</td>\n",
              "      <td>14.461355</td>\n",
              "      <td>0.773936</td>\n",
              "      <td>4.195957</td>\n",
              "      <td>17.536373</td>\n",
              "      <td>6.842360</td>\n",
              "      <td>15.618634</td>\n",
              "      <td>1.088795</td>\n",
              "      <td>2.262672</td>\n",
              "      <td>11.678357</td>\n",
              "    </tr>\n",
              "    <tr>\n",
              "      <th>min</th>\n",
              "      <td>-6.234800</td>\n",
              "      <td>985.850000</td>\n",
              "      <td>24.085000</td>\n",
              "      <td>2.087400</td>\n",
              "      <td>17.698000</td>\n",
              "      <td>1000.800000</td>\n",
              "      <td>511.040000</td>\n",
              "      <td>100.020000</td>\n",
              "      <td>9.851800</td>\n",
              "      <td>0.000388</td>\n",
              "      <td>25.905000</td>\n",
              "    </tr>\n",
              "    <tr>\n",
              "      <th>25%</th>\n",
              "      <td>11.781000</td>\n",
              "      <td>1008.800000</td>\n",
              "      <td>68.188000</td>\n",
              "      <td>3.355600</td>\n",
              "      <td>23.129000</td>\n",
              "      <td>1071.800000</td>\n",
              "      <td>544.720000</td>\n",
              "      <td>124.450000</td>\n",
              "      <td>11.435000</td>\n",
              "      <td>1.182400</td>\n",
              "      <td>57.162000</td>\n",
              "    </tr>\n",
              "    <tr>\n",
              "      <th>50%</th>\n",
              "      <td>17.801000</td>\n",
              "      <td>1012.600000</td>\n",
              "      <td>80.470000</td>\n",
              "      <td>3.937700</td>\n",
              "      <td>25.104000</td>\n",
              "      <td>1085.900000</td>\n",
              "      <td>549.880000</td>\n",
              "      <td>133.730000</td>\n",
              "      <td>11.965000</td>\n",
              "      <td>1.713500</td>\n",
              "      <td>63.849000</td>\n",
              "    </tr>\n",
              "    <tr>\n",
              "      <th>75%</th>\n",
              "      <td>23.665000</td>\n",
              "      <td>1017.000000</td>\n",
              "      <td>89.376000</td>\n",
              "      <td>4.376900</td>\n",
              "      <td>29.061000</td>\n",
              "      <td>1097.000000</td>\n",
              "      <td>550.040000</td>\n",
              "      <td>144.080000</td>\n",
              "      <td>12.855000</td>\n",
              "      <td>2.842900</td>\n",
              "      <td>71.548000</td>\n",
              "    </tr>\n",
              "    <tr>\n",
              "      <th>max</th>\n",
              "      <td>37.103000</td>\n",
              "      <td>1036.600000</td>\n",
              "      <td>100.200000</td>\n",
              "      <td>7.610600</td>\n",
              "      <td>40.716000</td>\n",
              "      <td>1100.900000</td>\n",
              "      <td>550.610000</td>\n",
              "      <td>179.500000</td>\n",
              "      <td>15.159000</td>\n",
              "      <td>44.103000</td>\n",
              "      <td>119.910000</td>\n",
              "    </tr>\n",
              "  </tbody>\n",
              "</table>\n",
              "</div>\n",
              "      <button class=\"colab-df-convert\" onclick=\"convertToInteractive('df-5e898038-8a28-4b97-b29c-b30e654bd3a7')\"\n",
              "              title=\"Convert this dataframe to an interactive table.\"\n",
              "              style=\"display:none;\">\n",
              "        \n",
              "  <svg xmlns=\"http://www.w3.org/2000/svg\" height=\"24px\"viewBox=\"0 0 24 24\"\n",
              "       width=\"24px\">\n",
              "    <path d=\"M0 0h24v24H0V0z\" fill=\"none\"/>\n",
              "    <path d=\"M18.56 5.44l.94 2.06.94-2.06 2.06-.94-2.06-.94-.94-2.06-.94 2.06-2.06.94zm-11 1L8.5 8.5l.94-2.06 2.06-.94-2.06-.94L8.5 2.5l-.94 2.06-2.06.94zm10 10l.94 2.06.94-2.06 2.06-.94-2.06-.94-.94-2.06-.94 2.06-2.06.94z\"/><path d=\"M17.41 7.96l-1.37-1.37c-.4-.4-.92-.59-1.43-.59-.52 0-1.04.2-1.43.59L10.3 9.45l-7.72 7.72c-.78.78-.78 2.05 0 2.83L4 21.41c.39.39.9.59 1.41.59.51 0 1.02-.2 1.41-.59l7.78-7.78 2.81-2.81c.8-.78.8-2.07 0-2.86zM5.41 20L4 18.59l7.72-7.72 1.47 1.35L5.41 20z\"/>\n",
              "  </svg>\n",
              "      </button>\n",
              "      \n",
              "  <style>\n",
              "    .colab-df-container {\n",
              "      display:flex;\n",
              "      flex-wrap:wrap;\n",
              "      gap: 12px;\n",
              "    }\n",
              "\n",
              "    .colab-df-convert {\n",
              "      background-color: #E8F0FE;\n",
              "      border: none;\n",
              "      border-radius: 50%;\n",
              "      cursor: pointer;\n",
              "      display: none;\n",
              "      fill: #1967D2;\n",
              "      height: 32px;\n",
              "      padding: 0 0 0 0;\n",
              "      width: 32px;\n",
              "    }\n",
              "\n",
              "    .colab-df-convert:hover {\n",
              "      background-color: #E2EBFA;\n",
              "      box-shadow: 0px 1px 2px rgba(60, 64, 67, 0.3), 0px 1px 3px 1px rgba(60, 64, 67, 0.15);\n",
              "      fill: #174EA6;\n",
              "    }\n",
              "\n",
              "    [theme=dark] .colab-df-convert {\n",
              "      background-color: #3B4455;\n",
              "      fill: #D2E3FC;\n",
              "    }\n",
              "\n",
              "    [theme=dark] .colab-df-convert:hover {\n",
              "      background-color: #434B5C;\n",
              "      box-shadow: 0px 1px 3px 1px rgba(0, 0, 0, 0.15);\n",
              "      filter: drop-shadow(0px 1px 2px rgba(0, 0, 0, 0.3));\n",
              "      fill: #FFFFFF;\n",
              "    }\n",
              "  </style>\n",
              "\n",
              "      <script>\n",
              "        const buttonEl =\n",
              "          document.querySelector('#df-5e898038-8a28-4b97-b29c-b30e654bd3a7 button.colab-df-convert');\n",
              "        buttonEl.style.display =\n",
              "          google.colab.kernel.accessAllowed ? 'block' : 'none';\n",
              "\n",
              "        async function convertToInteractive(key) {\n",
              "          const element = document.querySelector('#df-5e898038-8a28-4b97-b29c-b30e654bd3a7');\n",
              "          const dataTable =\n",
              "            await google.colab.kernel.invokeFunction('convertToInteractive',\n",
              "                                                     [key], {});\n",
              "          if (!dataTable) return;\n",
              "\n",
              "          const docLinkHtml = 'Like what you see? Visit the ' +\n",
              "            '<a target=\"_blank\" href=https://colab.research.google.com/notebooks/data_table.ipynb>data table notebook</a>'\n",
              "            + ' to learn more about interactive tables.';\n",
              "          element.innerHTML = '';\n",
              "          dataTable['output_type'] = 'display_data';\n",
              "          await google.colab.output.renderOutput(dataTable, element);\n",
              "          const docLink = document.createElement('div');\n",
              "          docLink.innerHTML = docLinkHtml;\n",
              "          element.appendChild(docLink);\n",
              "        }\n",
              "      </script>\n",
              "    </div>\n",
              "  </div>\n",
              "  "
            ]
          },
          "metadata": {},
          "execution_count": 6
        }
      ],
      "source": [
        "data_2015.describe()"
      ]
    },
    {
      "cell_type": "markdown",
      "source": [
        "### EDA"
      ],
      "metadata": {
        "id": "P59MNe_FYLbJ"
      }
    },
    {
      "cell_type": "code",
      "execution_count": 7,
      "metadata": {
        "colab": {
          "base_uri": "https://localhost:8080/",
          "height": 721
        },
        "id": "ffyI3etQOyPL",
        "outputId": "2e9abaeb-6b8d-465a-ed12-0b72b13cfed9"
      },
      "outputs": [
        {
          "output_type": "execute_result",
          "data": {
            "text/plain": [
              "<matplotlib.axes._subplots.AxesSubplot at 0x7fe866c60550>"
            ]
          },
          "metadata": {},
          "execution_count": 7
        },
        {
          "output_type": "display_data",
          "data": {
            "text/plain": [
              "<Figure size 864x864 with 2 Axes>"
            ],
            "image/png": "[encoded data removed]"
          },
          "metadata": {
            "needs_background": "light"
          }
        }
      ],
      "source": [
        "# Showing correlation of all variables among each other and not selecting target variables\n",
        "\n",
        "plt.figure(figsize=(12,12))\n",
        "sns.heatmap(data_2015.loc[:,'AT':'CDP'].corr(),annot=True)\n",
        "# plt.savefig(\"corr.png\")"
      ]
    },
    {
      "cell_type": "code",
      "execution_count": 8,
      "metadata": {
        "id": "-_bZqXvzQRFE"
      },
      "outputs": [],
      "source": [
        "# import seaborn as sns\n",
        "# import matplotlib.pyplot as plt\n",
        "# plt.rcParams['figure.figsize']=(16,7)\n",
        "# f, (ax1,ax2,ax3,ax4,ax5,ax6,ax7,ax8,ax9) = plt.subplots(1,9)\n",
        "# sns.boxplot(data=data_2015['AT'], ax=ax1, palette = 'coolwarm')\n",
        "# sns.boxplot(data=data_2015['AP'], ax=ax2)\n",
        "# sns.boxplot(data=data_2015['AH'], ax=ax3, palette = 'coolwarm')\n",
        "# sns.boxplot(data=data_2015['AFDP'], ax=ax4)\n",
        "# sns.boxplot(data=data_2015['GTEP'], ax=ax5, palette='coolwarm')\n",
        "# sns.boxplot(data=data_2015['TIT'], ax=ax6)\n",
        "# sns.boxplot(data=data_2015['TAT'], ax=ax7, palette='coolwarm')\n",
        "# sns.boxplot(data=data_2015['TEY'], ax=ax8)\n",
        "# sns.boxplot(data=data_2015['CDP'], ax=ax9, palette = 'coolwarm')\n",
        "# f.tight_layout()\n",
        "# plt.savefig(\"boxplot.png\")"
      ]
    },
    {
      "cell_type": "code",
      "execution_count": 9,
      "metadata": {
        "id": "s-llaCxMilLI"
      },
      "outputs": [],
      "source": [
        "# data_2015.to_csv()"
      ]
    },
    {
      "cell_type": "markdown",
      "source": [
        "### Outlier Treatment"
      ],
      "metadata": {
        "id": "dZrytQf1YO2D"
      }
    },
    {
      "cell_type": "code",
      "execution_count": 10,
      "metadata": {
        "id": "cYhpNYmaP5Pz"
      },
      "outputs": [],
      "source": [
        "#LOF is a robust outlier detection method in ML\n",
        "\n",
        "from sklearn.neighbors import LocalOutlierFactor\n",
        "from sklearn.preprocessing import StandardScaler"
      ]
    },
    {
      "cell_type": "code",
      "execution_count": 11,
      "metadata": {
        "id": "SnBFVd6dQ_RY"
      },
      "outputs": [],
      "source": [
        "# Scaling all variables except for target variables\n",
        "\n",
        "data_2015_scaled= StandardScaler().fit_transform(data_2015.loc[:,'AT':'CDP'])"
      ]
    },
    {
      "cell_type": "code",
      "execution_count": 12,
      "metadata": {
        "colab": {
          "base_uri": "https://localhost:8080/"
        },
        "id": "b_ZHolwHRgbQ",
        "outputId": "d59a314a-2c8e-41d1-8fe9-c0113a28e1a3"
      },
      "outputs": [
        {
          "output_type": "execute_result",
          "data": {
            "text/plain": [
              "(36733, 11)"
            ]
          },
          "metadata": {},
          "execution_count": 12
        }
      ],
      "source": [
        "data_2015.shape"
      ]
    },
    {
      "cell_type": "code",
      "execution_count": 13,
      "metadata": {
        "id": "LZ9fzT4bR1y7"
      },
      "outputs": [],
      "source": [
        "# Using Local Outlier Factor to identify potential outliers\n",
        "\n",
        "lof=LocalOutlierFactor(n_neighbors=5)\n",
        "pred = lof.fit_predict(data_2015_scaled)"
      ]
    },
    {
      "cell_type": "code",
      "execution_count": 14,
      "metadata": {
        "colab": {
          "base_uri": "https://localhost:8080/"
        },
        "id": "jg90HqKoSUYY",
        "outputId": "b85658e8-84b1-4246-ca43-9b7693479a4e"
      },
      "outputs": [
        {
          "output_type": "execute_result",
          "data": {
            "text/plain": [
              " 1    35425\n",
              "-1     1308\n",
              "dtype: int64"
            ]
          },
          "metadata": {},
          "execution_count": 14
        }
      ],
      "source": [
        "pd.Series(pred).value_counts()"
      ]
    },
    {
      "cell_type": "code",
      "execution_count": 15,
      "metadata": {
        "id": "Bi7ZuJFdS4fK"
      },
      "outputs": [],
      "source": [
        "# initialising an empty array, passing no of rows/entries using shape[0]\n",
        "# storing predictions for 5,7,9 neighbours in all_preds by looping n_neigh over range(5,10,2)\n",
        "\n",
        "all_preds = np.zeros(shape=(data_2015_scaled.shape[0],3))\n",
        "i=0\n",
        "for n_neigh in range(5,10,2):\n",
        "  lof=LocalOutlierFactor(n_neighbors=n_neigh)\n",
        "  pred=lof.fit_predict(data_2015_scaled)\n",
        "  all_preds[:,i]=pred\n",
        "  i+=1"
      ]
    },
    {
      "cell_type": "code",
      "execution_count": 16,
      "metadata": {
        "colab": {
          "base_uri": "https://localhost:8080/"
        },
        "id": "3CjGZSrkU2DH",
        "outputId": "1b3d9937-123b-40e7-af11-9a5af43bbd15"
      },
      "outputs": [
        {
          "output_type": "execute_result",
          "data": {
            "text/plain": [
              "array([[ 1.,  1.,  1.],\n",
              "       [ 1.,  1.,  1.],\n",
              "       [ 1.,  1.,  1.],\n",
              "       ...,\n",
              "       [ 1.,  1.,  1.],\n",
              "       [-1., -1.,  1.],\n",
              "       [ 1.,  1.,  1.]])"
            ]
          },
          "metadata": {},
          "execution_count": 16
        }
      ],
      "source": [
        "all_preds"
      ]
    },
    {
      "cell_type": "code",
      "execution_count": 17,
      "metadata": {
        "id": "nILnF4vbVH8F"
      },
      "outputs": [],
      "source": [
        "# Sum along rows, that is sum prediction whether outlier or not according to 5,7 and 9 neighbour prediction\n",
        "\n",
        "outlier_preds = all_preds.sum(axis=1)"
      ]
    },
    {
      "cell_type": "code",
      "source": [
        "# outlier_preds"
      ],
      "metadata": {
        "colab": {
          "base_uri": "https://localhost:8080/"
        },
        "id": "gmotcB2mUcPn",
        "outputId": "0e2ef945-07c3-4b77-afc9-45769d90904a"
      },
      "execution_count": 20,
      "outputs": [
        {
          "output_type": "execute_result",
          "data": {
            "text/plain": [
              "array([ 3.,  3.,  3., ...,  3., -1.,  3.])"
            ]
          },
          "metadata": {},
          "execution_count": 20
        }
      ]
    },
    {
      "cell_type": "code",
      "source": [
        "# Summed values\n",
        "\n",
        "# np.unique(outlier_preds)"
      ],
      "metadata": {
        "colab": {
          "base_uri": "https://localhost:8080/"
        },
        "id": "lZkRAX9UUtwc",
        "outputId": "7a72ecbf-55cd-4033-c404-9186ffcc58b7"
      },
      "execution_count": 24,
      "outputs": [
        {
          "output_type": "execute_result",
          "data": {
            "text/plain": [
              "array([-3., -1.,  1.,  3.])"
            ]
          },
          "metadata": {},
          "execution_count": 24
        }
      ]
    },
    {
      "cell_type": "code",
      "execution_count": 18,
      "metadata": {
        "id": "6nHrKQOQWIhK"
      },
      "outputs": [],
      "source": [
        "# Pick points which are considered outliers by at least two out of three n_neighbours lof\n",
        "# This will happen when sum of row is 1 or 3\n",
        "# final_outlier assigns 1 to outliers\n",
        "# This is done by checking if rowsum is >= 1, that is 1 or 3\n",
        "# If two lof numbers say not outlier, we keep it\n",
        "# Like a voting method.\n",
        "\n",
        "final_outlier=np.where(outlier_preds>=1,1,-1)"
      ]
    },
    {
      "cell_type": "code",
      "source": [
        "final_outlier"
      ],
      "metadata": {
        "colab": {
          "base_uri": "https://localhost:8080/"
        },
        "id": "teQDRVM4UPbk",
        "outputId": "91489bb6-30dc-4cf6-b09a-1f89f0270c0e"
      },
      "execution_count": 19,
      "outputs": [
        {
          "output_type": "execute_result",
          "data": {
            "text/plain": [
              "array([ 1,  1,  1, ...,  1, -1,  1])"
            ]
          },
          "metadata": {},
          "execution_count": 19
        }
      ]
    },
    {
      "cell_type": "code",
      "execution_count": 26,
      "metadata": {
        "colab": {
          "base_uri": "https://localhost:8080/"
        },
        "id": "LPXUaLk-WSEf",
        "outputId": "58530b71-2cb7-4ec6-accd-ab7c9d8b651b"
      },
      "outputs": [
        {
          "output_type": "execute_result",
          "data": {
            "text/plain": [
              " 1    0.973784\n",
              "-1    0.026216\n",
              "dtype: float64"
            ]
          },
          "metadata": {},
          "execution_count": 26
        }
      ],
      "source": [
        "# Checking percentage of Outliers to non-outliers from our prediction\n",
        "\n",
        "pd.Series(final_outlier).value_counts(normalize=True)"
      ]
    },
    {
      "cell_type": "markdown",
      "source": [
        "Consensus outliers:\n",
        "\n",
        "(963/36733)*100 \\\n",
        "= 2.6216208858519587%"
      ],
      "metadata": {
        "id": "ERLrrHcEWka8"
      }
    },
    {
      "cell_type": "code",
      "execution_count": null,
      "metadata": {
        "id": "SVvoodmXXeP6"
      },
      "outputs": [],
      "source": [
        "data_2015_no_outlier = data_2015[final_outlier==1]"
      ]
    },
    {
      "cell_type": "markdown",
      "source": [
        "## Multiple Linear Regression"
      ],
      "metadata": {
        "id": "t2qCQmJkYgQ2"
      }
    },
    {
      "cell_type": "markdown",
      "source": [
        "### Import Modules"
      ],
      "metadata": {
        "id": "BBE1V5f-dL8K"
      }
    },
    {
      "cell_type": "code",
      "source": [
        "import statsmodels.formula.api as sm"
      ],
      "metadata": {
        "id": "-ncXIsDRYvuu"
      },
      "execution_count": null,
      "outputs": []
    },
    {
      "cell_type": "code",
      "execution_count": null,
      "metadata": {
        "id": "XbgvOgnfaQPx"
      },
      "outputs": [],
      "source": [
        "columns=data_2015.columns"
      ]
    },
    {
      "cell_type": "code",
      "source": [
        "columns"
      ],
      "metadata": {
        "id": "BQbeMC_WZ1Qk"
      },
      "execution_count": null,
      "outputs": []
    },
    {
      "cell_type": "code",
      "source": [
        "# data_2015_NOx=data_2015_no_outlier.drop('CO',axis=1)\n",
        "# data_2015_CO=data_2015_no_outlier.drop('NOX',axis=1)"
      ],
      "metadata": {
        "id": "rUFHnlBnZ43M"
      },
      "execution_count": null,
      "outputs": []
    },
    {
      "cell_type": "markdown",
      "source": [
        "### Linear Regression"
      ],
      "metadata": {
        "id": "2zQo6nKFaKTD"
      }
    },
    {
      "cell_type": "code",
      "source": [
        "# Join column numbers 1 to 9 to pass string with formula for CO\n",
        "\n",
        "f1='CO~'+'+'.join(columns[:9])\n",
        "f1"
      ],
      "metadata": {
        "id": "P7cxWCxiaFQx"
      },
      "execution_count": null,
      "outputs": []
    },
    {
      "cell_type": "code",
      "source": [
        "r_co=sm.ols(formula=f1, data=data_2015_no_outlier)"
      ],
      "metadata": {
        "id": "NW7kAYI_ZXVZ"
      },
      "execution_count": null,
      "outputs": []
    },
    {
      "cell_type": "code",
      "source": [
        "result_co=r_co.fit()"
      ],
      "metadata": {
        "id": "hNoUypFeaVIw"
      },
      "execution_count": null,
      "outputs": []
    },
    {
      "cell_type": "code",
      "source": [
        "result_co.summary()"
      ],
      "metadata": {
        "id": "uhPNDJGEZaTg"
      },
      "execution_count": null,
      "outputs": []
    },
    {
      "cell_type": "code",
      "execution_count": null,
      "metadata": {
        "colab": {
          "base_uri": "https://localhost:8080/",
          "height": 35
        },
        "id": "WOjzitYqakvO",
        "outputId": "7574c826-8a2d-44c7-f8fc-8be35ae21ba9"
      },
      "outputs": [
        {
          "output_type": "execute_result",
          "data": {
            "text/plain": [
              "'NOX~AT+AP+AH+AFDP+GTEP+TIT+TAT+TEY+CDP'"
            ],
            "application/vnd.google.colaboratory.intrinsic+json": {
              "type": "string"
            }
          },
          "metadata": {},
          "execution_count": 28
        }
      ],
      "source": [
        "# Join column numbers 1 to 9 to pass string with formula for NOx\n",
        "\n",
        "f2='NOX~'+'+'.join(columns[:9])\n",
        "f2"
      ]
    },
    {
      "cell_type": "code",
      "execution_count": null,
      "metadata": {
        "id": "OMHp8QJYayjL"
      },
      "outputs": [],
      "source": [
        "# OLS Regression\n",
        "\n",
        "r_nox=sm.ols(formula=f2, data=data_2015_no_outlier)"
      ]
    },
    {
      "cell_type": "code",
      "execution_count": null,
      "metadata": {
        "id": "uaagwIe6brIi"
      },
      "outputs": [],
      "source": [
        "result_nox=r_nox.fit()"
      ]
    },
    {
      "cell_type": "code",
      "execution_count": null,
      "metadata": {
        "colab": {
          "base_uri": "https://localhost:8080/",
          "height": 657
        },
        "id": "VWRqFUsgb13A",
        "outputId": "9efab425-3377-4896-ccb1-0e3df324e54b"
      },
      "outputs": [
        {
          "output_type": "execute_result",
          "data": {
            "text/plain": [
              "<class 'statsmodels.iolib.summary.Summary'>\n",
              "\"\"\"\n",
              "                            OLS Regression Results                            \n",
              "==============================================================================\n",
              "Dep. Variable:                    NOX   R-squared:                       0.518\n",
              "Model:                            OLS   Adj. R-squared:                  0.518\n",
              "Method:                 Least Squares   F-statistic:                     4268.\n",
              "Date:                Mon, 30 Jan 2023   Prob (F-statistic):               0.00\n",
              "Time:                        07:24:19   Log-Likelihood:            -1.2546e+05\n",
              "No. Observations:               35770   AIC:                         2.509e+05\n",
              "Df Residuals:                   35760   BIC:                         2.510e+05\n",
              "Df Model:                           9                                         \n",
              "Covariance Type:            nonrobust                                         \n",
              "==============================================================================\n",
              "                 coef    std err          t      P>|t|      [0.025      0.975]\n",
              "------------------------------------------------------------------------------\n",
              "Intercept    -61.5671     12.162     -5.062      0.000     -85.406     -37.728\n",
              "AT            -1.7649      0.017   -106.504      0.000      -1.797      -1.732\n",
              "AP            -0.2360      0.008    -28.839      0.000      -0.252      -0.220\n",
              "AH            -0.2224      0.004    -60.016      0.000      -0.230      -0.215\n",
              "AFDP           0.7286      0.088      8.295      0.000       0.556       0.901\n",
              "GTEP          -0.1015      0.056     -1.815      0.070      -0.211       0.008\n",
              "TIT            1.4144      0.015     93.655      0.000       1.385       1.444\n",
              "TAT           -1.5245      0.020    -76.244      0.000      -1.564      -1.485\n",
              "TEY           -1.9461      0.044    -44.304      0.000      -2.032      -1.860\n",
              "CDP           -1.9019      0.620     -3.067      0.002      -3.117      -0.686\n",
              "==============================================================================\n",
              "Omnibus:                     7249.078   Durbin-Watson:                   0.369\n",
              "Prob(Omnibus):                  0.000   Jarque-Bera (JB):            26041.843\n",
              "Skew:                           0.996   Prob(JB):                         0.00\n",
              "Kurtosis:                       6.675   Cond. No.                     4.52e+05\n",
              "==============================================================================\n",
              "\n",
              "Notes:\n",
              "[1] Standard Errors assume that the covariance matrix of the errors is correctly specified.\n",
              "[2] The condition number is large, 4.52e+05. This might indicate that there are\n",
              "strong multicollinearity or other numerical problems.\n",
              "\"\"\""
            ],
            "text/html": [
              "<table class=\"simpletable\">\n",
              "<caption>OLS Regression Results</caption>\n",
              "<tr>\n",
              "  <th>Dep. Variable:</th>           <td>NOX</td>       <th>  R-squared:         </th>  <td>   0.518</td>  \n",
              "</tr>\n",
              "<tr>\n",
              "  <th>Model:</th>                   <td>OLS</td>       <th>  Adj. R-squared:    </th>  <td>   0.518</td>  \n",
              "</tr>\n",
              "<tr>\n",
              "  <th>Method:</th>             <td>Least Squares</td>  <th>  F-statistic:       </th>  <td>   4268.</td>  \n",
              "</tr>\n",
              "<tr>\n",
              "  <th>Date:</th>             <td>Mon, 30 Jan 2023</td> <th>  Prob (F-statistic):</th>   <td>  0.00</td>   \n",
              "</tr>\n",
              "<tr>\n",
              "  <th>Time:</th>                 <td>07:24:19</td>     <th>  Log-Likelihood:    </th> <td>-1.2546e+05</td>\n",
              "</tr>\n",
              "<tr>\n",
              "  <th>No. Observations:</th>      <td> 35770</td>      <th>  AIC:               </th>  <td>2.509e+05</td> \n",
              "</tr>\n",
              "<tr>\n",
              "  <th>Df Residuals:</th>          <td> 35760</td>      <th>  BIC:               </th>  <td>2.510e+05</td> \n",
              "</tr>\n",
              "<tr>\n",
              "  <th>Df Model:</th>              <td>     9</td>      <th>                     </th>      <td> </td>     \n",
              "</tr>\n",
              "<tr>\n",
              "  <th>Covariance Type:</th>      <td>nonrobust</td>    <th>                     </th>      <td> </td>     \n",
              "</tr>\n",
              "</table>\n",
              "<table class=\"simpletable\">\n",
              "<tr>\n",
              "      <td></td>         <th>coef</th>     <th>std err</th>      <th>t</th>      <th>P>|t|</th>  <th>[0.025</th>    <th>0.975]</th>  \n",
              "</tr>\n",
              "<tr>\n",
              "  <th>Intercept</th> <td>  -61.5671</td> <td>   12.162</td> <td>   -5.062</td> <td> 0.000</td> <td>  -85.406</td> <td>  -37.728</td>\n",
              "</tr>\n",
              "<tr>\n",
              "  <th>AT</th>        <td>   -1.7649</td> <td>    0.017</td> <td> -106.504</td> <td> 0.000</td> <td>   -1.797</td> <td>   -1.732</td>\n",
              "</tr>\n",
              "<tr>\n",
              "  <th>AP</th>        <td>   -0.2360</td> <td>    0.008</td> <td>  -28.839</td> <td> 0.000</td> <td>   -0.252</td> <td>   -0.220</td>\n",
              "</tr>\n",
              "<tr>\n",
              "  <th>AH</th>        <td>   -0.2224</td> <td>    0.004</td> <td>  -60.016</td> <td> 0.000</td> <td>   -0.230</td> <td>   -0.215</td>\n",
              "</tr>\n",
              "<tr>\n",
              "  <th>AFDP</th>      <td>    0.7286</td> <td>    0.088</td> <td>    8.295</td> <td> 0.000</td> <td>    0.556</td> <td>    0.901</td>\n",
              "</tr>\n",
              "<tr>\n",
              "  <th>GTEP</th>      <td>   -0.1015</td> <td>    0.056</td> <td>   -1.815</td> <td> 0.070</td> <td>   -0.211</td> <td>    0.008</td>\n",
              "</tr>\n",
              "<tr>\n",
              "  <th>TIT</th>       <td>    1.4144</td> <td>    0.015</td> <td>   93.655</td> <td> 0.000</td> <td>    1.385</td> <td>    1.444</td>\n",
              "</tr>\n",
              "<tr>\n",
              "  <th>TAT</th>       <td>   -1.5245</td> <td>    0.020</td> <td>  -76.244</td> <td> 0.000</td> <td>   -1.564</td> <td>   -1.485</td>\n",
              "</tr>\n",
              "<tr>\n",
              "  <th>TEY</th>       <td>   -1.9461</td> <td>    0.044</td> <td>  -44.304</td> <td> 0.000</td> <td>   -2.032</td> <td>   -1.860</td>\n",
              "</tr>\n",
              "<tr>\n",
              "  <th>CDP</th>       <td>   -1.9019</td> <td>    0.620</td> <td>   -3.067</td> <td> 0.002</td> <td>   -3.117</td> <td>   -0.686</td>\n",
              "</tr>\n",
              "</table>\n",
              "<table class=\"simpletable\">\n",
              "<tr>\n",
              "  <th>Omnibus:</th>       <td>7249.078</td> <th>  Durbin-Watson:     </th> <td>   0.369</td> \n",
              "</tr>\n",
              "<tr>\n",
              "  <th>Prob(Omnibus):</th>  <td> 0.000</td>  <th>  Jarque-Bera (JB):  </th> <td>26041.843</td>\n",
              "</tr>\n",
              "<tr>\n",
              "  <th>Skew:</th>           <td> 0.996</td>  <th>  Prob(JB):          </th> <td>    0.00</td> \n",
              "</tr>\n",
              "<tr>\n",
              "  <th>Kurtosis:</th>       <td> 6.675</td>  <th>  Cond. No.          </th> <td>4.52e+05</td> \n",
              "</tr>\n",
              "</table><br/><br/>Notes:<br/>[1] Standard Errors assume that the covariance matrix of the errors is correctly specified.<br/>[2] The condition number is large, 4.52e+05. This might indicate that there are<br/>strong multicollinearity or other numerical problems."
            ]
          },
          "metadata": {},
          "execution_count": 31
        }
      ],
      "source": [
        "result_nox.summary()"
      ]
    },
    {
      "cell_type": "markdown",
      "source": [
        "### Variable selection using Variance Inflation Factor (VIF)"
      ],
      "metadata": {
        "id": "R1vYCLu0acZT"
      }
    },
    {
      "cell_type": "code",
      "execution_count": null,
      "metadata": {
        "id": "5pvs0GVSs002"
      },
      "outputs": [],
      "source": [
        "from statsmodels.stats.outliers_influence import variance_inflation_factor"
      ]
    },
    {
      "cell_type": "code",
      "execution_count": null,
      "metadata": {
        "colab": {
          "base_uri": "https://localhost:8080/"
        },
        "id": "lvy4ZPN2tkWB",
        "outputId": "270f8c50-c672-441f-d3cc-5cfd8bf5fc2b"
      },
      "outputs": [
        {
          "output_type": "execute_result",
          "data": {
            "text/plain": [
              "46.86457466862405"
            ]
          },
          "metadata": {},
          "execution_count": 33
        }
      ],
      "source": [
        "variance_inflation_factor(data_2015_no_outlier.loc[:,'AT':'CDP'].values,0)"
      ]
    },
    {
      "cell_type": "code",
      "execution_count": null,
      "metadata": {
        "colab": {
          "base_uri": "https://localhost:8080/"
        },
        "id": "B6O1ut9otF2D",
        "outputId": "52665968-beff-46d1-ea54-8e6734fa7488"
      },
      "outputs": [
        {
          "output_type": "execute_result",
          "data": {
            "text/plain": [
              "[0, 1, 2, 3, 4, 5, 6, 7, 8, 9]"
            ]
          },
          "metadata": {},
          "execution_count": 34
        }
      ],
      "source": [
        "[i for i in range(10)]"
      ]
    },
    {
      "cell_type": "code",
      "execution_count": null,
      "metadata": {
        "id": "TRwUndSJuDnC"
      },
      "outputs": [],
      "source": [
        "X_1 = data_2015_no_outlier.loc[:,'AT':'CDP'].copy()"
      ]
    },
    {
      "cell_type": "code",
      "execution_count": null,
      "metadata": {
        "id": "ijC8YmSBtcR1"
      },
      "outputs": [],
      "source": [
        "vif_scores = {k: v for k, v in zip(X_1.columns,\n",
        "                                   [variance_inflation_factor(X_1.values, i) \\\n",
        "                                    for i in range(len(X_1.columns))])}"
      ]
    },
    {
      "cell_type": "code",
      "execution_count": null,
      "metadata": {
        "id": "okiHGu90t8EY"
      },
      "outputs": [],
      "source": [
        "vif_scores_sorted = {k:v for k, v in sorted(vif_scores.items(),key=lambda item:item[1], reverse = True)}"
      ]
    },
    {
      "cell_type": "code",
      "execution_count": null,
      "metadata": {
        "colab": {
          "base_uri": "https://localhost:8080/"
        },
        "id": "jMLz2pwKw2SC",
        "outputId": "00d6b0c4-079e-4f4d-ca07-ff046187e4da"
      },
      "outputs": [
        {
          "output_type": "execute_result",
          "data": {
            "text/plain": [
              "{'TIT': 121734.40451561549,\n",
              " 'TAT': 63794.72222418256,\n",
              " 'AP': 28307.64508797133,\n",
              " 'CDP': 27875.950114991723,\n",
              " 'TEY': 13827.838631867879,\n",
              " 'GTEP': 1057.1442758291464,\n",
              " 'AFDP': 67.3993997468524,\n",
              " 'AT': 46.86457466862405,\n",
              " 'AH': 46.00271067397057}"
            ]
          },
          "metadata": {},
          "execution_count": 38
        }
      ],
      "source": [
        "vif_scores_sorted"
      ]
    },
    {
      "cell_type": "code",
      "execution_count": null,
      "metadata": {
        "id": "4E4rqljNw8NJ"
      },
      "outputs": [],
      "source": [
        "# X_1.columns.drop('TIT')"
      ]
    },
    {
      "cell_type": "markdown",
      "source": [
        "#### Defining functions to select variables with lowest VIF"
      ],
      "metadata": {
        "id": "wHpeTNOxa7o9"
      }
    },
    {
      "cell_type": "code",
      "execution_count": null,
      "metadata": {
        "id": "wE09NVRqxOPM"
      },
      "outputs": [],
      "source": [
        "def var_selection_vif(data_exog: pd.DataFrame, th: int=5):\n",
        "  vif_scores = {k: v for k, v in zip(data_exog.columns,\n",
        "                                     [variance_inflation_factor(data_exog.values,i)\\\n",
        "                                      for i in range(len(data_exog.columns))])}\n",
        "  vif_scores_sorted = {k:v for k, v in sorted(vif_scores.items(),\n",
        "                                            key=lambda item:item[1],\n",
        "                                            reverse = True)}\n",
        "  if vif_scores_sorted[list(vif_scores_sorted.keys())[0]]>th:\n",
        "    vars = data_exog.columns.drop(list(vif_scores_sorted.keys())[0])\n",
        "    return (data_exog[vars], vif_scores_sorted)\n",
        "  else:\n",
        "    return(data_exog, vif_scores_sorted)"
      ]
    },
    {
      "cell_type": "code",
      "execution_count": null,
      "metadata": {
        "colab": {
          "base_uri": "https://localhost:8080/"
        },
        "id": "pXC2HQ7d1COY",
        "outputId": "b0ebff59-2c80-4f91-bbed-e6e5e0eb98c2"
      },
      "outputs": [
        {
          "output_type": "stream",
          "name": "stdout",
          "text": [
            "{'TIT': 121734.40451561549, 'TAT': 63794.72222418256, 'AP': 28307.64508797133, 'CDP': 27875.950114991723, 'TEY': 13827.838631867879, 'GTEP': 1057.1442758291464, 'AFDP': 67.3993997468524, 'AT': 46.86457466862405, 'AH': 46.00271067397057}\n",
            "{'CDP': 26213.793293308318, 'AP': 25132.999808507677, 'TAT': 16654.669880172027, 'TEY': 12389.760061720457, 'GTEP': 998.8772137798093, 'AFDP': 64.11990672897241, 'AH': 45.076480065618966, 'AT': 42.38049924200662}\n",
            "{'AP': 10427.885813072946, 'TAT': 10285.376502461655, 'TEY': 1652.4813561896851, 'GTEP': 881.4367428504926, 'AFDP': 63.55045455859313, 'AH': 44.157242132533455, 'AT': 18.663482430935414}\n",
            "{'TEY': 1633.9781998684982, 'GTEP': 820.2615455119885, 'TAT': 273.0289962365141, 'AFDP': 61.77791042516804, 'AH': 43.633800292642555, 'AT': 14.028633028570969}\n",
            "{'TAT': 117.53107832474556, 'GTEP': 75.85442546047754, 'AFDP': 57.56605380964737, 'AH': 43.38510835859359, 'AT': 10.44256264426581}\n",
            "{'AFDP': 56.88593015304628, 'GTEP': 54.566599149677266, 'AH': 14.490126431591, 'AT': 6.954100711295353}\n",
            "{'GTEP': 19.919363834268736, 'AH': 13.954846421857894, 'AT': 6.041180227940001}\n",
            "{'AH': 4.218225878943134, 'AT': 4.218225878943132}\n"
          ]
        }
      ],
      "source": [
        "n_old = len(X_1.columns)\n",
        "n_new = 0\n",
        "while n_old != n_new:\n",
        "  X_1, vif = var_selection_vif(X_1)\n",
        "  print(vif)\n",
        "  n = len(X_1.columns)\n",
        "  n_old = n_new\n",
        "  n_new= n"
      ]
    },
    {
      "cell_type": "markdown",
      "source": [
        "### Regression with variables having appropriate VIF"
      ],
      "metadata": {
        "id": "wYOhnvhLamzZ"
      }
    },
    {
      "cell_type": "code",
      "source": [
        "r_final_co = sm.ols(formula='CO~AT+AH', \n",
        "                 data = data_2015_no_outlier[list(X_1.columns)+['CO']])\n",
        "result_final_co = r_final_co.fit()\n",
        "print(result_final_co.summary())"
      ],
      "metadata": {
        "id": "yr3nkLowavsu"
      },
      "execution_count": null,
      "outputs": []
    },
    {
      "cell_type": "code",
      "execution_count": null,
      "metadata": {
        "colab": {
          "base_uri": "https://localhost:8080/"
        },
        "id": "TQjURV92KdL2",
        "outputId": "1f49efe4-d3d4-483c-fc13-7c98ceedfd4e"
      },
      "outputs": [
        {
          "output_type": "stream",
          "name": "stdout",
          "text": [
            "                            OLS Regression Results                            \n",
            "==============================================================================\n",
            "Dep. Variable:                    NOX   R-squared:                       0.324\n",
            "Model:                            OLS   Adj. R-squared:                  0.324\n",
            "Method:                 Least Squares   F-statistic:                     8574.\n",
            "Date:                Mon, 30 Jan 2023   Prob (F-statistic):               0.00\n",
            "Time:                        07:24:25   Log-Likelihood:            -1.3151e+05\n",
            "No. Observations:               35770   AIC:                         2.630e+05\n",
            "Df Residuals:                   35767   BIC:                         2.630e+05\n",
            "Df Model:                           2                                         \n",
            "Covariance Type:            nonrobust                                         \n",
            "==============================================================================\n",
            "                 coef    std err          t      P>|t|      [0.025      0.975]\n",
            "------------------------------------------------------------------------------\n",
            "Intercept     90.5104      0.400    226.492      0.000      89.727      91.294\n",
            "AT            -0.9703      0.008   -125.090      0.000      -0.985      -0.955\n",
            "AH            -0.1038      0.004    -25.944      0.000      -0.112      -0.096\n",
            "==============================================================================\n",
            "Omnibus:                     5163.068   Durbin-Watson:                   0.301\n",
            "Prob(Omnibus):                  0.000   Jarque-Bera (JB):            13428.258\n",
            "Skew:                           0.807   Prob(JB):                         0.00\n",
            "Kurtosis:                       5.531   Cond. No.                         640.\n",
            "==============================================================================\n",
            "\n",
            "Notes:\n",
            "[1] Standard Errors assume that the covariance matrix of the errors is correctly specified.\n"
          ]
        }
      ],
      "source": [
        "r_final_nox = sm.ols(formula='NOX~AT+AH', \n",
        "                 data = data_2015_no_outlier[list(X_1.columns)+['NOX']])\n",
        "result_final_nox = r_final_nox.fit()\n",
        "print(result_final_nox.summary())"
      ]
    },
    {
      "cell_type": "markdown",
      "source": [
        "### Variable selection using Lasso regression coefficients"
      ],
      "metadata": {
        "id": "TUd362MXcZ94"
      }
    },
    {
      "cell_type": "code",
      "execution_count": null,
      "metadata": {
        "id": "MXXDj1T2LKO7"
      },
      "outputs": [],
      "source": [
        "from sklearn.linear_model import Lasso"
      ]
    },
    {
      "cell_type": "code",
      "execution_count": null,
      "metadata": {
        "colab": {
          "base_uri": "https://localhost:8080/"
        },
        "id": "9wCzsp3LLQ-c",
        "outputId": "4b2d3d62-bd13-4847-99c1-87eaad3539d5"
      },
      "outputs": [
        {
          "output_type": "execute_result",
          "data": {
            "text/plain": [
              "Lasso(alpha=2)"
            ]
          },
          "metadata": {},
          "execution_count": 44
        }
      ],
      "source": [
        "lasso_reg1 = Lasso(alpha=2)\n",
        "lasso_reg1.fit(X=data_2015_no_outlier.loc[:,'AT':'CDP'],\\\n",
        "              y=data_2015_no_outlier['CO'])"
      ]
    },
    {
      "cell_type": "code",
      "execution_count": null,
      "metadata": {
        "colab": {
          "base_uri": "https://localhost:8080/"
        },
        "id": "l-8cZmZkLn6c",
        "outputId": "d6b3d654-98c3-444c-dabb-a41f30a76f61"
      },
      "outputs": [
        {
          "output_type": "execute_result",
          "data": {
            "text/plain": [
              "{'AT': -0.0,\n",
              " 'AP': 0.0,\n",
              " 'AH': -0.0,\n",
              " 'AFDP': -0.0,\n",
              " 'GTEP': 0.0,\n",
              " 'TIT': -0.0857943408930881,\n",
              " 'TAT': -0.01829257828806067,\n",
              " 'TEY': 0.0,\n",
              " 'CDP': 0.0}"
            ]
          },
          "metadata": {},
          "execution_count": 45
        }
      ],
      "source": [
        "CO_vars = {k:v for k,v in zip(data_2015_no_outlier.loc[:,'AT':'CDP'].columns, lasso_reg1.coef_)}"
      ]
    },
    {
      "cell_type": "code",
      "execution_count": null,
      "metadata": {
        "colab": {
          "base_uri": "https://localhost:8080/"
        },
        "id": "ILa2XAxLMeB3",
        "outputId": "b90c412f-1e39-44d6-b004-d4acb4b3fe87"
      },
      "outputs": [
        {
          "output_type": "execute_result",
          "data": {
            "text/plain": [
              "0.5374513201552922"
            ]
          },
          "metadata": {},
          "execution_count": 46
        }
      ],
      "source": [
        "lasso_reg1.score(X=data_2015_no_outlier.loc[:,'AT':'CDP'],\\\n",
        "              y=data_2015_no_outlier['CO'])"
      ]
    },
    {
      "cell_type": "code",
      "source": [
        "lasso_reg2 = Lasso(alpha=2)\n",
        "lasso_reg2.fit(X=data_2015_no_outlier.loc[:,'AT':'CDP'],\\\n",
        "               y=data_2015_no_outlier['NOX'])"
      ],
      "metadata": {
        "id": "euASmdGrc2v6"
      },
      "execution_count": null,
      "outputs": []
    },
    {
      "cell_type": "code",
      "source": [
        "NOx_vars = {k:v for k,v in zip(data_2015_no_outlier.loc[:,'AT':'CDP'].columns, lasso_reg2.coef_)}"
      ],
      "metadata": {
        "id": "gVeWQXH3c2tP"
      },
      "execution_count": null,
      "outputs": []
    },
    {
      "cell_type": "code",
      "source": [
        "lasso_reg2.score(X=data_2015_no_outlier.loc[:,'AT':'CDP'],\\\n",
        "                 y=data_2015_no_outlier['NOX'])"
      ],
      "metadata": {
        "id": "roCmYxfxc2qo"
      },
      "execution_count": null,
      "outputs": []
    },
    {
      "cell_type": "markdown",
      "source": [
        "### Analysis of errors"
      ],
      "metadata": {
        "id": "EDk7pxLQcQat"
      }
    },
    {
      "cell_type": "code",
      "execution_count": null,
      "metadata": {
        "colab": {
          "base_uri": "https://localhost:8080/",
          "height": 369
        },
        "id": "JYacc1mjMwUK",
        "outputId": "c1992bef-3f53-4087-ab64-600205fd6f10"
      },
      "outputs": [
        {
          "output_type": "display_data",
          "data": {
            "text/plain": [
              "<Figure size 360x360 with 1 Axes>"
            ],
            "image/png": "[encoded data removed]"
          },
          "metadata": {
            "needs_background": "light"
          }
        }
      ],
      "source": [
        "errors1 = data_2015_no_outlier['CO'] - lasso_reg1.predict(data_2015_no_outlier.loc[:,'AT':'CDP'])\n",
        "d1=sns.displot(errors)\n",
        "plt.savefig('error-plot-CO.png')"
      ]
    },
    {
      "cell_type": "code",
      "source": [
        "errors2 = data_2015_no_outlier['NOX'] - lasso_reg2.predict(data_2015_no_outlier.loc[:,'AT':'CDP'])\n",
        "d2=sns.displot(errors)\n",
        "plt.savefig('error-plot-NOx.png')"
      ],
      "metadata": {
        "id": "x1Ja_03ydlVv"
      },
      "execution_count": null,
      "outputs": []
    },
    {
      "cell_type": "code",
      "execution_count": null,
      "metadata": {
        "id": "_gU7uDjyQGU2"
      },
      "outputs": [],
      "source": [
        "import statsmodels.api as smf"
      ]
    },
    {
      "cell_type": "code",
      "execution_count": null,
      "metadata": {
        "colab": {
          "base_uri": "https://localhost:8080/",
          "height": 296
        },
        "id": "qSfT_VUDQ_fi",
        "outputId": "afc79ce7-11ac-4140-abd1-ec7641148a6d"
      },
      "outputs": [
        {
          "output_type": "display_data",
          "data": {
            "text/plain": [
              "<Figure size 432x288 with 1 Axes>"
            ],
            "image/png": "[encoded data removed]"
          },
          "metadata": {
            "needs_background": "light"
          }
        },
        {
          "output_type": "display_data",
          "data": {
            "text/plain": [
              "<Figure size 432x288 with 0 Axes>"
            ]
          },
          "metadata": {}
        }
      ],
      "source": [
        "smf.qqplot(errors1)\n",
        "plt.show()\n",
        "plt.savefig('error-dist-CO.png')"
      ]
    },
    {
      "cell_type": "code",
      "source": [
        "smf.qqplot(errors2)\n",
        "plt.show()\n",
        "plt.savefig('error-dist-NOx.png')"
      ],
      "metadata": {
        "id": "lM2WO26deMXA"
      },
      "execution_count": null,
      "outputs": []
    },
    {
      "cell_type": "markdown",
      "source": [
        "### Multiple Linear Regression with relevant variables"
      ],
      "metadata": {
        "id": "kdwMMjxlcjIk"
      }
    },
    {
      "cell_type": "code",
      "source": [
        "r_co_final_combined = sm.ols(formula='CO~AT+AH+TIT+TAT+TEY',\\\n",
        "                             data = data_2015[['AT','AP','AH','TIT','TAT']+['CO']])\n",
        "result_co = r_co_final_combined.fit()\n",
        "print(result_co.summary())"
      ],
      "metadata": {
        "id": "AhiVBde8eY3s"
      },
      "execution_count": null,
      "outputs": []
    },
    {
      "cell_type": "code",
      "execution_count": null,
      "metadata": {
        "colab": {
          "base_uri": "https://localhost:8080/"
        },
        "id": "rrMGFTlqRl9v",
        "outputId": "654aaf7d-1f09-4536-d666-8de7c8adb67c"
      },
      "outputs": [
        {
          "output_type": "stream",
          "name": "stdout",
          "text": [
            "                            OLS Regression Results                            \n",
            "==============================================================================\n",
            "Dep. Variable:                    NOX   R-squared:                       0.517\n",
            "Model:                            OLS   Adj. R-squared:                  0.517\n",
            "Method:                 Least Squares   F-statistic:                     6546.\n",
            "Date:                Mon, 30 Jan 2023   Prob (F-statistic):               0.00\n",
            "Time:                        07:01:56   Log-Likelihood:            -1.2904e+05\n",
            "No. Observations:               36733   AIC:                         2.581e+05\n",
            "Df Residuals:                   36726   BIC:                         2.582e+05\n",
            "Df Model:                           6                                         \n",
            "Covariance Type:            nonrobust                                         \n",
            "==============================================================================\n",
            "                 coef    std err          t      P>|t|      [0.025      0.975]\n",
            "------------------------------------------------------------------------------\n",
            "Intercept    -83.1243     10.420     -7.978      0.000    -103.547     -62.701\n",
            "AT            -1.7945      0.010   -174.485      0.000      -1.815      -1.774\n",
            "AP            -0.2419      0.008    -32.171      0.000      -0.257      -0.227\n",
            "AH            -0.2174      0.004    -60.970      0.000      -0.224      -0.210\n",
            "TIT            1.4467      0.014    105.278      0.000       1.420       1.474\n",
            "TAT           -1.5370      0.016    -96.666      0.000      -1.568      -1.506\n",
            "TEY           -2.1188      0.019   -113.363      0.000      -2.155      -2.082\n",
            "==============================================================================\n",
            "Omnibus:                     7100.246   Durbin-Watson:                   0.374\n",
            "Prob(Omnibus):                  0.000   Jarque-Bera (JB):            24481.310\n",
            "Skew:                           0.963   Prob(JB):                         0.00\n",
            "Kurtosis:                       6.505   Cond. No.                     3.90e+05\n",
            "==============================================================================\n",
            "\n",
            "Notes:\n",
            "[1] Standard Errors assume that the covariance matrix of the errors is correctly specified.\n",
            "[2] The condition number is large, 3.9e+05. This might indicate that there are\n",
            "strong multicollinearity or other numerical problems.\n"
          ]
        }
      ],
      "source": [
        "r_nox_final_combined = sm.ols(formula='NOX~AT+AP+AH+TIT+TAT+TEY',\\\n",
        "                              data = data_2015[['AT','AP','AH','TIT','TAT','TEY']+['NOX']])\n",
        "result_nox = r_nox_final_combined.fit()\n",
        "print(result_final_new.summary())"
      ]
    },
    {
      "cell_type": "markdown",
      "source": [
        "### Cook's Distance"
      ],
      "metadata": {
        "id": "wKa7q8YhfPLx"
      }
    },
    {
      "cell_type": "code",
      "execution_count": null,
      "metadata": {
        "id": "w_M_qv4KTsLf"
      },
      "outputs": [],
      "source": [
        "#cook's distnace tells the change in model when a single datapoint is dropped"
      ]
    },
    {
      "cell_type": "code",
      "execution_count": null,
      "metadata": {
        "id": "atxZqj3MT2wi"
      },
      "outputs": [],
      "source": [
        "from statsmodels.stats.outliers_influence import OLSInfluence as influence"
      ]
    },
    {
      "cell_type": "code",
      "execution_count": null,
      "metadata": {
        "id": "_FYsJxLRVKc0"
      },
      "outputs": [],
      "source": [
        "inf = influence(result_final_new)"
      ]
    },
    {
      "cell_type": "code",
      "execution_count": null,
      "metadata": {
        "colab": {
          "base_uri": "https://localhost:8080/"
        },
        "id": "RmUGm9frVRnr",
        "outputId": "551c4729-7597-40e0-c629-8695455c794e"
      },
      "outputs": [
        {
          "data": {
            "text/plain": [
              "(0       0.000021\n",
              " 1       0.000016\n",
              " 2       0.000015\n",
              " 3       0.000024\n",
              " 4       0.000026\n",
              "           ...   \n",
              " 7379    0.000470\n",
              " 7380    0.000509\n",
              " 7381    0.000563\n",
              " 7382    0.000015\n",
              " 7383    0.000887\n",
              " Length: 36733, dtype: float64,\n",
              " array([1.        , 1.        , 1.        , ..., 0.99999937, 1.        ,\n",
              "        0.99999843]))"
            ]
          },
          "execution_count": 66,
          "metadata": {},
          "output_type": "execute_result"
        }
      ],
      "source": [
        "inf.cooks_distance"
      ]
    },
    {
      "cell_type": "code",
      "execution_count": 31,
      "metadata": {
        "colab": {
          "base_uri": "https://localhost:8080/",
          "height": 202
        },
        "id": "r0AcjwSsVbYH",
        "outputId": "8708bc3c-064e-4215-d194-823e606a22f9"
      },
      "outputs": [
        {
          "output_type": "error",
          "ename": "NameError",
          "evalue": "ignored",
          "traceback": [
            "\u001b[0;31m---------------------------------------------------------------------------\u001b[0m",
            "\u001b[0;31mNameError\u001b[0m                                 Traceback (most recent call last)",
            "\u001b[0;32m<ipython-input-31-68c5d84f667d>\u001b[0m in \u001b[0;36m<module>\u001b[0;34m\u001b[0m\n\u001b[1;32m      1\u001b[0m \u001b[0;31m# Something needs to be changed here\u001b[0m\u001b[0;34m\u001b[0m\u001b[0;34m\u001b[0m\u001b[0;34m\u001b[0m\u001b[0m\n\u001b[1;32m      2\u001b[0m \u001b[0;34m\u001b[0m\u001b[0m\n\u001b[0;32m----> 3\u001b[0;31m \u001b[0minf\u001b[0m\u001b[0;34m.\u001b[0m\u001b[0msummary_frame\u001b[0m\u001b[0;34m(\u001b[0m\u001b[0;34m)\u001b[0m\u001b[0;34m[\u001b[0m\u001b[0minf\u001b[0m\u001b[0;34m.\u001b[0m\u001b[0msummary_frame\u001b[0m\u001b[0;34m(\u001b[0m\u001b[0;34m)\u001b[0m\u001b[0;34m[\u001b[0m\u001b[0;34m'cooks_d'\u001b[0m\u001b[0;34m]\u001b[0m\u001b[0;34m>=\u001b[0m\u001b[0;36m4\u001b[0m\u001b[0;34m/\u001b[0m\u001b[0;36m7384\u001b[0m\u001b[0;34m]\u001b[0m\u001b[0;34m\u001b[0m\u001b[0;34m\u001b[0m\u001b[0m\n\u001b[0m",
            "\u001b[0;31mNameError\u001b[0m: name 'inf' is not defined"
          ]
        }
      ],
      "source": [
        "# Something needs to be changed here\n",
        "\n",
        "inf.summary_frame()[inf.summary_frame()['cooks_d']>=4/7384]"
      ]
    },
    {
      "cell_type": "markdown",
      "source": [
        "## Machine Learning models"
      ],
      "metadata": {
        "id": "uU-tazgNfZF7"
      }
    },
    {
      "cell_type": "markdown",
      "source": [
        "### Importing Relevant modules"
      ],
      "metadata": {
        "id": "dvbT_z6Gfwf2"
      }
    },
    {
      "cell_type": "code",
      "execution_count": null,
      "metadata": {
        "id": "mBP38WvWWzDP"
      },
      "outputs": [],
      "source": [
        "from hyperopt import fmin, hp, STATUS_OK, tpe , Trials\n",
        "from hyperopt.pyll.base import scope\n",
        "import hyperopt"
      ]
    },
    {
      "cell_type": "code",
      "execution_count": null,
      "metadata": {
        "id": "72Z4fkf9XEAx"
      },
      "outputs": [],
      "source": [
        "from sklearn.linear_model import LinearRegression\n",
        "from sklearn.tree import DecisionTreeRegressor\n",
        "from sklearn.ensemble import AdaBoostRegressor, RandomForestRegressor, GradientBoostingRegressor\n",
        "from xgboost import XGBRegressor"
      ]
    },
    {
      "cell_type": "code",
      "execution_count": null,
      "metadata": {
        "id": "3wZWKGvwYP3-"
      },
      "outputs": [],
      "source": [
        "lin_reg = LinearRegression()\n",
        "dt_reg = DecisionTreeRegressor()\n",
        "rf_reg = RandomForestRegressor()\n",
        "gbm_reg = GradientBoostingRegressor()\n",
        "xgb_reg = XGBRegressor()"
      ]
    },
    {
      "cell_type": "markdown",
      "source": [
        "### Setting up parameter search space for hyperopt"
      ],
      "metadata": {
        "id": "wbFE1ecef5CG"
      }
    },
    {
      "cell_type": "code",
      "execution_count": null,
      "metadata": {
        "id": "xSk6PoUJYvgS"
      },
      "outputs": [],
      "source": [
        "gt_new = data_2015.loc[:,'AT':'CO']\n",
        "gt_new.shape"
      ]
    },
    {
      "cell_type": "code",
      "execution_count": null,
      "metadata": {
        "id": "qk5jvS__ZETK"
      },
      "outputs": [],
      "source": [
        "param_dt={\n",
        "    'max_depth': scope.int(hp.quniform('max_depth',2,20,1)),\n",
        "    'ccp_alpha': hp.uniform('ccp_alpha',0.001,0.1)\n",
        "}\n",
        "\n",
        "param_rf={\n",
        "    'n_estimators':scope.int(hp.quniform('n_estimators',50,500,1)),\n",
        "    'max_features':hp.choice('max_features',list(range(2,7)))\n",
        "}\n",
        "\n",
        "param_gbm = {\n",
        "    'max_depth':scope.int(hp.quniform('max_depth',1,6,1)),\n",
        "    'n_estimators':scope.int(hp.quniform('n_estimators',50,500,1)),\n",
        "    'learning_rate':hp.uniform('learning_rate',0.001,0.1)\n",
        "}\n",
        "\n",
        "param_xgb = {\n",
        "    'max_depth':scope.int(hp.quniform('max_depth',1,6,1)),\n",
        "    'n_estimators':scope.int(hp.quniform('n_estimators',50,500,1)),\n",
        "    'learning_rate':hp.uniform('learning_rate',0.001,0.1),\n",
        "    'colsample_bytree':hp.uniform('colsample_bytree',0.2,0.8)\n",
        "}"
      ]
    },
    {
      "cell_type": "code",
      "execution_count": null,
      "metadata": {
        "id": "5BtqD-hpbBp2"
      },
      "outputs": [],
      "source": [
        "from sklearn.metrics import make_scorer, mean_squared_error\n",
        "from sklearn.model_selection import train_test_split, cross_val_score"
      ]
    },
    {
      "cell_type": "code",
      "execution_count": null,
      "metadata": {
        "id": "OjCiyJdJbV1S"
      },
      "outputs": [],
      "source": [
        "x_train, x_test, y_train, y_test = train_test_split(gt_new.loc[:, 'AT':'CDP'],gt_new['CO'],test_size=0.3, random_state=123)"
      ]
    },
    {
      "cell_type": "code",
      "execution_count": null,
      "metadata": {
        "id": "kfYKwIdObx3N"
      },
      "outputs": [],
      "source": [
        "def rmse(y_act, y_pred):\n",
        "  return (np.sqrt(np.mean((y_act-y_pred)**2)))\n",
        "\n",
        "rmse = make_scorer(rmse, greater_is_better=False)"
      ]
    },
    {
      "cell_type": "code",
      "execution_count": null,
      "metadata": {
        "id": "20a9LXGVcdsA"
      },
      "outputs": [],
      "source": [
        "def hp_obj_func_dt(param):\n",
        "  dt= DecisionTreeRegressor(**param)\n",
        "  out=cross_val_score(dt, X=x_train, y= y_train, scoring='neg_root_mean_squared_error', cv=5).mean()\n",
        "  print(out)\n",
        "  return out"
      ]
    },
    {
      "cell_type": "code",
      "execution_count": null,
      "metadata": {
        "id": "fLlWHWHKdLQ-"
      },
      "outputs": [],
      "source": [
        "def surr_func_dt(params):\n",
        "  perf= hp_obj_func_dt(params)\n",
        "  return {'loss':-perf,'status': STATUS_OK}"
      ]
    },
    {
      "cell_type": "markdown",
      "metadata": {
        "id": "4-wiIMeoG1TH"
      },
      "source": [
        "### Linear Regression"
      ]
    },
    {
      "cell_type": "code",
      "execution_count": null,
      "metadata": {
        "id": "O-PAr6YNf2cc"
      },
      "outputs": [],
      "source": [
        "lin_reg.fit(x_train, y_train)\n",
        "pred_lin_reg = lin_reg.predict(x_test)\n",
        "print(mean_squared_error(pred_lin_reg, y_test))"
      ]
    },
    {
      "cell_type": "markdown",
      "source": [
        "### Decision Tree"
      ],
      "metadata": {
        "id": "zfsVV1ofgE-o"
      }
    },
    {
      "cell_type": "code",
      "execution_count": null,
      "metadata": {
        "colab": {
          "base_uri": "https://localhost:8080/",
          "height": 236
        },
        "id": "aolDubRYdhIP",
        "outputId": "fc306263-2891-484f-ddb8-c59a1e083f79"
      },
      "outputs": [
        {
          "ename": "NameError",
          "evalue": "ignored",
          "output_type": "error",
          "traceback": [
            "\u001b[0;31m---------------------------------------------------------------------------\u001b[0m",
            "\u001b[0;31mNameError\u001b[0m                                 Traceback (most recent call last)",
            "\u001b[0;32m<ipython-input-1-d9b1ee6d5392>\u001b[0m in \u001b[0;36m<module>\u001b[0;34m\u001b[0m\n\u001b[0;32m----> 1\u001b[0;31m \u001b[0mtrials\u001b[0m \u001b[0;34m=\u001b[0m \u001b[0mTrials\u001b[0m\u001b[0;34m(\u001b[0m\u001b[0;34m)\u001b[0m\u001b[0;34m\u001b[0m\u001b[0;34m\u001b[0m\u001b[0m\n\u001b[0m\u001b[1;32m      2\u001b[0m best_dt = fmin(surr_func_dt, space=param_dt, algo=tpe.suggest,\n\u001b[1;32m      3\u001b[0m                max_evals=100, trials=trials)\n\u001b[1;32m      4\u001b[0m \u001b[0mprint\u001b[0m\u001b[0;34m(\u001b[0m\u001b[0;34m'best_dt:'\u001b[0m\u001b[0;34m)\u001b[0m\u001b[0;34m\u001b[0m\u001b[0;34m\u001b[0m\u001b[0m\n\u001b[1;32m      5\u001b[0m \u001b[0mprint\u001b[0m\u001b[0;34m(\u001b[0m\u001b[0mbest_dt\u001b[0m\u001b[0;34m)\u001b[0m\u001b[0;34m\u001b[0m\u001b[0;34m\u001b[0m\u001b[0m\n",
            "\u001b[0;31mNameError\u001b[0m: name 'Trials' is not defined"
          ]
        }
      ],
      "source": [
        "trials = Trials()\n",
        "best_dt = fmin(surr_func_dt, space=param_dt, algo=tpe.suggest,\n",
        "               max_evals=100, trials=trials)\n",
        "print('best_dt:')\n",
        "print(best_dt)"
      ]
    },
    {
      "cell_type": "code",
      "execution_count": null,
      "metadata": {
        "id": "EJ4-zQsgeTpi"
      },
      "outputs": [],
      "source": [
        "dt_reg = DecisionTreeRegressor(**best_dt)\n",
        "dt_reg.fit(x_train, y_train)\n",
        "pred_dt = dt_reg.predict(x_test)\n",
        "print(mean_squared_error(pred_dt, y_test))"
      ]
    },
    {
      "cell_type": "markdown",
      "metadata": {
        "id": "weHNJ8kUEXxx"
      },
      "source": [
        "### Random forest\n",
        "\n",
        "\n"
      ]
    },
    {
      "cell_type": "code",
      "execution_count": null,
      "metadata": {
        "id": "rHCZdUsKE8pK"
      },
      "outputs": [],
      "source": [
        "def hp_obj_func_rf(param):\n",
        "  rf= RandomForestRegressor(**param)\n",
        "  out=cross_val_score(rf, X=x_train, y= y_train, scoring='neg_root_mean_squared_error', cv=5).mean()\n",
        "  print(out)\n",
        "  return out"
      ]
    },
    {
      "cell_type": "code",
      "execution_count": null,
      "metadata": {
        "id": "vsjYWDz0FESs"
      },
      "outputs": [],
      "source": [
        "def surr_func_rf(params):\n",
        "  perf= hp_obj_func_rf(params)\n",
        "  return {'loss':-perf,'status': STATUS_OK}"
      ]
    },
    {
      "cell_type": "code",
      "execution_count": null,
      "metadata": {
        "colab": {
          "background_save": true,
          "base_uri": "https://localhost:8080/"
        },
        "id": "Tt1wvXx-CcKn",
        "outputId": "066c7136-f7dd-46e1-fcbb-f1c806430fbf"
      },
      "outputs": [
        {
          "name": "stdout",
          "output_type": "stream",
          "text": [
            "-1.1128655635510616\n",
            "-1.1089172416386133\n",
            "-1.1151557623172412\n",
            "-1.1069073912730325\n",
            "-1.1114110673653943\n",
            "-1.1168912571668366\n",
            "-1.1209253482433301\n",
            "-1.111107774841221\n",
            "-1.1187227229618961\n",
            "-1.1120437923249586\n",
            "-1.1136068330441582\n",
            "-1.1086832458397278\n",
            "-1.1202274079002483\n",
            "-1.1198395310456355\n",
            "-1.1144885781418306\n",
            "-1.1206308210423064\n",
            "-1.1150215279110016\n",
            "-1.1129204703182372\n",
            "-1.1145372953323753\n",
            "-1.1134523054647283\n",
            "-1.107681513748841\n",
            "-1.1102082109653035\n",
            "-1.1119139934768754\n",
            "-1.109601665528748\n",
            "-1.1091171131952193\n",
            "100%|██████████| 25/25 [55:24<00:00, 132.96s/it, best loss: 1.1069073912730325]\n",
            "best_rf:\n",
            "{'max_features': 1, 'n_estimators': 400.0}\n"
          ]
        }
      ],
      "source": [
        "trials = Trials()\n",
        "best_rf = fmin(surr_func_rf, space=param_rf, algo=tpe.suggest,\n",
        "               max_evals=25, trials=trials)\n",
        "print('best_rf:')\n",
        "print(best_rf)"
      ]
    },
    {
      "cell_type": "code",
      "execution_count": null,
      "metadata": {
        "id": "9Q2ce2bsJub5"
      },
      "outputs": [],
      "source": [
        "best_rf={'max_features': 2, 'n_estimators': 451}"
      ]
    },
    {
      "cell_type": "code",
      "execution_count": null,
      "metadata": {
        "id": "L-XcIjkNGSGu"
      },
      "outputs": [],
      "source": [
        "rf_reg = RandomForestRegressor(**best_rf)\n",
        "rf_reg.fit(x_train, y_train)\n",
        "pred_rf = rf_reg.predict(x_test)\n",
        "print(mean_squared_error(pred_rf, y_test))"
      ]
    },
    {
      "cell_type": "code",
      "execution_count": null,
      "metadata": {
        "id": "HEd3Rhg6PtxG"
      },
      "outputs": [],
      "source": [
        "plt.figure(figsize=(12,12))\n",
        "for i in range(1,10):\n",
        "  plt.subplot(3,3,i)\n",
        "  sns.distplot(data_2015.iloc[:i-1])"
      ]
    },
    {
      "cell_type": "markdown",
      "source": [
        "### (Missing) GBM"
      ],
      "metadata": {
        "id": "ni6rPxNngLaD"
      }
    },
    {
      "cell_type": "code",
      "source": [],
      "metadata": {
        "id": "CI1yHOzvgWou"
      },
      "execution_count": null,
      "outputs": []
    },
    {
      "cell_type": "markdown",
      "metadata": {
        "id": "HYJY7dOqeKgA"
      },
      "source": [
        "### XgBoost"
      ]
    },
    {
      "cell_type": "code",
      "execution_count": null,
      "metadata": {
        "id": "ie8ErSixeV6-"
      },
      "outputs": [],
      "source": [
        "def hp_obj_func_xgb(param):\n",
        "  xgb= XGBRegressor(**param)\n",
        "  out=cross_val_score(xgb, X=x_train, y= y_train, scoring='neg_root_mean_squared_error', cv=5).mean()\n",
        "  print(out)\n",
        "  return out"
      ]
    },
    {
      "cell_type": "code",
      "execution_count": null,
      "metadata": {
        "id": "d9Rr4_oTeaGU"
      },
      "outputs": [],
      "source": [
        "def surr_func_xgb(params):\n",
        "  perf= hp_obj_func_xgb(params)\n",
        "  return {'loss':-perf,'status': STATUS_OK}"
      ]
    },
    {
      "cell_type": "code",
      "execution_count": null,
      "metadata": {
        "colab": {
          "base_uri": "https://localhost:8080/"
        },
        "id": "M-No8HQaeatA",
        "outputId": "4417920e-e7d7-437b-f0f1-9dcbdd8ce4f6"
      },
      "outputs": [
        {
          "name": "stdout",
          "output_type": "stream",
          "text": [
            "[15:32:34] WARNING: /workspace/src/objective/regression_obj.cu:152: reg:linear is now deprecated in favor of reg:squarederror.\n",
            "[15:32:38] WARNING: /workspace/src/objective/regression_obj.cu:152: reg:linear is now deprecated in favor of reg:squarederror.\n",
            "[15:32:42] WARNING: /workspace/src/objective/regression_obj.cu:152: reg:linear is now deprecated in favor of reg:squarederror.\n",
            "[15:32:45] WARNING: /workspace/src/objective/regression_obj.cu:152: reg:linear is now deprecated in favor of reg:squarederror.\n",
            "[15:32:48] WARNING: /workspace/src/objective/regression_obj.cu:152: reg:linear is now deprecated in favor of reg:squarederror.\n",
            "-1.2418692722543576\n",
            "[15:32:51] WARNING: /workspace/src/objective/regression_obj.cu:152: reg:linear is now deprecated in favor of reg:squarederror.\n",
            "[15:32:53] WARNING: /workspace/src/objective/regression_obj.cu:152: reg:linear is now deprecated in favor of reg:squarederror.\n",
            "[15:32:55] WARNING: /workspace/src/objective/regression_obj.cu:152: reg:linear is now deprecated in favor of reg:squarederror.\n",
            "[15:32:56] WARNING: /workspace/src/objective/regression_obj.cu:152: reg:linear is now deprecated in favor of reg:squarederror.\n",
            "[15:32:58] WARNING: /workspace/src/objective/regression_obj.cu:152: reg:linear is now deprecated in favor of reg:squarederror.\n",
            "-1.2576214840793545\n",
            "[15:33:00] WARNING: /workspace/src/objective/regression_obj.cu:152: reg:linear is now deprecated in favor of reg:squarederror.\n",
            "[15:33:03] WARNING: /workspace/src/objective/regression_obj.cu:152: reg:linear is now deprecated in favor of reg:squarederror.\n",
            "[15:33:05] WARNING: /workspace/src/objective/regression_obj.cu:152: reg:linear is now deprecated in favor of reg:squarederror.\n",
            "[15:33:08] WARNING: /workspace/src/objective/regression_obj.cu:152: reg:linear is now deprecated in favor of reg:squarederror.\n",
            "[15:33:11] WARNING: /workspace/src/objective/regression_obj.cu:152: reg:linear is now deprecated in favor of reg:squarederror.\n",
            "-1.3899790945309172\n",
            "[15:33:14] WARNING: /workspace/src/objective/regression_obj.cu:152: reg:linear is now deprecated in favor of reg:squarederror.\n",
            "[15:33:18] WARNING: /workspace/src/objective/regression_obj.cu:152: reg:linear is now deprecated in favor of reg:squarederror.\n",
            "[15:33:23] WARNING: /workspace/src/objective/regression_obj.cu:152: reg:linear is now deprecated in favor of reg:squarederror.\n",
            "[15:33:28] WARNING: /workspace/src/objective/regression_obj.cu:152: reg:linear is now deprecated in favor of reg:squarederror.\n",
            "[15:33:33] WARNING: /workspace/src/objective/regression_obj.cu:152: reg:linear is now deprecated in favor of reg:squarederror.\n",
            "-1.176972916439709\n",
            "[15:33:38] WARNING: /workspace/src/objective/regression_obj.cu:152: reg:linear is now deprecated in favor of reg:squarederror.\n",
            "[15:33:39] WARNING: /workspace/src/objective/regression_obj.cu:152: reg:linear is now deprecated in favor of reg:squarederror.\n",
            "[15:33:41] WARNING: /workspace/src/objective/regression_obj.cu:152: reg:linear is now deprecated in favor of reg:squarederror.\n",
            "[15:33:42] WARNING: /workspace/src/objective/regression_obj.cu:152: reg:linear is now deprecated in favor of reg:squarederror.\n",
            "[15:33:44] WARNING: /workspace/src/objective/regression_obj.cu:152: reg:linear is now deprecated in favor of reg:squarederror.\n",
            "-1.322938052162006\n",
            "[15:33:45] WARNING: /workspace/src/objective/regression_obj.cu:152: reg:linear is now deprecated in favor of reg:squarederror.\n",
            "[15:33:46] WARNING: /workspace/src/objective/regression_obj.cu:152: reg:linear is now deprecated in favor of reg:squarederror.\n",
            "[15:33:46] WARNING: /workspace/src/objective/regression_obj.cu:152: reg:linear is now deprecated in favor of reg:squarederror.\n",
            "[15:33:46] WARNING: /workspace/src/objective/regression_obj.cu:152: reg:linear is now deprecated in favor of reg:squarederror.\n",
            "[15:33:47] WARNING: /workspace/src/objective/regression_obj.cu:152: reg:linear is now deprecated in favor of reg:squarederror.\n",
            "-1.417456325143064\n",
            "[15:33:47] WARNING: /workspace/src/objective/regression_obj.cu:152: reg:linear is now deprecated in favor of reg:squarederror.\n",
            "[15:33:50] WARNING: /workspace/src/objective/regression_obj.cu:152: reg:linear is now deprecated in favor of reg:squarederror.\n",
            "[15:33:53] WARNING: /workspace/src/objective/regression_obj.cu:152: reg:linear is now deprecated in favor of reg:squarederror.\n",
            "[15:33:55] WARNING: /workspace/src/objective/regression_obj.cu:152: reg:linear is now deprecated in favor of reg:squarederror.\n",
            "[15:33:58] WARNING: /workspace/src/objective/regression_obj.cu:152: reg:linear is now deprecated in favor of reg:squarederror.\n",
            "-1.1791207405692121\n",
            "[15:34:01] WARNING: /workspace/src/objective/regression_obj.cu:152: reg:linear is now deprecated in favor of reg:squarederror.\n",
            "[15:34:08] WARNING: /workspace/src/objective/regression_obj.cu:152: reg:linear is now deprecated in favor of reg:squarederror.\n",
            "[15:34:15] WARNING: /workspace/src/objective/regression_obj.cu:152: reg:linear is now deprecated in favor of reg:squarederror.\n",
            "[15:34:21] WARNING: /workspace/src/objective/regression_obj.cu:152: reg:linear is now deprecated in favor of reg:squarederror.\n",
            "[15:34:29] WARNING: /workspace/src/objective/regression_obj.cu:152: reg:linear is now deprecated in favor of reg:squarederror.\n",
            "-1.1935217738954271\n",
            "[15:34:36] WARNING: /workspace/src/objective/regression_obj.cu:152: reg:linear is now deprecated in favor of reg:squarederror.\n",
            "[15:34:37] WARNING: /workspace/src/objective/regression_obj.cu:152: reg:linear is now deprecated in favor of reg:squarederror.\n",
            "[15:34:39] WARNING: /workspace/src/objective/regression_obj.cu:152: reg:linear is now deprecated in favor of reg:squarederror.\n",
            "[15:34:41] WARNING: /workspace/src/objective/regression_obj.cu:152: reg:linear is now deprecated in favor of reg:squarederror.\n",
            "[15:34:43] WARNING: /workspace/src/objective/regression_obj.cu:152: reg:linear is now deprecated in favor of reg:squarederror.\n",
            "-1.2181287886750123\n",
            "[15:34:45] WARNING: /workspace/src/objective/regression_obj.cu:152: reg:linear is now deprecated in favor of reg:squarederror.\n",
            "[15:34:47] WARNING: /workspace/src/objective/regression_obj.cu:152: reg:linear is now deprecated in favor of reg:squarederror.\n",
            "[15:34:49] WARNING: /workspace/src/objective/regression_obj.cu:152: reg:linear is now deprecated in favor of reg:squarederror.\n",
            "[15:34:50] WARNING: /workspace/src/objective/regression_obj.cu:152: reg:linear is now deprecated in favor of reg:squarederror.\n",
            "[15:34:52] WARNING: /workspace/src/objective/regression_obj.cu:152: reg:linear is now deprecated in favor of reg:squarederror.\n",
            "-1.1876785684324966\n",
            "[15:34:54] WARNING: /workspace/src/objective/regression_obj.cu:152: reg:linear is now deprecated in favor of reg:squarederror.\n",
            "[15:34:54] WARNING: /workspace/src/objective/regression_obj.cu:152: reg:linear is now deprecated in favor of reg:squarederror.\n",
            "[15:34:55] WARNING: /workspace/src/objective/regression_obj.cu:152: reg:linear is now deprecated in favor of reg:squarederror.\n",
            "[15:34:55] WARNING: /workspace/src/objective/regression_obj.cu:152: reg:linear is now deprecated in favor of reg:squarederror.\n",
            "[15:34:56] WARNING: /workspace/src/objective/regression_obj.cu:152: reg:linear is now deprecated in favor of reg:squarederror.\n",
            "-1.438241600484686\n",
            "[15:34:57] WARNING: /workspace/src/objective/regression_obj.cu:152: reg:linear is now deprecated in favor of reg:squarederror.\n",
            "[15:35:01] WARNING: /workspace/src/objective/regression_obj.cu:152: reg:linear is now deprecated in favor of reg:squarederror.\n",
            "[15:35:05] WARNING: /workspace/src/objective/regression_obj.cu:152: reg:linear is now deprecated in favor of reg:squarederror.\n",
            "[15:35:10] WARNING: /workspace/src/objective/regression_obj.cu:152: reg:linear is now deprecated in favor of reg:squarederror.\n",
            "[15:35:14] WARNING: /workspace/src/objective/regression_obj.cu:152: reg:linear is now deprecated in favor of reg:squarederror.\n",
            "-1.1998415247678047\n",
            "[15:35:18] WARNING: /workspace/src/objective/regression_obj.cu:152: reg:linear is now deprecated in favor of reg:squarederror.\n",
            "[15:35:19] WARNING: /workspace/src/objective/regression_obj.cu:152: reg:linear is now deprecated in favor of reg:squarederror.\n",
            "[15:35:20] WARNING: /workspace/src/objective/regression_obj.cu:152: reg:linear is now deprecated in favor of reg:squarederror.\n",
            "[15:35:21] WARNING: /workspace/src/objective/regression_obj.cu:152: reg:linear is now deprecated in favor of reg:squarederror.\n",
            "[15:35:22] WARNING: /workspace/src/objective/regression_obj.cu:152: reg:linear is now deprecated in favor of reg:squarederror.\n",
            "-1.3590724330162545\n",
            "[15:35:22] WARNING: /workspace/src/objective/regression_obj.cu:152: reg:linear is now deprecated in favor of reg:squarederror.\n",
            "[15:35:25] WARNING: /workspace/src/objective/regression_obj.cu:152: reg:linear is now deprecated in favor of reg:squarederror.\n",
            "[15:35:28] WARNING: /workspace/src/objective/regression_obj.cu:152: reg:linear is now deprecated in favor of reg:squarederror.\n",
            "[15:35:31] WARNING: /workspace/src/objective/regression_obj.cu:152: reg:linear is now deprecated in favor of reg:squarederror.\n",
            "[15:35:33] WARNING: /workspace/src/objective/regression_obj.cu:152: reg:linear is now deprecated in favor of reg:squarederror.\n",
            "-1.2134098036369125\n",
            "[15:35:36] WARNING: /workspace/src/objective/regression_obj.cu:152: reg:linear is now deprecated in favor of reg:squarederror.\n",
            "[15:35:41] WARNING: /workspace/src/objective/regression_obj.cu:152: reg:linear is now deprecated in favor of reg:squarederror.\n",
            "[15:35:45] WARNING: /workspace/src/objective/regression_obj.cu:152: reg:linear is now deprecated in favor of reg:squarederror.\n",
            "[15:35:50] WARNING: /workspace/src/objective/regression_obj.cu:152: reg:linear is now deprecated in favor of reg:squarederror.\n",
            "[15:35:55] WARNING: /workspace/src/objective/regression_obj.cu:152: reg:linear is now deprecated in favor of reg:squarederror.\n",
            "-1.1958374640286793\n",
            "[15:35:59] WARNING: /workspace/src/objective/regression_obj.cu:152: reg:linear is now deprecated in favor of reg:squarederror.\n",
            "[15:36:03] WARNING: /workspace/src/objective/regression_obj.cu:152: reg:linear is now deprecated in favor of reg:squarederror.\n",
            "[15:36:06] WARNING: /workspace/src/objective/regression_obj.cu:152: reg:linear is now deprecated in favor of reg:squarederror.\n",
            "[15:36:10] WARNING: /workspace/src/objective/regression_obj.cu:152: reg:linear is now deprecated in favor of reg:squarederror.\n",
            "[15:36:13] WARNING: /workspace/src/objective/regression_obj.cu:152: reg:linear is now deprecated in favor of reg:squarederror.\n",
            "-1.2918226030798752\n",
            "[15:36:17] WARNING: /workspace/src/objective/regression_obj.cu:152: reg:linear is now deprecated in favor of reg:squarederror.\n",
            "[15:36:20] WARNING: /workspace/src/objective/regression_obj.cu:152: reg:linear is now deprecated in favor of reg:squarederror.\n",
            "[15:36:23] WARNING: /workspace/src/objective/regression_obj.cu:152: reg:linear is now deprecated in favor of reg:squarederror.\n",
            "[15:36:27] WARNING: /workspace/src/objective/regression_obj.cu:152: reg:linear is now deprecated in favor of reg:squarederror.\n",
            "[15:36:30] WARNING: /workspace/src/objective/regression_obj.cu:152: reg:linear is now deprecated in favor of reg:squarederror.\n",
            "-1.244257802648348\n",
            "[15:36:32] WARNING: /workspace/src/objective/regression_obj.cu:152: reg:linear is now deprecated in favor of reg:squarederror.\n",
            "[15:36:37] WARNING: /workspace/src/objective/regression_obj.cu:152: reg:linear is now deprecated in favor of reg:squarederror.\n",
            "[15:36:42] WARNING: /workspace/src/objective/regression_obj.cu:152: reg:linear is now deprecated in favor of reg:squarederror.\n",
            "[15:36:46] WARNING: /workspace/src/objective/regression_obj.cu:152: reg:linear is now deprecated in favor of reg:squarederror.\n",
            "[15:36:51] WARNING: /workspace/src/objective/regression_obj.cu:152: reg:linear is now deprecated in favor of reg:squarederror.\n",
            "-1.1874604538563254\n",
            "[15:36:56] WARNING: /workspace/src/objective/regression_obj.cu:152: reg:linear is now deprecated in favor of reg:squarederror.\n",
            "[15:37:01] WARNING: /workspace/src/objective/regression_obj.cu:152: reg:linear is now deprecated in favor of reg:squarederror.\n",
            "[15:37:06] WARNING: /workspace/src/objective/regression_obj.cu:152: reg:linear is now deprecated in favor of reg:squarederror.\n",
            "[15:37:11] WARNING: /workspace/src/objective/regression_obj.cu:152: reg:linear is now deprecated in favor of reg:squarederror.\n",
            "[15:37:16] WARNING: /workspace/src/objective/regression_obj.cu:152: reg:linear is now deprecated in favor of reg:squarederror.\n",
            "-1.2182956101518474\n",
            "[15:37:22] WARNING: /workspace/src/objective/regression_obj.cu:152: reg:linear is now deprecated in favor of reg:squarederror.\n",
            "[15:37:22] WARNING: /workspace/src/objective/regression_obj.cu:152: reg:linear is now deprecated in favor of reg:squarederror.\n",
            "[15:37:23] WARNING: /workspace/src/objective/regression_obj.cu:152: reg:linear is now deprecated in favor of reg:squarederror.\n",
            "[15:37:24] WARNING: /workspace/src/objective/regression_obj.cu:152: reg:linear is now deprecated in favor of reg:squarederror.\n",
            "[15:37:24] WARNING: /workspace/src/objective/regression_obj.cu:152: reg:linear is now deprecated in favor of reg:squarederror.\n",
            "-1.2543329415627358\n",
            "[15:37:25] WARNING: /workspace/src/objective/regression_obj.cu:152: reg:linear is now deprecated in favor of reg:squarederror.\n",
            "[15:37:31] WARNING: /workspace/src/objective/regression_obj.cu:152: reg:linear is now deprecated in favor of reg:squarederror.\n",
            "[15:37:38] WARNING: /workspace/src/objective/regression_obj.cu:152: reg:linear is now deprecated in favor of reg:squarederror.\n",
            "[15:37:44] WARNING: /workspace/src/objective/regression_obj.cu:152: reg:linear is now deprecated in favor of reg:squarederror.\n",
            "[15:37:51] WARNING: /workspace/src/objective/regression_obj.cu:152: reg:linear is now deprecated in favor of reg:squarederror.\n",
            "-1.171587186953854\n",
            "[15:37:57] WARNING: /workspace/src/objective/regression_obj.cu:152: reg:linear is now deprecated in favor of reg:squarederror.\n",
            "[15:38:06] WARNING: /workspace/src/objective/regression_obj.cu:152: reg:linear is now deprecated in favor of reg:squarederror.\n",
            "[15:38:14] WARNING: /workspace/src/objective/regression_obj.cu:152: reg:linear is now deprecated in favor of reg:squarederror.\n",
            "[15:38:22] WARNING: /workspace/src/objective/regression_obj.cu:152: reg:linear is now deprecated in favor of reg:squarederror.\n",
            "[15:38:30] WARNING: /workspace/src/objective/regression_obj.cu:152: reg:linear is now deprecated in favor of reg:squarederror.\n",
            "-1.1594205772299446\n",
            "[15:38:39] WARNING: /workspace/src/objective/regression_obj.cu:152: reg:linear is now deprecated in favor of reg:squarederror.\n",
            "[15:38:45] WARNING: /workspace/src/objective/regression_obj.cu:152: reg:linear is now deprecated in favor of reg:squarederror.\n",
            "[15:38:51] WARNING: /workspace/src/objective/regression_obj.cu:152: reg:linear is now deprecated in favor of reg:squarederror.\n",
            "[15:38:57] WARNING: /workspace/src/objective/regression_obj.cu:152: reg:linear is now deprecated in favor of reg:squarederror.\n",
            "[15:39:04] WARNING: /workspace/src/objective/regression_obj.cu:152: reg:linear is now deprecated in favor of reg:squarederror.\n",
            "-1.1706904615893285\n",
            "[15:39:10] WARNING: /workspace/src/objective/regression_obj.cu:152: reg:linear is now deprecated in favor of reg:squarederror.\n",
            "[15:39:16] WARNING: /workspace/src/objective/regression_obj.cu:152: reg:linear is now deprecated in favor of reg:squarederror.\n",
            "[15:39:22] WARNING: /workspace/src/objective/regression_obj.cu:152: reg:linear is now deprecated in favor of reg:squarederror.\n",
            "[15:39:27] WARNING: /workspace/src/objective/regression_obj.cu:152: reg:linear is now deprecated in favor of reg:squarederror.\n",
            "[15:39:33] WARNING: /workspace/src/objective/regression_obj.cu:152: reg:linear is now deprecated in favor of reg:squarederror.\n",
            "-1.1699201670964219\n",
            "[15:39:39] WARNING: /workspace/src/objective/regression_obj.cu:152: reg:linear is now deprecated in favor of reg:squarederror.\n",
            "[15:39:47] WARNING: /workspace/src/objective/regression_obj.cu:152: reg:linear is now deprecated in favor of reg:squarederror.\n",
            "[15:39:55] WARNING: /workspace/src/objective/regression_obj.cu:152: reg:linear is now deprecated in favor of reg:squarederror.\n",
            "[15:40:04] WARNING: /workspace/src/objective/regression_obj.cu:152: reg:linear is now deprecated in favor of reg:squarederror.\n",
            "[15:40:12] WARNING: /workspace/src/objective/regression_obj.cu:152: reg:linear is now deprecated in favor of reg:squarederror.\n",
            "-1.1684917950483973\n",
            "[15:40:20] WARNING: /workspace/src/objective/regression_obj.cu:152: reg:linear is now deprecated in favor of reg:squarederror.\n",
            "[15:40:29] WARNING: /workspace/src/objective/regression_obj.cu:152: reg:linear is now deprecated in favor of reg:squarederror.\n",
            "[15:40:38] WARNING: /workspace/src/objective/regression_obj.cu:152: reg:linear is now deprecated in favor of reg:squarederror.\n",
            "[15:40:47] WARNING: /workspace/src/objective/regression_obj.cu:152: reg:linear is now deprecated in favor of reg:squarederror.\n",
            "[15:40:56] WARNING: /workspace/src/objective/regression_obj.cu:152: reg:linear is now deprecated in favor of reg:squarederror.\n",
            "-1.1696105340896625\n",
            "[15:41:05] WARNING: /workspace/src/objective/regression_obj.cu:152: reg:linear is now deprecated in favor of reg:squarederror.\n",
            "[15:41:14] WARNING: /workspace/src/objective/regression_obj.cu:152: reg:linear is now deprecated in favor of reg:squarederror.\n",
            "[15:41:22] WARNING: /workspace/src/objective/regression_obj.cu:152: reg:linear is now deprecated in favor of reg:squarederror.\n",
            "[15:41:30] WARNING: /workspace/src/objective/regression_obj.cu:152: reg:linear is now deprecated in favor of reg:squarederror.\n",
            "[15:41:38] WARNING: /workspace/src/objective/regression_obj.cu:152: reg:linear is now deprecated in favor of reg:squarederror.\n",
            "-1.1695043622025174\n",
            "[15:41:46] WARNING: /workspace/src/objective/regression_obj.cu:152: reg:linear is now deprecated in favor of reg:squarederror.\n",
            "[15:41:50] WARNING: /workspace/src/objective/regression_obj.cu:152: reg:linear is now deprecated in favor of reg:squarederror.\n",
            "[15:41:54] WARNING: /workspace/src/objective/regression_obj.cu:152: reg:linear is now deprecated in favor of reg:squarederror.\n",
            "[15:41:59] WARNING: /workspace/src/objective/regression_obj.cu:152: reg:linear is now deprecated in favor of reg:squarederror.\n",
            "[15:42:03] WARNING: /workspace/src/objective/regression_obj.cu:152: reg:linear is now deprecated in favor of reg:squarederror.\n",
            "-1.2178070037686937\n",
            "[15:42:07] WARNING: /workspace/src/objective/regression_obj.cu:152: reg:linear is now deprecated in favor of reg:squarederror.\n",
            "[15:42:14] WARNING: /workspace/src/objective/regression_obj.cu:152: reg:linear is now deprecated in favor of reg:squarederror.\n",
            "[15:42:22] WARNING: /workspace/src/objective/regression_obj.cu:152: reg:linear is now deprecated in favor of reg:squarederror.\n",
            "[15:42:29] WARNING: /workspace/src/objective/regression_obj.cu:152: reg:linear is now deprecated in favor of reg:squarederror.\n",
            "[15:42:36] WARNING: /workspace/src/objective/regression_obj.cu:152: reg:linear is now deprecated in favor of reg:squarederror.\n",
            "-1.165739264258455\n",
            "[15:42:44] WARNING: /workspace/src/objective/regression_obj.cu:152: reg:linear is now deprecated in favor of reg:squarederror.\n",
            "[15:42:51] WARNING: /workspace/src/objective/regression_obj.cu:152: reg:linear is now deprecated in favor of reg:squarederror.\n",
            "[15:42:58] WARNING: /workspace/src/objective/regression_obj.cu:152: reg:linear is now deprecated in favor of reg:squarederror.\n",
            "[15:43:06] WARNING: /workspace/src/objective/regression_obj.cu:152: reg:linear is now deprecated in favor of reg:squarederror.\n",
            "[15:43:13] WARNING: /workspace/src/objective/regression_obj.cu:152: reg:linear is now deprecated in favor of reg:squarederror.\n",
            "-1.1611549092495266\n",
            "[15:43:21] WARNING: /workspace/src/objective/regression_obj.cu:152: reg:linear is now deprecated in favor of reg:squarederror.\n",
            "[15:43:23] WARNING: /workspace/src/objective/regression_obj.cu:152: reg:linear is now deprecated in favor of reg:squarederror.\n",
            "[15:43:25] WARNING: /workspace/src/objective/regression_obj.cu:152: reg:linear is now deprecated in favor of reg:squarederror.\n",
            "[15:43:27] WARNING: /workspace/src/objective/regression_obj.cu:152: reg:linear is now deprecated in favor of reg:squarederror.\n",
            "[15:43:29] WARNING: /workspace/src/objective/regression_obj.cu:152: reg:linear is now deprecated in favor of reg:squarederror.\n",
            "-1.2585296936568\n",
            "[15:43:31] WARNING: /workspace/src/objective/regression_obj.cu:152: reg:linear is now deprecated in favor of reg:squarederror.\n",
            "[15:43:33] WARNING: /workspace/src/objective/regression_obj.cu:152: reg:linear is now deprecated in favor of reg:squarederror.\n",
            "[15:43:34] WARNING: /workspace/src/objective/regression_obj.cu:152: reg:linear is now deprecated in favor of reg:squarederror.\n",
            "[15:43:36] WARNING: /workspace/src/objective/regression_obj.cu:152: reg:linear is now deprecated in favor of reg:squarederror.\n",
            "[15:43:37] WARNING: /workspace/src/objective/regression_obj.cu:152: reg:linear is now deprecated in favor of reg:squarederror.\n",
            "-1.4182656071309236\n",
            "[15:43:39] WARNING: /workspace/src/objective/regression_obj.cu:152: reg:linear is now deprecated in favor of reg:squarederror.\n",
            "[15:43:46] WARNING: /workspace/src/objective/regression_obj.cu:152: reg:linear is now deprecated in favor of reg:squarederror.\n",
            "[15:43:53] WARNING: /workspace/src/objective/regression_obj.cu:152: reg:linear is now deprecated in favor of reg:squarederror.\n",
            "[15:44:00] WARNING: /workspace/src/objective/regression_obj.cu:152: reg:linear is now deprecated in favor of reg:squarederror.\n",
            "[15:44:07] WARNING: /workspace/src/objective/regression_obj.cu:152: reg:linear is now deprecated in favor of reg:squarederror.\n",
            "-1.1506151709171495\n",
            "[15:44:14] WARNING: /workspace/src/objective/regression_obj.cu:152: reg:linear is now deprecated in favor of reg:squarederror.\n",
            "[15:44:16] WARNING: /workspace/src/objective/regression_obj.cu:152: reg:linear is now deprecated in favor of reg:squarederror.\n",
            "[15:44:19] WARNING: /workspace/src/objective/regression_obj.cu:152: reg:linear is now deprecated in favor of reg:squarederror.\n",
            "[15:44:22] WARNING: /workspace/src/objective/regression_obj.cu:152: reg:linear is now deprecated in favor of reg:squarederror.\n",
            "[15:44:25] WARNING: /workspace/src/objective/regression_obj.cu:152: reg:linear is now deprecated in favor of reg:squarederror.\n",
            "-1.531478328505965\n",
            "[15:44:28] WARNING: /workspace/src/objective/regression_obj.cu:152: reg:linear is now deprecated in favor of reg:squarederror.\n",
            "[15:44:34] WARNING: /workspace/src/objective/regression_obj.cu:152: reg:linear is now deprecated in favor of reg:squarederror.\n",
            "[15:44:40] WARNING: /workspace/src/objective/regression_obj.cu:152: reg:linear is now deprecated in favor of reg:squarederror.\n",
            "[15:44:46] WARNING: /workspace/src/objective/regression_obj.cu:152: reg:linear is now deprecated in favor of reg:squarederror.\n",
            "[15:44:52] WARNING: /workspace/src/objective/regression_obj.cu:152: reg:linear is now deprecated in favor of reg:squarederror.\n",
            "-1.1664620658595468\n",
            "[15:44:58] WARNING: /workspace/src/objective/regression_obj.cu:152: reg:linear is now deprecated in favor of reg:squarederror.\n",
            "[15:45:06] WARNING: /workspace/src/objective/regression_obj.cu:152: reg:linear is now deprecated in favor of reg:squarederror.\n",
            "[15:45:14] WARNING: /workspace/src/objective/regression_obj.cu:152: reg:linear is now deprecated in favor of reg:squarederror.\n",
            "[15:45:22] WARNING: /workspace/src/objective/regression_obj.cu:152: reg:linear is now deprecated in favor of reg:squarederror.\n",
            "[15:45:31] WARNING: /workspace/src/objective/regression_obj.cu:152: reg:linear is now deprecated in favor of reg:squarederror.\n",
            "-1.1642492615741262\n",
            "[15:45:39] WARNING: /workspace/src/objective/regression_obj.cu:152: reg:linear is now deprecated in favor of reg:squarederror.\n",
            "[15:45:42] WARNING: /workspace/src/objective/regression_obj.cu:152: reg:linear is now deprecated in favor of reg:squarederror.\n",
            "[15:45:45] WARNING: /workspace/src/objective/regression_obj.cu:152: reg:linear is now deprecated in favor of reg:squarederror.\n",
            "[15:45:47] WARNING: /workspace/src/objective/regression_obj.cu:152: reg:linear is now deprecated in favor of reg:squarederror.\n",
            "[15:45:50] WARNING: /workspace/src/objective/regression_obj.cu:152: reg:linear is now deprecated in favor of reg:squarederror.\n",
            "-1.260326002609248\n",
            "[15:45:53] WARNING: /workspace/src/objective/regression_obj.cu:152: reg:linear is now deprecated in favor of reg:squarederror.\n",
            "[15:45:56] WARNING: /workspace/src/objective/regression_obj.cu:152: reg:linear is now deprecated in favor of reg:squarederror.\n",
            "[15:45:59] WARNING: /workspace/src/objective/regression_obj.cu:152: reg:linear is now deprecated in favor of reg:squarederror.\n",
            "[15:46:02] WARNING: /workspace/src/objective/regression_obj.cu:152: reg:linear is now deprecated in favor of reg:squarederror.\n",
            "[15:46:06] WARNING: /workspace/src/objective/regression_obj.cu:152: reg:linear is now deprecated in favor of reg:squarederror.\n",
            "-1.5351534097951984\n",
            "[15:46:09] WARNING: /workspace/src/objective/regression_obj.cu:152: reg:linear is now deprecated in favor of reg:squarederror.\n",
            "[15:46:19] WARNING: /workspace/src/objective/regression_obj.cu:152: reg:linear is now deprecated in favor of reg:squarederror.\n",
            "[15:46:30] WARNING: /workspace/src/objective/regression_obj.cu:152: reg:linear is now deprecated in favor of reg:squarederror.\n",
            "[15:46:41] WARNING: /workspace/src/objective/regression_obj.cu:152: reg:linear is now deprecated in favor of reg:squarederror.\n",
            "[15:46:52] WARNING: /workspace/src/objective/regression_obj.cu:152: reg:linear is now deprecated in favor of reg:squarederror.\n",
            "-1.6944087210304424\n",
            "[15:47:03] WARNING: /workspace/src/objective/regression_obj.cu:152: reg:linear is now deprecated in favor of reg:squarederror.\n",
            "[15:47:09] WARNING: /workspace/src/objective/regression_obj.cu:152: reg:linear is now deprecated in favor of reg:squarederror.\n",
            "[15:47:15] WARNING: /workspace/src/objective/regression_obj.cu:152: reg:linear is now deprecated in favor of reg:squarederror.\n",
            "[15:47:21] WARNING: /workspace/src/objective/regression_obj.cu:152: reg:linear is now deprecated in favor of reg:squarederror.\n",
            "[15:47:27] WARNING: /workspace/src/objective/regression_obj.cu:152: reg:linear is now deprecated in favor of reg:squarederror.\n",
            "-1.1604716919551588\n",
            "[15:47:33] WARNING: /workspace/src/objective/regression_obj.cu:152: reg:linear is now deprecated in favor of reg:squarederror.\n",
            "[15:47:38] WARNING: /workspace/src/objective/regression_obj.cu:152: reg:linear is now deprecated in favor of reg:squarederror.\n",
            "[15:47:42] WARNING: /workspace/src/objective/regression_obj.cu:152: reg:linear is now deprecated in favor of reg:squarederror.\n",
            "[15:47:47] WARNING: /workspace/src/objective/regression_obj.cu:152: reg:linear is now deprecated in favor of reg:squarederror.\n",
            "[15:47:52] WARNING: /workspace/src/objective/regression_obj.cu:152: reg:linear is now deprecated in favor of reg:squarederror.\n",
            "-1.2069534586960813\n",
            "[15:47:57] WARNING: /workspace/src/objective/regression_obj.cu:152: reg:linear is now deprecated in favor of reg:squarederror.\n",
            "[15:48:02] WARNING: /workspace/src/objective/regression_obj.cu:152: reg:linear is now deprecated in favor of reg:squarederror.\n",
            "[15:48:08] WARNING: /workspace/src/objective/regression_obj.cu:152: reg:linear is now deprecated in favor of reg:squarederror.\n",
            "[15:48:13] WARNING: /workspace/src/objective/regression_obj.cu:152: reg:linear is now deprecated in favor of reg:squarederror.\n",
            "[15:48:19] WARNING: /workspace/src/objective/regression_obj.cu:152: reg:linear is now deprecated in favor of reg:squarederror.\n",
            "-1.17528424255126\n",
            "[15:48:25] WARNING: /workspace/src/objective/regression_obj.cu:152: reg:linear is now deprecated in favor of reg:squarederror.\n",
            "[15:48:27] WARNING: /workspace/src/objective/regression_obj.cu:152: reg:linear is now deprecated in favor of reg:squarederror.\n",
            "[15:48:30] WARNING: /workspace/src/objective/regression_obj.cu:152: reg:linear is now deprecated in favor of reg:squarederror.\n",
            "[15:48:33] WARNING: /workspace/src/objective/regression_obj.cu:152: reg:linear is now deprecated in favor of reg:squarederror.\n",
            "[15:48:36] WARNING: /workspace/src/objective/regression_obj.cu:152: reg:linear is now deprecated in favor of reg:squarederror.\n",
            "-1.2381113854108379\n",
            "[15:48:39] WARNING: /workspace/src/objective/regression_obj.cu:152: reg:linear is now deprecated in favor of reg:squarederror.\n",
            "[15:48:43] WARNING: /workspace/src/objective/regression_obj.cu:152: reg:linear is now deprecated in favor of reg:squarederror.\n",
            "[15:48:47] WARNING: /workspace/src/objective/regression_obj.cu:152: reg:linear is now deprecated in favor of reg:squarederror.\n",
            "[15:48:51] WARNING: /workspace/src/objective/regression_obj.cu:152: reg:linear is now deprecated in favor of reg:squarederror.\n",
            "[15:48:55] WARNING: /workspace/src/objective/regression_obj.cu:152: reg:linear is now deprecated in favor of reg:squarederror.\n",
            "-1.185537493660402\n",
            "[15:49:00] WARNING: /workspace/src/objective/regression_obj.cu:152: reg:linear is now deprecated in favor of reg:squarederror.\n",
            "[15:49:02] WARNING: /workspace/src/objective/regression_obj.cu:152: reg:linear is now deprecated in favor of reg:squarederror.\n",
            "[15:49:05] WARNING: /workspace/src/objective/regression_obj.cu:152: reg:linear is now deprecated in favor of reg:squarederror.\n",
            "[15:49:08] WARNING: /workspace/src/objective/regression_obj.cu:152: reg:linear is now deprecated in favor of reg:squarederror.\n",
            "[15:49:11] WARNING: /workspace/src/objective/regression_obj.cu:152: reg:linear is now deprecated in favor of reg:squarederror.\n",
            "-1.2694104754671303\n",
            "[15:49:14] WARNING: /workspace/src/objective/regression_obj.cu:152: reg:linear is now deprecated in favor of reg:squarederror.\n",
            "[15:49:20] WARNING: /workspace/src/objective/regression_obj.cu:152: reg:linear is now deprecated in favor of reg:squarederror.\n",
            "[15:49:27] WARNING: /workspace/src/objective/regression_obj.cu:152: reg:linear is now deprecated in favor of reg:squarederror.\n",
            "[15:49:34] WARNING: /workspace/src/objective/regression_obj.cu:152: reg:linear is now deprecated in favor of reg:squarederror.\n",
            "[15:49:40] WARNING: /workspace/src/objective/regression_obj.cu:152: reg:linear is now deprecated in favor of reg:squarederror.\n",
            "-1.161025585997852\n",
            "[15:49:47] WARNING: /workspace/src/objective/regression_obj.cu:152: reg:linear is now deprecated in favor of reg:squarederror.\n",
            "[15:49:48] WARNING: /workspace/src/objective/regression_obj.cu:152: reg:linear is now deprecated in favor of reg:squarederror.\n",
            "[15:49:50] WARNING: /workspace/src/objective/regression_obj.cu:152: reg:linear is now deprecated in favor of reg:squarederror.\n",
            "[15:49:51] WARNING: /workspace/src/objective/regression_obj.cu:152: reg:linear is now deprecated in favor of reg:squarederror.\n",
            "[15:49:53] WARNING: /workspace/src/objective/regression_obj.cu:152: reg:linear is now deprecated in favor of reg:squarederror.\n",
            "-1.2135064428518367\n",
            "[15:49:54] WARNING: /workspace/src/objective/regression_obj.cu:152: reg:linear is now deprecated in favor of reg:squarederror.\n",
            "[15:50:00] WARNING: /workspace/src/objective/regression_obj.cu:152: reg:linear is now deprecated in favor of reg:squarederror.\n",
            "[15:50:06] WARNING: /workspace/src/objective/regression_obj.cu:152: reg:linear is now deprecated in favor of reg:squarederror.\n",
            "[15:50:12] WARNING: /workspace/src/objective/regression_obj.cu:152: reg:linear is now deprecated in favor of reg:squarederror.\n",
            "[15:50:18] WARNING: /workspace/src/objective/regression_obj.cu:152: reg:linear is now deprecated in favor of reg:squarederror.\n",
            "-1.1841957860683212\n",
            "[15:50:24] WARNING: /workspace/src/objective/regression_obj.cu:152: reg:linear is now deprecated in favor of reg:squarederror.\n",
            "[15:50:31] WARNING: /workspace/src/objective/regression_obj.cu:152: reg:linear is now deprecated in favor of reg:squarederror.\n",
            "[15:50:37] WARNING: /workspace/src/objective/regression_obj.cu:152: reg:linear is now deprecated in favor of reg:squarederror.\n",
            "[15:50:43] WARNING: /workspace/src/objective/regression_obj.cu:152: reg:linear is now deprecated in favor of reg:squarederror.\n",
            "[15:50:50] WARNING: /workspace/src/objective/regression_obj.cu:152: reg:linear is now deprecated in favor of reg:squarederror.\n",
            "-1.1632792460727557\n",
            "[15:50:57] WARNING: /workspace/src/objective/regression_obj.cu:152: reg:linear is now deprecated in favor of reg:squarederror.\n",
            "[15:51:00] WARNING: /workspace/src/objective/regression_obj.cu:152: reg:linear is now deprecated in favor of reg:squarederror.\n",
            "[15:51:04] WARNING: /workspace/src/objective/regression_obj.cu:152: reg:linear is now deprecated in favor of reg:squarederror.\n",
            "[15:51:07] WARNING: /workspace/src/objective/regression_obj.cu:152: reg:linear is now deprecated in favor of reg:squarederror.\n",
            "[15:51:10] WARNING: /workspace/src/objective/regression_obj.cu:152: reg:linear is now deprecated in favor of reg:squarederror.\n",
            "-1.382248513331342\n",
            "[15:51:13] WARNING: /workspace/src/objective/regression_obj.cu:152: reg:linear is now deprecated in favor of reg:squarederror.\n",
            "[15:51:18] WARNING: /workspace/src/objective/regression_obj.cu:152: reg:linear is now deprecated in favor of reg:squarederror.\n",
            "[15:51:22] WARNING: /workspace/src/objective/regression_obj.cu:152: reg:linear is now deprecated in favor of reg:squarederror.\n",
            "[15:51:26] WARNING: /workspace/src/objective/regression_obj.cu:152: reg:linear is now deprecated in favor of reg:squarederror.\n",
            "[15:51:30] WARNING: /workspace/src/objective/regression_obj.cu:152: reg:linear is now deprecated in favor of reg:squarederror.\n",
            "-1.1639848780977078\n",
            "[15:51:35] WARNING: /workspace/src/objective/regression_obj.cu:152: reg:linear is now deprecated in favor of reg:squarederror.\n",
            "[15:51:38] WARNING: /workspace/src/objective/regression_obj.cu:152: reg:linear is now deprecated in favor of reg:squarederror.\n",
            "[15:51:42] WARNING: /workspace/src/objective/regression_obj.cu:152: reg:linear is now deprecated in favor of reg:squarederror.\n",
            "[15:51:46] WARNING: /workspace/src/objective/regression_obj.cu:152: reg:linear is now deprecated in favor of reg:squarederror.\n",
            "[15:51:49] WARNING: /workspace/src/objective/regression_obj.cu:152: reg:linear is now deprecated in favor of reg:squarederror.\n",
            "-1.2524058603020216\n",
            "[15:51:53] WARNING: /workspace/src/objective/regression_obj.cu:152: reg:linear is now deprecated in favor of reg:squarederror.\n",
            "[15:51:55] WARNING: /workspace/src/objective/regression_obj.cu:152: reg:linear is now deprecated in favor of reg:squarederror.\n",
            "[15:51:57] WARNING: /workspace/src/objective/regression_obj.cu:152: reg:linear is now deprecated in favor of reg:squarederror.\n",
            "[15:51:59] WARNING: /workspace/src/objective/regression_obj.cu:152: reg:linear is now deprecated in favor of reg:squarederror.\n",
            "[15:52:00] WARNING: /workspace/src/objective/regression_obj.cu:152: reg:linear is now deprecated in favor of reg:squarederror.\n",
            "-1.2648164703282103\n",
            "[15:52:02] WARNING: /workspace/src/objective/regression_obj.cu:152: reg:linear is now deprecated in favor of reg:squarederror.\n",
            "[15:52:07] WARNING: /workspace/src/objective/regression_obj.cu:152: reg:linear is now deprecated in favor of reg:squarederror.\n",
            "[15:52:12] WARNING: /workspace/src/objective/regression_obj.cu:152: reg:linear is now deprecated in favor of reg:squarederror.\n",
            "[15:52:17] WARNING: /workspace/src/objective/regression_obj.cu:152: reg:linear is now deprecated in favor of reg:squarederror.\n",
            "[15:52:22] WARNING: /workspace/src/objective/regression_obj.cu:152: reg:linear is now deprecated in favor of reg:squarederror.\n",
            "-1.1958845822344928\n",
            "[15:52:27] WARNING: /workspace/src/objective/regression_obj.cu:152: reg:linear is now deprecated in favor of reg:squarederror.\n",
            "[15:52:34] WARNING: /workspace/src/objective/regression_obj.cu:152: reg:linear is now deprecated in favor of reg:squarederror.\n",
            "[15:52:42] WARNING: /workspace/src/objective/regression_obj.cu:152: reg:linear is now deprecated in favor of reg:squarederror.\n",
            "[15:52:49] WARNING: /workspace/src/objective/regression_obj.cu:152: reg:linear is now deprecated in favor of reg:squarederror.\n",
            "[15:52:56] WARNING: /workspace/src/objective/regression_obj.cu:152: reg:linear is now deprecated in favor of reg:squarederror.\n",
            "-1.1832561757094342\n",
            "[15:53:04] WARNING: /workspace/src/objective/regression_obj.cu:152: reg:linear is now deprecated in favor of reg:squarederror.\n",
            "[15:53:06] WARNING: /workspace/src/objective/regression_obj.cu:152: reg:linear is now deprecated in favor of reg:squarederror.\n",
            "[15:53:08] WARNING: /workspace/src/objective/regression_obj.cu:152: reg:linear is now deprecated in favor of reg:squarederror.\n",
            "[15:53:10] WARNING: /workspace/src/objective/regression_obj.cu:152: reg:linear is now deprecated in favor of reg:squarederror.\n",
            "[15:53:12] WARNING: /workspace/src/objective/regression_obj.cu:152: reg:linear is now deprecated in favor of reg:squarederror.\n",
            "-1.3968845571192046\n",
            "[15:53:14] WARNING: /workspace/src/objective/regression_obj.cu:152: reg:linear is now deprecated in favor of reg:squarederror.\n",
            "[15:53:18] WARNING: /workspace/src/objective/regression_obj.cu:152: reg:linear is now deprecated in favor of reg:squarederror.\n",
            "[15:53:21] WARNING: /workspace/src/objective/regression_obj.cu:152: reg:linear is now deprecated in favor of reg:squarederror.\n",
            "[15:53:25] WARNING: /workspace/src/objective/regression_obj.cu:152: reg:linear is now deprecated in favor of reg:squarederror.\n",
            "[15:53:29] WARNING: /workspace/src/objective/regression_obj.cu:152: reg:linear is now deprecated in favor of reg:squarederror.\n",
            "-1.210435045070525\n",
            "[15:53:33] WARNING: /workspace/src/objective/regression_obj.cu:152: reg:linear is now deprecated in favor of reg:squarederror.\n",
            "[15:53:36] WARNING: /workspace/src/objective/regression_obj.cu:152: reg:linear is now deprecated in favor of reg:squarederror.\n",
            "[15:53:38] WARNING: /workspace/src/objective/regression_obj.cu:152: reg:linear is now deprecated in favor of reg:squarederror.\n",
            "[15:53:41] WARNING: /workspace/src/objective/regression_obj.cu:152: reg:linear is now deprecated in favor of reg:squarederror.\n",
            "[15:53:44] WARNING: /workspace/src/objective/regression_obj.cu:152: reg:linear is now deprecated in favor of reg:squarederror.\n",
            "-1.3022297940005225\n",
            "[15:53:47] WARNING: /workspace/src/objective/regression_obj.cu:152: reg:linear is now deprecated in favor of reg:squarederror.\n",
            "[15:53:51] WARNING: /workspace/src/objective/regression_obj.cu:152: reg:linear is now deprecated in favor of reg:squarederror.\n",
            "[15:53:56] WARNING: /workspace/src/objective/regression_obj.cu:152: reg:linear is now deprecated in favor of reg:squarederror.\n",
            "[15:54:01] WARNING: /workspace/src/objective/regression_obj.cu:152: reg:linear is now deprecated in favor of reg:squarederror.\n",
            "[15:54:05] WARNING: /workspace/src/objective/regression_obj.cu:152: reg:linear is now deprecated in favor of reg:squarederror.\n",
            "-1.1702452251336817\n",
            "[15:54:10] WARNING: /workspace/src/objective/regression_obj.cu:152: reg:linear is now deprecated in favor of reg:squarederror.\n",
            "[15:54:17] WARNING: /workspace/src/objective/regression_obj.cu:152: reg:linear is now deprecated in favor of reg:squarederror.\n",
            "[15:54:23] WARNING: /workspace/src/objective/regression_obj.cu:152: reg:linear is now deprecated in favor of reg:squarederror.\n",
            "[15:54:30] WARNING: /workspace/src/objective/regression_obj.cu:152: reg:linear is now deprecated in favor of reg:squarederror.\n",
            "[15:54:37] WARNING: /workspace/src/objective/regression_obj.cu:152: reg:linear is now deprecated in favor of reg:squarederror.\n",
            "-1.1652661060584966\n",
            "[15:54:43] WARNING: /workspace/src/objective/regression_obj.cu:152: reg:linear is now deprecated in favor of reg:squarederror.\n",
            "[15:54:49] WARNING: /workspace/src/objective/regression_obj.cu:152: reg:linear is now deprecated in favor of reg:squarederror.\n",
            "[15:54:55] WARNING: /workspace/src/objective/regression_obj.cu:152: reg:linear is now deprecated in favor of reg:squarederror.\n",
            "[15:55:01] WARNING: /workspace/src/objective/regression_obj.cu:152: reg:linear is now deprecated in favor of reg:squarederror.\n",
            "[15:55:07] WARNING: /workspace/src/objective/regression_obj.cu:152: reg:linear is now deprecated in favor of reg:squarederror.\n",
            "-1.1831250948993877\n",
            "[15:55:12] WARNING: /workspace/src/objective/regression_obj.cu:152: reg:linear is now deprecated in favor of reg:squarederror.\n",
            "[15:55:19] WARNING: /workspace/src/objective/regression_obj.cu:152: reg:linear is now deprecated in favor of reg:squarederror.\n",
            "[15:55:26] WARNING: /workspace/src/objective/regression_obj.cu:152: reg:linear is now deprecated in favor of reg:squarederror.\n",
            "[15:55:32] WARNING: /workspace/src/objective/regression_obj.cu:152: reg:linear is now deprecated in favor of reg:squarederror.\n",
            "[15:55:39] WARNING: /workspace/src/objective/regression_obj.cu:152: reg:linear is now deprecated in favor of reg:squarederror.\n",
            "-1.2160096732229975\n",
            "[15:55:47] WARNING: /workspace/src/objective/regression_obj.cu:152: reg:linear is now deprecated in favor of reg:squarederror.\n",
            "[15:55:48] WARNING: /workspace/src/objective/regression_obj.cu:152: reg:linear is now deprecated in favor of reg:squarederror.\n",
            "[15:55:49] WARNING: /workspace/src/objective/regression_obj.cu:152: reg:linear is now deprecated in favor of reg:squarederror.\n",
            "[15:55:51] WARNING: /workspace/src/objective/regression_obj.cu:152: reg:linear is now deprecated in favor of reg:squarederror.\n",
            "[15:55:52] WARNING: /workspace/src/objective/regression_obj.cu:152: reg:linear is now deprecated in favor of reg:squarederror.\n",
            "-1.246966885045441\n",
            "[15:55:54] WARNING: /workspace/src/objective/regression_obj.cu:152: reg:linear is now deprecated in favor of reg:squarederror.\n",
            "[15:56:02] WARNING: /workspace/src/objective/regression_obj.cu:152: reg:linear is now deprecated in favor of reg:squarederror.\n",
            "[15:56:10] WARNING: /workspace/src/objective/regression_obj.cu:152: reg:linear is now deprecated in favor of reg:squarederror.\n",
            "[15:56:18] WARNING: /workspace/src/objective/regression_obj.cu:152: reg:linear is now deprecated in favor of reg:squarederror.\n",
            "[15:56:26] WARNING: /workspace/src/objective/regression_obj.cu:152: reg:linear is now deprecated in favor of reg:squarederror.\n",
            "-1.1630547982364623\n",
            "[15:56:34] WARNING: /workspace/src/objective/regression_obj.cu:152: reg:linear is now deprecated in favor of reg:squarederror.\n",
            "[15:56:35] WARNING: /workspace/src/objective/regression_obj.cu:152: reg:linear is now deprecated in favor of reg:squarederror.\n",
            "[15:56:37] WARNING: /workspace/src/objective/regression_obj.cu:152: reg:linear is now deprecated in favor of reg:squarederror.\n",
            "[15:56:39] WARNING: /workspace/src/objective/regression_obj.cu:152: reg:linear is now deprecated in favor of reg:squarederror.\n",
            "[15:56:40] WARNING: /workspace/src/objective/regression_obj.cu:152: reg:linear is now deprecated in favor of reg:squarederror.\n",
            "-1.240370024912395\n",
            "[15:56:42] WARNING: /workspace/src/objective/regression_obj.cu:152: reg:linear is now deprecated in favor of reg:squarederror.\n",
            "[15:56:48] WARNING: /workspace/src/objective/regression_obj.cu:152: reg:linear is now deprecated in favor of reg:squarederror.\n",
            "[15:56:55] WARNING: /workspace/src/objective/regression_obj.cu:152: reg:linear is now deprecated in favor of reg:squarederror.\n",
            "[15:57:02] WARNING: /workspace/src/objective/regression_obj.cu:152: reg:linear is now deprecated in favor of reg:squarederror.\n",
            "[15:57:09] WARNING: /workspace/src/objective/regression_obj.cu:152: reg:linear is now deprecated in favor of reg:squarederror.\n",
            "-1.1661839833907595\n",
            "[15:57:16] WARNING: /workspace/src/objective/regression_obj.cu:152: reg:linear is now deprecated in favor of reg:squarederror.\n",
            "[15:57:20] WARNING: /workspace/src/objective/regression_obj.cu:152: reg:linear is now deprecated in favor of reg:squarederror.\n",
            "[15:57:25] WARNING: /workspace/src/objective/regression_obj.cu:152: reg:linear is now deprecated in favor of reg:squarederror.\n",
            "[15:57:30] WARNING: /workspace/src/objective/regression_obj.cu:152: reg:linear is now deprecated in favor of reg:squarederror.\n",
            "[15:57:34] WARNING: /workspace/src/objective/regression_obj.cu:152: reg:linear is now deprecated in favor of reg:squarederror.\n",
            "-1.1878305376545772\n",
            "[15:57:39] WARNING: /workspace/src/objective/regression_obj.cu:152: reg:linear is now deprecated in favor of reg:squarederror.\n",
            "[15:57:44] WARNING: /workspace/src/objective/regression_obj.cu:152: reg:linear is now deprecated in favor of reg:squarederror.\n",
            "[15:57:49] WARNING: /workspace/src/objective/regression_obj.cu:152: reg:linear is now deprecated in favor of reg:squarederror.\n",
            "[15:57:54] WARNING: /workspace/src/objective/regression_obj.cu:152: reg:linear is now deprecated in favor of reg:squarederror.\n",
            "[15:57:59] WARNING: /workspace/src/objective/regression_obj.cu:152: reg:linear is now deprecated in favor of reg:squarederror.\n",
            "-1.196906517991276\n",
            "[15:58:05] WARNING: /workspace/src/objective/regression_obj.cu:152: reg:linear is now deprecated in favor of reg:squarederror.\n",
            "[15:58:10] WARNING: /workspace/src/objective/regression_obj.cu:152: reg:linear is now deprecated in favor of reg:squarederror.\n",
            "[15:58:16] WARNING: /workspace/src/objective/regression_obj.cu:152: reg:linear is now deprecated in favor of reg:squarederror.\n",
            "[15:58:21] WARNING: /workspace/src/objective/regression_obj.cu:152: reg:linear is now deprecated in favor of reg:squarederror.\n",
            "[15:58:27] WARNING: /workspace/src/objective/regression_obj.cu:152: reg:linear is now deprecated in favor of reg:squarederror.\n",
            "-1.1579909144545897\n",
            "[15:58:33] WARNING: /workspace/src/objective/regression_obj.cu:152: reg:linear is now deprecated in favor of reg:squarederror.\n",
            "[15:58:38] WARNING: /workspace/src/objective/regression_obj.cu:152: reg:linear is now deprecated in favor of reg:squarederror.\n",
            "[15:58:42] WARNING: /workspace/src/objective/regression_obj.cu:152: reg:linear is now deprecated in favor of reg:squarederror.\n",
            "[15:58:47] WARNING: /workspace/src/objective/regression_obj.cu:152: reg:linear is now deprecated in favor of reg:squarederror.\n",
            "[15:58:52] WARNING: /workspace/src/objective/regression_obj.cu:152: reg:linear is now deprecated in favor of reg:squarederror.\n",
            "-1.191685061088245\n",
            "[15:58:57] WARNING: /workspace/src/objective/regression_obj.cu:152: reg:linear is now deprecated in favor of reg:squarederror.\n",
            "[15:59:02] WARNING: /workspace/src/objective/regression_obj.cu:152: reg:linear is now deprecated in favor of reg:squarederror.\n",
            "[15:59:07] WARNING: /workspace/src/objective/regression_obj.cu:152: reg:linear is now deprecated in favor of reg:squarederror.\n",
            "[15:59:13] WARNING: /workspace/src/objective/regression_obj.cu:152: reg:linear is now deprecated in favor of reg:squarederror.\n",
            "[15:59:18] WARNING: /workspace/src/objective/regression_obj.cu:152: reg:linear is now deprecated in favor of reg:squarederror.\n",
            "-1.1671438875327795\n",
            "[15:59:23] WARNING: /workspace/src/objective/regression_obj.cu:152: reg:linear is now deprecated in favor of reg:squarederror.\n",
            "[15:59:27] WARNING: /workspace/src/objective/regression_obj.cu:152: reg:linear is now deprecated in favor of reg:squarederror.\n",
            "[15:59:31] WARNING: /workspace/src/objective/regression_obj.cu:152: reg:linear is now deprecated in favor of reg:squarederror.\n",
            "[15:59:35] WARNING: /workspace/src/objective/regression_obj.cu:152: reg:linear is now deprecated in favor of reg:squarederror.\n",
            "[15:59:40] WARNING: /workspace/src/objective/regression_obj.cu:152: reg:linear is now deprecated in favor of reg:squarederror.\n",
            "-1.1927155146458466\n",
            "[15:59:44] WARNING: /workspace/src/objective/regression_obj.cu:152: reg:linear is now deprecated in favor of reg:squarederror.\n",
            "[15:59:50] WARNING: /workspace/src/objective/regression_obj.cu:152: reg:linear is now deprecated in favor of reg:squarederror.\n",
            "[15:59:55] WARNING: /workspace/src/objective/regression_obj.cu:152: reg:linear is now deprecated in favor of reg:squarederror.\n",
            "[16:00:01] WARNING: /workspace/src/objective/regression_obj.cu:152: reg:linear is now deprecated in favor of reg:squarederror.\n",
            "[16:00:07] WARNING: /workspace/src/objective/regression_obj.cu:152: reg:linear is now deprecated in favor of reg:squarederror.\n",
            "-1.1607842677187712\n",
            "[16:00:13] WARNING: /workspace/src/objective/regression_obj.cu:152: reg:linear is now deprecated in favor of reg:squarederror.\n",
            "[16:00:18] WARNING: /workspace/src/objective/regression_obj.cu:152: reg:linear is now deprecated in favor of reg:squarederror.\n",
            "[16:00:25] WARNING: /workspace/src/objective/regression_obj.cu:152: reg:linear is now deprecated in favor of reg:squarederror.\n",
            "[16:00:30] WARNING: /workspace/src/objective/regression_obj.cu:152: reg:linear is now deprecated in favor of reg:squarederror.\n",
            "[16:00:35] WARNING: /workspace/src/objective/regression_obj.cu:152: reg:linear is now deprecated in favor of reg:squarederror.\n",
            "-1.1636352922803432\n",
            "[16:00:41] WARNING: /workspace/src/objective/regression_obj.cu:152: reg:linear is now deprecated in favor of reg:squarederror.\n",
            "[16:00:46] WARNING: /workspace/src/objective/regression_obj.cu:152: reg:linear is now deprecated in favor of reg:squarederror.\n",
            "[16:00:52] WARNING: /workspace/src/objective/regression_obj.cu:152: reg:linear is now deprecated in favor of reg:squarederror.\n",
            "[16:00:57] WARNING: /workspace/src/objective/regression_obj.cu:152: reg:linear is now deprecated in favor of reg:squarederror.\n",
            "[16:01:03] WARNING: /workspace/src/objective/regression_obj.cu:152: reg:linear is now deprecated in favor of reg:squarederror.\n",
            "-1.1893999356328853\n",
            "[16:01:09] WARNING: /workspace/src/objective/regression_obj.cu:152: reg:linear is now deprecated in favor of reg:squarederror.\n",
            "[16:01:12] WARNING: /workspace/src/objective/regression_obj.cu:152: reg:linear is now deprecated in favor of reg:squarederror.\n",
            "[16:01:16] WARNING: /workspace/src/objective/regression_obj.cu:152: reg:linear is now deprecated in favor of reg:squarederror.\n",
            "[16:01:20] WARNING: /workspace/src/objective/regression_obj.cu:152: reg:linear is now deprecated in favor of reg:squarederror.\n",
            "[16:01:24] WARNING: /workspace/src/objective/regression_obj.cu:152: reg:linear is now deprecated in favor of reg:squarederror.\n",
            "-1.1742328619110654\n",
            "[16:01:27] WARNING: /workspace/src/objective/regression_obj.cu:152: reg:linear is now deprecated in favor of reg:squarederror.\n",
            "[16:01:34] WARNING: /workspace/src/objective/regression_obj.cu:152: reg:linear is now deprecated in favor of reg:squarederror.\n",
            "[16:01:40] WARNING: /workspace/src/objective/regression_obj.cu:152: reg:linear is now deprecated in favor of reg:squarederror.\n",
            "[16:01:46] WARNING: /workspace/src/objective/regression_obj.cu:152: reg:linear is now deprecated in favor of reg:squarederror.\n",
            "[16:01:52] WARNING: /workspace/src/objective/regression_obj.cu:152: reg:linear is now deprecated in favor of reg:squarederror.\n",
            "-1.1593600943152285\n",
            "[16:01:58] WARNING: /workspace/src/objective/regression_obj.cu:152: reg:linear is now deprecated in favor of reg:squarederror.\n",
            "[16:02:05] WARNING: /workspace/src/objective/regression_obj.cu:152: reg:linear is now deprecated in favor of reg:squarederror.\n",
            "[16:02:11] WARNING: /workspace/src/objective/regression_obj.cu:152: reg:linear is now deprecated in favor of reg:squarederror.\n",
            "[16:02:17] WARNING: /workspace/src/objective/regression_obj.cu:152: reg:linear is now deprecated in favor of reg:squarederror.\n",
            "[16:02:24] WARNING: /workspace/src/objective/regression_obj.cu:152: reg:linear is now deprecated in favor of reg:squarederror.\n",
            "-1.1578175850704717\n",
            "[16:02:30] WARNING: /workspace/src/objective/regression_obj.cu:152: reg:linear is now deprecated in favor of reg:squarederror.\n",
            "[16:02:33] WARNING: /workspace/src/objective/regression_obj.cu:152: reg:linear is now deprecated in favor of reg:squarederror.\n",
            "[16:02:36] WARNING: /workspace/src/objective/regression_obj.cu:152: reg:linear is now deprecated in favor of reg:squarederror.\n",
            "[16:02:40] WARNING: /workspace/src/objective/regression_obj.cu:152: reg:linear is now deprecated in favor of reg:squarederror.\n",
            "[16:02:43] WARNING: /workspace/src/objective/regression_obj.cu:152: reg:linear is now deprecated in favor of reg:squarederror.\n",
            "-1.1965019890172583\n",
            "[16:02:46] WARNING: /workspace/src/objective/regression_obj.cu:152: reg:linear is now deprecated in favor of reg:squarederror.\n",
            "[16:02:54] WARNING: /workspace/src/objective/regression_obj.cu:152: reg:linear is now deprecated in favor of reg:squarederror.\n",
            "[16:03:01] WARNING: /workspace/src/objective/regression_obj.cu:152: reg:linear is now deprecated in favor of reg:squarederror.\n",
            "[16:03:08] WARNING: /workspace/src/objective/regression_obj.cu:152: reg:linear is now deprecated in favor of reg:squarederror.\n",
            "[16:03:15] WARNING: /workspace/src/objective/regression_obj.cu:152: reg:linear is now deprecated in favor of reg:squarederror.\n",
            "-1.1539881703823895\n",
            "[16:03:22] WARNING: /workspace/src/objective/regression_obj.cu:152: reg:linear is now deprecated in favor of reg:squarederror.\n",
            "[16:03:27] WARNING: /workspace/src/objective/regression_obj.cu:152: reg:linear is now deprecated in favor of reg:squarederror.\n",
            "[16:03:31] WARNING: /workspace/src/objective/regression_obj.cu:152: reg:linear is now deprecated in favor of reg:squarederror.\n",
            "[16:03:36] WARNING: /workspace/src/objective/regression_obj.cu:152: reg:linear is now deprecated in favor of reg:squarederror.\n",
            "[16:03:40] WARNING: /workspace/src/objective/regression_obj.cu:152: reg:linear is now deprecated in favor of reg:squarederror.\n",
            "-1.2409242733006205\n",
            "[16:03:45] WARNING: /workspace/src/objective/regression_obj.cu:152: reg:linear is now deprecated in favor of reg:squarederror.\n",
            "[16:03:52] WARNING: /workspace/src/objective/regression_obj.cu:152: reg:linear is now deprecated in favor of reg:squarederror.\n",
            "[16:04:00] WARNING: /workspace/src/objective/regression_obj.cu:152: reg:linear is now deprecated in favor of reg:squarederror.\n",
            "[16:04:08] WARNING: /workspace/src/objective/regression_obj.cu:152: reg:linear is now deprecated in favor of reg:squarederror.\n",
            "[16:04:15] WARNING: /workspace/src/objective/regression_obj.cu:152: reg:linear is now deprecated in favor of reg:squarederror.\n",
            "-1.1675804821937479\n",
            "[16:04:23] WARNING: /workspace/src/objective/regression_obj.cu:152: reg:linear is now deprecated in favor of reg:squarederror.\n",
            "[16:04:28] WARNING: /workspace/src/objective/regression_obj.cu:152: reg:linear is now deprecated in favor of reg:squarederror.\n",
            "[16:04:32] WARNING: /workspace/src/objective/regression_obj.cu:152: reg:linear is now deprecated in favor of reg:squarederror.\n",
            "[16:04:37] WARNING: /workspace/src/objective/regression_obj.cu:152: reg:linear is now deprecated in favor of reg:squarederror.\n",
            "[16:04:42] WARNING: /workspace/src/objective/regression_obj.cu:152: reg:linear is now deprecated in favor of reg:squarederror.\n",
            "-1.2329687017461626\n",
            "[16:04:46] WARNING: /workspace/src/objective/regression_obj.cu:152: reg:linear is now deprecated in favor of reg:squarederror.\n",
            "[16:04:54] WARNING: /workspace/src/objective/regression_obj.cu:152: reg:linear is now deprecated in favor of reg:squarederror.\n",
            "[16:05:01] WARNING: /workspace/src/objective/regression_obj.cu:152: reg:linear is now deprecated in favor of reg:squarederror.\n",
            "[16:05:08] WARNING: /workspace/src/objective/regression_obj.cu:152: reg:linear is now deprecated in favor of reg:squarederror.\n",
            "[16:05:14] WARNING: /workspace/src/objective/regression_obj.cu:152: reg:linear is now deprecated in favor of reg:squarederror.\n",
            "-1.163074114786617\n",
            "[16:05:21] WARNING: /workspace/src/objective/regression_obj.cu:152: reg:linear is now deprecated in favor of reg:squarederror.\n",
            "[16:05:25] WARNING: /workspace/src/objective/regression_obj.cu:152: reg:linear is now deprecated in favor of reg:squarederror.\n",
            "[16:05:29] WARNING: /workspace/src/objective/regression_obj.cu:152: reg:linear is now deprecated in favor of reg:squarederror.\n",
            "[16:05:33] WARNING: /workspace/src/objective/regression_obj.cu:152: reg:linear is now deprecated in favor of reg:squarederror.\n",
            "[16:05:37] WARNING: /workspace/src/objective/regression_obj.cu:152: reg:linear is now deprecated in favor of reg:squarederror.\n",
            "-1.2052771026778342\n",
            "[16:05:41] WARNING: /workspace/src/objective/regression_obj.cu:152: reg:linear is now deprecated in favor of reg:squarederror.\n",
            "[16:05:47] WARNING: /workspace/src/objective/regression_obj.cu:152: reg:linear is now deprecated in favor of reg:squarederror.\n",
            "[16:05:52] WARNING: /workspace/src/objective/regression_obj.cu:152: reg:linear is now deprecated in favor of reg:squarederror.\n",
            "[16:05:57] WARNING: /workspace/src/objective/regression_obj.cu:152: reg:linear is now deprecated in favor of reg:squarederror.\n",
            "[16:06:02] WARNING: /workspace/src/objective/regression_obj.cu:152: reg:linear is now deprecated in favor of reg:squarederror.\n",
            "-1.168021328237965\n",
            "[16:06:08] WARNING: /workspace/src/objective/regression_obj.cu:152: reg:linear is now deprecated in favor of reg:squarederror.\n",
            "[16:06:13] WARNING: /workspace/src/objective/regression_obj.cu:152: reg:linear is now deprecated in favor of reg:squarederror.\n",
            "[16:06:18] WARNING: /workspace/src/objective/regression_obj.cu:152: reg:linear is now deprecated in favor of reg:squarederror.\n",
            "[16:06:23] WARNING: /workspace/src/objective/regression_obj.cu:152: reg:linear is now deprecated in favor of reg:squarederror.\n",
            "[16:06:28] WARNING: /workspace/src/objective/regression_obj.cu:152: reg:linear is now deprecated in favor of reg:squarederror.\n",
            "-1.192069813216713\n",
            "[16:06:33] WARNING: /workspace/src/objective/regression_obj.cu:152: reg:linear is now deprecated in favor of reg:squarederror.\n",
            "[16:06:35] WARNING: /workspace/src/objective/regression_obj.cu:152: reg:linear is now deprecated in favor of reg:squarederror.\n",
            "[16:06:38] WARNING: /workspace/src/objective/regression_obj.cu:152: reg:linear is now deprecated in favor of reg:squarederror.\n",
            "[16:06:40] WARNING: /workspace/src/objective/regression_obj.cu:152: reg:linear is now deprecated in favor of reg:squarederror.\n",
            "[16:06:42] WARNING: /workspace/src/objective/regression_obj.cu:152: reg:linear is now deprecated in favor of reg:squarederror.\n",
            "-1.3903134912242638\n",
            "[16:06:44] WARNING: /workspace/src/objective/regression_obj.cu:152: reg:linear is now deprecated in favor of reg:squarederror.\n",
            "[16:06:49] WARNING: /workspace/src/objective/regression_obj.cu:152: reg:linear is now deprecated in favor of reg:squarederror.\n",
            "[16:06:54] WARNING: /workspace/src/objective/regression_obj.cu:152: reg:linear is now deprecated in favor of reg:squarederror.\n",
            "[16:06:58] WARNING: /workspace/src/objective/regression_obj.cu:152: reg:linear is now deprecated in favor of reg:squarederror.\n",
            "[16:07:03] WARNING: /workspace/src/objective/regression_obj.cu:152: reg:linear is now deprecated in favor of reg:squarederror.\n",
            "-1.2301698549739306\n",
            "[16:07:08] WARNING: /workspace/src/objective/regression_obj.cu:152: reg:linear is now deprecated in favor of reg:squarederror.\n",
            "[16:07:12] WARNING: /workspace/src/objective/regression_obj.cu:152: reg:linear is now deprecated in favor of reg:squarederror.\n",
            "[16:07:16] WARNING: /workspace/src/objective/regression_obj.cu:152: reg:linear is now deprecated in favor of reg:squarederror.\n",
            "[16:07:20] WARNING: /workspace/src/objective/regression_obj.cu:152: reg:linear is now deprecated in favor of reg:squarederror.\n",
            "[16:07:24] WARNING: /workspace/src/objective/regression_obj.cu:152: reg:linear is now deprecated in favor of reg:squarederror.\n",
            "-1.2316581609304822\n",
            "[16:07:28] WARNING: /workspace/src/objective/regression_obj.cu:152: reg:linear is now deprecated in favor of reg:squarederror.\n",
            "[16:07:30] WARNING: /workspace/src/objective/regression_obj.cu:152: reg:linear is now deprecated in favor of reg:squarederror.\n",
            "[16:07:33] WARNING: /workspace/src/objective/regression_obj.cu:152: reg:linear is now deprecated in favor of reg:squarederror.\n",
            "[16:07:35] WARNING: /workspace/src/objective/regression_obj.cu:152: reg:linear is now deprecated in favor of reg:squarederror.\n",
            "[16:07:38] WARNING: /workspace/src/objective/regression_obj.cu:152: reg:linear is now deprecated in favor of reg:squarederror.\n",
            "-1.2897414384047612\n",
            "[16:07:40] WARNING: /workspace/src/objective/regression_obj.cu:152: reg:linear is now deprecated in favor of reg:squarederror.\n",
            "[16:07:44] WARNING: /workspace/src/objective/regression_obj.cu:152: reg:linear is now deprecated in favor of reg:squarederror.\n",
            "[16:07:49] WARNING: /workspace/src/objective/regression_obj.cu:152: reg:linear is now deprecated in favor of reg:squarederror.\n",
            "[16:07:53] WARNING: /workspace/src/objective/regression_obj.cu:152: reg:linear is now deprecated in favor of reg:squarederror.\n",
            "[16:07:57] WARNING: /workspace/src/objective/regression_obj.cu:152: reg:linear is now deprecated in favor of reg:squarederror.\n",
            "-1.1907496236503623\n",
            "[16:08:02] WARNING: /workspace/src/objective/regression_obj.cu:152: reg:linear is now deprecated in favor of reg:squarederror.\n",
            "[16:08:05] WARNING: /workspace/src/objective/regression_obj.cu:152: reg:linear is now deprecated in favor of reg:squarederror.\n",
            "[16:08:08] WARNING: /workspace/src/objective/regression_obj.cu:152: reg:linear is now deprecated in favor of reg:squarederror.\n",
            "[16:08:12] WARNING: /workspace/src/objective/regression_obj.cu:152: reg:linear is now deprecated in favor of reg:squarederror.\n",
            "[16:08:15] WARNING: /workspace/src/objective/regression_obj.cu:152: reg:linear is now deprecated in favor of reg:squarederror.\n",
            "-1.2386333500432432\n",
            "[16:08:18] WARNING: /workspace/src/objective/regression_obj.cu:152: reg:linear is now deprecated in favor of reg:squarederror.\n",
            "[16:08:21] WARNING: /workspace/src/objective/regression_obj.cu:152: reg:linear is now deprecated in favor of reg:squarederror.\n",
            "[16:08:23] WARNING: /workspace/src/objective/regression_obj.cu:152: reg:linear is now deprecated in favor of reg:squarederror.\n",
            "[16:08:26] WARNING: /workspace/src/objective/regression_obj.cu:152: reg:linear is now deprecated in favor of reg:squarederror.\n",
            "[16:08:29] WARNING: /workspace/src/objective/regression_obj.cu:152: reg:linear is now deprecated in favor of reg:squarederror.\n",
            "-1.2434763684729409\n",
            "[16:08:31] WARNING: /workspace/src/objective/regression_obj.cu:152: reg:linear is now deprecated in favor of reg:squarederror.\n",
            "[16:08:37] WARNING: /workspace/src/objective/regression_obj.cu:152: reg:linear is now deprecated in favor of reg:squarederror.\n",
            "[16:08:43] WARNING: /workspace/src/objective/regression_obj.cu:152: reg:linear is now deprecated in favor of reg:squarederror.\n",
            "[16:08:49] WARNING: /workspace/src/objective/regression_obj.cu:152: reg:linear is now deprecated in favor of reg:squarederror.\n",
            "[16:08:55] WARNING: /workspace/src/objective/regression_obj.cu:152: reg:linear is now deprecated in favor of reg:squarederror.\n",
            "-1.1886196341635407\n",
            "[16:09:02] WARNING: /workspace/src/objective/regression_obj.cu:152: reg:linear is now deprecated in favor of reg:squarederror.\n",
            "[16:09:06] WARNING: /workspace/src/objective/regression_obj.cu:152: reg:linear is now deprecated in favor of reg:squarederror.\n",
            "[16:09:11] WARNING: /workspace/src/objective/regression_obj.cu:152: reg:linear is now deprecated in favor of reg:squarederror.\n",
            "[16:09:16] WARNING: /workspace/src/objective/regression_obj.cu:152: reg:linear is now deprecated in favor of reg:squarederror.\n",
            "[16:09:21] WARNING: /workspace/src/objective/regression_obj.cu:152: reg:linear is now deprecated in favor of reg:squarederror.\n",
            "-1.1819936808020295\n",
            "[16:09:25] WARNING: /workspace/src/objective/regression_obj.cu:152: reg:linear is now deprecated in favor of reg:squarederror.\n",
            "[16:09:29] WARNING: /workspace/src/objective/regression_obj.cu:152: reg:linear is now deprecated in favor of reg:squarederror.\n",
            "[16:09:33] WARNING: /workspace/src/objective/regression_obj.cu:152: reg:linear is now deprecated in favor of reg:squarederror.\n",
            "[16:09:36] WARNING: /workspace/src/objective/regression_obj.cu:152: reg:linear is now deprecated in favor of reg:squarederror.\n",
            "[16:09:40] WARNING: /workspace/src/objective/regression_obj.cu:152: reg:linear is now deprecated in favor of reg:squarederror.\n",
            "-1.1872384869230932\n",
            "[16:09:44] WARNING: /workspace/src/objective/regression_obj.cu:152: reg:linear is now deprecated in favor of reg:squarederror.\n",
            "[16:09:50] WARNING: /workspace/src/objective/regression_obj.cu:152: reg:linear is now deprecated in favor of reg:squarederror.\n",
            "[16:09:56] WARNING: /workspace/src/objective/regression_obj.cu:152: reg:linear is now deprecated in favor of reg:squarederror.\n",
            "[16:10:02] WARNING: /workspace/src/objective/regression_obj.cu:152: reg:linear is now deprecated in favor of reg:squarederror.\n",
            "[16:10:07] WARNING: /workspace/src/objective/regression_obj.cu:152: reg:linear is now deprecated in favor of reg:squarederror.\n",
            "-1.1647562505576772\n",
            "[16:10:13] WARNING: /workspace/src/objective/regression_obj.cu:152: reg:linear is now deprecated in favor of reg:squarederror.\n",
            "[16:10:17] WARNING: /workspace/src/objective/regression_obj.cu:152: reg:linear is now deprecated in favor of reg:squarederror.\n",
            "[16:10:20] WARNING: /workspace/src/objective/regression_obj.cu:152: reg:linear is now deprecated in favor of reg:squarederror.\n",
            "[16:10:24] WARNING: /workspace/src/objective/regression_obj.cu:152: reg:linear is now deprecated in favor of reg:squarederror.\n",
            "[16:10:27] WARNING: /workspace/src/objective/regression_obj.cu:152: reg:linear is now deprecated in favor of reg:squarederror.\n",
            "-1.170511206983595\n",
            "[16:10:31] WARNING: /workspace/src/objective/regression_obj.cu:152: reg:linear is now deprecated in favor of reg:squarederror.\n",
            "[16:10:34] WARNING: /workspace/src/objective/regression_obj.cu:152: reg:linear is now deprecated in favor of reg:squarederror.\n",
            "[16:10:37] WARNING: /workspace/src/objective/regression_obj.cu:152: reg:linear is now deprecated in favor of reg:squarederror.\n",
            "[16:10:40] WARNING: /workspace/src/objective/regression_obj.cu:152: reg:linear is now deprecated in favor of reg:squarederror.\n",
            "[16:10:43] WARNING: /workspace/src/objective/regression_obj.cu:152: reg:linear is now deprecated in favor of reg:squarederror.\n",
            "-1.2527185709605526\n",
            "100%|██████████| 100/100 [38:11<00:00, 22.92s/it, best loss: 1.1506151709171495]\n",
            "best_xgb:\n",
            "{'colsample_bytree': 0.7974445913518547, 'learning_rate': 0.09830911482175203, 'max_depth': 5.0, 'n_estimators': 380.0}\n"
          ]
        }
      ],
      "source": [
        "trials = Trials()\n",
        "best_xgb = fmin(surr_func_xgb, space=param_xgb, algo=tpe.suggest,\n",
        "               max_evals=100, trials=trials)\n",
        "print('best_xgb:')\n",
        "print(best_xgb)"
      ]
    },
    {
      "cell_type": "code",
      "execution_count": null,
      "metadata": {
        "id": "JCjgj0aZeanI"
      },
      "outputs": [],
      "source": [
        "# best_xgb = {'colsample_bytree': 0.5904951775918889, 'learning_rate': 0.024729072063200287, 'max_depth': 5, 'n_estimators': 267}"
      ]
    },
    {
      "cell_type": "code",
      "execution_count": null,
      "metadata": {
        "id": "wTFykYXMh3hk"
      },
      "outputs": [],
      "source": [
        "best_xgb = {'colsample_bytree': 0.7974445913518547, 'learning_rate': 0.09830911482175203, 'max_depth': 5, 'n_estimators': 380}"
      ]
    },
    {
      "cell_type": "code",
      "execution_count": null,
      "metadata": {
        "colab": {
          "base_uri": "https://localhost:8080/"
        },
        "id": "dN7_wCe0eakS",
        "outputId": "b514ee32-33b6-413b-eba6-e748a650e1b2"
      },
      "outputs": [
        {
          "name": "stdout",
          "output_type": "stream",
          "text": [
            "[16:13:27] WARNING: /workspace/src/objective/regression_obj.cu:152: reg:linear is now deprecated in favor of reg:squarederror.\n",
            "1.2103713408160324\n"
          ]
        }
      ],
      "source": [
        "xgb_reg = XGBRegressor(**best_xgb)\n",
        "xgb_reg.fit(x_train, y_train)\n",
        "pred_xgb = xgb_reg.predict(x_test)\n",
        "print(mean_squared_error(pred_xgb, y_test))"
      ]
    },
    {
      "cell_type": "code",
      "execution_count": null,
      "metadata": {
        "colab": {
          "base_uri": "https://localhost:8080/"
        },
        "id": "7UdboPABrV50",
        "outputId": "34728b23-a799-4b15-ce1b-4bce66d47b37"
      },
      "outputs": [
        {
          "name": "stdout",
          "output_type": "stream",
          "text": [
            "[16:15:10] WARNING: /workspace/src/objective/regression_obj.cu:152: reg:linear is now deprecated in favor of reg:squarederror.\n",
            "1.2842989616314378\n"
          ]
        }
      ],
      "source": [
        "xgb_reg = XGBRegressor(**best_xgb)\n",
        "xgb_reg.fit(x_train, y_train)\n",
        "pred_xgb = xgb_reg.predict(x_test)\n",
        "print(mean_squared_error(pred_xgb, y_test))"
      ]
    },
    {
      "cell_type": "code",
      "execution_count": null,
      "metadata": {
        "id": "WAvG6yroeahL"
      },
      "outputs": [],
      "source": [
        "plt.figure(figsize=(12,12))\n",
        "for i in range(1,10):\n",
        "  plt.subplot(3,3,i)\n",
        "  sns.distplot(data_2015.iloc[:i-1])"
      ]
    },
    {
      "cell_type": "markdown",
      "source": [
        "### (Possible addition) LightGBM"
      ],
      "metadata": {
        "id": "Sh4yxBmQgOiw"
      }
    },
    {
      "cell_type": "code",
      "source": [],
      "metadata": {
        "id": "WlbCD-kSgYbE"
      },
      "execution_count": null,
      "outputs": []
    },
    {
      "cell_type": "markdown",
      "metadata": {
        "id": "Ma4g1dqQPQEZ"
      },
      "source": [
        "#Hypothesis Testing"
      ]
    },
    {
      "cell_type": "markdown",
      "metadata": {
        "id": "EE44-3dBaEUt"
      },
      "source": [
        "##Z-Test 2 sample test\n"
      ]
    },
    {
      "cell_type": "code",
      "execution_count": null,
      "metadata": {
        "id": "GgDO7N9hPPZ0"
      },
      "outputs": [],
      "source": [
        "import math\n",
        "import numpy as np\n",
        "from numpy.random import randn\n",
        "from statsmodels.stats.weightstats import ztest as ztest\n",
        "import pandas as pd\n",
        "\n"
      ]
    },
    {
      "cell_type": "code",
      "execution_count": null,
      "metadata": {
        "id": "kUau8HWdRo9r"
      },
      "outputs": [],
      "source": [
        "df1=pd.concat([pd.read_csv(\"gt_2011.csv\"),pd.read_csv(\"gt_2012.csv\"),pd.read_csv(\"gt_2013.csv\"),pd.read_csv(\"gt_2014.csv\")],axis=0)\n",
        "df2=pd.read_csv(\"gt_2015.csv\")\n",
        "df3=pd.read_csv(\"gt_2014.csv\")\n"
      ]
    },
    {
      "cell_type": "code",
      "execution_count": null,
      "metadata": {
        "id": "V3nQMLU9bhs7"
      },
      "outputs": [],
      "source": [
        "ztest(df3['NOX'], value=np.mean(df2['NOX']))"
      ]
    },
    {
      "cell_type": "markdown",
      "metadata": {
        "id": "sGIRMcAxaokR"
      },
      "source": [
        "Conclusion: The mean value of NOX emission for 2015 is  equal to the mean value of the NOX emissions of years from 2014."
      ]
    },
    {
      "cell_type": "code",
      "execution_count": null,
      "metadata": {
        "id": "RVW-OwEYa_EI"
      },
      "outputs": [],
      "source": [
        "ztest(df3['CO'], value= np.mean(df2['CO'])) "
      ]
    },
    {
      "cell_type": "markdown",
      "metadata": {
        "id": "YggmwxXGeGV2"
      },
      "source": [
        "Conclusion: The mean value of CO emission for 2015 is not equal to the mean value of the CO emissions of years from 2014."
      ]
    },
    {
      "cell_type": "markdown",
      "metadata": {
        "id": "mqD8s53DaMPJ"
      },
      "source": [
        "##ANOVA"
      ]
    },
    {
      "cell_type": "code",
      "execution_count": null,
      "metadata": {
        "id": "k9Q8IQoraLFi"
      },
      "outputs": [],
      "source": [
        "from scipy.stats import f_oneway\n",
        "# result= f_oneway(pd.read_csv(\"gt_2011.csv\")['NOX'],pd.read_csv(\"gt_2012.csv\")['NOX'],pd.read_csv(\"gt_2013.csv\")['NOX'],pd.read_csv(\"gt_2014.csv\")['NOX'],df2['NOX'])\n",
        "result= f_oneway(pd.read_csv(\"gt_2011.csv\")['NOX'],pd.read_csv(\"gt_2012.csv\")['NOX'])\n",
        "result"
      ]
    }
  ],
  "metadata": {
    "colab": {
      "provenance": [],
      "collapsed_sections": [
        "VryRaYvMYFkj",
        "_tnn0yQOYTVL",
        "R_tLIV8FYmFt",
        "P59MNe_FYLbJ",
        "dZrytQf1YO2D",
        "t2qCQmJkYgQ2",
        "BBE1V5f-dL8K",
        "2zQo6nKFaKTD",
        "R1vYCLu0acZT",
        "wHpeTNOxa7o9",
        "wYOhnvhLamzZ",
        "TUd362MXcZ94",
        "EDk7pxLQcQat",
        "kdwMMjxlcjIk",
        "wKa7q8YhfPLx",
        "uU-tazgNfZF7",
        "wbFE1ecef5CG",
        "4-wiIMeoG1TH",
        "zfsVV1ofgE-o",
        "weHNJ8kUEXxx",
        "ni6rPxNngLaD",
        "HYJY7dOqeKgA",
        "Sh4yxBmQgOiw",
        "Ma4g1dqQPQEZ",
        "EE44-3dBaEUt",
        "mqD8s53DaMPJ"
      ],
      "include_colab_link": true
    },
    "gpuClass": "standard",
    "kernelspec": {
      "display_name": "Python 3",
      "name": "python3"
    },
    "language_info": {
      "name": "python"
    }
  },
  "nbformat": 4,
  "nbformat_minor": 0
}