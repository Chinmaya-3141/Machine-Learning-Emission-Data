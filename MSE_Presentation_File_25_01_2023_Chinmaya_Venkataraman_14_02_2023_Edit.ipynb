{
  "cells": [
    {
      "cell_type": "markdown",
      "metadata": {
        "id": "view-in-github",
        "colab_type": "text"
      },
      "source": [
        "<a href=\"https://colab.research.google.com/github/Chinmaya-3141/Machine-Learning-Emission-Data/blob/edit1/MSE_Presentation_File_25_01_2023_Chinmaya_Venkataraman_14_02_2023_Edit.ipynb\" target=\"_parent\"><img src=\"https://colab.research.google.com/assets/colab-badge.svg\" alt=\"Open In Colab\"/></a>"
      ]
    },
    {
      "cell_type": "markdown",
      "metadata": {
        "id": "K7c13I_-X1Gg"
      },
      "source": [
        "# **Gas Turbine Emission Data**"
      ]
    },
    {
      "cell_type": "markdown",
      "metadata": {
        "id": "MI1-bRKImqfX"
      },
      "source": [
        "## Preparation"
      ]
    },
    {
      "cell_type": "markdown",
      "metadata": {
        "id": "mX16kGvDmzIC"
      },
      "source": [
        "###Code execution start time"
      ]
    },
    {
      "cell_type": "code",
      "execution_count": 1,
      "metadata": {
        "colab": {
          "base_uri": "https://localhost:8080/"
        },
        "id": "M9u3Glh6m7yr",
        "outputId": "e7f98e02-6679-4e4f-d4f6-5f1f88129e8d"
      },
      "outputs": [
        {
          "output_type": "stream",
          "name": "stdout",
          "text": [
            "Code execution last started at   2023-02-16 22:28:32.045497+05:30\n"
          ]
        }
      ],
      "source": [
        "from datetime import datetime\n",
        "import pytz\n",
        "print('Code execution last started at  ',datetime.now(pytz.timezone('Asia/Kolkata')))"
      ]
    },
    {
      "cell_type": "markdown",
      "metadata": {
        "id": "VryRaYvMYFkj"
      },
      "source": [
        "### Fetch Data"
      ]
    },
    {
      "cell_type": "code",
      "execution_count": 2,
      "metadata": {
        "colab": {
          "base_uri": "https://localhost:8080/"
        },
        "id": "ER-Lp-gKNpIw",
        "outputId": "32e9af75-f1db-4635-bb77-54fa99f8d618"
      },
      "outputs": [
        {
          "output_type": "stream",
          "name": "stdout",
          "text": [
            "--2023-02-16 16:58:38--  https://archive.ics.uci.edu/ml/machine-learning-databases/00551/pp_gas_emission.zip\n",
            "Resolving archive.ics.uci.edu (archive.ics.uci.edu)... 128.195.10.252\n",
            "Connecting to archive.ics.uci.edu (archive.ics.uci.edu)|128.195.10.252|:443... connected.\n",
            "HTTP request sent, awaiting response... 200 OK\n",
            "Length: 1090294 (1.0M) [application/x-httpd-php]\n",
            "Saving to: ‘pp_gas_emission.zip’\n",
            "\n",
            "pp_gas_emission.zip 100%[===================>]   1.04M  1.02MB/s    in 1.0s    \n",
            "\n",
            "2023-02-16 16:58:40 (1.02 MB/s) - ‘pp_gas_emission.zip’ saved [1090294/1090294]\n",
            "\n"
          ]
        }
      ],
      "source": [
        "!wget https://archive.ics.uci.edu/ml/machine-learning-databases/00551/pp_gas_emission.zip"
      ]
    },
    {
      "cell_type": "code",
      "execution_count": 3,
      "metadata": {
        "id": "AaJ5Bb0hniJO"
      },
      "outputs": [],
      "source": [
        "# !gdown 1otUkltGJRfbVDTvCmElLTnmnV-4FEtrF"
      ]
    },
    {
      "cell_type": "code",
      "execution_count": 4,
      "metadata": {
        "colab": {
          "base_uri": "https://localhost:8080/"
        },
        "id": "Nb1xKBjKNs8M",
        "outputId": "defee945-5f03-48c0-a3dd-7a956d3a675c"
      },
      "outputs": [
        {
          "output_type": "stream",
          "name": "stdout",
          "text": [
            "Archive:  pp_gas_emission.zip\n",
            "  inflating: gt_2011.csv             \n",
            "  inflating: gt_2012.csv             \n",
            "  inflating: gt_2013.csv             \n",
            "  inflating: gt_2014.csv             \n",
            "  inflating: gt_2015.csv             \n"
          ]
        }
      ],
      "source": [
        "!unzip pp_gas_emission.zip"
      ]
    },
    {
      "cell_type": "markdown",
      "metadata": {
        "id": "_tnn0yQOYTVL"
      },
      "source": [
        "### Preprocessing"
      ]
    },
    {
      "cell_type": "markdown",
      "metadata": {
        "id": "R_tLIV8FYmFt"
      },
      "source": [
        "#### Import Data"
      ]
    },
    {
      "cell_type": "code",
      "execution_count": 5,
      "metadata": {
        "id": "TK9Au794NvI5"
      },
      "outputs": [],
      "source": [
        "import pandas as pd\n",
        "import numpy as np\n",
        "import seaborn as sns\n",
        "import matplotlib.pyplot as plt\n",
        "import seaborn as sns"
      ]
    },
    {
      "cell_type": "code",
      "execution_count": 6,
      "metadata": {
        "id": "rHgJaQKJ61AN"
      },
      "outputs": [],
      "source": [
        "data=pd.concat([pd.read_csv(\"gt_2011.csv\"),\\\n",
        "                     pd.read_csv(\"gt_2012.csv\"),\\\n",
        "                     pd.read_csv(\"gt_2013.csv\"),\\\n",
        "                     pd.read_csv(\"gt_2014.csv\"),\\\n",
        "                     pd.read_csv(\"gt_2015.csv\")],\\\n",
        "                    axis=0)"
      ]
    },
    {
      "cell_type": "code",
      "execution_count": 7,
      "metadata": {
        "colab": {
          "base_uri": "https://localhost:8080/"
        },
        "id": "4YR5UZVd7FgA",
        "outputId": "5458c053-c7db-4ca9-8379-d7c03574b3d9"
      },
      "outputs": [
        {
          "output_type": "execute_result",
          "data": {
            "text/plain": [
              "(36733, 11)"
            ]
          },
          "metadata": {},
          "execution_count": 7
        }
      ],
      "source": [
        "data.shape"
      ]
    },
    {
      "cell_type": "code",
      "execution_count": 8,
      "metadata": {
        "colab": {
          "base_uri": "https://localhost:8080/",
          "height": 364
        },
        "id": "YQuAuxRuN30N",
        "outputId": "b7c4730b-3d1d-4dd0-dcc6-34e0c42fb75e"
      },
      "outputs": [
        {
          "output_type": "execute_result",
          "data": {
            "text/plain": [
              "                 AT            AP            AH          AFDP          GTEP  \\\n",
              "count  36733.000000  36733.000000  36733.000000  36733.000000  36733.000000   \n",
              "mean      17.712726   1013.070165     77.867015      3.925518     25.563801   \n",
              "std        7.447451      6.463346     14.461355      0.773936      4.195957   \n",
              "min       -6.234800    985.850000     24.085000      2.087400     17.698000   \n",
              "25%       11.781000   1008.800000     68.188000      3.355600     23.129000   \n",
              "50%       17.801000   1012.600000     80.470000      3.937700     25.104000   \n",
              "75%       23.665000   1017.000000     89.376000      4.376900     29.061000   \n",
              "max       37.103000   1036.600000    100.200000      7.610600     40.716000   \n",
              "\n",
              "                TIT           TAT           TEY           CDP            CO  \\\n",
              "count  36733.000000  36733.000000  36733.000000  36733.000000  36733.000000   \n",
              "mean    1081.428084    546.158517    133.506404     12.060525      2.372468   \n",
              "std       17.536373      6.842360     15.618634      1.088795      2.262672   \n",
              "min     1000.800000    511.040000    100.020000      9.851800      0.000388   \n",
              "25%     1071.800000    544.720000    124.450000     11.435000      1.182400   \n",
              "50%     1085.900000    549.880000    133.730000     11.965000      1.713500   \n",
              "75%     1097.000000    550.040000    144.080000     12.855000      2.842900   \n",
              "max     1100.900000    550.610000    179.500000     15.159000     44.103000   \n",
              "\n",
              "                NOX  \n",
              "count  36733.000000  \n",
              "mean      65.293067  \n",
              "std       11.678357  \n",
              "min       25.905000  \n",
              "25%       57.162000  \n",
              "50%       63.849000  \n",
              "75%       71.548000  \n",
              "max      119.910000  "
            ],
            "text/html": [
              "\n",
              "  <div id=\"df-c7bda1f0-3dff-4af5-9fa5-36818cf1c4f9\">\n",
              "    <div class=\"colab-df-container\">\n",
              "      <div>\n",
              "<style scoped>\n",
              "    .dataframe tbody tr th:only-of-type {\n",
              "        vertical-align: middle;\n",
              "    }\n",
              "\n",
              "    .dataframe tbody tr th {\n",
              "        vertical-align: top;\n",
              "    }\n",
              "\n",
              "    .dataframe thead th {\n",
              "        text-align: right;\n",
              "    }\n",
              "</style>\n",
              "<table border=\"1\" class=\"dataframe\">\n",
              "  <thead>\n",
              "    <tr style=\"text-align: right;\">\n",
              "      <th></th>\n",
              "      <th>AT</th>\n",
              "      <th>AP</th>\n",
              "      <th>AH</th>\n",
              "      <th>AFDP</th>\n",
              "      <th>GTEP</th>\n",
              "      <th>TIT</th>\n",
              "      <th>TAT</th>\n",
              "      <th>TEY</th>\n",
              "      <th>CDP</th>\n",
              "      <th>CO</th>\n",
              "      <th>NOX</th>\n",
              "    </tr>\n",
              "  </thead>\n",
              "  <tbody>\n",
              "    <tr>\n",
              "      <th>count</th>\n",
              "      <td>36733.000000</td>\n",
              "      <td>36733.000000</td>\n",
              "      <td>36733.000000</td>\n",
              "      <td>36733.000000</td>\n",
              "      <td>36733.000000</td>\n",
              "      <td>36733.000000</td>\n",
              "      <td>36733.000000</td>\n",
              "      <td>36733.000000</td>\n",
              "      <td>36733.000000</td>\n",
              "      <td>36733.000000</td>\n",
              "      <td>36733.000000</td>\n",
              "    </tr>\n",
              "    <tr>\n",
              "      <th>mean</th>\n",
              "      <td>17.712726</td>\n",
              "      <td>1013.070165</td>\n",
              "      <td>77.867015</td>\n",
              "      <td>3.925518</td>\n",
              "      <td>25.563801</td>\n",
              "      <td>1081.428084</td>\n",
              "      <td>546.158517</td>\n",
              "      <td>133.506404</td>\n",
              "      <td>12.060525</td>\n",
              "      <td>2.372468</td>\n",
              "      <td>65.293067</td>\n",
              "    </tr>\n",
              "    <tr>\n",
              "      <th>std</th>\n",
              "      <td>7.447451</td>\n",
              "      <td>6.463346</td>\n",
              "      <td>14.461355</td>\n",
              "      <td>0.773936</td>\n",
              "      <td>4.195957</td>\n",
              "      <td>17.536373</td>\n",
              "      <td>6.842360</td>\n",
              "      <td>15.618634</td>\n",
              "      <td>1.088795</td>\n",
              "      <td>2.262672</td>\n",
              "      <td>11.678357</td>\n",
              "    </tr>\n",
              "    <tr>\n",
              "      <th>min</th>\n",
              "      <td>-6.234800</td>\n",
              "      <td>985.850000</td>\n",
              "      <td>24.085000</td>\n",
              "      <td>2.087400</td>\n",
              "      <td>17.698000</td>\n",
              "      <td>1000.800000</td>\n",
              "      <td>511.040000</td>\n",
              "      <td>100.020000</td>\n",
              "      <td>9.851800</td>\n",
              "      <td>0.000388</td>\n",
              "      <td>25.905000</td>\n",
              "    </tr>\n",
              "    <tr>\n",
              "      <th>25%</th>\n",
              "      <td>11.781000</td>\n",
              "      <td>1008.800000</td>\n",
              "      <td>68.188000</td>\n",
              "      <td>3.355600</td>\n",
              "      <td>23.129000</td>\n",
              "      <td>1071.800000</td>\n",
              "      <td>544.720000</td>\n",
              "      <td>124.450000</td>\n",
              "      <td>11.435000</td>\n",
              "      <td>1.182400</td>\n",
              "      <td>57.162000</td>\n",
              "    </tr>\n",
              "    <tr>\n",
              "      <th>50%</th>\n",
              "      <td>17.801000</td>\n",
              "      <td>1012.600000</td>\n",
              "      <td>80.470000</td>\n",
              "      <td>3.937700</td>\n",
              "      <td>25.104000</td>\n",
              "      <td>1085.900000</td>\n",
              "      <td>549.880000</td>\n",
              "      <td>133.730000</td>\n",
              "      <td>11.965000</td>\n",
              "      <td>1.713500</td>\n",
              "      <td>63.849000</td>\n",
              "    </tr>\n",
              "    <tr>\n",
              "      <th>75%</th>\n",
              "      <td>23.665000</td>\n",
              "      <td>1017.000000</td>\n",
              "      <td>89.376000</td>\n",
              "      <td>4.376900</td>\n",
              "      <td>29.061000</td>\n",
              "      <td>1097.000000</td>\n",
              "      <td>550.040000</td>\n",
              "      <td>144.080000</td>\n",
              "      <td>12.855000</td>\n",
              "      <td>2.842900</td>\n",
              "      <td>71.548000</td>\n",
              "    </tr>\n",
              "    <tr>\n",
              "      <th>max</th>\n",
              "      <td>37.103000</td>\n",
              "      <td>1036.600000</td>\n",
              "      <td>100.200000</td>\n",
              "      <td>7.610600</td>\n",
              "      <td>40.716000</td>\n",
              "      <td>1100.900000</td>\n",
              "      <td>550.610000</td>\n",
              "      <td>179.500000</td>\n",
              "      <td>15.159000</td>\n",
              "      <td>44.103000</td>\n",
              "      <td>119.910000</td>\n",
              "    </tr>\n",
              "  </tbody>\n",
              "</table>\n",
              "</div>\n",
              "      <button class=\"colab-df-convert\" onclick=\"convertToInteractive('df-c7bda1f0-3dff-4af5-9fa5-36818cf1c4f9')\"\n",
              "              title=\"Convert this dataframe to an interactive table.\"\n",
              "              style=\"display:none;\">\n",
              "        \n",
              "  <svg xmlns=\"http://www.w3.org/2000/svg\" height=\"24px\"viewBox=\"0 0 24 24\"\n",
              "       width=\"24px\">\n",
              "    <path d=\"M0 0h24v24H0V0z\" fill=\"none\"/>\n",
              "    <path d=\"M18.56 5.44l.94 2.06.94-2.06 2.06-.94-2.06-.94-.94-2.06-.94 2.06-2.06.94zm-11 1L8.5 8.5l.94-2.06 2.06-.94-2.06-.94L8.5 2.5l-.94 2.06-2.06.94zm10 10l.94 2.06.94-2.06 2.06-.94-2.06-.94-.94-2.06-.94 2.06-2.06.94z\"/><path d=\"M17.41 7.96l-1.37-1.37c-.4-.4-.92-.59-1.43-.59-.52 0-1.04.2-1.43.59L10.3 9.45l-7.72 7.72c-.78.78-.78 2.05 0 2.83L4 21.41c.39.39.9.59 1.41.59.51 0 1.02-.2 1.41-.59l7.78-7.78 2.81-2.81c.8-.78.8-2.07 0-2.86zM5.41 20L4 18.59l7.72-7.72 1.47 1.35L5.41 20z\"/>\n",
              "  </svg>\n",
              "      </button>\n",
              "      \n",
              "  <style>\n",
              "    .colab-df-container {\n",
              "      display:flex;\n",
              "      flex-wrap:wrap;\n",
              "      gap: 12px;\n",
              "    }\n",
              "\n",
              "    .colab-df-convert {\n",
              "      background-color: #E8F0FE;\n",
              "      border: none;\n",
              "      border-radius: 50%;\n",
              "      cursor: pointer;\n",
              "      display: none;\n",
              "      fill: #1967D2;\n",
              "      height: 32px;\n",
              "      padding: 0 0 0 0;\n",
              "      width: 32px;\n",
              "    }\n",
              "\n",
              "    .colab-df-convert:hover {\n",
              "      background-color: #E2EBFA;\n",
              "      box-shadow: 0px 1px 2px rgba(60, 64, 67, 0.3), 0px 1px 3px 1px rgba(60, 64, 67, 0.15);\n",
              "      fill: #174EA6;\n",
              "    }\n",
              "\n",
              "    [theme=dark] .colab-df-convert {\n",
              "      background-color: #3B4455;\n",
              "      fill: #D2E3FC;\n",
              "    }\n",
              "\n",
              "    [theme=dark] .colab-df-convert:hover {\n",
              "      background-color: #434B5C;\n",
              "      box-shadow: 0px 1px 3px 1px rgba(0, 0, 0, 0.15);\n",
              "      filter: drop-shadow(0px 1px 2px rgba(0, 0, 0, 0.3));\n",
              "      fill: #FFFFFF;\n",
              "    }\n",
              "  </style>\n",
              "\n",
              "      <script>\n",
              "        const buttonEl =\n",
              "          document.querySelector('#df-c7bda1f0-3dff-4af5-9fa5-36818cf1c4f9 button.colab-df-convert');\n",
              "        buttonEl.style.display =\n",
              "          google.colab.kernel.accessAllowed ? 'block' : 'none';\n",
              "\n",
              "        async function convertToInteractive(key) {\n",
              "          const element = document.querySelector('#df-c7bda1f0-3dff-4af5-9fa5-36818cf1c4f9');\n",
              "          const dataTable =\n",
              "            await google.colab.kernel.invokeFunction('convertToInteractive',\n",
              "                                                     [key], {});\n",
              "          if (!dataTable) return;\n",
              "\n",
              "          const docLinkHtml = 'Like what you see? Visit the ' +\n",
              "            '<a target=\"_blank\" href=https://colab.research.google.com/notebooks/data_table.ipynb>data table notebook</a>'\n",
              "            + ' to learn more about interactive tables.';\n",
              "          element.innerHTML = '';\n",
              "          dataTable['output_type'] = 'display_data';\n",
              "          await google.colab.output.renderOutput(dataTable, element);\n",
              "          const docLink = document.createElement('div');\n",
              "          docLink.innerHTML = docLinkHtml;\n",
              "          element.appendChild(docLink);\n",
              "        }\n",
              "      </script>\n",
              "    </div>\n",
              "  </div>\n",
              "  "
            ]
          },
          "metadata": {},
          "execution_count": 8
        }
      ],
      "source": [
        "data.describe()"
      ]
    },
    {
      "cell_type": "markdown",
      "metadata": {
        "id": "P59MNe_FYLbJ"
      },
      "source": [
        "#### EDA"
      ]
    },
    {
      "cell_type": "code",
      "execution_count": 9,
      "metadata": {
        "colab": {
          "base_uri": "https://localhost:8080/",
          "height": 106
        },
        "id": "ffyI3etQOyPL",
        "outputId": "69b58e98-49bf-4029-fae3-1b03e64ceef2"
      },
      "outputs": [
        {
          "output_type": "execute_result",
          "data": {
            "text/plain": [
              "<matplotlib.axes._subplots.AxesSubplot at 0x7f7c3681ddf0>"
            ]
          },
          "metadata": {},
          "execution_count": 9
        },
        {
          "output_type": "display_data",
          "data": {
            "text/plain": [
              "<Figure size 864x864 with 2 Axes>"
            ],
            "image/png": "[encoded data removed]"
          },
          "metadata": {
            "needs_background": "light"
          }
        }
      ],
      "source": [
        "# Showing correlation of all variables among each other and not selecting target variables\n",
        "\n",
        "plt.figure(figsize=(12,12))\n",
        "sns.heatmap(data.loc[:,'AT':'CDP'].corr(),annot=True)\n",
        "# plt.savefig(\"corr.png\")"
      ]
    },
    {
      "cell_type": "code",
      "execution_count": 10,
      "metadata": {
        "id": "-_bZqXvzQRFE"
      },
      "outputs": [],
      "source": [
        "# import seaborn as sns\n",
        "# import matplotlib.pyplot as plt\n",
        "# plt.rcParams['figure.figsize']=(16,7)\n",
        "# f, (ax1,ax2,ax3,ax4,ax5,ax6,ax7,ax8,ax9) = plt.subplots(1,9)\n",
        "# sns.boxplot(data=data['AT'], ax=ax1, palette = 'coolwarm')\n",
        "# sns.boxplot(data=data['AP'], ax=ax2)\n",
        "# sns.boxplot(data=data['AH'], ax=ax3, palette = 'coolwarm')\n",
        "# sns.boxplot(data=data['AFDP'], ax=ax4)\n",
        "# sns.boxplot(data=data['GTEP'], ax=ax5, palette='coolwarm')\n",
        "# sns.boxplot(data=data['TIT'], ax=ax6)\n",
        "# sns.boxplot(data=data['TAT'], ax=ax7, palette='coolwarm')\n",
        "# sns.boxplot(data=data['TEY'], ax=ax8)\n",
        "# sns.boxplot(data=data['CDP'], ax=ax9, palette = 'coolwarm')\n",
        "# f.tight_layout()\n",
        "# plt.savefig(\"boxplot.png\")"
      ]
    },
    {
      "cell_type": "code",
      "execution_count": 11,
      "metadata": {
        "id": "s-llaCxMilLI"
      },
      "outputs": [],
      "source": [
        "# data.to_csv()"
      ]
    },
    {
      "cell_type": "markdown",
      "metadata": {
        "id": "dZrytQf1YO2D"
      },
      "source": [
        "#### Outlier Treatment"
      ]
    },
    {
      "cell_type": "code",
      "execution_count": 12,
      "metadata": {
        "id": "cYhpNYmaP5Pz"
      },
      "outputs": [],
      "source": [
        "#LOF is a robust outlier detection method in ML\n",
        "\n",
        "from sklearn.neighbors import LocalOutlierFactor\n",
        "from sklearn.preprocessing import StandardScaler"
      ]
    },
    {
      "cell_type": "code",
      "execution_count": 13,
      "metadata": {
        "id": "SnBFVd6dQ_RY"
      },
      "outputs": [],
      "source": [
        "# Scaling all variables except for target variables\n",
        "\n",
        "data_scaled= StandardScaler().fit_transform(data.loc[:,'AT':'CDP'])"
      ]
    },
    {
      "cell_type": "code",
      "execution_count": 14,
      "metadata": {
        "colab": {
          "base_uri": "https://localhost:8080/"
        },
        "id": "b_ZHolwHRgbQ",
        "outputId": "d3c9f652-16ed-4754-821c-ccc5b8025592"
      },
      "outputs": [
        {
          "output_type": "execute_result",
          "data": {
            "text/plain": [
              "(36733, 11)"
            ]
          },
          "metadata": {},
          "execution_count": 14
        }
      ],
      "source": [
        "data.shape"
      ]
    },
    {
      "cell_type": "code",
      "execution_count": 15,
      "metadata": {
        "id": "LZ9fzT4bR1y7"
      },
      "outputs": [],
      "source": [
        "# Using Local Outlier Factor to identify potential outliers\n",
        "\n",
        "# lof=LocalOutlierFactor(n_neighbors=5)\n",
        "# pred = lof.fit_predict(data_scaled)"
      ]
    },
    {
      "cell_type": "code",
      "execution_count": 16,
      "metadata": {
        "id": "jg90HqKoSUYY"
      },
      "outputs": [],
      "source": [
        "# pd.Series(pred).value_counts()"
      ]
    },
    {
      "cell_type": "code",
      "execution_count": 17,
      "metadata": {
        "id": "Bi7ZuJFdS4fK"
      },
      "outputs": [],
      "source": [
        "# initialising an empty array, passing no of rows/entries using shape[0]\n",
        "# storing predictions for 5,7,9 neighbours in all_preds by looping n_neigh over range(5,10,2)\n",
        "\n",
        "all_preds = np.zeros(shape=(data_scaled.shape[0],3))\n",
        "i=0\n",
        "for n_neigh in range(5,10,2):\n",
        "  lof=LocalOutlierFactor(n_neighbors=n_neigh)\n",
        "  pred=lof.fit_predict(data_scaled)\n",
        "  all_preds[:,i]=pred\n",
        "  i+=1"
      ]
    },
    {
      "cell_type": "code",
      "execution_count": 18,
      "metadata": {
        "colab": {
          "base_uri": "https://localhost:8080/"
        },
        "id": "3CjGZSrkU2DH",
        "outputId": "8f175703-ad53-481f-ad5d-8b269484a143"
      },
      "outputs": [
        {
          "output_type": "execute_result",
          "data": {
            "text/plain": [
              "array([[ 1.,  1.,  1.],\n",
              "       [ 1.,  1.,  1.],\n",
              "       [ 1.,  1.,  1.],\n",
              "       ...,\n",
              "       [ 1.,  1.,  1.],\n",
              "       [-1., -1.,  1.],\n",
              "       [ 1.,  1.,  1.]])"
            ]
          },
          "metadata": {},
          "execution_count": 18
        }
      ],
      "source": [
        "all_preds"
      ]
    },
    {
      "cell_type": "code",
      "execution_count": 19,
      "metadata": {
        "id": "nILnF4vbVH8F"
      },
      "outputs": [],
      "source": [
        "# Sum along rows, that is sum prediction whether outlier or not according to 5,7 and 9 neighbour prediction\n",
        "\n",
        "outlier_preds = all_preds.sum(axis=1)"
      ]
    },
    {
      "cell_type": "code",
      "execution_count": 20,
      "metadata": {
        "id": "gmotcB2mUcPn"
      },
      "outputs": [],
      "source": [
        "# outlier_preds"
      ]
    },
    {
      "cell_type": "code",
      "execution_count": 21,
      "metadata": {
        "id": "lZkRAX9UUtwc"
      },
      "outputs": [],
      "source": [
        "# Summed values\n",
        "\n",
        "# np.unique(outlier_preds)"
      ]
    },
    {
      "cell_type": "code",
      "execution_count": 22,
      "metadata": {
        "id": "6nHrKQOQWIhK"
      },
      "outputs": [],
      "source": [
        "# Pick points which are considered outliers by at least two out of three n_neighbours lof\n",
        "# This will happen when sum of row is 1 or 3\n",
        "# final_outlier assigns 1 to outliers\n",
        "# This is done by checking if rowsum is >= 1, that is 1 or 3\n",
        "# If two lof numbers say not outlier, we keep it\n",
        "# Like a voting method.\n",
        "\n",
        "final_outlier=np.where(outlier_preds>=1,1,-1)"
      ]
    },
    {
      "cell_type": "code",
      "execution_count": 23,
      "metadata": {
        "colab": {
          "base_uri": "https://localhost:8080/"
        },
        "id": "teQDRVM4UPbk",
        "outputId": "5d540886-5928-49bb-8392-ece11a067b12"
      },
      "outputs": [
        {
          "output_type": "execute_result",
          "data": {
            "text/plain": [
              "array([ 1,  1,  1, ...,  1, -1,  1])"
            ]
          },
          "metadata": {},
          "execution_count": 23
        }
      ],
      "source": [
        "final_outlier"
      ]
    },
    {
      "cell_type": "code",
      "execution_count": 24,
      "metadata": {
        "colab": {
          "base_uri": "https://localhost:8080/"
        },
        "id": "LPXUaLk-WSEf",
        "outputId": "1af0fcae-0b8a-418f-c8b7-0fac81710f0a"
      },
      "outputs": [
        {
          "output_type": "execute_result",
          "data": {
            "text/plain": [
              " 1    0.973784\n",
              "-1    0.026216\n",
              "dtype: float64"
            ]
          },
          "metadata": {},
          "execution_count": 24
        }
      ],
      "source": [
        "# Checking percentage of Outliers to non-outliers from our prediction\n",
        "\n",
        "pd.Series(final_outlier).value_counts(normalize=True)"
      ]
    },
    {
      "cell_type": "markdown",
      "metadata": {
        "id": "ERLrrHcEWka8"
      },
      "source": [
        "Consensus outliers:\n",
        "\n",
        "(963/36733)*100 \\\n",
        "= 2.6216208858519587%"
      ]
    },
    {
      "cell_type": "code",
      "execution_count": 25,
      "metadata": {
        "id": "SVvoodmXXeP6"
      },
      "outputs": [],
      "source": [
        "data_no_outlier = data[final_outlier==1]"
      ]
    },
    {
      "cell_type": "markdown",
      "metadata": {
        "id": "t2qCQmJkYgQ2"
      },
      "source": [
        "## Multiple Linear Regression"
      ]
    },
    {
      "cell_type": "markdown",
      "metadata": {
        "id": "BBE1V5f-dL8K"
      },
      "source": [
        "### Import Modules"
      ]
    },
    {
      "cell_type": "code",
      "execution_count": 26,
      "metadata": {
        "id": "-ncXIsDRYvuu"
      },
      "outputs": [],
      "source": [
        "import statsmodels.formula.api as sm"
      ]
    },
    {
      "cell_type": "code",
      "execution_count": 27,
      "metadata": {
        "id": "XbgvOgnfaQPx"
      },
      "outputs": [],
      "source": [
        "columns=data.columns"
      ]
    },
    {
      "cell_type": "code",
      "execution_count": 28,
      "metadata": {
        "colab": {
          "base_uri": "https://localhost:8080/"
        },
        "id": "BQbeMC_WZ1Qk",
        "outputId": "d26b48b0-1aeb-4c03-886a-22855cb04999"
      },
      "outputs": [
        {
          "output_type": "execute_result",
          "data": {
            "text/plain": [
              "Index(['AT', 'AP', 'AH', 'AFDP', 'GTEP', 'TIT', 'TAT', 'TEY', 'CDP', 'CO',\n",
              "       'NOX'],\n",
              "      dtype='object')"
            ]
          },
          "metadata": {},
          "execution_count": 28
        }
      ],
      "source": [
        "columns"
      ]
    },
    {
      "cell_type": "code",
      "execution_count": 29,
      "metadata": {
        "id": "rUFHnlBnZ43M"
      },
      "outputs": [],
      "source": [
        "# data_2015_NOx=data_2015_no_outlier.drop('CO',axis=1)\n",
        "# data_2015_CO=data_2015_no_outlier.drop('NOX',axis=1)"
      ]
    },
    {
      "cell_type": "markdown",
      "metadata": {
        "id": "2zQo6nKFaKTD"
      },
      "source": [
        "### Linear Regression"
      ]
    },
    {
      "cell_type": "code",
      "execution_count": 30,
      "metadata": {
        "colab": {
          "base_uri": "https://localhost:8080/",
          "height": 593
        },
        "id": "P7cxWCxiaFQx",
        "outputId": "6603b68b-d448-48d8-aaf4-25306d8b303e"
      },
      "outputs": [
        {
          "output_type": "execute_result",
          "data": {
            "text/plain": [
              "'CO~AT+AP+AH+AFDP+GTEP+TIT+TAT+TEY+CDP'"
            ],
            "application/vnd.google.colaboratory.intrinsic+json": {
              "type": "string"
            }
          },
          "metadata": {},
          "execution_count": 30
        }
      ],
      "source": [
        "# Join column numbers 1 to 9 to pass string with formula for CO\n",
        "\n",
        "f1='CO~'+'+'.join(columns[:9])\n",
        "f1"
      ]
    },
    {
      "cell_type": "code",
      "execution_count": 31,
      "metadata": {
        "id": "NW7kAYI_ZXVZ"
      },
      "outputs": [],
      "source": [
        "r_co=sm.ols(formula=f1, data=data_no_outlier)"
      ]
    },
    {
      "cell_type": "code",
      "execution_count": 32,
      "metadata": {
        "id": "hNoUypFeaVIw"
      },
      "outputs": [],
      "source": [
        "result_co=r_co.fit()"
      ]
    },
    {
      "cell_type": "code",
      "execution_count": 33,
      "metadata": {
        "colab": {
          "base_uri": "https://localhost:8080/",
          "height": 1000
        },
        "id": "uhPNDJGEZaTg",
        "outputId": "777bb39f-1b9a-4643-b6b0-0e870626ab34"
      },
      "outputs": [
        {
          "output_type": "execute_result",
          "data": {
            "text/plain": [
              "<class 'statsmodels.iolib.summary.Summary'>\n",
              "\"\"\"\n",
              "                            OLS Regression Results                            \n",
              "==============================================================================\n",
              "Dep. Variable:                     CO   R-squared:                       0.582\n",
              "Model:                            OLS   Adj. R-squared:                  0.582\n",
              "Method:                 Least Squares   F-statistic:                     5536.\n",
              "Date:                Thu, 16 Feb 2023   Prob (F-statistic):               0.00\n",
              "Time:                        16:58:47   Log-Likelihood:                -62953.\n",
              "No. Observations:               35770   AIC:                         1.259e+05\n",
              "Df Residuals:                   35760   BIC:                         1.260e+05\n",
              "Df Model:                           9                                         \n",
              "Covariance Type:            nonrobust                                         \n",
              "==============================================================================\n",
              "                 coef    std err          t      P>|t|      [0.025      0.975]\n",
              "------------------------------------------------------------------------------\n",
              "Intercept    121.8235      2.119     57.502      0.000     117.671     125.976\n",
              "AT            -0.0501      0.003    -17.351      0.000      -0.056      -0.044\n",
              "AP            -0.0020      0.001     -1.389      0.165      -0.005       0.001\n",
              "AH            -0.0076      0.001    -11.773      0.000      -0.009      -0.006\n",
              "AFDP          -0.1614      0.015    -10.550      0.000      -0.191      -0.131\n",
              "GTEP           0.1016      0.010     10.427      0.000       0.082       0.121\n",
              "TIT           -0.0690      0.003    -26.221      0.000      -0.074      -0.064\n",
              "TAT           -0.0754      0.003    -21.650      0.000      -0.082      -0.069\n",
              "TEY           -0.1916      0.008    -25.040      0.000      -0.207      -0.177\n",
              "CDP            1.9421      0.108     17.977      0.000       1.730       2.154\n",
              "==============================================================================\n",
              "Omnibus:                    45324.595   Durbin-Watson:                   0.791\n",
              "Prob(Omnibus):                  0.000   Jarque-Bera (JB):         21766576.561\n",
              "Skew:                           6.593   Prob(JB):                         0.00\n",
              "Kurtosis:                     123.127   Cond. No.                     4.52e+05\n",
              "==============================================================================\n",
              "\n",
              "Notes:\n",
              "[1] Standard Errors assume that the covariance matrix of the errors is correctly specified.\n",
              "[2] The condition number is large, 4.52e+05. This might indicate that there are\n",
              "strong multicollinearity or other numerical problems.\n",
              "\"\"\""
            ],
            "text/html": [
              "<table class=\"simpletable\">\n",
              "<caption>OLS Regression Results</caption>\n",
              "<tr>\n",
              "  <th>Dep. Variable:</th>           <td>CO</td>        <th>  R-squared:         </th> <td>   0.582</td> \n",
              "</tr>\n",
              "<tr>\n",
              "  <th>Model:</th>                   <td>OLS</td>       <th>  Adj. R-squared:    </th> <td>   0.582</td> \n",
              "</tr>\n",
              "<tr>\n",
              "  <th>Method:</th>             <td>Least Squares</td>  <th>  F-statistic:       </th> <td>   5536.</td> \n",
              "</tr>\n",
              "<tr>\n",
              "  <th>Date:</th>             <td>Thu, 16 Feb 2023</td> <th>  Prob (F-statistic):</th>  <td>  0.00</td>  \n",
              "</tr>\n",
              "<tr>\n",
              "  <th>Time:</th>                 <td>16:58:47</td>     <th>  Log-Likelihood:    </th> <td> -62953.</td> \n",
              "</tr>\n",
              "<tr>\n",
              "  <th>No. Observations:</th>      <td> 35770</td>      <th>  AIC:               </th> <td>1.259e+05</td>\n",
              "</tr>\n",
              "<tr>\n",
              "  <th>Df Residuals:</th>          <td> 35760</td>      <th>  BIC:               </th> <td>1.260e+05</td>\n",
              "</tr>\n",
              "<tr>\n",
              "  <th>Df Model:</th>              <td>     9</td>      <th>                     </th>     <td> </td>    \n",
              "</tr>\n",
              "<tr>\n",
              "  <th>Covariance Type:</th>      <td>nonrobust</td>    <th>                     </th>     <td> </td>    \n",
              "</tr>\n",
              "</table>\n",
              "<table class=\"simpletable\">\n",
              "<tr>\n",
              "      <td></td>         <th>coef</th>     <th>std err</th>      <th>t</th>      <th>P>|t|</th>  <th>[0.025</th>    <th>0.975]</th>  \n",
              "</tr>\n",
              "<tr>\n",
              "  <th>Intercept</th> <td>  121.8235</td> <td>    2.119</td> <td>   57.502</td> <td> 0.000</td> <td>  117.671</td> <td>  125.976</td>\n",
              "</tr>\n",
              "<tr>\n",
              "  <th>AT</th>        <td>   -0.0501</td> <td>    0.003</td> <td>  -17.351</td> <td> 0.000</td> <td>   -0.056</td> <td>   -0.044</td>\n",
              "</tr>\n",
              "<tr>\n",
              "  <th>AP</th>        <td>   -0.0020</td> <td>    0.001</td> <td>   -1.389</td> <td> 0.165</td> <td>   -0.005</td> <td>    0.001</td>\n",
              "</tr>\n",
              "<tr>\n",
              "  <th>AH</th>        <td>   -0.0076</td> <td>    0.001</td> <td>  -11.773</td> <td> 0.000</td> <td>   -0.009</td> <td>   -0.006</td>\n",
              "</tr>\n",
              "<tr>\n",
              "  <th>AFDP</th>      <td>   -0.1614</td> <td>    0.015</td> <td>  -10.550</td> <td> 0.000</td> <td>   -0.191</td> <td>   -0.131</td>\n",
              "</tr>\n",
              "<tr>\n",
              "  <th>GTEP</th>      <td>    0.1016</td> <td>    0.010</td> <td>   10.427</td> <td> 0.000</td> <td>    0.082</td> <td>    0.121</td>\n",
              "</tr>\n",
              "<tr>\n",
              "  <th>TIT</th>       <td>   -0.0690</td> <td>    0.003</td> <td>  -26.221</td> <td> 0.000</td> <td>   -0.074</td> <td>   -0.064</td>\n",
              "</tr>\n",
              "<tr>\n",
              "  <th>TAT</th>       <td>   -0.0754</td> <td>    0.003</td> <td>  -21.650</td> <td> 0.000</td> <td>   -0.082</td> <td>   -0.069</td>\n",
              "</tr>\n",
              "<tr>\n",
              "  <th>TEY</th>       <td>   -0.1916</td> <td>    0.008</td> <td>  -25.040</td> <td> 0.000</td> <td>   -0.207</td> <td>   -0.177</td>\n",
              "</tr>\n",
              "<tr>\n",
              "  <th>CDP</th>       <td>    1.9421</td> <td>    0.108</td> <td>   17.977</td> <td> 0.000</td> <td>    1.730</td> <td>    2.154</td>\n",
              "</tr>\n",
              "</table>\n",
              "<table class=\"simpletable\">\n",
              "<tr>\n",
              "  <th>Omnibus:</th>       <td>45324.595</td> <th>  Durbin-Watson:     </th>   <td>   0.791</td>  \n",
              "</tr>\n",
              "<tr>\n",
              "  <th>Prob(Omnibus):</th>  <td> 0.000</td>   <th>  Jarque-Bera (JB):  </th> <td>21766576.561</td>\n",
              "</tr>\n",
              "<tr>\n",
              "  <th>Skew:</th>           <td> 6.593</td>   <th>  Prob(JB):          </th>   <td>    0.00</td>  \n",
              "</tr>\n",
              "<tr>\n",
              "  <th>Kurtosis:</th>       <td>123.127</td>  <th>  Cond. No.          </th>   <td>4.52e+05</td>  \n",
              "</tr>\n",
              "</table><br/><br/>Notes:<br/>[1] Standard Errors assume that the covariance matrix of the errors is correctly specified.<br/>[2] The condition number is large, 4.52e+05. This might indicate that there are<br/>strong multicollinearity or other numerical problems."
            ]
          },
          "metadata": {},
          "execution_count": 33
        }
      ],
      "source": [
        "result_co.summary()"
      ]
    },
    {
      "cell_type": "code",
      "execution_count": 34,
      "metadata": {
        "colab": {
          "base_uri": "https://localhost:8080/",
          "height": 611
        },
        "id": "WOjzitYqakvO",
        "outputId": "37d01cae-cfcc-4a30-ebd4-609a3d23f9fc"
      },
      "outputs": [
        {
          "output_type": "execute_result",
          "data": {
            "text/plain": [
              "'NOX~AT+AP+AH+AFDP+GTEP+TIT+TAT+TEY+CDP'"
            ],
            "application/vnd.google.colaboratory.intrinsic+json": {
              "type": "string"
            }
          },
          "metadata": {},
          "execution_count": 34
        }
      ],
      "source": [
        "# Join column numbers 1 to 9 to pass string with formula for NOx\n",
        "\n",
        "f2='NOX~'+'+'.join(columns[:9])\n",
        "f2"
      ]
    },
    {
      "cell_type": "code",
      "execution_count": 35,
      "metadata": {
        "id": "OMHp8QJYayjL"
      },
      "outputs": [],
      "source": [
        "# OLS Regression\n",
        "\n",
        "r_nox=sm.ols(formula=f2, data=data_no_outlier)"
      ]
    },
    {
      "cell_type": "code",
      "execution_count": 36,
      "metadata": {
        "id": "uaagwIe6brIi"
      },
      "outputs": [],
      "source": [
        "result_nox=r_nox.fit()"
      ]
    },
    {
      "cell_type": "code",
      "execution_count": 37,
      "metadata": {
        "colab": {
          "base_uri": "https://localhost:8080/",
          "height": 1000
        },
        "id": "VWRqFUsgb13A",
        "outputId": "14443b99-5dd5-443b-9965-fbc2f08c243d"
      },
      "outputs": [
        {
          "output_type": "execute_result",
          "data": {
            "text/plain": [
              "<class 'statsmodels.iolib.summary.Summary'>\n",
              "\"\"\"\n",
              "                            OLS Regression Results                            \n",
              "==============================================================================\n",
              "Dep. Variable:                    NOX   R-squared:                       0.518\n",
              "Model:                            OLS   Adj. R-squared:                  0.518\n",
              "Method:                 Least Squares   F-statistic:                     4268.\n",
              "Date:                Thu, 16 Feb 2023   Prob (F-statistic):               0.00\n",
              "Time:                        16:58:47   Log-Likelihood:            -1.2546e+05\n",
              "No. Observations:               35770   AIC:                         2.509e+05\n",
              "Df Residuals:                   35760   BIC:                         2.510e+05\n",
              "Df Model:                           9                                         \n",
              "Covariance Type:            nonrobust                                         \n",
              "==============================================================================\n",
              "                 coef    std err          t      P>|t|      [0.025      0.975]\n",
              "------------------------------------------------------------------------------\n",
              "Intercept    -61.5671     12.162     -5.062      0.000     -85.406     -37.728\n",
              "AT            -1.7649      0.017   -106.504      0.000      -1.797      -1.732\n",
              "AP            -0.2360      0.008    -28.839      0.000      -0.252      -0.220\n",
              "AH            -0.2224      0.004    -60.016      0.000      -0.230      -0.215\n",
              "AFDP           0.7286      0.088      8.295      0.000       0.556       0.901\n",
              "GTEP          -0.1015      0.056     -1.815      0.070      -0.211       0.008\n",
              "TIT            1.4144      0.015     93.655      0.000       1.385       1.444\n",
              "TAT           -1.5245      0.020    -76.244      0.000      -1.564      -1.485\n",
              "TEY           -1.9461      0.044    -44.304      0.000      -2.032      -1.860\n",
              "CDP           -1.9019      0.620     -3.067      0.002      -3.117      -0.686\n",
              "==============================================================================\n",
              "Omnibus:                     7249.078   Durbin-Watson:                   0.369\n",
              "Prob(Omnibus):                  0.000   Jarque-Bera (JB):            26041.843\n",
              "Skew:                           0.996   Prob(JB):                         0.00\n",
              "Kurtosis:                       6.675   Cond. No.                     4.52e+05\n",
              "==============================================================================\n",
              "\n",
              "Notes:\n",
              "[1] Standard Errors assume that the covariance matrix of the errors is correctly specified.\n",
              "[2] The condition number is large, 4.52e+05. This might indicate that there are\n",
              "strong multicollinearity or other numerical problems.\n",
              "\"\"\""
            ],
            "text/html": [
              "<table class=\"simpletable\">\n",
              "<caption>OLS Regression Results</caption>\n",
              "<tr>\n",
              "  <th>Dep. Variable:</th>           <td>NOX</td>       <th>  R-squared:         </th>  <td>   0.518</td>  \n",
              "</tr>\n",
              "<tr>\n",
              "  <th>Model:</th>                   <td>OLS</td>       <th>  Adj. R-squared:    </th>  <td>   0.518</td>  \n",
              "</tr>\n",
              "<tr>\n",
              "  <th>Method:</th>             <td>Least Squares</td>  <th>  F-statistic:       </th>  <td>   4268.</td>  \n",
              "</tr>\n",
              "<tr>\n",
              "  <th>Date:</th>             <td>Thu, 16 Feb 2023</td> <th>  Prob (F-statistic):</th>   <td>  0.00</td>   \n",
              "</tr>\n",
              "<tr>\n",
              "  <th>Time:</th>                 <td>16:58:47</td>     <th>  Log-Likelihood:    </th> <td>-1.2546e+05</td>\n",
              "</tr>\n",
              "<tr>\n",
              "  <th>No. Observations:</th>      <td> 35770</td>      <th>  AIC:               </th>  <td>2.509e+05</td> \n",
              "</tr>\n",
              "<tr>\n",
              "  <th>Df Residuals:</th>          <td> 35760</td>      <th>  BIC:               </th>  <td>2.510e+05</td> \n",
              "</tr>\n",
              "<tr>\n",
              "  <th>Df Model:</th>              <td>     9</td>      <th>                     </th>      <td> </td>     \n",
              "</tr>\n",
              "<tr>\n",
              "  <th>Covariance Type:</th>      <td>nonrobust</td>    <th>                     </th>      <td> </td>     \n",
              "</tr>\n",
              "</table>\n",
              "<table class=\"simpletable\">\n",
              "<tr>\n",
              "      <td></td>         <th>coef</th>     <th>std err</th>      <th>t</th>      <th>P>|t|</th>  <th>[0.025</th>    <th>0.975]</th>  \n",
              "</tr>\n",
              "<tr>\n",
              "  <th>Intercept</th> <td>  -61.5671</td> <td>   12.162</td> <td>   -5.062</td> <td> 0.000</td> <td>  -85.406</td> <td>  -37.728</td>\n",
              "</tr>\n",
              "<tr>\n",
              "  <th>AT</th>        <td>   -1.7649</td> <td>    0.017</td> <td> -106.504</td> <td> 0.000</td> <td>   -1.797</td> <td>   -1.732</td>\n",
              "</tr>\n",
              "<tr>\n",
              "  <th>AP</th>        <td>   -0.2360</td> <td>    0.008</td> <td>  -28.839</td> <td> 0.000</td> <td>   -0.252</td> <td>   -0.220</td>\n",
              "</tr>\n",
              "<tr>\n",
              "  <th>AH</th>        <td>   -0.2224</td> <td>    0.004</td> <td>  -60.016</td> <td> 0.000</td> <td>   -0.230</td> <td>   -0.215</td>\n",
              "</tr>\n",
              "<tr>\n",
              "  <th>AFDP</th>      <td>    0.7286</td> <td>    0.088</td> <td>    8.295</td> <td> 0.000</td> <td>    0.556</td> <td>    0.901</td>\n",
              "</tr>\n",
              "<tr>\n",
              "  <th>GTEP</th>      <td>   -0.1015</td> <td>    0.056</td> <td>   -1.815</td> <td> 0.070</td> <td>   -0.211</td> <td>    0.008</td>\n",
              "</tr>\n",
              "<tr>\n",
              "  <th>TIT</th>       <td>    1.4144</td> <td>    0.015</td> <td>   93.655</td> <td> 0.000</td> <td>    1.385</td> <td>    1.444</td>\n",
              "</tr>\n",
              "<tr>\n",
              "  <th>TAT</th>       <td>   -1.5245</td> <td>    0.020</td> <td>  -76.244</td> <td> 0.000</td> <td>   -1.564</td> <td>   -1.485</td>\n",
              "</tr>\n",
              "<tr>\n",
              "  <th>TEY</th>       <td>   -1.9461</td> <td>    0.044</td> <td>  -44.304</td> <td> 0.000</td> <td>   -2.032</td> <td>   -1.860</td>\n",
              "</tr>\n",
              "<tr>\n",
              "  <th>CDP</th>       <td>   -1.9019</td> <td>    0.620</td> <td>   -3.067</td> <td> 0.002</td> <td>   -3.117</td> <td>   -0.686</td>\n",
              "</tr>\n",
              "</table>\n",
              "<table class=\"simpletable\">\n",
              "<tr>\n",
              "  <th>Omnibus:</th>       <td>7249.078</td> <th>  Durbin-Watson:     </th> <td>   0.369</td> \n",
              "</tr>\n",
              "<tr>\n",
              "  <th>Prob(Omnibus):</th>  <td> 0.000</td>  <th>  Jarque-Bera (JB):  </th> <td>26041.843</td>\n",
              "</tr>\n",
              "<tr>\n",
              "  <th>Skew:</th>           <td> 0.996</td>  <th>  Prob(JB):          </th> <td>    0.00</td> \n",
              "</tr>\n",
              "<tr>\n",
              "  <th>Kurtosis:</th>       <td> 6.675</td>  <th>  Cond. No.          </th> <td>4.52e+05</td> \n",
              "</tr>\n",
              "</table><br/><br/>Notes:<br/>[1] Standard Errors assume that the covariance matrix of the errors is correctly specified.<br/>[2] The condition number is large, 4.52e+05. This might indicate that there are<br/>strong multicollinearity or other numerical problems."
            ]
          },
          "metadata": {},
          "execution_count": 37
        }
      ],
      "source": [
        "result_nox.summary()"
      ]
    },
    {
      "cell_type": "markdown",
      "metadata": {
        "id": "R1vYCLu0acZT"
      },
      "source": [
        "### Variable selection using Variance Inflation Factor (VIF)"
      ]
    },
    {
      "cell_type": "code",
      "execution_count": 38,
      "metadata": {
        "id": "5pvs0GVSs002"
      },
      "outputs": [],
      "source": [
        "from statsmodels.stats.outliers_influence import variance_inflation_factor"
      ]
    },
    {
      "cell_type": "code",
      "execution_count": 39,
      "metadata": {
        "colab": {
          "base_uri": "https://localhost:8080/"
        },
        "id": "lvy4ZPN2tkWB",
        "outputId": "e822581b-8efe-496e-b844-ed8ad58963ec"
      },
      "outputs": [
        {
          "output_type": "execute_result",
          "data": {
            "text/plain": [
              "46.86457466862405"
            ]
          },
          "metadata": {},
          "execution_count": 39
        }
      ],
      "source": [
        "variance_inflation_factor(data_no_outlier.loc[:,'AT':'CDP'].values,0)"
      ]
    },
    {
      "cell_type": "code",
      "execution_count": 40,
      "metadata": {
        "id": "B6O1ut9otF2D"
      },
      "outputs": [],
      "source": [
        "# [i for i in range(10)]"
      ]
    },
    {
      "cell_type": "code",
      "execution_count": 41,
      "metadata": {
        "id": "TRwUndSJuDnC"
      },
      "outputs": [],
      "source": [
        "X_1 = data_no_outlier.loc[:,'AT':'CDP'].copy()"
      ]
    },
    {
      "cell_type": "code",
      "execution_count": 42,
      "metadata": {
        "id": "ijC8YmSBtcR1"
      },
      "outputs": [],
      "source": [
        "vif_scores = {k: v for k, v in zip(X_1.columns,\n",
        "                                   [variance_inflation_factor(X_1.values, i) \\\n",
        "                                    for i in range(len(X_1.columns))])}"
      ]
    },
    {
      "cell_type": "code",
      "execution_count": 43,
      "metadata": {
        "id": "okiHGu90t8EY"
      },
      "outputs": [],
      "source": [
        "vif_scores_sorted = {k:v for k, v in sorted(vif_scores.items(),key=lambda item:item[1], reverse = True)}"
      ]
    },
    {
      "cell_type": "code",
      "execution_count": 44,
      "metadata": {
        "colab": {
          "base_uri": "https://localhost:8080/"
        },
        "id": "jMLz2pwKw2SC",
        "outputId": "7e5f66bd-7127-42dd-e92e-0f3191f8b321"
      },
      "outputs": [
        {
          "output_type": "execute_result",
          "data": {
            "text/plain": [
              "{'TIT': 121734.40451561549,\n",
              " 'TAT': 63794.72222418256,\n",
              " 'AP': 28307.64508797133,\n",
              " 'CDP': 27875.950114991723,\n",
              " 'TEY': 13827.838631867879,\n",
              " 'GTEP': 1057.1442758291464,\n",
              " 'AFDP': 67.3993997468524,\n",
              " 'AT': 46.86457466862405,\n",
              " 'AH': 46.00271067397057}"
            ]
          },
          "metadata": {},
          "execution_count": 44
        }
      ],
      "source": [
        "vif_scores_sorted"
      ]
    },
    {
      "cell_type": "code",
      "execution_count": 45,
      "metadata": {
        "id": "4E4rqljNw8NJ"
      },
      "outputs": [],
      "source": [
        "# X_1.columns.drop('TIT')"
      ]
    },
    {
      "cell_type": "markdown",
      "metadata": {
        "id": "wHpeTNOxa7o9"
      },
      "source": [
        "#### Defining functions to select variables with lowest VIF"
      ]
    },
    {
      "cell_type": "code",
      "execution_count": 46,
      "metadata": {
        "id": "wE09NVRqxOPM"
      },
      "outputs": [],
      "source": [
        "def var_selection_vif(data_exog: pd.DataFrame, th: int=5):\n",
        "  # Explanation:\n",
        "  # vif_scores calculates vif for dataframe passed for each variable and put it into a dictionary\n",
        "  # k iterates over columns (string), v iterates over vif value for variable.\n",
        "  # Note, zip creates tuples, so iterating over list of tuples\n",
        "\n",
        "  # data_exog.values is an array containing features on which linear regression is performed\n",
        "  # i is index of additional feature whose influence on the other features is to be measured.\n",
        "\n",
        "  vif_scores = {k: v for k, v in zip(data_exog.columns,\n",
        "                                     [variance_inflation_factor(data_exog.values,i)\\\n",
        "                                      for i in range(len(data_exog.columns))])}\n",
        "                                      \n",
        "  # New dictionary with sorted values from vif_scores dictionary created above\n",
        "  vif_scores_sorted = {k:v for k, v in sorted(vif_scores.items(),\n",
        "                                            key=lambda item:item[1],\n",
        "                                            reverse = True)}\n",
        "  # Passing threshold parameter, default value 5, removing variables with higher threshold\n",
        "  if vif_scores_sorted[list(vif_scores_sorted.keys())[0]]>th:\n",
        "    vars = data_exog.columns.drop(list(vif_scores_sorted.keys())[0])\n",
        "    return (data_exog[vars], vif_scores_sorted)\n",
        "  else:\n",
        "    return(data_exog, vif_scores_sorted)"
      ]
    },
    {
      "cell_type": "code",
      "execution_count": 47,
      "metadata": {
        "colab": {
          "base_uri": "https://localhost:8080/"
        },
        "id": "pXC2HQ7d1COY",
        "outputId": "ecca5e45-444b-4fbd-ccac-dcad417c2e82"
      },
      "outputs": [
        {
          "output_type": "stream",
          "name": "stdout",
          "text": [
            "{'TIT': 121734.40451561549, 'TAT': 63794.72222418256, 'AP': 28307.64508797133, 'CDP': 27875.950114991723, 'TEY': 13827.838631867879, 'GTEP': 1057.1442758291464, 'AFDP': 67.3993997468524, 'AT': 46.86457466862405, 'AH': 46.00271067397057}\n",
            "{'CDP': 26213.793293308318, 'AP': 25132.999808507677, 'TAT': 16654.669880172027, 'TEY': 12389.760061720457, 'GTEP': 998.8772137798093, 'AFDP': 64.11990672897241, 'AH': 45.076480065618966, 'AT': 42.38049924200662}\n",
            "{'AP': 10427.885813072946, 'TAT': 10285.376502461655, 'TEY': 1652.4813561896851, 'GTEP': 881.4367428504926, 'AFDP': 63.55045455859313, 'AH': 44.157242132533455, 'AT': 18.663482430935414}\n",
            "{'TEY': 1633.9781998684982, 'GTEP': 820.2615455119885, 'TAT': 273.0289962365141, 'AFDP': 61.77791042516804, 'AH': 43.633800292642555, 'AT': 14.028633028570969}\n",
            "{'TAT': 117.53107832474556, 'GTEP': 75.85442546047754, 'AFDP': 57.56605380964737, 'AH': 43.38510835859359, 'AT': 10.44256264426581}\n",
            "{'AFDP': 56.88593015304628, 'GTEP': 54.566599149677266, 'AH': 14.490126431591, 'AT': 6.954100711295353}\n",
            "{'GTEP': 19.919363834268736, 'AH': 13.954846421857894, 'AT': 6.041180227940001}\n",
            "{'AH': 4.218225878943134, 'AT': 4.218225878943132}\n"
          ]
        }
      ],
      "source": [
        "# X_1 copy of data\n",
        "n_old = len(X_1.columns)\n",
        "n_new = 0\n",
        "\n",
        "# Run loop till all variables are dropped or no more variables are being dropped due to being under the threshold passed.\n",
        "while n_old != n_new:\n",
        "  X_1, vif = var_selection_vif(X_1)\n",
        "  print(vif)\n",
        "  n = len(X_1.columns)\n",
        "  n_old = n_new\n",
        "  n_new= n"
      ]
    },
    {
      "cell_type": "markdown",
      "metadata": {
        "id": "wYOhnvhLamzZ"
      },
      "source": [
        "### Regression with variables having appropriate VIF"
      ]
    },
    {
      "cell_type": "code",
      "execution_count": 48,
      "metadata": {
        "colab": {
          "base_uri": "https://localhost:8080/"
        },
        "id": "yr3nkLowavsu",
        "outputId": "060d08b1-e538-4588-b8dd-7113dee946dc"
      },
      "outputs": [
        {
          "output_type": "stream",
          "name": "stdout",
          "text": [
            "                            OLS Regression Results                            \n",
            "==============================================================================\n",
            "Dep. Variable:                     CO   R-squared:                       0.033\n",
            "Model:                            OLS   Adj. R-squared:                  0.033\n",
            "Method:                 Least Squares   F-statistic:                     614.8\n",
            "Date:                Thu, 16 Feb 2023   Prob (F-statistic):          3.03e-263\n",
            "Time:                        16:58:48   Log-Likelihood:                -77956.\n",
            "No. Observations:               35770   AIC:                         1.559e+05\n",
            "Df Residuals:                   35767   BIC:                         1.559e+05\n",
            "Df Model:                           2                                         \n",
            "Covariance Type:            nonrobust                                         \n",
            "==============================================================================\n",
            "                 coef    std err          t      P>|t|      [0.025      0.975]\n",
            "------------------------------------------------------------------------------\n",
            "Intercept      2.7753      0.089     31.036      0.000       2.600       2.951\n",
            "AT            -0.0476      0.002    -27.406      0.000      -0.051      -0.044\n",
            "AH             0.0054      0.001      6.069      0.000       0.004       0.007\n",
            "==============================================================================\n",
            "Omnibus:                    33593.422   Durbin-Watson:                   0.620\n",
            "Prob(Omnibus):                  0.000   Jarque-Bera (JB):          2933107.711\n",
            "Skew:                           4.298   Prob(JB):                         0.00\n",
            "Kurtosis:                      46.521   Cond. No.                         640.\n",
            "==============================================================================\n",
            "\n",
            "Notes:\n",
            "[1] Standard Errors assume that the covariance matrix of the errors is correctly specified.\n"
          ]
        }
      ],
      "source": [
        "r_final_co = sm.ols(formula='CO~AT+AH', \n",
        "                 data = data_no_outlier[list(X_1.columns)+['CO']])\n",
        "result_final_co = r_final_co.fit()\n",
        "print(result_final_co.summary())"
      ]
    },
    {
      "cell_type": "code",
      "execution_count": 49,
      "metadata": {
        "colab": {
          "base_uri": "https://localhost:8080/"
        },
        "id": "TQjURV92KdL2",
        "outputId": "01da729d-9c24-402c-c26f-20ee88074656"
      },
      "outputs": [
        {
          "output_type": "stream",
          "name": "stdout",
          "text": [
            "                            OLS Regression Results                            \n",
            "==============================================================================\n",
            "Dep. Variable:                    NOX   R-squared:                       0.324\n",
            "Model:                            OLS   Adj. R-squared:                  0.324\n",
            "Method:                 Least Squares   F-statistic:                     8574.\n",
            "Date:                Thu, 16 Feb 2023   Prob (F-statistic):               0.00\n",
            "Time:                        16:58:48   Log-Likelihood:            -1.3151e+05\n",
            "No. Observations:               35770   AIC:                         2.630e+05\n",
            "Df Residuals:                   35767   BIC:                         2.630e+05\n",
            "Df Model:                           2                                         \n",
            "Covariance Type:            nonrobust                                         \n",
            "==============================================================================\n",
            "                 coef    std err          t      P>|t|      [0.025      0.975]\n",
            "------------------------------------------------------------------------------\n",
            "Intercept     90.5104      0.400    226.492      0.000      89.727      91.294\n",
            "AT            -0.9703      0.008   -125.090      0.000      -0.985      -0.955\n",
            "AH            -0.1038      0.004    -25.944      0.000      -0.112      -0.096\n",
            "==============================================================================\n",
            "Omnibus:                     5163.068   Durbin-Watson:                   0.301\n",
            "Prob(Omnibus):                  0.000   Jarque-Bera (JB):            13428.258\n",
            "Skew:                           0.807   Prob(JB):                         0.00\n",
            "Kurtosis:                       5.531   Cond. No.                         640.\n",
            "==============================================================================\n",
            "\n",
            "Notes:\n",
            "[1] Standard Errors assume that the covariance matrix of the errors is correctly specified.\n"
          ]
        }
      ],
      "source": [
        "r_final_nox = sm.ols(formula='NOX~AT+AH', \n",
        "                 data = data_no_outlier[list(X_1.columns)+['NOX']])\n",
        "result_final_nox = r_final_nox.fit()\n",
        "print(result_final_nox.summary())"
      ]
    },
    {
      "cell_type": "markdown",
      "metadata": {
        "id": "TUd362MXcZ94"
      },
      "source": [
        "### Variable selection using Lasso regression coefficients"
      ]
    },
    {
      "cell_type": "code",
      "execution_count": 50,
      "metadata": {
        "id": "MXXDj1T2LKO7"
      },
      "outputs": [],
      "source": [
        "from sklearn.linear_model import Lasso"
      ]
    },
    {
      "cell_type": "code",
      "execution_count": 51,
      "metadata": {
        "colab": {
          "base_uri": "https://localhost:8080/"
        },
        "id": "9wCzsp3LLQ-c",
        "outputId": "e2d6966e-ee66-4850-bc5c-fd768e753603"
      },
      "outputs": [
        {
          "output_type": "execute_result",
          "data": {
            "text/plain": [
              "Lasso(alpha=2)"
            ]
          },
          "metadata": {},
          "execution_count": 51
        }
      ],
      "source": [
        "lasso_reg1 = Lasso(alpha=2)\n",
        "lasso_reg1.fit(X=data_no_outlier.loc[:,'AT':'CDP'],\\\n",
        "              y=data_no_outlier['CO'])"
      ]
    },
    {
      "cell_type": "code",
      "execution_count": 52,
      "metadata": {
        "id": "l-8cZmZkLn6c"
      },
      "outputs": [],
      "source": [
        "CO_vars = {k:v for k,v in zip(data_no_outlier.loc[:,'AT':'CDP'].columns, lasso_reg1.coef_)}"
      ]
    },
    {
      "cell_type": "code",
      "execution_count": 53,
      "metadata": {
        "colab": {
          "base_uri": "https://localhost:8080/"
        },
        "id": "ILa2XAxLMeB3",
        "outputId": "95a9e848-cd35-4c01-9880-7ea684595fbf"
      },
      "outputs": [
        {
          "output_type": "execute_result",
          "data": {
            "text/plain": [
              "0.5374513201552922"
            ]
          },
          "metadata": {},
          "execution_count": 53
        }
      ],
      "source": [
        "lasso_reg1.score(X=data_no_outlier.loc[:,'AT':'CDP'],\\\n",
        "              y=data_no_outlier['CO'])"
      ]
    },
    {
      "cell_type": "code",
      "execution_count": 54,
      "metadata": {
        "colab": {
          "base_uri": "https://localhost:8080/"
        },
        "id": "euASmdGrc2v6",
        "outputId": "8c6e1cb0-61c0-43c6-e21e-0960a6b069fd"
      },
      "outputs": [
        {
          "output_type": "execute_result",
          "data": {
            "text/plain": [
              "Lasso(alpha=2)"
            ]
          },
          "metadata": {},
          "execution_count": 54
        }
      ],
      "source": [
        "lasso_reg2 = Lasso(alpha=2)\n",
        "lasso_reg2.fit(X=data_no_outlier.loc[:,'AT':'CDP'],\\\n",
        "               y=data_no_outlier['NOX'])"
      ]
    },
    {
      "cell_type": "code",
      "execution_count": 55,
      "metadata": {
        "id": "gVeWQXH3c2tP"
      },
      "outputs": [],
      "source": [
        "NOx_vars = {k:v for k,v in zip(data_no_outlier.loc[:,'AT':'CDP'].columns, lasso_reg2.coef_)}"
      ]
    },
    {
      "cell_type": "code",
      "execution_count": 56,
      "metadata": {
        "colab": {
          "base_uri": "https://localhost:8080/"
        },
        "id": "roCmYxfxc2qo",
        "outputId": "d027fa7a-14ac-48dc-ca4e-4cdddfdb342b"
      },
      "outputs": [
        {
          "output_type": "execute_result",
          "data": {
            "text/plain": [
              "0.46343430445271516"
            ]
          },
          "metadata": {},
          "execution_count": 56
        }
      ],
      "source": [
        "lasso_reg2.score(X=data_no_outlier.loc[:,'AT':'CDP'],\\\n",
        "                 y=data_no_outlier['NOX'])"
      ]
    },
    {
      "cell_type": "markdown",
      "metadata": {
        "id": "EDk7pxLQcQat"
      },
      "source": [
        "### Analysis of errors"
      ]
    },
    {
      "cell_type": "code",
      "execution_count": 57,
      "metadata": {
        "colab": {
          "base_uri": "https://localhost:8080/",
          "height": 54
        },
        "id": "JYacc1mjMwUK",
        "outputId": "e67caf74-b7dd-47f1-8947-414014064140"
      },
      "outputs": [
        {
          "output_type": "display_data",
          "data": {
            "text/plain": [
              "<Figure size 360x360 with 1 Axes>"
            ],
            "image/png": "[encoded data removed]"
          },
          "metadata": {
            "needs_background": "light"
          }
        }
      ],
      "source": [
        "errors1 = data_no_outlier['CO'] - lasso_reg1.predict(data_no_outlier.loc[:,'AT':'CDP'])\n",
        "d1=sns.displot(errors1)\n",
        "plt.savefig('error-plot-CO.png')"
      ]
    },
    {
      "cell_type": "code",
      "execution_count": 58,
      "metadata": {
        "colab": {
          "base_uri": "https://localhost:8080/",
          "height": 54
        },
        "id": "x1Ja_03ydlVv",
        "outputId": "3af68fb6-b963-4ed8-e5cc-a28244e3f403"
      },
      "outputs": [
        {
          "output_type": "display_data",
          "data": {
            "text/plain": [
              "<Figure size 360x360 with 1 Axes>"
            ],
            "image/png": "[encoded data removed]"
          },
          "metadata": {
            "needs_background": "light"
          }
        }
      ],
      "source": [
        "errors2 = data_no_outlier['NOX'] - lasso_reg2.predict(data_no_outlier.loc[:,'AT':'CDP'])\n",
        "d2=sns.displot(errors2)\n",
        "plt.savefig('error-plot-NOx.png')"
      ]
    },
    {
      "cell_type": "code",
      "execution_count": 59,
      "metadata": {
        "id": "_gU7uDjyQGU2"
      },
      "outputs": [],
      "source": [
        "import statsmodels.api as smf"
      ]
    },
    {
      "cell_type": "code",
      "execution_count": 60,
      "metadata": {
        "colab": {
          "base_uri": "https://localhost:8080/",
          "height": 159
        },
        "id": "qSfT_VUDQ_fi",
        "outputId": "e2707a0f-961a-4d17-d8ba-e3431a5d9e43"
      },
      "outputs": [
        {
          "output_type": "display_data",
          "data": {
            "text/plain": [
              "<Figure size 432x288 with 1 Axes>"
            ],
            "image/png": "[encoded data removed]"
          },
          "metadata": {
            "needs_background": "light"
          }
        },
        {
          "output_type": "display_data",
          "data": {
            "text/plain": [
              "<Figure size 432x288 with 0 Axes>"
            ]
          },
          "metadata": {}
        }
      ],
      "source": [
        "smf.qqplot(errors1)\n",
        "plt.show()\n",
        "plt.savefig('error-dist-CO.png')"
      ]
    },
    {
      "cell_type": "code",
      "execution_count": 61,
      "metadata": {
        "colab": {
          "base_uri": "https://localhost:8080/",
          "height": 159
        },
        "id": "lM2WO26deMXA",
        "outputId": "ebf4fff3-f92a-4ee2-bfab-116599ac922e"
      },
      "outputs": [
        {
          "output_type": "display_data",
          "data": {
            "text/plain": [
              "<Figure size 432x288 with 1 Axes>"
            ],
            "image/png": "[encoded data removed]"
          },
          "metadata": {
            "needs_background": "light"
          }
        },
        {
          "output_type": "display_data",
          "data": {
            "text/plain": [
              "<Figure size 432x288 with 0 Axes>"
            ]
          },
          "metadata": {}
        }
      ],
      "source": [
        "smf.qqplot(errors2)\n",
        "plt.show()\n",
        "plt.savefig('error-dist-NOx.png')"
      ]
    },
    {
      "cell_type": "markdown",
      "metadata": {
        "id": "kdwMMjxlcjIk"
      },
      "source": [
        "### Multiple Linear Regression with relevant variables"
      ]
    },
    {
      "cell_type": "code",
      "execution_count": 62,
      "metadata": {
        "colab": {
          "base_uri": "https://localhost:8080/"
        },
        "id": "AhiVBde8eY3s",
        "outputId": "e6aa6204-906c-4f12-e9f2-13b7bd8683fa"
      },
      "outputs": [
        {
          "output_type": "stream",
          "name": "stdout",
          "text": [
            "                            OLS Regression Results                            \n",
            "==============================================================================\n",
            "Dep. Variable:                     CO   R-squared:                       0.556\n",
            "Model:                            OLS   Adj. R-squared:                  0.555\n",
            "Method:                 Least Squares   F-statistic:                 1.148e+04\n",
            "Date:                Thu, 16 Feb 2023   Prob (F-statistic):               0.00\n",
            "Time:                        16:58:51   Log-Likelihood:                -67223.\n",
            "No. Observations:               36733   AIC:                         1.345e+05\n",
            "Df Residuals:                   36728   BIC:                         1.345e+05\n",
            "Df Model:                           4                                         \n",
            "Covariance Type:            nonrobust                                         \n",
            "==============================================================================\n",
            "                 coef    std err          t      P>|t|      [0.025      0.975]\n",
            "------------------------------------------------------------------------------\n",
            "Intercept    164.5889      1.100    149.691      0.000     162.434     166.744\n",
            "AT             0.0065      0.001      4.956      0.000       0.004       0.009\n",
            "AH            -0.0093      0.001    -14.755      0.000      -0.011      -0.008\n",
            "TIT           -0.1061      0.001   -205.794      0.000      -0.107      -0.105\n",
            "TAT           -0.0858      0.001    -63.049      0.000      -0.088      -0.083\n",
            "==============================================================================\n",
            "Omnibus:                    48025.143   Durbin-Watson:                   0.889\n",
            "Prob(Omnibus):                  0.000   Jarque-Bera (JB):         22487507.794\n",
            "Skew:                           7.033   Prob(JB):                         0.00\n",
            "Kurtosis:                     123.394   Cond. No.                     1.70e+05\n",
            "==============================================================================\n",
            "\n",
            "Notes:\n",
            "[1] Standard Errors assume that the covariance matrix of the errors is correctly specified.\n",
            "[2] The condition number is large, 1.7e+05. This might indicate that there are\n",
            "strong multicollinearity or other numerical problems.\n"
          ]
        }
      ],
      "source": [
        "r_co_final_combined = sm.ols(formula='CO~AT+AH+TIT+TAT',\\\n",
        "                             data = data[['AT','AP','AH','TIT','TAT']+['CO']])\n",
        "result_co = r_co_final_combined.fit()\n",
        "print(result_co.summary())"
      ]
    },
    {
      "cell_type": "code",
      "execution_count": 63,
      "metadata": {
        "colab": {
          "base_uri": "https://localhost:8080/"
        },
        "id": "rrMGFTlqRl9v",
        "outputId": "0c61291e-90e1-413b-bc81-7a700323d8cd"
      },
      "outputs": [
        {
          "output_type": "stream",
          "name": "stdout",
          "text": [
            "                            OLS Regression Results                            \n",
            "==============================================================================\n",
            "Dep. Variable:                    NOX   R-squared:                       0.517\n",
            "Model:                            OLS   Adj. R-squared:                  0.517\n",
            "Method:                 Least Squares   F-statistic:                     6546.\n",
            "Date:                Thu, 16 Feb 2023   Prob (F-statistic):               0.00\n",
            "Time:                        16:58:51   Log-Likelihood:            -1.2904e+05\n",
            "No. Observations:               36733   AIC:                         2.581e+05\n",
            "Df Residuals:                   36726   BIC:                         2.582e+05\n",
            "Df Model:                           6                                         \n",
            "Covariance Type:            nonrobust                                         \n",
            "==============================================================================\n",
            "                 coef    std err          t      P>|t|      [0.025      0.975]\n",
            "------------------------------------------------------------------------------\n",
            "Intercept    -83.1243     10.420     -7.978      0.000    -103.547     -62.701\n",
            "AT            -1.7945      0.010   -174.485      0.000      -1.815      -1.774\n",
            "AP            -0.2419      0.008    -32.171      0.000      -0.257      -0.227\n",
            "AH            -0.2174      0.004    -60.970      0.000      -0.224      -0.210\n",
            "TIT            1.4467      0.014    105.278      0.000       1.420       1.474\n",
            "TAT           -1.5370      0.016    -96.666      0.000      -1.568      -1.506\n",
            "TEY           -2.1188      0.019   -113.363      0.000      -2.155      -2.082\n",
            "==============================================================================\n",
            "Omnibus:                     7100.246   Durbin-Watson:                   0.374\n",
            "Prob(Omnibus):                  0.000   Jarque-Bera (JB):            24481.310\n",
            "Skew:                           0.963   Prob(JB):                         0.00\n",
            "Kurtosis:                       6.505   Cond. No.                     3.90e+05\n",
            "==============================================================================\n",
            "\n",
            "Notes:\n",
            "[1] Standard Errors assume that the covariance matrix of the errors is correctly specified.\n",
            "[2] The condition number is large, 3.9e+05. This might indicate that there are\n",
            "strong multicollinearity or other numerical problems.\n"
          ]
        }
      ],
      "source": [
        "r_nox_final_combined = sm.ols(formula='NOX~AT+AP+AH+TIT+TAT+TEY',\\\n",
        "                              data = data[['AT','AP','AH','TIT','TAT','TEY']+['NOX']])\n",
        "result_nox = r_nox_final_combined.fit()\n",
        "print(result_nox.summary())"
      ]
    },
    {
      "cell_type": "markdown",
      "metadata": {
        "id": "wKa7q8YhfPLx"
      },
      "source": [
        "### Cook's Distance"
      ]
    },
    {
      "cell_type": "code",
      "execution_count": 64,
      "metadata": {
        "id": "w_M_qv4KTsLf"
      },
      "outputs": [],
      "source": [
        "#cook's distnace tells the change in model when a single datapoint is dropped"
      ]
    },
    {
      "cell_type": "code",
      "execution_count": 65,
      "metadata": {
        "id": "atxZqj3MT2wi"
      },
      "outputs": [],
      "source": [
        "from statsmodels.stats.outliers_influence import OLSInfluence as influence"
      ]
    },
    {
      "cell_type": "code",
      "execution_count": 66,
      "metadata": {
        "id": "_FYsJxLRVKc0"
      },
      "outputs": [],
      "source": [
        "inf1 = influence(result_co)"
      ]
    },
    {
      "cell_type": "code",
      "execution_count": 67,
      "metadata": {
        "id": "WiI2HfM8r5mH"
      },
      "outputs": [],
      "source": [
        "inf2 = influence(result_nox)"
      ]
    },
    {
      "cell_type": "code",
      "execution_count": 68,
      "metadata": {
        "colab": {
          "base_uri": "https://localhost:8080/"
        },
        "id": "RmUGm9frVRnr",
        "outputId": "6a7476e4-59ce-4754-eeb0-d8f6f646afc8"
      },
      "outputs": [
        {
          "output_type": "execute_result",
          "data": {
            "text/plain": [
              "(0       0.000020\n",
              " 1       0.000016\n",
              " 2       0.000015\n",
              " 3       0.000023\n",
              " 4       0.000024\n",
              "           ...   \n",
              " 7379    0.000378\n",
              " 7380    0.000412\n",
              " 7381    0.000463\n",
              " 7382    0.000013\n",
              " 7383    0.000737\n",
              " Length: 36733, dtype: float64,\n",
              " array([1.        , 1.        , 1.        , ..., 0.99999999, 1.        ,\n",
              "        0.99999996]))"
            ]
          },
          "metadata": {},
          "execution_count": 68
        }
      ],
      "source": [
        "inf1.cooks_distance"
      ]
    },
    {
      "cell_type": "code",
      "execution_count": 69,
      "metadata": {
        "colab": {
          "base_uri": "https://localhost:8080/"
        },
        "id": "QQLyIIxDr-MO",
        "outputId": "48e92857-a7e2-4e7c-e9ba-4031cb653847"
      },
      "outputs": [
        {
          "output_type": "execute_result",
          "data": {
            "text/plain": [
              "(0       5.465794e-06\n",
              " 1       4.153554e-06\n",
              " 2       9.388358e-07\n",
              " 3       5.122620e-06\n",
              " 4       8.282686e-06\n",
              "             ...     \n",
              " 7379    1.089896e-04\n",
              " 7380    1.152904e-04\n",
              " 7381    3.589406e-04\n",
              " 7382    2.392390e-05\n",
              " 7383    7.031486e-04\n",
              " Length: 36733, dtype: float64, array([1., 1., 1., ..., 1., 1., 1.]))"
            ]
          },
          "metadata": {},
          "execution_count": 69
        }
      ],
      "source": [
        "inf2.cooks_distance"
      ]
    },
    {
      "cell_type": "code",
      "execution_count": 70,
      "metadata": {
        "colab": {
          "base_uri": "https://localhost:8080/"
        },
        "id": "ycxfrzdm1KUu",
        "outputId": "fb3cef21-39b2-4214-dff8-0e21864a4242"
      },
      "outputs": [
        {
          "output_type": "stream",
          "name": "stdout",
          "text": [
            "2023-02-16 22:28:52.084258+05:30\n"
          ]
        }
      ],
      "source": [
        "print(datetime.now(pytz.timezone('Asia/Kolkata')))"
      ]
    },
    {
      "cell_type": "code",
      "execution_count": 71,
      "metadata": {
        "id": "r0AcjwSsVbYH",
        "colab": {
          "base_uri": "https://localhost:8080/",
          "height": 488
        },
        "outputId": "8badb7d0-134f-4b12-a1c5-cdea52726808"
      },
      "outputs": [
        {
          "output_type": "execute_result",
          "data": {
            "text/plain": [
              "      dfb_Intercept    dfb_AT    dfb_AH   dfb_TIT   dfb_TAT   cooks_d  \\\n",
              "0          0.005980  0.008678  0.002303 -0.004446 -0.005974  0.000149   \n",
              "0          0.000235  0.003484 -0.001629  0.002011 -0.001894  0.000149   \n",
              "0          0.021153  0.000368  0.002442 -0.022707 -0.014332  0.000149   \n",
              "0          0.001781  0.003459 -0.003887  0.000533 -0.002935  0.000149   \n",
              "0          0.005636 -0.010066 -0.004610 -0.008810 -0.001047  0.000149   \n",
              "...             ...       ...       ...       ...       ...       ...   \n",
              "7601       0.030612  0.005149  0.005950 -0.030068 -0.023175  0.000258   \n",
              "7602       0.055007  0.010858  0.010149 -0.052491 -0.042835  0.000781   \n",
              "7603       0.039793  0.006049  0.007193 -0.039379 -0.029849  0.000440   \n",
              "7606       0.032060  0.003447  0.005516 -0.032533 -0.023365  0.000305   \n",
              "7607       0.019309 -0.000569  0.003303 -0.021708 -0.012370  0.000147   \n",
              "\n",
              "      standard_resid  hat_diag  dffits_internal  student_resid    dffits  \n",
              "0           1.791506  0.000233         0.027332       1.791560  0.027333  \n",
              "0           1.791506  0.000233         0.027332       1.791560  0.027333  \n",
              "0           1.791506  0.000233         0.027332       1.791560  0.027333  \n",
              "0           1.791506  0.000233         0.027332       1.791560  0.027333  \n",
              "0           1.791506  0.000233         0.027332       1.791560  0.027333  \n",
              "...              ...       ...              ...            ...       ...  \n",
              "7601        1.931540  0.000345         0.035888       1.931612  0.035890  \n",
              "7602        3.067947  0.000414         0.062473       3.068299  0.062480  \n",
              "7603        2.559794  0.000336         0.046900       2.559987  0.046903  \n",
              "7606        2.335162  0.000280         0.039081       2.335304  0.039084  \n",
              "7607        1.968226  0.000189         0.027080       1.968303  0.027081  \n",
              "\n",
              "[6361 rows x 11 columns]"
            ],
            "text/html": [
              "\n",
              "  <div id=\"df-29f58526-4788-40f9-aa64-a7702555fb28\">\n",
              "    <div class=\"colab-df-container\">\n",
              "      <div>\n",
              "<style scoped>\n",
              "    .dataframe tbody tr th:only-of-type {\n",
              "        vertical-align: middle;\n",
              "    }\n",
              "\n",
              "    .dataframe tbody tr th {\n",
              "        vertical-align: top;\n",
              "    }\n",
              "\n",
              "    .dataframe thead th {\n",
              "        text-align: right;\n",
              "    }\n",
              "</style>\n",
              "<table border=\"1\" class=\"dataframe\">\n",
              "  <thead>\n",
              "    <tr style=\"text-align: right;\">\n",
              "      <th></th>\n",
              "      <th>dfb_Intercept</th>\n",
              "      <th>dfb_AT</th>\n",
              "      <th>dfb_AH</th>\n",
              "      <th>dfb_TIT</th>\n",
              "      <th>dfb_TAT</th>\n",
              "      <th>cooks_d</th>\n",
              "      <th>standard_resid</th>\n",
              "      <th>hat_diag</th>\n",
              "      <th>dffits_internal</th>\n",
              "      <th>student_resid</th>\n",
              "      <th>dffits</th>\n",
              "    </tr>\n",
              "  </thead>\n",
              "  <tbody>\n",
              "    <tr>\n",
              "      <th>0</th>\n",
              "      <td>0.005980</td>\n",
              "      <td>0.008678</td>\n",
              "      <td>0.002303</td>\n",
              "      <td>-0.004446</td>\n",
              "      <td>-0.005974</td>\n",
              "      <td>0.000149</td>\n",
              "      <td>1.791506</td>\n",
              "      <td>0.000233</td>\n",
              "      <td>0.027332</td>\n",
              "      <td>1.791560</td>\n",
              "      <td>0.027333</td>\n",
              "    </tr>\n",
              "    <tr>\n",
              "      <th>0</th>\n",
              "      <td>0.000235</td>\n",
              "      <td>0.003484</td>\n",
              "      <td>-0.001629</td>\n",
              "      <td>0.002011</td>\n",
              "      <td>-0.001894</td>\n",
              "      <td>0.000149</td>\n",
              "      <td>1.791506</td>\n",
              "      <td>0.000233</td>\n",
              "      <td>0.027332</td>\n",
              "      <td>1.791560</td>\n",
              "      <td>0.027333</td>\n",
              "    </tr>\n",
              "    <tr>\n",
              "      <th>0</th>\n",
              "      <td>0.021153</td>\n",
              "      <td>0.000368</td>\n",
              "      <td>0.002442</td>\n",
              "      <td>-0.022707</td>\n",
              "      <td>-0.014332</td>\n",
              "      <td>0.000149</td>\n",
              "      <td>1.791506</td>\n",
              "      <td>0.000233</td>\n",
              "      <td>0.027332</td>\n",
              "      <td>1.791560</td>\n",
              "      <td>0.027333</td>\n",
              "    </tr>\n",
              "    <tr>\n",
              "      <th>0</th>\n",
              "      <td>0.001781</td>\n",
              "      <td>0.003459</td>\n",
              "      <td>-0.003887</td>\n",
              "      <td>0.000533</td>\n",
              "      <td>-0.002935</td>\n",
              "      <td>0.000149</td>\n",
              "      <td>1.791506</td>\n",
              "      <td>0.000233</td>\n",
              "      <td>0.027332</td>\n",
              "      <td>1.791560</td>\n",
              "      <td>0.027333</td>\n",
              "    </tr>\n",
              "    <tr>\n",
              "      <th>0</th>\n",
              "      <td>0.005636</td>\n",
              "      <td>-0.010066</td>\n",
              "      <td>-0.004610</td>\n",
              "      <td>-0.008810</td>\n",
              "      <td>-0.001047</td>\n",
              "      <td>0.000149</td>\n",
              "      <td>1.791506</td>\n",
              "      <td>0.000233</td>\n",
              "      <td>0.027332</td>\n",
              "      <td>1.791560</td>\n",
              "      <td>0.027333</td>\n",
              "    </tr>\n",
              "    <tr>\n",
              "      <th>...</th>\n",
              "      <td>...</td>\n",
              "      <td>...</td>\n",
              "      <td>...</td>\n",
              "      <td>...</td>\n",
              "      <td>...</td>\n",
              "      <td>...</td>\n",
              "      <td>...</td>\n",
              "      <td>...</td>\n",
              "      <td>...</td>\n",
              "      <td>...</td>\n",
              "      <td>...</td>\n",
              "    </tr>\n",
              "    <tr>\n",
              "      <th>7601</th>\n",
              "      <td>0.030612</td>\n",
              "      <td>0.005149</td>\n",
              "      <td>0.005950</td>\n",
              "      <td>-0.030068</td>\n",
              "      <td>-0.023175</td>\n",
              "      <td>0.000258</td>\n",
              "      <td>1.931540</td>\n",
              "      <td>0.000345</td>\n",
              "      <td>0.035888</td>\n",
              "      <td>1.931612</td>\n",
              "      <td>0.035890</td>\n",
              "    </tr>\n",
              "    <tr>\n",
              "      <th>7602</th>\n",
              "      <td>0.055007</td>\n",
              "      <td>0.010858</td>\n",
              "      <td>0.010149</td>\n",
              "      <td>-0.052491</td>\n",
              "      <td>-0.042835</td>\n",
              "      <td>0.000781</td>\n",
              "      <td>3.067947</td>\n",
              "      <td>0.000414</td>\n",
              "      <td>0.062473</td>\n",
              "      <td>3.068299</td>\n",
              "      <td>0.062480</td>\n",
              "    </tr>\n",
              "    <tr>\n",
              "      <th>7603</th>\n",
              "      <td>0.039793</td>\n",
              "      <td>0.006049</td>\n",
              "      <td>0.007193</td>\n",
              "      <td>-0.039379</td>\n",
              "      <td>-0.029849</td>\n",
              "      <td>0.000440</td>\n",
              "      <td>2.559794</td>\n",
              "      <td>0.000336</td>\n",
              "      <td>0.046900</td>\n",
              "      <td>2.559987</td>\n",
              "      <td>0.046903</td>\n",
              "    </tr>\n",
              "    <tr>\n",
              "      <th>7606</th>\n",
              "      <td>0.032060</td>\n",
              "      <td>0.003447</td>\n",
              "      <td>0.005516</td>\n",
              "      <td>-0.032533</td>\n",
              "      <td>-0.023365</td>\n",
              "      <td>0.000305</td>\n",
              "      <td>2.335162</td>\n",
              "      <td>0.000280</td>\n",
              "      <td>0.039081</td>\n",
              "      <td>2.335304</td>\n",
              "      <td>0.039084</td>\n",
              "    </tr>\n",
              "    <tr>\n",
              "      <th>7607</th>\n",
              "      <td>0.019309</td>\n",
              "      <td>-0.000569</td>\n",
              "      <td>0.003303</td>\n",
              "      <td>-0.021708</td>\n",
              "      <td>-0.012370</td>\n",
              "      <td>0.000147</td>\n",
              "      <td>1.968226</td>\n",
              "      <td>0.000189</td>\n",
              "      <td>0.027080</td>\n",
              "      <td>1.968303</td>\n",
              "      <td>0.027081</td>\n",
              "    </tr>\n",
              "  </tbody>\n",
              "</table>\n",
              "<p>6361 rows × 11 columns</p>\n",
              "</div>\n",
              "      <button class=\"colab-df-convert\" onclick=\"convertToInteractive('df-29f58526-4788-40f9-aa64-a7702555fb28')\"\n",
              "              title=\"Convert this dataframe to an interactive table.\"\n",
              "              style=\"display:none;\">\n",
              "        \n",
              "  <svg xmlns=\"http://www.w3.org/2000/svg\" height=\"24px\"viewBox=\"0 0 24 24\"\n",
              "       width=\"24px\">\n",
              "    <path d=\"M0 0h24v24H0V0z\" fill=\"none\"/>\n",
              "    <path d=\"M18.56 5.44l.94 2.06.94-2.06 2.06-.94-2.06-.94-.94-2.06-.94 2.06-2.06.94zm-11 1L8.5 8.5l.94-2.06 2.06-.94-2.06-.94L8.5 2.5l-.94 2.06-2.06.94zm10 10l.94 2.06.94-2.06 2.06-.94-2.06-.94-.94-2.06-.94 2.06-2.06.94z\"/><path d=\"M17.41 7.96l-1.37-1.37c-.4-.4-.92-.59-1.43-.59-.52 0-1.04.2-1.43.59L10.3 9.45l-7.72 7.72c-.78.78-.78 2.05 0 2.83L4 21.41c.39.39.9.59 1.41.59.51 0 1.02-.2 1.41-.59l7.78-7.78 2.81-2.81c.8-.78.8-2.07 0-2.86zM5.41 20L4 18.59l7.72-7.72 1.47 1.35L5.41 20z\"/>\n",
              "  </svg>\n",
              "      </button>\n",
              "      \n",
              "  <style>\n",
              "    .colab-df-container {\n",
              "      display:flex;\n",
              "      flex-wrap:wrap;\n",
              "      gap: 12px;\n",
              "    }\n",
              "\n",
              "    .colab-df-convert {\n",
              "      background-color: #E8F0FE;\n",
              "      border: none;\n",
              "      border-radius: 50%;\n",
              "      cursor: pointer;\n",
              "      display: none;\n",
              "      fill: #1967D2;\n",
              "      height: 32px;\n",
              "      padding: 0 0 0 0;\n",
              "      width: 32px;\n",
              "    }\n",
              "\n",
              "    .colab-df-convert:hover {\n",
              "      background-color: #E2EBFA;\n",
              "      box-shadow: 0px 1px 2px rgba(60, 64, 67, 0.3), 0px 1px 3px 1px rgba(60, 64, 67, 0.15);\n",
              "      fill: #174EA6;\n",
              "    }\n",
              "\n",
              "    [theme=dark] .colab-df-convert {\n",
              "      background-color: #3B4455;\n",
              "      fill: #D2E3FC;\n",
              "    }\n",
              "\n",
              "    [theme=dark] .colab-df-convert:hover {\n",
              "      background-color: #434B5C;\n",
              "      box-shadow: 0px 1px 3px 1px rgba(0, 0, 0, 0.15);\n",
              "      filter: drop-shadow(0px 1px 2px rgba(0, 0, 0, 0.3));\n",
              "      fill: #FFFFFF;\n",
              "    }\n",
              "  </style>\n",
              "\n",
              "      <script>\n",
              "        const buttonEl =\n",
              "          document.querySelector('#df-29f58526-4788-40f9-aa64-a7702555fb28 button.colab-df-convert');\n",
              "        buttonEl.style.display =\n",
              "          google.colab.kernel.accessAllowed ? 'block' : 'none';\n",
              "\n",
              "        async function convertToInteractive(key) {\n",
              "          const element = document.querySelector('#df-29f58526-4788-40f9-aa64-a7702555fb28');\n",
              "          const dataTable =\n",
              "            await google.colab.kernel.invokeFunction('convertToInteractive',\n",
              "                                                     [key], {});\n",
              "          if (!dataTable) return;\n",
              "\n",
              "          const docLinkHtml = 'Like what you see? Visit the ' +\n",
              "            '<a target=\"_blank\" href=https://colab.research.google.com/notebooks/data_table.ipynb>data table notebook</a>'\n",
              "            + ' to learn more about interactive tables.';\n",
              "          element.innerHTML = '';\n",
              "          dataTable['output_type'] = 'display_data';\n",
              "          await google.colab.output.renderOutput(dataTable, element);\n",
              "          const docLink = document.createElement('div');\n",
              "          docLink.innerHTML = docLinkHtml;\n",
              "          element.appendChild(docLink);\n",
              "        }\n",
              "      </script>\n",
              "    </div>\n",
              "  </div>\n",
              "  "
            ]
          },
          "metadata": {},
          "execution_count": 71
        }
      ],
      "source": [
        "# 4/n is a 'rule of thumb' threshold\n",
        "\n",
        "inf1.summary_frame()[inf1.summary_frame()['cooks_d']>=4/36733]"
      ]
    },
    {
      "cell_type": "code",
      "execution_count": 72,
      "metadata": {
        "id": "yYxR4sgX1K9l",
        "colab": {
          "base_uri": "https://localhost:8080/"
        },
        "outputId": "602778f5-f666-4bc2-9a6e-96efbd6a664f"
      },
      "outputs": [
        {
          "output_type": "stream",
          "name": "stdout",
          "text": [
            "2023-02-16 22:35:43.219138+05:30\n"
          ]
        }
      ],
      "source": [
        "print(datetime.now(pytz.timezone('Asia/Kolkata')))"
      ]
    },
    {
      "cell_type": "code",
      "execution_count": 73,
      "metadata": {
        "id": "mppjFg1bsAYr",
        "colab": {
          "base_uri": "https://localhost:8080/",
          "height": 488
        },
        "outputId": "419d42b3-7741-4485-9283-94fc65b0a8eb"
      },
      "outputs": [
        {
          "output_type": "execute_result",
          "data": {
            "text/plain": [
              "      dfb_Intercept    dfb_AT    dfb_AP    dfb_AH   dfb_TIT   dfb_TAT  \\\n",
              "0          0.002973  0.005147  0.000155  0.001673 -0.003622  0.001399   \n",
              "0          0.002973  0.005147  0.000155  0.001673 -0.003622  0.001399   \n",
              "0         -0.000317  0.001301  0.000936  0.000085 -0.000842  0.000699   \n",
              "0         -0.000317  0.001301  0.000936  0.000085 -0.000842  0.000699   \n",
              "0          0.005380 -0.004140  0.008635  0.003556  0.005256 -0.019551   \n",
              "...             ...       ...       ...       ...       ...       ...   \n",
              "7589       0.004235 -0.005383  0.002524  0.005356  0.006064 -0.014635   \n",
              "7601       0.007377  0.003624  0.013945  0.009115  0.000934 -0.020494   \n",
              "7602       0.010733  0.005306  0.015806  0.010649  0.000894 -0.025695   \n",
              "7603       0.007432  0.002713  0.019304  0.011028  0.004078 -0.029058   \n",
              "7606       0.001912  0.000884  0.011209  0.005499  0.002332 -0.014148   \n",
              "\n",
              "       dfb_TEY   cooks_d  standard_resid  hat_diag  dffits_internal  \\\n",
              "0     0.003217  0.000247        2.520932  0.000272         0.041572   \n",
              "0     0.003217  0.000510        3.923372  0.000232         0.059720   \n",
              "0     0.000934  0.000247        2.520932  0.000272         0.041572   \n",
              "0     0.000934  0.000510        3.923372  0.000232         0.059720   \n",
              "0    -0.011958  0.000247        2.520932  0.000272         0.041572   \n",
              "...        ...       ...             ...       ...              ...   \n",
              "7589 -0.010602  0.000128        1.969987  0.000231         0.029949   \n",
              "7601 -0.008685  0.000330        2.406685  0.000398         0.048027   \n",
              "7602 -0.010314  0.000478        2.663171  0.000472         0.057854   \n",
              "7603 -0.014278  0.000581        3.185626  0.000401         0.063773   \n",
              "7606 -0.007381  0.000150        1.738808  0.000348         0.032439   \n",
              "\n",
              "      student_resid    dffits  \n",
              "0          2.521116  0.041575  \n",
              "0          3.924141  0.059732  \n",
              "0          2.521116  0.041575  \n",
              "0          3.924141  0.059732  \n",
              "0          2.521116  0.041575  \n",
              "...             ...       ...  \n",
              "7589       1.970064  0.029950  \n",
              "7601       2.406842  0.048031  \n",
              "7602       2.663392  0.057859  \n",
              "7603       3.186023  0.063781  \n",
              "7606       1.738856  0.032440  \n",
              "\n",
              "[11428 rows x 13 columns]"
            ],
            "text/html": [
              "\n",
              "  <div id=\"df-e983fe1d-d62a-48fc-a262-67a233f34caf\">\n",
              "    <div class=\"colab-df-container\">\n",
              "      <div>\n",
              "<style scoped>\n",
              "    .dataframe tbody tr th:only-of-type {\n",
              "        vertical-align: middle;\n",
              "    }\n",
              "\n",
              "    .dataframe tbody tr th {\n",
              "        vertical-align: top;\n",
              "    }\n",
              "\n",
              "    .dataframe thead th {\n",
              "        text-align: right;\n",
              "    }\n",
              "</style>\n",
              "<table border=\"1\" class=\"dataframe\">\n",
              "  <thead>\n",
              "    <tr style=\"text-align: right;\">\n",
              "      <th></th>\n",
              "      <th>dfb_Intercept</th>\n",
              "      <th>dfb_AT</th>\n",
              "      <th>dfb_AP</th>\n",
              "      <th>dfb_AH</th>\n",
              "      <th>dfb_TIT</th>\n",
              "      <th>dfb_TAT</th>\n",
              "      <th>dfb_TEY</th>\n",
              "      <th>cooks_d</th>\n",
              "      <th>standard_resid</th>\n",
              "      <th>hat_diag</th>\n",
              "      <th>dffits_internal</th>\n",
              "      <th>student_resid</th>\n",
              "      <th>dffits</th>\n",
              "    </tr>\n",
              "  </thead>\n",
              "  <tbody>\n",
              "    <tr>\n",
              "      <th>0</th>\n",
              "      <td>0.002973</td>\n",
              "      <td>0.005147</td>\n",
              "      <td>0.000155</td>\n",
              "      <td>0.001673</td>\n",
              "      <td>-0.003622</td>\n",
              "      <td>0.001399</td>\n",
              "      <td>0.003217</td>\n",
              "      <td>0.000247</td>\n",
              "      <td>2.520932</td>\n",
              "      <td>0.000272</td>\n",
              "      <td>0.041572</td>\n",
              "      <td>2.521116</td>\n",
              "      <td>0.041575</td>\n",
              "    </tr>\n",
              "    <tr>\n",
              "      <th>0</th>\n",
              "      <td>0.002973</td>\n",
              "      <td>0.005147</td>\n",
              "      <td>0.000155</td>\n",
              "      <td>0.001673</td>\n",
              "      <td>-0.003622</td>\n",
              "      <td>0.001399</td>\n",
              "      <td>0.003217</td>\n",
              "      <td>0.000510</td>\n",
              "      <td>3.923372</td>\n",
              "      <td>0.000232</td>\n",
              "      <td>0.059720</td>\n",
              "      <td>3.924141</td>\n",
              "      <td>0.059732</td>\n",
              "    </tr>\n",
              "    <tr>\n",
              "      <th>0</th>\n",
              "      <td>-0.000317</td>\n",
              "      <td>0.001301</td>\n",
              "      <td>0.000936</td>\n",
              "      <td>0.000085</td>\n",
              "      <td>-0.000842</td>\n",
              "      <td>0.000699</td>\n",
              "      <td>0.000934</td>\n",
              "      <td>0.000247</td>\n",
              "      <td>2.520932</td>\n",
              "      <td>0.000272</td>\n",
              "      <td>0.041572</td>\n",
              "      <td>2.521116</td>\n",
              "      <td>0.041575</td>\n",
              "    </tr>\n",
              "    <tr>\n",
              "      <th>0</th>\n",
              "      <td>-0.000317</td>\n",
              "      <td>0.001301</td>\n",
              "      <td>0.000936</td>\n",
              "      <td>0.000085</td>\n",
              "      <td>-0.000842</td>\n",
              "      <td>0.000699</td>\n",
              "      <td>0.000934</td>\n",
              "      <td>0.000510</td>\n",
              "      <td>3.923372</td>\n",
              "      <td>0.000232</td>\n",
              "      <td>0.059720</td>\n",
              "      <td>3.924141</td>\n",
              "      <td>0.059732</td>\n",
              "    </tr>\n",
              "    <tr>\n",
              "      <th>0</th>\n",
              "      <td>0.005380</td>\n",
              "      <td>-0.004140</td>\n",
              "      <td>0.008635</td>\n",
              "      <td>0.003556</td>\n",
              "      <td>0.005256</td>\n",
              "      <td>-0.019551</td>\n",
              "      <td>-0.011958</td>\n",
              "      <td>0.000247</td>\n",
              "      <td>2.520932</td>\n",
              "      <td>0.000272</td>\n",
              "      <td>0.041572</td>\n",
              "      <td>2.521116</td>\n",
              "      <td>0.041575</td>\n",
              "    </tr>\n",
              "    <tr>\n",
              "      <th>...</th>\n",
              "      <td>...</td>\n",
              "      <td>...</td>\n",
              "      <td>...</td>\n",
              "      <td>...</td>\n",
              "      <td>...</td>\n",
              "      <td>...</td>\n",
              "      <td>...</td>\n",
              "      <td>...</td>\n",
              "      <td>...</td>\n",
              "      <td>...</td>\n",
              "      <td>...</td>\n",
              "      <td>...</td>\n",
              "      <td>...</td>\n",
              "    </tr>\n",
              "    <tr>\n",
              "      <th>7589</th>\n",
              "      <td>0.004235</td>\n",
              "      <td>-0.005383</td>\n",
              "      <td>0.002524</td>\n",
              "      <td>0.005356</td>\n",
              "      <td>0.006064</td>\n",
              "      <td>-0.014635</td>\n",
              "      <td>-0.010602</td>\n",
              "      <td>0.000128</td>\n",
              "      <td>1.969987</td>\n",
              "      <td>0.000231</td>\n",
              "      <td>0.029949</td>\n",
              "      <td>1.970064</td>\n",
              "      <td>0.029950</td>\n",
              "    </tr>\n",
              "    <tr>\n",
              "      <th>7601</th>\n",
              "      <td>0.007377</td>\n",
              "      <td>0.003624</td>\n",
              "      <td>0.013945</td>\n",
              "      <td>0.009115</td>\n",
              "      <td>0.000934</td>\n",
              "      <td>-0.020494</td>\n",
              "      <td>-0.008685</td>\n",
              "      <td>0.000330</td>\n",
              "      <td>2.406685</td>\n",
              "      <td>0.000398</td>\n",
              "      <td>0.048027</td>\n",
              "      <td>2.406842</td>\n",
              "      <td>0.048031</td>\n",
              "    </tr>\n",
              "    <tr>\n",
              "      <th>7602</th>\n",
              "      <td>0.010733</td>\n",
              "      <td>0.005306</td>\n",
              "      <td>0.015806</td>\n",
              "      <td>0.010649</td>\n",
              "      <td>0.000894</td>\n",
              "      <td>-0.025695</td>\n",
              "      <td>-0.010314</td>\n",
              "      <td>0.000478</td>\n",
              "      <td>2.663171</td>\n",
              "      <td>0.000472</td>\n",
              "      <td>0.057854</td>\n",
              "      <td>2.663392</td>\n",
              "      <td>0.057859</td>\n",
              "    </tr>\n",
              "    <tr>\n",
              "      <th>7603</th>\n",
              "      <td>0.007432</td>\n",
              "      <td>0.002713</td>\n",
              "      <td>0.019304</td>\n",
              "      <td>0.011028</td>\n",
              "      <td>0.004078</td>\n",
              "      <td>-0.029058</td>\n",
              "      <td>-0.014278</td>\n",
              "      <td>0.000581</td>\n",
              "      <td>3.185626</td>\n",
              "      <td>0.000401</td>\n",
              "      <td>0.063773</td>\n",
              "      <td>3.186023</td>\n",
              "      <td>0.063781</td>\n",
              "    </tr>\n",
              "    <tr>\n",
              "      <th>7606</th>\n",
              "      <td>0.001912</td>\n",
              "      <td>0.000884</td>\n",
              "      <td>0.011209</td>\n",
              "      <td>0.005499</td>\n",
              "      <td>0.002332</td>\n",
              "      <td>-0.014148</td>\n",
              "      <td>-0.007381</td>\n",
              "      <td>0.000150</td>\n",
              "      <td>1.738808</td>\n",
              "      <td>0.000348</td>\n",
              "      <td>0.032439</td>\n",
              "      <td>1.738856</td>\n",
              "      <td>0.032440</td>\n",
              "    </tr>\n",
              "  </tbody>\n",
              "</table>\n",
              "<p>11428 rows × 13 columns</p>\n",
              "</div>\n",
              "      <button class=\"colab-df-convert\" onclick=\"convertToInteractive('df-e983fe1d-d62a-48fc-a262-67a233f34caf')\"\n",
              "              title=\"Convert this dataframe to an interactive table.\"\n",
              "              style=\"display:none;\">\n",
              "        \n",
              "  <svg xmlns=\"http://www.w3.org/2000/svg\" height=\"24px\"viewBox=\"0 0 24 24\"\n",
              "       width=\"24px\">\n",
              "    <path d=\"M0 0h24v24H0V0z\" fill=\"none\"/>\n",
              "    <path d=\"M18.56 5.44l.94 2.06.94-2.06 2.06-.94-2.06-.94-.94-2.06-.94 2.06-2.06.94zm-11 1L8.5 8.5l.94-2.06 2.06-.94-2.06-.94L8.5 2.5l-.94 2.06-2.06.94zm10 10l.94 2.06.94-2.06 2.06-.94-2.06-.94-.94-2.06-.94 2.06-2.06.94z\"/><path d=\"M17.41 7.96l-1.37-1.37c-.4-.4-.92-.59-1.43-.59-.52 0-1.04.2-1.43.59L10.3 9.45l-7.72 7.72c-.78.78-.78 2.05 0 2.83L4 21.41c.39.39.9.59 1.41.59.51 0 1.02-.2 1.41-.59l7.78-7.78 2.81-2.81c.8-.78.8-2.07 0-2.86zM5.41 20L4 18.59l7.72-7.72 1.47 1.35L5.41 20z\"/>\n",
              "  </svg>\n",
              "      </button>\n",
              "      \n",
              "  <style>\n",
              "    .colab-df-container {\n",
              "      display:flex;\n",
              "      flex-wrap:wrap;\n",
              "      gap: 12px;\n",
              "    }\n",
              "\n",
              "    .colab-df-convert {\n",
              "      background-color: #E8F0FE;\n",
              "      border: none;\n",
              "      border-radius: 50%;\n",
              "      cursor: pointer;\n",
              "      display: none;\n",
              "      fill: #1967D2;\n",
              "      height: 32px;\n",
              "      padding: 0 0 0 0;\n",
              "      width: 32px;\n",
              "    }\n",
              "\n",
              "    .colab-df-convert:hover {\n",
              "      background-color: #E2EBFA;\n",
              "      box-shadow: 0px 1px 2px rgba(60, 64, 67, 0.3), 0px 1px 3px 1px rgba(60, 64, 67, 0.15);\n",
              "      fill: #174EA6;\n",
              "    }\n",
              "\n",
              "    [theme=dark] .colab-df-convert {\n",
              "      background-color: #3B4455;\n",
              "      fill: #D2E3FC;\n",
              "    }\n",
              "\n",
              "    [theme=dark] .colab-df-convert:hover {\n",
              "      background-color: #434B5C;\n",
              "      box-shadow: 0px 1px 3px 1px rgba(0, 0, 0, 0.15);\n",
              "      filter: drop-shadow(0px 1px 2px rgba(0, 0, 0, 0.3));\n",
              "      fill: #FFFFFF;\n",
              "    }\n",
              "  </style>\n",
              "\n",
              "      <script>\n",
              "        const buttonEl =\n",
              "          document.querySelector('#df-e983fe1d-d62a-48fc-a262-67a233f34caf button.colab-df-convert');\n",
              "        buttonEl.style.display =\n",
              "          google.colab.kernel.accessAllowed ? 'block' : 'none';\n",
              "\n",
              "        async function convertToInteractive(key) {\n",
              "          const element = document.querySelector('#df-e983fe1d-d62a-48fc-a262-67a233f34caf');\n",
              "          const dataTable =\n",
              "            await google.colab.kernel.invokeFunction('convertToInteractive',\n",
              "                                                     [key], {});\n",
              "          if (!dataTable) return;\n",
              "\n",
              "          const docLinkHtml = 'Like what you see? Visit the ' +\n",
              "            '<a target=\"_blank\" href=https://colab.research.google.com/notebooks/data_table.ipynb>data table notebook</a>'\n",
              "            + ' to learn more about interactive tables.';\n",
              "          element.innerHTML = '';\n",
              "          dataTable['output_type'] = 'display_data';\n",
              "          await google.colab.output.renderOutput(dataTable, element);\n",
              "          const docLink = document.createElement('div');\n",
              "          docLink.innerHTML = docLinkHtml;\n",
              "          element.appendChild(docLink);\n",
              "        }\n",
              "      </script>\n",
              "    </div>\n",
              "  </div>\n",
              "  "
            ]
          },
          "metadata": {},
          "execution_count": 73
        }
      ],
      "source": [
        "# 4/n is a 'rule of thumb' threshold\n",
        "\n",
        "inf2.summary_frame()[inf2.summary_frame()['cooks_d']>=4/36733]"
      ]
    },
    {
      "cell_type": "code",
      "execution_count": 74,
      "metadata": {
        "id": "zpYTtOUJ1LX9",
        "colab": {
          "base_uri": "https://localhost:8080/"
        },
        "outputId": "82e109e9-61f2-41ff-e17b-f51812a80bc0"
      },
      "outputs": [
        {
          "output_type": "stream",
          "name": "stdout",
          "text": [
            "2023-02-16 22:45:01.647292+05:30\n"
          ]
        }
      ],
      "source": [
        "print(datetime.now(pytz.timezone('Asia/Kolkata')))"
      ]
    },
    {
      "cell_type": "markdown",
      "metadata": {
        "id": "iut-lbZXMXIi"
      },
      "source": [
        "### Distribution Plot"
      ]
    },
    {
      "cell_type": "code",
      "execution_count": 75,
      "metadata": {
        "id": "weqAZTeUMbKC",
        "colab": {
          "base_uri": "https://localhost:8080/",
          "height": 436
        },
        "outputId": "f2be3125-18ff-4fcb-f0a8-38dad0e7f2e4"
      },
      "outputs": [
        {
          "output_type": "stream",
          "name": "stderr",
          "text": [
            "/usr/local/lib/python3.8/dist-packages/seaborn/distributions.py:2619: FutureWarning: `distplot` is a deprecated function and will be removed in a future version. Please adapt your code to use either `displot` (a figure-level function with similar flexibility) or `histplot` (an axes-level function for histograms).\n",
            "  warnings.warn(msg, FutureWarning)\n",
            "/usr/local/lib/python3.8/dist-packages/seaborn/distributions.py:2657: RuntimeWarning: Mean of empty slice.\n",
            "  line, = ax.plot(a.mean(), 0)\n",
            "/usr/local/lib/python3.8/dist-packages/numpy/core/_methods.py:189: RuntimeWarning: invalid value encountered in double_scalars\n",
            "  ret = ret.dtype.type(ret / rcount)\n",
            "/usr/local/lib/python3.8/dist-packages/numpy/lib/histograms.py:906: RuntimeWarning: invalid value encountered in true_divide\n",
            "  return n/db/n.sum(), bin_edges\n",
            "/usr/local/lib/python3.8/dist-packages/seaborn/distributions.py:2619: FutureWarning: `distplot` is a deprecated function and will be removed in a future version. Please adapt your code to use either `displot` (a figure-level function with similar flexibility) or `histplot` (an axes-level function for histograms).\n",
            "  warnings.warn(msg, FutureWarning)\n",
            "/usr/local/lib/python3.8/dist-packages/seaborn/distributions.py:2619: FutureWarning: `distplot` is a deprecated function and will be removed in a future version. Please adapt your code to use either `displot` (a figure-level function with similar flexibility) or `histplot` (an axes-level function for histograms).\n",
            "  warnings.warn(msg, FutureWarning)\n",
            "/usr/local/lib/python3.8/dist-packages/seaborn/distributions.py:2619: FutureWarning: `distplot` is a deprecated function and will be removed in a future version. Please adapt your code to use either `displot` (a figure-level function with similar flexibility) or `histplot` (an axes-level function for histograms).\n",
            "  warnings.warn(msg, FutureWarning)\n",
            "/usr/local/lib/python3.8/dist-packages/seaborn/distributions.py:2619: FutureWarning: `distplot` is a deprecated function and will be removed in a future version. Please adapt your code to use either `displot` (a figure-level function with similar flexibility) or `histplot` (an axes-level function for histograms).\n",
            "  warnings.warn(msg, FutureWarning)\n",
            "/usr/local/lib/python3.8/dist-packages/seaborn/distributions.py:2619: FutureWarning: `distplot` is a deprecated function and will be removed in a future version. Please adapt your code to use either `displot` (a figure-level function with similar flexibility) or `histplot` (an axes-level function for histograms).\n",
            "  warnings.warn(msg, FutureWarning)\n",
            "/usr/local/lib/python3.8/dist-packages/seaborn/distributions.py:2619: FutureWarning: `distplot` is a deprecated function and will be removed in a future version. Please adapt your code to use either `displot` (a figure-level function with similar flexibility) or `histplot` (an axes-level function for histograms).\n",
            "  warnings.warn(msg, FutureWarning)\n",
            "/usr/local/lib/python3.8/dist-packages/seaborn/distributions.py:2619: FutureWarning: `distplot` is a deprecated function and will be removed in a future version. Please adapt your code to use either `displot` (a figure-level function with similar flexibility) or `histplot` (an axes-level function for histograms).\n",
            "  warnings.warn(msg, FutureWarning)\n"
          ]
        },
        {
          "output_type": "display_data",
          "data": {
            "text/plain": [
              "<Figure size 864x864 with 9 Axes>"
            ],
            "image/png": "[encoded data removed]"
          },
          "metadata": {
            "needs_background": "light"
          }
        }
      ],
      "source": [
        "plt.figure(figsize=(12,12))\n",
        "for i in range(1,10):\n",
        "  plt.subplot(3,3,i)\n",
        "  sns.distplot(data.iloc[:i-1])"
      ]
    },
    {
      "cell_type": "markdown",
      "metadata": {
        "id": "uU-tazgNfZF7"
      },
      "source": [
        "## Machine Learning models"
      ]
    },
    {
      "cell_type": "markdown",
      "metadata": {
        "id": "dvbT_z6Gfwf2"
      },
      "source": [
        "### Importing Relevant modules"
      ]
    },
    {
      "cell_type": "code",
      "execution_count": 76,
      "metadata": {
        "id": "lZHcXG3zQMVl"
      },
      "outputs": [],
      "source": [
        "# !pip install xgboost\n",
        "# !pip install lightgbm"
      ]
    },
    {
      "cell_type": "code",
      "execution_count": 77,
      "metadata": {
        "id": "mBP38WvWWzDP"
      },
      "outputs": [],
      "source": [
        "from hyperopt import fmin, hp, STATUS_OK, tpe , Trials\n",
        "from hyperopt.pyll.base import scope\n",
        "import hyperopt"
      ]
    },
    {
      "cell_type": "code",
      "execution_count": 78,
      "metadata": {
        "id": "72Z4fkf9XEAx"
      },
      "outputs": [],
      "source": [
        "from sklearn.linear_model import LinearRegression, Ridge, Lasso, ElasticNet\n",
        "from sklearn.tree import DecisionTreeRegressor\n",
        "from sklearn.ensemble import AdaBoostRegressor, RandomForestRegressor, GradientBoostingRegressor\n",
        "from xgboost import XGBRegressor\n",
        "from lightgbm import LGBMRegressor\n",
        "from sklearn.svm import SVR\n",
        "from sklearn.metrics import mean_squared_error, explained_variance_score, r2_score, mean_absolute_error"
      ]
    },
    {
      "cell_type": "code",
      "execution_count": 79,
      "metadata": {
        "id": "3wZWKGvwYP3-"
      },
      "outputs": [],
      "source": [
        "lin_reg = LinearRegression()\n",
        "lasso_reg = Lasso(alpha=0.001)\n",
        "ridge_reg = Ridge(alpha=0.001)\n",
        "enet_reg = ElasticNet(alpha = 0.001)\n",
        "dt_reg = DecisionTreeRegressor()\n",
        "rf_reg = RandomForestRegressor()\n",
        "gbm_reg = GradientBoostingRegressor()\n",
        "xgb_reg = XGBRegressor()\n",
        "lgbm_reg = LGBMRegressor()"
      ]
    },
    {
      "cell_type": "markdown",
      "metadata": {
        "id": "wbFE1ecef5CG"
      },
      "source": [
        "### Setting up hyperparameter search space for hyperopt"
      ]
    },
    {
      "cell_type": "code",
      "execution_count": 80,
      "metadata": {
        "id": "b3lCmdJiKK9_"
      },
      "outputs": [],
      "source": [
        "no_of_trials_dt = 1\n",
        "no_of_trials_rf = 1\n",
        "no_of_trials_gbm = 1\n",
        "no_of_trials_xgb = 1\n",
        "no_of_trials_lgbm = 1"
      ]
    },
    {
      "cell_type": "code",
      "execution_count": 81,
      "metadata": {
        "id": "qk5jvS__ZETK"
      },
      "outputs": [],
      "source": [
        "# For CO\n",
        "\n",
        "param_dt_co={\n",
        "    'max_depth': scope.int(hp.quniform('max_depth',2,20,1)),\n",
        "    'ccp_alpha': hp.uniform('ccp_alpha',0.001,0.1)\n",
        "}\n",
        "\n",
        "param_rf_co={\n",
        "    'n_estimators':scope.int(hp.quniform('n_estimators',50,500,1)),\n",
        "    'max_features':hp.choice('max_features',list(range(2,7)))\n",
        "}\n",
        "\n",
        "param_gbm_co = {\n",
        "    'max_depth':scope.int(hp.quniform('max_depth',1,6,1)),\n",
        "    'n_estimators':scope.int(hp.quniform('n_estimators',50,500,1)),\n",
        "    'learning_rate':hp.uniform('learning_rate',0.001,0.1)\n",
        "}\n",
        "\n",
        "param_xgb_co = {\n",
        "    'max_depth':scope.int(hp.quniform('max_depth',1,6,1)),\n",
        "    'n_estimators':scope.int(hp.quniform('n_estimators',50,500,1)),\n",
        "    'learning_rate':hp.uniform('learning_rate',0.001,0.1),\n",
        "    'colsample_bytree':hp.uniform('colsample_bytree',0.2,0.8)\n",
        "}\n",
        "\n",
        "param_lgbm_co = {\n",
        "    # 'boosting_type': 'rf',\n",
        "    'max_depth': scope.int(hp.quniform('max_depth',1,7,1)),\n",
        "    'learning_rate': hp.uniform('learning_rate',0.001,0.1),\n",
        "    'n_estimators': scope.int(hp.quniform('n_estimators',50,500,1)),\n",
        "    'colsample_bytree': hp.uniform('colsample_bytree',0.2,0.8)\n",
        "}"
      ]
    },
    {
      "cell_type": "code",
      "execution_count": 82,
      "metadata": {
        "id": "dd5tbpYGzvSZ"
      },
      "outputs": [],
      "source": [
        "# For NOx\n",
        "\n",
        "param_dt_nox={\n",
        "    'max_depth': scope.int(hp.quniform('max_depth',2,20,1)),\n",
        "    'ccp_alpha': hp.uniform('ccp_alpha',0.001,0.1)\n",
        "}\n",
        "\n",
        "param_rf_nox={\n",
        "    'n_estimators':scope.int(hp.quniform('n_estimators',50,500,1)),\n",
        "    'max_features':hp.choice('max_features',list(range(2,7)))\n",
        "}\n",
        "\n",
        "param_gbm_nox = {\n",
        "    'max_depth':scope.int(hp.quniform('max_depth',1,6,1)),\n",
        "    'n_estimators':scope.int(hp.quniform('n_estimators',50,500,1)),\n",
        "    'learning_rate':hp.uniform('learning_rate',0.001,0.1)\n",
        "}\n",
        "\n",
        "param_xgb_nox = {\n",
        "    'max_depth':scope.int(hp.quniform('max_depth',1,6,1)),\n",
        "    'n_estimators':scope.int(hp.quniform('n_estimators',50,500,1)),\n",
        "    'learning_rate':hp.uniform('learning_rate',0.001,0.1),\n",
        "    'colsample_bytree':hp.uniform('colsample_bytree',0.2,0.8)\n",
        "}\n",
        "\n",
        "param_lgbm_nox = {\n",
        "    # 'boosting_type': 'rf',\n",
        "    'max_depth': scope.int(hp.quniform('max_depth',1,7,1)),\n",
        "    'n_estimators': scope.int(hp.quniform('n_estimators',50,500,1)),\n",
        "    'learning_rate': hp.uniform('learning_rate',0.001,0.1),\n",
        "    'colsample_bytree': hp.uniform('colsample_bytree',0.2,0.8)\n",
        "}"
      ]
    },
    {
      "cell_type": "code",
      "execution_count": 83,
      "metadata": {
        "id": "5BtqD-hpbBp2"
      },
      "outputs": [],
      "source": [
        "from sklearn.metrics import make_scorer, mean_squared_error\n",
        "from sklearn.model_selection import train_test_split, cross_val_score"
      ]
    },
    {
      "cell_type": "code",
      "execution_count": 84,
      "metadata": {
        "id": "kfYKwIdObx3N"
      },
      "outputs": [],
      "source": [
        "def rmse(y_act, y_pred):\n",
        "  return (np.sqrt(np.mean((y_act-y_pred)**2)))\n",
        "\n",
        "rmse = make_scorer(rmse, greater_is_better=False)"
      ]
    },
    {
      "cell_type": "code",
      "execution_count": 85,
      "metadata": {
        "id": "hcH903vTRd4K"
      },
      "outputs": [],
      "source": [
        "def evalfunc(y_act, y_pred):\n",
        "  rmse_score = np.sqrt(mean_squared_error(y_act, y_pred))\n",
        "  mae_score = mean_absolute_error(y_act, y_pred)\n",
        "  exp_var_score = explained_variance_score(y_act, y_pred)\n",
        "  rtwo_score = r2_score(y_act, y_pred)\n",
        "  scores={\"RMSE\":rmse_score, \n",
        "          \"MAE\": mae_score, \n",
        "          \"Explained Variance\": exp_var_score, \n",
        "          \"R2 Score\": rtwo_score}\n",
        "  return scores"
      ]
    },
    {
      "cell_type": "code",
      "execution_count": 86,
      "metadata": {
        "id": "8PGopsAE5-wX"
      },
      "outputs": [],
      "source": [
        "def hp_obj_func_dt(param):\n",
        "  dt= DecisionTreeRegressor(**param)\n",
        "  out=cross_val_score(dt, X=x_train, y= y_train, scoring='neg_root_mean_squared_error', cv=5).mean()\n",
        "  print(out)\n",
        "  return out"
      ]
    },
    {
      "cell_type": "code",
      "execution_count": 87,
      "metadata": {
        "id": "e5EzYUeJ6iuL"
      },
      "outputs": [],
      "source": [
        "def surr_func_dt(params):\n",
        "  perf= hp_obj_func_dt(params)\n",
        "  return {'loss':-perf,'status': STATUS_OK}  "
      ]
    },
    {
      "cell_type": "code",
      "execution_count": 88,
      "metadata": {
        "id": "7zZgVsLWHoOD"
      },
      "outputs": [],
      "source": [
        "def to_int_dt(params):\n",
        "  params = {\n",
        "      'max_depth': int(params['max_depth']),\n",
        "      'ccp_alpha': params['ccp_alpha']\n",
        "      }\n",
        "  return params"
      ]
    },
    {
      "cell_type": "code",
      "execution_count": 89,
      "metadata": {
        "id": "ighSiiIk6C8M"
      },
      "outputs": [],
      "source": [
        "def hp_obj_func_rf(param):\n",
        "  rf= RandomForestRegressor(**param)\n",
        "  out=cross_val_score(rf, X=x_train, y= y_train, scoring='neg_root_mean_squared_error', cv=5).mean()\n",
        "  print(out)\n",
        "  return out"
      ]
    },
    {
      "cell_type": "code",
      "execution_count": 90,
      "metadata": {
        "id": "r-muU54t6lLl"
      },
      "outputs": [],
      "source": [
        "def surr_func_rf(params):\n",
        "  perf= hp_obj_func_rf(params)\n",
        "  return {'loss':-perf,'status': STATUS_OK}  "
      ]
    },
    {
      "cell_type": "code",
      "execution_count": 91,
      "metadata": {
        "id": "vyzfAFW2IgLt"
      },
      "outputs": [],
      "source": [
        "def to_int_rf(params):\n",
        "  params = {\n",
        "      'n_estimators': int(params['n_estimators']),\n",
        "      'max_features': int(params['max_features'])\n",
        "      }\n",
        "  return params"
      ]
    },
    {
      "cell_type": "code",
      "execution_count": 92,
      "metadata": {
        "id": "bXgvftSy6C2o"
      },
      "outputs": [],
      "source": [
        "def hp_obj_func_gbm(param):\n",
        "  gbm= GradientBoostingRegressor(**param)\n",
        "  out=cross_val_score(gbm, X=x_train, y= y_train, scoring='neg_root_mean_squared_error', cv=5).mean()\n",
        "  print(out)\n",
        "  return out"
      ]
    },
    {
      "cell_type": "code",
      "execution_count": 93,
      "metadata": {
        "id": "nyhl-LC66Cyg"
      },
      "outputs": [],
      "source": [
        "def surr_func_gbm(params):\n",
        "  perf= hp_obj_func_gbm(params)\n",
        "  return {'loss':-perf,'status': STATUS_OK}  "
      ]
    },
    {
      "cell_type": "code",
      "execution_count": 94,
      "metadata": {
        "id": "3aScG3tRIhZX"
      },
      "outputs": [],
      "source": [
        "def to_int_gbm(params):\n",
        "  params = {\n",
        "      'max_depth': int(params['max_depth']),\n",
        "      'n_estimators': int(params['n_estimators']),\n",
        "      'learning_rate': params['learning_rate']\n",
        "      }\n",
        "  return params"
      ]
    },
    {
      "cell_type": "code",
      "execution_count": 95,
      "metadata": {
        "id": "ONDU9BxN6CtV"
      },
      "outputs": [],
      "source": [
        "def hp_obj_func_xgb(param):\n",
        "  xgb= XGBRegressor(**param)\n",
        "  out=cross_val_score(xgb, X=x_train, y= y_train, scoring='neg_root_mean_squared_error', cv=5).mean()\n",
        "  print(out)\n",
        "  return out"
      ]
    },
    {
      "cell_type": "code",
      "execution_count": 96,
      "metadata": {
        "id": "rVVC_oJ_6Cqt"
      },
      "outputs": [],
      "source": [
        "def surr_func_xgb(params):\n",
        "  perf= hp_obj_func_xgb(params)\n",
        "  return {'loss':-perf,'status': STATUS_OK}"
      ]
    },
    {
      "cell_type": "code",
      "execution_count": 97,
      "metadata": {
        "id": "NeO3WM7XIjbQ"
      },
      "outputs": [],
      "source": [
        "def to_int_xgb(params):\n",
        "  params = {\n",
        "      'max_depth': int(params['max_depth']),\n",
        "      'n_estimators': int(params['n_estimators']),\n",
        "      'learning_rate': params['learning_rate'],\n",
        "      'colsample_bytree': params['colsample_bytree']\n",
        "      }\n",
        "  return params"
      ]
    },
    {
      "cell_type": "code",
      "execution_count": 98,
      "metadata": {
        "id": "uN5yzay46Cny"
      },
      "outputs": [],
      "source": [
        "def hp_obj_func_lgbm(param):\n",
        "  lgbm= LGBMRegressor(**param)\n",
        "  out=cross_val_score(lgbm, X=x_train, y= y_train, scoring='neg_root_mean_squared_error', cv=5).mean()\n",
        "  print(out)\n",
        "  return out"
      ]
    },
    {
      "cell_type": "code",
      "execution_count": 99,
      "metadata": {
        "id": "PWAuI66J6ClN"
      },
      "outputs": [],
      "source": [
        "def surr_func_lgbm(params):\n",
        "  perf= hp_obj_func_lgbm(params)\n",
        "  return {'loss':-perf,'status': STATUS_OK}"
      ]
    },
    {
      "cell_type": "code",
      "execution_count": 100,
      "metadata": {
        "id": "mLI2f3vJIknS"
      },
      "outputs": [],
      "source": [
        "def to_int_lgbm(params):\n",
        "  params = {\n",
        "      'max_depth': int(params['max_depth']),\n",
        "      'n_estimators': int(params['n_estimators']),\n",
        "      'learning_rate': params['learning_rate'],\n",
        "      'colsample_bytree': params['colsample_bytree']\n",
        "      }\n",
        "  return params"
      ]
    },
    {
      "cell_type": "markdown",
      "metadata": {
        "id": "JaAyL4odyPX1"
      },
      "source": [
        "### Modelling CO emissions"
      ]
    },
    {
      "cell_type": "markdown",
      "metadata": {
        "id": "E4ow9H7Nz_f9"
      },
      "source": [
        "#### Train test split"
      ]
    },
    {
      "cell_type": "code",
      "execution_count": 101,
      "metadata": {
        "id": "ggzXuxMLx4ZQ",
        "colab": {
          "base_uri": "https://localhost:8080/"
        },
        "outputId": "c35c2462-13c0-4b74-a967-57f4365f88aa"
      },
      "outputs": [
        {
          "output_type": "execute_result",
          "data": {
            "text/plain": [
              "(36733, 10)"
            ]
          },
          "metadata": {},
          "execution_count": 101
        }
      ],
      "source": [
        "gt_new_co = data.loc[:,'AT':'CO']\n",
        "gt_new_co.shape"
      ]
    },
    {
      "cell_type": "code",
      "execution_count": 102,
      "metadata": {
        "id": "AJ80OwuOx6pp"
      },
      "outputs": [],
      "source": [
        "x_train, x_test, y_train, y_test = train_test_split(gt_new_co.loc[:, 'AT':'CDP'],gt_new_co['CO'],test_size=0.3, random_state=123)"
      ]
    },
    {
      "cell_type": "markdown",
      "metadata": {
        "id": "4-wiIMeoG1TH"
      },
      "source": [
        "#### Linear Regression on CO"
      ]
    },
    {
      "cell_type": "code",
      "execution_count": 103,
      "metadata": {
        "id": "O-PAr6YNf2cc",
        "colab": {
          "base_uri": "https://localhost:8080/"
        },
        "outputId": "978d6a58-0d9b-4f5f-fd87-9bf2324a8d71"
      },
      "outputs": [
        {
          "output_type": "stream",
          "name": "stdout",
          "text": [
            "1.9456774833850263\n"
          ]
        }
      ],
      "source": [
        "lin_reg.fit(x_train, y_train)\n",
        "pred_linreg_co = lin_reg.predict(x_test)\n",
        "print(mean_squared_error(pred_linreg_co, y_test))"
      ]
    },
    {
      "cell_type": "code",
      "execution_count": 104,
      "metadata": {
        "id": "BqxLPbClXpIo",
        "colab": {
          "base_uri": "https://localhost:8080/"
        },
        "outputId": "927a4da5-622a-40cf-b11b-e873f1b83eea"
      },
      "outputs": [
        {
          "output_type": "execute_result",
          "data": {
            "text/plain": [
              "{'Model': 'Linear Regression',\n",
              " 'RMSE': 1.3948754365121734,\n",
              " 'MAE': 0.848450678573083,\n",
              " 'Explained Variance': 0.5735383489443195,\n",
              " 'R2 Score': 0.5735383489333926}"
            ]
          },
          "metadata": {},
          "execution_count": 104
        }
      ],
      "source": [
        "eval_linreg_co = evalfunc(y_test,pred_linreg_co)\n",
        "model = {'Model':'Linear Regression'}\n",
        "eval_linreg_co = {**model, **eval_linreg_co }\n",
        "eval_linreg_co"
      ]
    },
    {
      "cell_type": "markdown",
      "metadata": {
        "id": "Uz34FJPoNg85"
      },
      "source": [
        "#### Lasso Regression on CO"
      ]
    },
    {
      "cell_type": "code",
      "execution_count": 105,
      "metadata": {
        "id": "6G9SVFJALXOO",
        "colab": {
          "base_uri": "https://localhost:8080/"
        },
        "outputId": "3c8df0ad-1cb9-46fe-f956-f8ad27677504"
      },
      "outputs": [
        {
          "output_type": "stream",
          "name": "stdout",
          "text": [
            "1.9462381734506886\n"
          ]
        },
        {
          "output_type": "stream",
          "name": "stderr",
          "text": [
            "/usr/local/lib/python3.8/dist-packages/sklearn/linear_model/_coordinate_descent.py:647: ConvergenceWarning: Objective did not converge. You might want to increase the number of iterations, check the scale of the features or consider increasing regularisation. Duality gap: 4.464e+03, tolerance: 1.378e+01\n",
            "  model = cd_fast.enet_coordinate_descent(\n"
          ]
        }
      ],
      "source": [
        "lasso_reg.fit(x_train, y_train) \n",
        "pred_lassoreg_co = lasso_reg.predict(x_test)\n",
        "print(mean_squared_error(pred_lassoreg_co, y_test))"
      ]
    },
    {
      "cell_type": "code",
      "execution_count": 106,
      "metadata": {
        "id": "DeiaI1jCNTre",
        "colab": {
          "base_uri": "https://localhost:8080/"
        },
        "outputId": "681dd078-e3ab-4dfe-9a27-92c9f18017c8"
      },
      "outputs": [
        {
          "output_type": "execute_result",
          "data": {
            "text/plain": [
              "{'Model': 'Lasso Regression',\n",
              " 'RMSE': 1.3950764041623989,\n",
              " 'MAE': 0.8479058829363678,\n",
              " 'Explained Variance': 0.5734154607172484,\n",
              " 'R2 Score': 0.5734154545620588}"
            ]
          },
          "metadata": {},
          "execution_count": 106
        }
      ],
      "source": [
        "eval_lassoreg_co = evalfunc(y_test,pred_lassoreg_co)\n",
        "model = {'Model':'Lasso Regression'}\n",
        "eval_lassoreg_co = {**model, **eval_lassoreg_co }\n",
        "eval_lassoreg_co"
      ]
    },
    {
      "cell_type": "markdown",
      "metadata": {
        "id": "zjzVmu3bNsSh"
      },
      "source": [
        "#### Ridge Regression on CO"
      ]
    },
    {
      "cell_type": "code",
      "execution_count": 107,
      "metadata": {
        "id": "h4kkQYtgLNQh",
        "colab": {
          "base_uri": "https://localhost:8080/"
        },
        "outputId": "c92b2479-24d6-4614-c1ec-7d26685e0ddf"
      },
      "outputs": [
        {
          "output_type": "stream",
          "name": "stdout",
          "text": [
            "1.9456775109725006\n"
          ]
        }
      ],
      "source": [
        "ridge_reg.fit(x_train, y_train) \n",
        "pred_ridgereg_co = ridge_reg.predict(x_test)\n",
        "print(mean_squared_error(pred_ridgereg_co, y_test))"
      ]
    },
    {
      "cell_type": "code",
      "execution_count": 108,
      "metadata": {
        "id": "2HcBFLTnODzQ",
        "colab": {
          "base_uri": "https://localhost:8080/"
        },
        "outputId": "6fa37d81-b8c7-45fd-baa8-a7cfc498c22f"
      },
      "outputs": [
        {
          "output_type": "execute_result",
          "data": {
            "text/plain": [
              "{'Model': 'Ridge Regression',\n",
              " 'RMSE': 1.39487544640104,\n",
              " 'MAE': 0.8484506380334749,\n",
              " 'Explained Variance': 0.5735383428976149,\n",
              " 'R2 Score': 0.5735383428866557}"
            ]
          },
          "metadata": {},
          "execution_count": 108
        }
      ],
      "source": [
        "eval_ridgereg_co = evalfunc(y_test,pred_ridgereg_co)\n",
        "model = {'Model':'Ridge Regression'}\n",
        "eval_ridgereg_co = {**model, **eval_ridgereg_co }\n",
        "eval_ridgereg_co"
      ]
    },
    {
      "cell_type": "markdown",
      "metadata": {
        "id": "sc20J0hqOMuS"
      },
      "source": [
        "#### Elastic Net Regression on CO"
      ]
    },
    {
      "cell_type": "code",
      "execution_count": 109,
      "metadata": {
        "id": "MVfLj8PaOR7u",
        "colab": {
          "base_uri": "https://localhost:8080/"
        },
        "outputId": "d32c699f-c8ac-4fa3-b70d-616191460a36"
      },
      "outputs": [
        {
          "output_type": "stream",
          "name": "stdout",
          "text": [
            "1.9465129193234831\n"
          ]
        },
        {
          "output_type": "stream",
          "name": "stderr",
          "text": [
            "/usr/local/lib/python3.8/dist-packages/sklearn/linear_model/_coordinate_descent.py:647: ConvergenceWarning: Objective did not converge. You might want to increase the number of iterations, check the scale of the features or consider increasing regularisation. Duality gap: 5.039e+03, tolerance: 1.378e+01\n",
            "  model = cd_fast.enet_coordinate_descent(\n"
          ]
        }
      ],
      "source": [
        "enet_reg.fit(x_train, y_train) \n",
        "pred_enetreg_co = enet_reg.predict(x_test)\n",
        "print(mean_squared_error(pred_enetreg_co, y_test))"
      ]
    },
    {
      "cell_type": "code",
      "execution_count": 110,
      "metadata": {
        "id": "TpfTeOt2OR2u",
        "colab": {
          "base_uri": "https://localhost:8080/"
        },
        "outputId": "f91435dd-c2a4-4ca9-bee9-9af69ff59da1"
      },
      "outputs": [
        {
          "output_type": "execute_result",
          "data": {
            "text/plain": [
              "{'Model': 'Elastic Net Regression',\n",
              " 'RMSE': 1.3951748705174858,\n",
              " 'MAE': 0.8478352256321752,\n",
              " 'Explained Variance': 0.5733552434617583,\n",
              " 'R2 Score': 0.573355234623484}"
            ]
          },
          "metadata": {},
          "execution_count": 110
        }
      ],
      "source": [
        "eval_enetreg_co = evalfunc(y_test,pred_enetreg_co)\n",
        "model = {'Model':'Elastic Net Regression'}\n",
        "eval_enetreg_co = {**model, **eval_enetreg_co }\n",
        "eval_enetreg_co"
      ]
    },
    {
      "cell_type": "markdown",
      "metadata": {
        "id": "zfsVV1ofgE-o"
      },
      "source": [
        "#### Decision Tree on CO"
      ]
    },
    {
      "cell_type": "markdown",
      "metadata": {
        "id": "B_je6qY-ndn3"
      },
      "source": [
        "##### Optimising hyperparameters with Hyperopt"
      ]
    },
    {
      "cell_type": "code",
      "execution_count": 111,
      "metadata": {
        "id": "uR7uVpjRM1W6",
        "colab": {
          "base_uri": "https://localhost:8080/"
        },
        "outputId": "b408effa-55b8-42ac-e33c-622cde5210ff"
      },
      "outputs": [
        {
          "output_type": "stream",
          "name": "stdout",
          "text": [
            "2023-02-16 22:45:05.187365+05:30\n"
          ]
        }
      ],
      "source": [
        "print(datetime.now(pytz.timezone('Asia/Kolkata')))"
      ]
    },
    {
      "cell_type": "code",
      "execution_count": 112,
      "metadata": {
        "id": "aolDubRYdhIP",
        "colab": {
          "base_uri": "https://localhost:8080/"
        },
        "outputId": "3b6917fe-a53c-4a36-d66e-7fd4688b9254"
      },
      "outputs": [
        {
          "output_type": "stream",
          "name": "stdout",
          "text": [
            "-1.4356217294509475\n",
            "100%|██████████| 1/1 [00:00<00:00,  1.10it/s, best loss: 1.4356217294509475]\n",
            "best_dt for CO:\n",
            "{'max_depth': 9, 'ccp_alpha': 0.08278126155468847}\n"
          ]
        }
      ],
      "source": [
        "trials = Trials()\n",
        "best_dt_co = fmin(surr_func_dt, space=param_dt_co, algo=tpe.suggest,\n",
        "               max_evals=no_of_trials_dt, trials=trials)\n",
        "best_dt_co = to_int_dt(best_dt_co)\n",
        "print('best_dt for CO:')\n",
        "print(best_dt_co)"
      ]
    },
    {
      "cell_type": "code",
      "execution_count": 113,
      "metadata": {
        "id": "iLLIkIE_NIMU",
        "colab": {
          "base_uri": "https://localhost:8080/"
        },
        "outputId": "77885151-4dec-4b61-c7f3-a9f13a195036"
      },
      "outputs": [
        {
          "output_type": "stream",
          "name": "stdout",
          "text": [
            "2023-02-16 22:45:06.137712+05:30\n"
          ]
        }
      ],
      "source": [
        "print(datetime.now(pytz.timezone('Asia/Kolkata')))"
      ]
    },
    {
      "cell_type": "markdown",
      "metadata": {
        "id": "6KUMhRUOnjWF"
      },
      "source": [
        "##### Predict and score"
      ]
    },
    {
      "cell_type": "code",
      "execution_count": 114,
      "metadata": {
        "id": "BfN7mJH_Ywkz"
      },
      "outputs": [],
      "source": [
        "# best_dt_co = {'max_depth': 7, 'ccp_alpha': 0.0034544357322769366} # unknown iterations"
      ]
    },
    {
      "cell_type": "code",
      "execution_count": 115,
      "metadata": {
        "id": "tBuXD0RMRNmb"
      },
      "outputs": [],
      "source": [
        "best_dt_co = {'max_depth': 7, 'ccp_alpha': 0.0010389774199764997} # 1500 iterations - best loss: 1.3236361594996606"
      ]
    },
    {
      "cell_type": "code",
      "execution_count": 116,
      "metadata": {
        "id": "EJ4-zQsgeTpi",
        "colab": {
          "base_uri": "https://localhost:8080/"
        },
        "outputId": "ad29e08b-991c-49eb-bbc8-b941dffd8186"
      },
      "outputs": [
        {
          "output_type": "stream",
          "name": "stdout",
          "text": [
            "1.7103509012755973\n"
          ]
        }
      ],
      "source": [
        "dt_reg = DecisionTreeRegressor(**best_dt_co)\n",
        "dt_reg.fit(x_train, y_train)\n",
        "pred_dt_co = dt_reg.predict(x_test)\n",
        "print(mean_squared_error(pred_dt_co, y_test))"
      ]
    },
    {
      "cell_type": "code",
      "execution_count": 117,
      "metadata": {
        "id": "xCqz8E2PX9kh",
        "colab": {
          "base_uri": "https://localhost:8080/"
        },
        "outputId": "2ffc17fd-4a19-449b-b610-b82369e7b938"
      },
      "outputs": [
        {
          "output_type": "execute_result",
          "data": {
            "text/plain": [
              "{'Model': 'Decision Tree',\n",
              " 'RMSE': 1.3078038466358772,\n",
              " 'MAE': 0.6383332597661494,\n",
              " 'Explained Variance': 0.6251229670203502,\n",
              " 'R2 Score': 0.6251182040754943}"
            ]
          },
          "metadata": {},
          "execution_count": 117
        }
      ],
      "source": [
        "eval_dt_co = evalfunc(y_test,pred_dt_co)\n",
        "model = {'Model':'Decision Tree'}\n",
        "eval_dt_co = {**model, **eval_dt_co }\n",
        "eval_dt_co"
      ]
    },
    {
      "cell_type": "markdown",
      "metadata": {
        "id": "weHNJ8kUEXxx"
      },
      "source": [
        "#### Random forest for CO\n",
        "\n",
        "\n"
      ]
    },
    {
      "cell_type": "markdown",
      "metadata": {
        "id": "fnMv3CSdqICW"
      },
      "source": [
        "##### Optimising hyperparameters with Hyperopt"
      ]
    },
    {
      "cell_type": "code",
      "execution_count": 118,
      "metadata": {
        "id": "A9aQEAyuNLuK",
        "colab": {
          "base_uri": "https://localhost:8080/"
        },
        "outputId": "56475e98-0f6c-4aee-f6b8-ecb49ebd2ca9"
      },
      "outputs": [
        {
          "output_type": "stream",
          "name": "stdout",
          "text": [
            "2023-02-16 22:45:06.368434+05:30\n"
          ]
        }
      ],
      "source": [
        "print(datetime.now(pytz.timezone('Asia/Kolkata')))"
      ]
    },
    {
      "cell_type": "code",
      "execution_count": 119,
      "metadata": {
        "id": "Tt1wvXx-CcKn",
        "colab": {
          "base_uri": "https://localhost:8080/"
        },
        "outputId": "bbe9134d-d14d-4039-81eb-d052e08e4170"
      },
      "outputs": [
        {
          "output_type": "stream",
          "name": "stdout",
          "text": [
            "-1.1062024899860774\n",
            "100%|██████████| 1/1 [02:10<00:00, 130.21s/it, best loss: 1.1062024899860774]\n"
          ]
        }
      ],
      "source": [
        "trials = Trials()\n",
        "best_rf_co = fmin(surr_func_rf, space=param_rf_co, algo=tpe.suggest,\n",
        "               max_evals=no_of_trials_rf, trials=trials)\n"
      ]
    },
    {
      "cell_type": "code",
      "execution_count": 120,
      "metadata": {
        "id": "4hHvA4uiNM1m",
        "colab": {
          "base_uri": "https://localhost:8080/"
        },
        "outputId": "108d41f1-fde0-4117-9452-bd697c1ead54"
      },
      "outputs": [
        {
          "output_type": "stream",
          "name": "stdout",
          "text": [
            "2023-02-16 22:47:16.614565+05:30\n"
          ]
        }
      ],
      "source": [
        "print(datetime.now(pytz.timezone('Asia/Kolkata')))"
      ]
    },
    {
      "cell_type": "code",
      "execution_count": 121,
      "metadata": {
        "id": "dUH4ZhS9kOtH",
        "colab": {
          "base_uri": "https://localhost:8080/"
        },
        "outputId": "53f44ee1-090e-4072-e340-bd1e70277065"
      },
      "outputs": [
        {
          "output_type": "stream",
          "name": "stdout",
          "text": [
            "best_rf for CO:\n",
            "{'n_estimators': 313, 'max_features': 2}\n"
          ]
        }
      ],
      "source": [
        "best_rf_co = to_int_rf(best_rf_co)\n",
        "print('best_rf for CO:')\n",
        "print(best_rf_co)"
      ]
    },
    {
      "cell_type": "markdown",
      "metadata": {
        "id": "xaSg2G0Znvwt"
      },
      "source": [
        "##### Predict and score"
      ]
    },
    {
      "cell_type": "code",
      "execution_count": 122,
      "metadata": {
        "id": "9Q2ce2bsJub5"
      },
      "outputs": [],
      "source": [
        "# best_rf={'max_features': 2, 'n_estimators': 451}"
      ]
    },
    {
      "cell_type": "code",
      "execution_count": 123,
      "metadata": {
        "id": "EmRbi4zekd24"
      },
      "outputs": [],
      "source": [
        "best_rf_co = {'n_estimators': 333, 'max_features': 2} # ? iterations - think this one was better"
      ]
    },
    {
      "cell_type": "code",
      "execution_count": 124,
      "metadata": {
        "id": "L-XcIjkNGSGu"
      },
      "outputs": [],
      "source": [
        "rf_reg = RandomForestRegressor(**best_rf_co)\n",
        "rf_reg.fit(x_train, y_train)\n",
        "pred_rf_co = rf_reg.predict(x_test)"
      ]
    },
    {
      "cell_type": "code",
      "execution_count": 125,
      "metadata": {
        "id": "icDG2f_lZey2",
        "colab": {
          "base_uri": "https://localhost:8080/"
        },
        "outputId": "d3bad93c-be6e-46d0-bc68-4d82715b57b1"
      },
      "outputs": [
        {
          "output_type": "execute_result",
          "data": {
            "text/plain": [
              "{'Model': 'Random Forest',\n",
              " 'RMSE': 1.0243352229431624,\n",
              " 'MAE': 0.4847640568438984,\n",
              " 'Explained Variance': 0.7700486540082079,\n",
              " 'R2 Score': 0.7700182658739668}"
            ]
          },
          "metadata": {},
          "execution_count": 125
        }
      ],
      "source": [
        "eval_rf_co = evalfunc(y_test,pred_rf_co)\n",
        "model = {'Model':'Random Forest'}\n",
        "eval_rf_co = {**model, **eval_rf_co }\n",
        "eval_rf_co"
      ]
    },
    {
      "cell_type": "markdown",
      "metadata": {
        "id": "ni6rPxNngLaD"
      },
      "source": [
        "#### GBM for CO"
      ]
    },
    {
      "cell_type": "markdown",
      "metadata": {
        "id": "hVSSTRg8qLTX"
      },
      "source": [
        "##### Optimising hyperparameters with Hyperopt"
      ]
    },
    {
      "cell_type": "code",
      "execution_count": 126,
      "metadata": {
        "id": "A2-zYizWNOoP",
        "colab": {
          "base_uri": "https://localhost:8080/"
        },
        "outputId": "61abc0e5-da45-4b04-ee00-ec4420f2d7bb"
      },
      "outputs": [
        {
          "output_type": "stream",
          "name": "stdout",
          "text": [
            "2023-02-16 22:47:37.465945+05:30\n"
          ]
        }
      ],
      "source": [
        "print(datetime.now(pytz.timezone('Asia/Kolkata')))"
      ]
    },
    {
      "cell_type": "code",
      "execution_count": 127,
      "metadata": {
        "id": "CRz9pZTFJ4F6",
        "colab": {
          "base_uri": "https://localhost:8080/"
        },
        "outputId": "fe2443d4-c65c-49a8-faa0-adf9ceb592cf"
      },
      "outputs": [
        {
          "output_type": "stream",
          "name": "stdout",
          "text": [
            "-1.1770458895581366\n",
            "100%|██████████| 1/1 [03:02<00:00, 182.20s/it, best loss: 1.1770458895581366]\n"
          ]
        }
      ],
      "source": [
        "trials = Trials()\n",
        "best_gbm_co = fmin(surr_func_gbm, space=param_gbm_co, algo=tpe.suggest,\n",
        "               max_evals=no_of_trials_gbm, trials=trials)\n"
      ]
    },
    {
      "cell_type": "code",
      "execution_count": 128,
      "metadata": {
        "id": "Jfl0TyDsNPsQ",
        "colab": {
          "base_uri": "https://localhost:8080/"
        },
        "outputId": "0501142f-7a64-4645-e181-76e7ae721416"
      },
      "outputs": [
        {
          "output_type": "stream",
          "name": "stdout",
          "text": [
            "2023-02-16 22:50:39.691548+05:30\n"
          ]
        }
      ],
      "source": [
        "print(datetime.now(pytz.timezone('Asia/Kolkata')))"
      ]
    },
    {
      "cell_type": "code",
      "execution_count": 129,
      "metadata": {
        "id": "KvkpsocllyXa",
        "colab": {
          "base_uri": "https://localhost:8080/"
        },
        "outputId": "45382aad-e7ed-4181-d90c-8e57113089cf"
      },
      "outputs": [
        {
          "output_type": "stream",
          "name": "stdout",
          "text": [
            "best_gbm for CO:\n",
            "{'max_depth': 5, 'n_estimators': 469, 'learning_rate': 0.04464677932553549}\n"
          ]
        }
      ],
      "source": [
        "best_gbm_co = to_int_gbm(best_gbm_co)\n",
        "\n",
        "print('best_gbm for CO:')\n",
        "print(best_gbm_co)"
      ]
    },
    {
      "cell_type": "markdown",
      "metadata": {
        "id": "LV8q78xgn29A"
      },
      "source": [
        "##### Predict and score"
      ]
    },
    {
      "cell_type": "code",
      "execution_count": 130,
      "metadata": {
        "id": "Ve-awhKMt2hM"
      },
      "outputs": [],
      "source": [
        "best_gbm_co = {'max_depth': 6, \n",
        "               'n_estimators': 450, \n",
        "               'learning_rate': 0.09395876873200759} # 100 iterations"
      ]
    },
    {
      "cell_type": "code",
      "execution_count": 131,
      "metadata": {
        "id": "x-uHBFQgJ4AK"
      },
      "outputs": [],
      "source": [
        "gbm_reg = GradientBoostingRegressor(**best_gbm_co)\n",
        "gbm_reg.fit(x_train, y_train)\n",
        "pred_gbm_co = gbm_reg.predict(x_test)"
      ]
    },
    {
      "cell_type": "code",
      "execution_count": 132,
      "metadata": {
        "id": "6mvVuIqVaE1k",
        "colab": {
          "base_uri": "https://localhost:8080/"
        },
        "outputId": "b21c4a8d-3a79-4288-d62f-43ba339892cf"
      },
      "outputs": [
        {
          "output_type": "execute_result",
          "data": {
            "text/plain": [
              "{'Model': 'GBM',\n",
              " 'RMSE': 1.1088304940477802,\n",
              " 'MAE': 0.5248493468028417,\n",
              " 'Explained Variance': 0.730530370948481,\n",
              " 'R2 Score': 0.7305119865487164}"
            ]
          },
          "metadata": {},
          "execution_count": 132
        }
      ],
      "source": [
        "eval_gbm_co = evalfunc(y_test,pred_gbm_co)\n",
        "model = {'Model':'GBM'}\n",
        "eval_gbm_co = {**model, **eval_gbm_co}\n",
        "eval_gbm_co"
      ]
    },
    {
      "cell_type": "markdown",
      "metadata": {
        "id": "HYJY7dOqeKgA"
      },
      "source": [
        "#### XgBoost for CO"
      ]
    },
    {
      "cell_type": "markdown",
      "metadata": {
        "id": "GIWvVxEZqZjz"
      },
      "source": [
        "##### Optimising hyperparameters with Hyperopt"
      ]
    },
    {
      "cell_type": "code",
      "execution_count": 133,
      "metadata": {
        "id": "eMlAWnG1NR-J",
        "colab": {
          "base_uri": "https://localhost:8080/"
        },
        "outputId": "0fbd0cd2-00e8-4330-8e66-1d9643132d9b"
      },
      "outputs": [
        {
          "output_type": "stream",
          "name": "stdout",
          "text": [
            "2023-02-16 22:51:32.302712+05:30\n"
          ]
        }
      ],
      "source": [
        "print(datetime.now(pytz.timezone('Asia/Kolkata')))"
      ]
    },
    {
      "cell_type": "code",
      "execution_count": 134,
      "metadata": {
        "id": "M-No8HQaeatA",
        "colab": {
          "base_uri": "https://localhost:8080/"
        },
        "outputId": "170871a7-1250-47a1-914e-01523f3f9c62"
      },
      "outputs": [
        {
          "output_type": "stream",
          "name": "stdout",
          "text": [
            "[17:21:32] WARNING: /workspace/src/objective/regression_obj.cu:152: reg:linear is now deprecated in favor of reg:squarederror.\n",
            "[17:21:35] WARNING: /workspace/src/objective/regression_obj.cu:152: reg:linear is now deprecated in favor of reg:squarederror.\n",
            "[17:21:36] WARNING: /workspace/src/objective/regression_obj.cu:152: reg:linear is now deprecated in favor of reg:squarederror.\n",
            "[17:21:38] WARNING: /workspace/src/objective/regression_obj.cu:152: reg:linear is now deprecated in favor of reg:squarederror.\n",
            "[17:21:39] WARNING: /workspace/src/objective/regression_obj.cu:152: reg:linear is now deprecated in favor of reg:squarederror.\n",
            "-1.3989018026005966\n",
            "100%|██████████| 1/1 [00:08<00:00,  8.34s/it, best loss: 1.3989018026005966]\n"
          ]
        }
      ],
      "source": [
        "trials = Trials()\n",
        "best_xgb_co = fmin(surr_func_xgb, space=param_xgb_co, algo=tpe.suggest,\n",
        "               max_evals=no_of_trials_xgb, trials=trials)"
      ]
    },
    {
      "cell_type": "code",
      "execution_count": 135,
      "metadata": {
        "id": "u03h1Ys2NRrJ",
        "colab": {
          "base_uri": "https://localhost:8080/"
        },
        "outputId": "11e1a414-6756-40d2-81d1-81323a5b69d7"
      },
      "outputs": [
        {
          "output_type": "stream",
          "name": "stdout",
          "text": [
            "2023-02-16 22:51:40.675434+05:30\n"
          ]
        }
      ],
      "source": [
        "print(datetime.now(pytz.timezone('Asia/Kolkata')))"
      ]
    },
    {
      "cell_type": "code",
      "execution_count": 136,
      "metadata": {
        "id": "r4NwecbMl30D",
        "colab": {
          "base_uri": "https://localhost:8080/"
        },
        "outputId": "c499ea62-5562-4276-e01f-c51f21f9b2ce"
      },
      "outputs": [
        {
          "output_type": "stream",
          "name": "stdout",
          "text": [
            "best_xgb for CO:\n",
            "{'max_depth': 1, 'n_estimators': 385, 'learning_rate': 0.06733085383385864, 'colsample_bytree': 0.5583279521310988}\n"
          ]
        }
      ],
      "source": [
        "best_xgb_co = to_int_xgb(best_xgb_co)\n",
        "\n",
        "print('best_xgb for CO:')\n",
        "print(best_xgb_co)"
      ]
    },
    {
      "cell_type": "markdown",
      "metadata": {
        "id": "rTACVjqroIdQ"
      },
      "source": [
        "##### Predict and score"
      ]
    },
    {
      "cell_type": "code",
      "execution_count": 137,
      "metadata": {
        "id": "wTFykYXMh3hk"
      },
      "outputs": [],
      "source": [
        "# best_xgb = {'colsample_bytree': 0.7974445913518547, \n",
        "#             'learning_rate': 0.09830911482175203, \n",
        "#             'max_depth': 5, \n",
        "#             'n_estimators': 380}"
      ]
    },
    {
      "cell_type": "code",
      "execution_count": 138,
      "metadata": {
        "id": "JCjgj0aZeanI"
      },
      "outputs": [],
      "source": [
        "# best_xgb = {'colsample_bytree': 0.5904951775918889, \n",
        "#             'learning_rate': 0.024729072063200287, \n",
        "#             'max_depth': 5, \n",
        "#             'n_estimators': 267}"
      ]
    },
    {
      "cell_type": "code",
      "execution_count": 139,
      "metadata": {
        "id": "LWsHTWQccx0m"
      },
      "outputs": [],
      "source": [
        "best_xgb_co = {'max_depth': 6,\n",
        "               'n_estimators': 437,\n",
        "               'learning_rate': 0.0904575086334361,\n",
        "               'colsample_bytree': 0.790911942518166}\n",
        "# 500 trials"
      ]
    },
    {
      "cell_type": "code",
      "execution_count": 140,
      "metadata": {
        "id": "dN7_wCe0eakS",
        "colab": {
          "base_uri": "https://localhost:8080/"
        },
        "outputId": "91e0b809-517a-48e6-e552-d5b9dfc86a79"
      },
      "outputs": [
        {
          "output_type": "stream",
          "name": "stdout",
          "text": [
            "[17:21:40] WARNING: /workspace/src/objective/regression_obj.cu:152: reg:linear is now deprecated in favor of reg:squarederror.\n"
          ]
        }
      ],
      "source": [
        "xgb_reg = XGBRegressor(**best_xgb_co)\n",
        "xgb_reg.fit(x_train, y_train)\n",
        "pred_xgb_co = xgb_reg.predict(x_test)"
      ]
    },
    {
      "cell_type": "code",
      "execution_count": 141,
      "metadata": {
        "id": "Bjmq6wy_bSUf",
        "colab": {
          "base_uri": "https://localhost:8080/"
        },
        "outputId": "85b7d3b8-8986-4d5b-c850-4b522766e96b"
      },
      "outputs": [
        {
          "output_type": "execute_result",
          "data": {
            "text/plain": [
              "{'Model': 'XgBoost',\n",
              " 'RMSE': 1.081893548111886,\n",
              " 'MAE': 0.523029104242749,\n",
              " 'Explained Variance': 0.7434534062117033,\n",
              " 'R2 Score': 0.7434463529704147}"
            ]
          },
          "metadata": {},
          "execution_count": 141
        }
      ],
      "source": [
        "eval_xgb_co = evalfunc(y_test,pred_xgb_co)\n",
        "model = {'Model':'XgBoost'}\n",
        "eval_xgb_co = {**model, **eval_xgb_co}\n",
        "eval_xgb_co"
      ]
    },
    {
      "cell_type": "markdown",
      "metadata": {
        "id": "Sh4yxBmQgOiw"
      },
      "source": [
        "#### LightGBM for CO"
      ]
    },
    {
      "cell_type": "markdown",
      "metadata": {
        "id": "Opy4oiAbqdBv"
      },
      "source": [
        "##### Optimising hyperparameters with Hyperopt"
      ]
    },
    {
      "cell_type": "code",
      "execution_count": 142,
      "metadata": {
        "id": "yz0R0mFtNUJB",
        "colab": {
          "base_uri": "https://localhost:8080/"
        },
        "outputId": "3f7053a8-1c49-4cad-c017-74bb2cd9c09a"
      },
      "outputs": [
        {
          "output_type": "stream",
          "name": "stdout",
          "text": [
            "2023-02-16 22:51:50.969382+05:30\n"
          ]
        }
      ],
      "source": [
        "print(datetime.now(pytz.timezone('Asia/Kolkata')))"
      ]
    },
    {
      "cell_type": "code",
      "execution_count": 143,
      "metadata": {
        "id": "-PEBe6INQhck",
        "colab": {
          "base_uri": "https://localhost:8080/"
        },
        "outputId": "582d6db5-fff2-40fb-e8bb-577a0684302c"
      },
      "outputs": [
        {
          "output_type": "stream",
          "name": "stdout",
          "text": [
            "-1.4475017627074735\n",
            "100%|██████████| 1/1 [00:00<00:00,  1.20it/s, best loss: 1.4475017627074735]\n"
          ]
        }
      ],
      "source": [
        "trials = Trials()\n",
        "best_lgbm_co = fmin(surr_func_lgbm, space=param_lgbm_co, algo=tpe.suggest,\n",
        "               max_evals=no_of_trials_lgbm, trials=trials)\n"
      ]
    },
    {
      "cell_type": "code",
      "execution_count": 144,
      "metadata": {
        "id": "MCJJJXTBNT2D",
        "colab": {
          "base_uri": "https://localhost:8080/"
        },
        "outputId": "9f0b5dc3-2672-4a25-d9f5-2ab40a51871a"
      },
      "outputs": [
        {
          "output_type": "stream",
          "name": "stdout",
          "text": [
            "2023-02-16 22:51:51.828154+05:30\n"
          ]
        }
      ],
      "source": [
        "print(datetime.now(pytz.timezone('Asia/Kolkata')))"
      ]
    },
    {
      "cell_type": "code",
      "execution_count": 145,
      "metadata": {
        "id": "gwp-aaiNl84g",
        "colab": {
          "base_uri": "https://localhost:8080/"
        },
        "outputId": "81ac6424-b148-4a53-cdb5-7b11e579c302"
      },
      "outputs": [
        {
          "output_type": "stream",
          "name": "stdout",
          "text": [
            "best_lgbm for CO:\n",
            "{'max_depth': 1, 'n_estimators': 456, 'learning_rate': 0.04578645070616253, 'colsample_bytree': 0.20602822766216744}\n"
          ]
        }
      ],
      "source": [
        "best_lgbm_co = to_int_lgbm(best_lgbm_co)\n",
        "\n",
        "print('best_lgbm for CO:')\n",
        "print(best_lgbm_co)"
      ]
    },
    {
      "cell_type": "markdown",
      "metadata": {
        "id": "B7w12AjEoN2O"
      },
      "source": [
        "##### Predict and score"
      ]
    },
    {
      "cell_type": "code",
      "execution_count": 146,
      "metadata": {
        "id": "_PT6TDnvQhZk"
      },
      "outputs": [],
      "source": [
        "# best_lgbm = {'colsample_bytree': 0.6669160688292152,\n",
        "#              'learning_rate': 0.07968656287632815,\n",
        "#              'max_depth': 6,\n",
        "#              'n_estimators': 491}"
      ]
    },
    {
      "cell_type": "code",
      "execution_count": 147,
      "metadata": {
        "id": "zdH0HkNbIfM1"
      },
      "outputs": [],
      "source": [
        "best_lgbm_co = {'max_depth': 7, \n",
        "                'n_estimators': 440, \n",
        "                'learning_rate': 0.09727625259227556, \n",
        "                'colsample_bytree': 0.7258988873327339}\n",
        "\n",
        "# 500 iterations"
      ]
    },
    {
      "cell_type": "code",
      "execution_count": 148,
      "metadata": {
        "id": "-nxDDI4uQ-l6",
        "colab": {
          "base_uri": "https://localhost:8080/"
        },
        "outputId": "906a9204-fa9f-48a8-9762-7e48e3850164"
      },
      "outputs": [
        {
          "output_type": "stream",
          "name": "stdout",
          "text": [
            "1.1941839377124204\n"
          ]
        }
      ],
      "source": [
        "lgbm_reg = LGBMRegressor(**best_lgbm_co)\n",
        "lgbm_reg.fit(x_train, y_train)\n",
        "pred_lgbm_co = lgbm_reg.predict(x_test)\n",
        "print(mean_squared_error(pred_lgbm_co, y_test))"
      ]
    },
    {
      "cell_type": "code",
      "execution_count": 149,
      "metadata": {
        "id": "BSwUK8v3bdS2",
        "colab": {
          "base_uri": "https://localhost:8080/"
        },
        "outputId": "b639b711-9d5c-471a-e32c-6351f76ac64a"
      },
      "outputs": [
        {
          "output_type": "execute_result",
          "data": {
            "text/plain": [
              "{'Model': 'LightGBM',\n",
              " 'RMSE': 1.0927872335054158,\n",
              " 'MAE': 0.5365204926494304,\n",
              " 'Explained Variance': 0.7382836637008163,\n",
              " 'R2 Score': 0.7382538174476667}"
            ]
          },
          "metadata": {},
          "execution_count": 149
        }
      ],
      "source": [
        "eval_lgbm_co = evalfunc(y_test,pred_lgbm_co)\n",
        "model = {'Model':'LightGBM'}\n",
        "eval_lgbm_co = {**model, **eval_lgbm_co}\n",
        "eval_lgbm_co"
      ]
    },
    {
      "cell_type": "code",
      "execution_count": 150,
      "metadata": {
        "id": "WlbCD-kSgYbE"
      },
      "outputs": [],
      "source": [
        "# Additional parameters to play around with\n",
        "\n",
        "# lgbm = LGBMRegressor(boosting_type = 'rf', \\\n",
        "#                      num_leaves = \\\n",
        "#                      max_depth = \\\n",
        "#                      learning_rate = \\\n",
        "#                      n_estimators = \\\n",
        "#                      objective='regression', \\\n",
        "#                      random_state=123\\\n",
        "#                      n_jobs)"
      ]
    },
    {
      "cell_type": "markdown",
      "metadata": {
        "id": "Vj3QMimRLm1A"
      },
      "source": [
        "#### Linear and Nonlinear SVM for CO"
      ]
    },
    {
      "cell_type": "markdown",
      "metadata": {
        "id": "O9_Z-qxbQygu"
      },
      "source": [
        "##### Model Fitting without Hyperopt"
      ]
    },
    {
      "cell_type": "code",
      "execution_count": 151,
      "metadata": {
        "id": "nIJo3la5LlkG",
        "colab": {
          "base_uri": "https://localhost:8080/"
        },
        "outputId": "d84f8289-7a65-478f-dea6-7359fffdbedd"
      },
      "outputs": [
        {
          "output_type": "execute_result",
          "data": {
            "text/plain": [
              "SVR(kernel='linear')"
            ]
          },
          "metadata": {},
          "execution_count": 151
        }
      ],
      "source": [
        "svr_linear = SVR(kernel='linear',gamma='scale', C=1.0, epsilon=0.1)\n",
        "svr_linear.fit(x_train, y_train)"
      ]
    },
    {
      "cell_type": "code",
      "execution_count": 152,
      "metadata": {
        "id": "91w4Uj8lL37G",
        "colab": {
          "base_uri": "https://localhost:8080/"
        },
        "outputId": "9882a3a6-72ca-43a9-b655-6fded5de2e86"
      },
      "outputs": [
        {
          "output_type": "execute_result",
          "data": {
            "text/plain": [
              "0.5207580707476601"
            ]
          },
          "metadata": {},
          "execution_count": 152
        }
      ],
      "source": [
        "svr_linear.score(x_test,y_test)"
      ]
    },
    {
      "cell_type": "code",
      "execution_count": 153,
      "metadata": {
        "id": "dV0EnUV9L35B",
        "colab": {
          "base_uri": "https://localhost:8080/"
        },
        "outputId": "9974f52a-e228-4b21-eb40-e7336462c5d8"
      },
      "outputs": [
        {
          "output_type": "execute_result",
          "data": {
            "text/plain": [
              "SVR()"
            ]
          },
          "metadata": {},
          "execution_count": 153
        }
      ],
      "source": [
        "svr_rbf = SVR(kernel='rbf',gamma='scale', C=1.0, epsilon=0.1)\n",
        "svr_rbf.fit(x_train, y_train) "
      ]
    },
    {
      "cell_type": "code",
      "execution_count": 154,
      "metadata": {
        "id": "XKALmkt2L32L",
        "colab": {
          "base_uri": "https://localhost:8080/"
        },
        "outputId": "73a553b8-dcd6-437a-9f3e-0b19fa2a4085"
      },
      "outputs": [
        {
          "output_type": "execute_result",
          "data": {
            "text/plain": [
              "0.4738454004095387"
            ]
          },
          "metadata": {},
          "execution_count": 154
        }
      ],
      "source": [
        "svr_rbf.score(x_test,y_test)"
      ]
    },
    {
      "cell_type": "markdown",
      "metadata": {
        "id": "Nh72HHpzoTjg"
      },
      "source": [
        "##### Predict and score"
      ]
    },
    {
      "cell_type": "code",
      "execution_count": 155,
      "metadata": {
        "id": "kvjLVCIccFY-"
      },
      "outputs": [],
      "source": [
        "pred_svmlin_co = svr_linear.predict(x_test)\n",
        "pred_svmrbf_co = svr_rbf.predict(x_test)"
      ]
    },
    {
      "cell_type": "code",
      "execution_count": 156,
      "metadata": {
        "id": "zPsD7Djmcc7_",
        "colab": {
          "base_uri": "https://localhost:8080/"
        },
        "outputId": "52413c31-2eae-45c7-a65a-62d9c87e4bb2"
      },
      "outputs": [
        {
          "output_type": "execute_result",
          "data": {
            "text/plain": [
              "{'Model': 'SVM (Linear)',\n",
              " 'RMSE': 1.4786753680891283,\n",
              " 'MAE': 0.8820457907548394,\n",
              " 'Explained Variance': 0.5381233309235107,\n",
              " 'R2 Score': 0.5207580707476601}"
            ]
          },
          "metadata": {},
          "execution_count": 156
        }
      ],
      "source": [
        "eval_svmlin_co = evalfunc(y_test,pred_svmlin_co)\n",
        "model = {'Model':'SVM (Linear)'}\n",
        "eval_svmlin_co = {**model, **eval_svmlin_co}\n",
        "eval_svmlin_co"
      ]
    },
    {
      "cell_type": "code",
      "execution_count": 157,
      "metadata": {
        "id": "TB7hYaYzccq1",
        "colab": {
          "base_uri": "https://localhost:8080/"
        },
        "outputId": "2f3cc581-1a9a-4332-d7d5-5e1ddf6b7db9"
      },
      "outputs": [
        {
          "output_type": "execute_result",
          "data": {
            "text/plain": [
              "{'Model': 'SVM (RBF)',\n",
              " 'RMSE': 1.5493592173593018,\n",
              " 'MAE': 0.8408302360288261,\n",
              " 'Explained Variance': 0.4903799289169122,\n",
              " 'R2 Score': 0.4738454004095387}"
            ]
          },
          "metadata": {},
          "execution_count": 157
        }
      ],
      "source": [
        "eval_svmrbf_co = evalfunc(y_test,pred_svmrbf_co)\n",
        "model = {'Model':'SVM (RBF)'}\n",
        "eval_svmrbf_co = {**model, **eval_svmrbf_co}\n",
        "eval_svmrbf_co"
      ]
    },
    {
      "cell_type": "code",
      "execution_count": 158,
      "metadata": {
        "id": "dAw1W8UzMIlX"
      },
      "outputs": [],
      "source": [
        "# print(\"RMSE for linear SVR:\",np.sqrt(mean_squared_error(y_test,svr_linear.predict(x_test))))\n",
        "# print(\"RMSE for RBF kernelized SVR:\",np.sqrt(mean_squared_error(y_test,svr_rbf.predict(x_test))))"
      ]
    },
    {
      "cell_type": "markdown",
      "metadata": {
        "id": "k09IelL92-ST"
      },
      "source": [
        "### Modelling NOx emissions"
      ]
    },
    {
      "cell_type": "markdown",
      "metadata": {
        "id": "NxxVr-xDv7UI"
      },
      "source": [
        "#### Train test split"
      ]
    },
    {
      "cell_type": "code",
      "execution_count": 159,
      "metadata": {
        "id": "meItzy2b2i-d",
        "colab": {
          "base_uri": "https://localhost:8080/"
        },
        "outputId": "6a685e9f-66e1-4bb1-bfe4-1586b7475f9c"
      },
      "outputs": [
        {
          "output_type": "execute_result",
          "data": {
            "text/plain": [
              "(36733, 10)"
            ]
          },
          "metadata": {},
          "execution_count": 159
        }
      ],
      "source": [
        "gt_new_nox = data.loc[:,'AT':'NOX']\n",
        "gt_new_nox = gt_new_nox.drop(['CO'], axis = 1)\n",
        "gt_new_nox.shape"
      ]
    },
    {
      "cell_type": "code",
      "execution_count": 160,
      "metadata": {
        "id": "ZeQfkeFqv7UO"
      },
      "outputs": [],
      "source": [
        "x_train, x_test, y_train, y_test = train_test_split(gt_new_nox.loc[:, 'AT':'CDP'],gt_new_nox['NOX'],test_size=0.3, random_state=123)"
      ]
    },
    {
      "cell_type": "markdown",
      "metadata": {
        "id": "2LLhrVv9v7UR"
      },
      "source": [
        "#### Linear Regression for NOx"
      ]
    },
    {
      "cell_type": "code",
      "execution_count": 161,
      "metadata": {
        "id": "0y8sTWbov7UR"
      },
      "outputs": [],
      "source": [
        "lin_reg.fit(x_train, y_train)\n",
        "pred_linreg_nox = lin_reg.predict(x_test)"
      ]
    },
    {
      "cell_type": "code",
      "execution_count": 162,
      "metadata": {
        "id": "RRbiUjiZW6Dp",
        "colab": {
          "base_uri": "https://localhost:8080/"
        },
        "outputId": "25389ebd-454f-4c94-93ab-f8b893693599"
      },
      "outputs": [
        {
          "output_type": "execute_result",
          "data": {
            "text/plain": [
              "{'Model': 'Linear Regression',\n",
              " 'RMSE': 8.011551737499103,\n",
              " 'MAE': 5.775180137315883,\n",
              " 'Explained Variance': 0.5177798910284216,\n",
              " 'R2 Score': 0.517395121374184}"
            ]
          },
          "metadata": {},
          "execution_count": 162
        }
      ],
      "source": [
        "eval_linreg_nox = evalfunc(y_test,pred_linreg_nox)\n",
        "model = {'Model':'Linear Regression'}\n",
        "eval_linreg_nox = {**model, **eval_linreg_nox }\n",
        "eval_linreg_nox"
      ]
    },
    {
      "cell_type": "markdown",
      "metadata": {
        "id": "Cp3ICCztO4r-"
      },
      "source": [
        "#### Lasso Regression on CO"
      ]
    },
    {
      "cell_type": "code",
      "execution_count": 163,
      "metadata": {
        "id": "di7ECxHrO4sA",
        "colab": {
          "base_uri": "https://localhost:8080/"
        },
        "outputId": "3649d5df-ff06-445b-bed1-a2b7880c47d4"
      },
      "outputs": [
        {
          "output_type": "stream",
          "name": "stdout",
          "text": [
            "64.1869641957689\n"
          ]
        },
        {
          "output_type": "stream",
          "name": "stderr",
          "text": [
            "/usr/local/lib/python3.8/dist-packages/sklearn/linear_model/_coordinate_descent.py:647: ConvergenceWarning: Objective did not converge. You might want to increase the number of iterations, check the scale of the features or consider increasing regularisation. Duality gap: 1.787e+05, tolerance: 3.543e+02\n",
            "  model = cd_fast.enet_coordinate_descent(\n"
          ]
        }
      ],
      "source": [
        "lasso_reg.fit(x_train, y_train) \n",
        "pred_lassoreg_nox = lasso_reg.predict(x_test)\n",
        "print(mean_squared_error(pred_lassoreg_nox, y_test))"
      ]
    },
    {
      "cell_type": "code",
      "execution_count": 164,
      "metadata": {
        "id": "TeIQIj8eO4sC",
        "colab": {
          "base_uri": "https://localhost:8080/"
        },
        "outputId": "7651faec-3bb4-4a41-a982-ddb2a1e96bde"
      },
      "outputs": [
        {
          "output_type": "execute_result",
          "data": {
            "text/plain": [
              "{'Model': 'Lasso Regression',\n",
              " 'RMSE': 8.011676740593625,\n",
              " 'MAE': 5.775607739642493,\n",
              " 'Explained Variance': 0.5177654108661126,\n",
              " 'R2 Score': 0.5173800612270677}"
            ]
          },
          "metadata": {},
          "execution_count": 164
        }
      ],
      "source": [
        "eval_lassoreg_nox = evalfunc(y_test,pred_lassoreg_nox)\n",
        "model = {'Model':'Lasso Regression'}\n",
        "eval_lassoreg_nox = {**model, **eval_lassoreg_nox }\n",
        "eval_lassoreg_nox"
      ]
    },
    {
      "cell_type": "markdown",
      "metadata": {
        "id": "Vt1-LZXVO4sD"
      },
      "source": [
        "#### Ridge Regression on CO"
      ]
    },
    {
      "cell_type": "code",
      "execution_count": 165,
      "metadata": {
        "id": "rk4SEg60O4sE",
        "colab": {
          "base_uri": "https://localhost:8080/"
        },
        "outputId": "17a544ee-3e2d-436a-8385-d5d9000b5b92"
      },
      "outputs": [
        {
          "output_type": "stream",
          "name": "stdout",
          "text": [
            "64.18496127737778\n"
          ]
        }
      ],
      "source": [
        "ridge_reg.fit(x_train, y_train) \n",
        "pred_ridgereg_nox = ridge_reg.predict(x_test)\n",
        "print(mean_squared_error(pred_ridgereg_nox, y_test))"
      ]
    },
    {
      "cell_type": "code",
      "execution_count": 166,
      "metadata": {
        "id": "VIIhv1saO4sG",
        "colab": {
          "base_uri": "https://localhost:8080/"
        },
        "outputId": "528238d3-dc8c-410a-b86d-3933422d95d0"
      },
      "outputs": [
        {
          "output_type": "execute_result",
          "data": {
            "text/plain": [
              "{'Model': 'Ridge Regression',\n",
              " 'RMSE': 8.011551739668027,\n",
              " 'MAE': 5.775180155408408,\n",
              " 'Explained Variance': 0.5177798908045069,\n",
              " 'R2 Score': 0.5173951211128778}"
            ]
          },
          "metadata": {},
          "execution_count": 166
        }
      ],
      "source": [
        "eval_ridgereg_nox = evalfunc(y_test,pred_ridgereg_nox)\n",
        "model = {'Model':'Ridge Regression'}\n",
        "eval_ridgereg_nox = {**model, **eval_ridgereg_nox }\n",
        "eval_ridgereg_nox"
      ]
    },
    {
      "cell_type": "markdown",
      "metadata": {
        "id": "-wDfsvmsO4sH"
      },
      "source": [
        "#### Elastic Net Regression on CO"
      ]
    },
    {
      "cell_type": "code",
      "execution_count": 167,
      "metadata": {
        "id": "cSX5kM3jO4sI",
        "colab": {
          "base_uri": "https://localhost:8080/"
        },
        "outputId": "2391ec7d-a4b6-4d5f-c7cd-093eeaa2a65a"
      },
      "outputs": [
        {
          "output_type": "stream",
          "name": "stdout",
          "text": [
            "64.18666731941097\n"
          ]
        },
        {
          "output_type": "stream",
          "name": "stderr",
          "text": [
            "/usr/local/lib/python3.8/dist-packages/sklearn/linear_model/_coordinate_descent.py:647: ConvergenceWarning: Objective did not converge. You might want to increase the number of iterations, check the scale of the features or consider increasing regularisation. Duality gap: 3.849e+05, tolerance: 3.543e+02\n",
            "  model = cd_fast.enet_coordinate_descent(\n"
          ]
        }
      ],
      "source": [
        "enet_reg.fit(x_train, y_train) \n",
        "pred_enetreg_nox = enet_reg.predict(x_test)\n",
        "print(mean_squared_error(pred_enetreg_nox, y_test))"
      ]
    },
    {
      "cell_type": "code",
      "execution_count": 168,
      "metadata": {
        "id": "GbojeI8oO4sL",
        "colab": {
          "base_uri": "https://localhost:8080/"
        },
        "outputId": "15aa8f46-08e9-4d1a-b2f9-11a2e948e742"
      },
      "outputs": [
        {
          "output_type": "execute_result",
          "data": {
            "text/plain": [
              "{'Model': 'Elastic Net Regression',\n",
              " 'RMSE': 8.011658212842768,\n",
              " 'MAE': 5.775609006647121,\n",
              " 'Explained Variance': 0.5177677518784083,\n",
              " 'R2 Score': 0.5173822934318695}"
            ]
          },
          "metadata": {},
          "execution_count": 168
        }
      ],
      "source": [
        "eval_enetreg_nox = evalfunc(y_test,pred_enetreg_nox)\n",
        "model = {'Model':'Elastic Net Regression'}\n",
        "eval_enetreg_nox = {**model, **eval_enetreg_nox }\n",
        "eval_enetreg_nox"
      ]
    },
    {
      "cell_type": "markdown",
      "metadata": {
        "id": "Msx2ISEqv7US"
      },
      "source": [
        "#### Decision Tree for NOx"
      ]
    },
    {
      "cell_type": "markdown",
      "metadata": {
        "id": "E3jgKaqSq3z4"
      },
      "source": [
        "##### Optimising hyperparameters with Hyperopt"
      ]
    },
    {
      "cell_type": "code",
      "execution_count": 169,
      "metadata": {
        "id": "ZbfMWp5cNcb7",
        "colab": {
          "base_uri": "https://localhost:8080/"
        },
        "outputId": "a680665d-9871-46af-c744-2ae1e00e3a9d"
      },
      "outputs": [
        {
          "output_type": "stream",
          "name": "stdout",
          "text": [
            "2023-02-16 22:54:30.774537+05:30\n"
          ]
        }
      ],
      "source": [
        "print(datetime.now(pytz.timezone('Asia/Kolkata')))"
      ]
    },
    {
      "cell_type": "code",
      "execution_count": 170,
      "metadata": {
        "id": "IJmcibOPv7UT",
        "colab": {
          "base_uri": "https://localhost:8080/"
        },
        "outputId": "d9d73e77-2b10-4848-9ccf-16e10ed6e829"
      },
      "outputs": [
        {
          "output_type": "stream",
          "name": "stdout",
          "text": [
            "-5.840292059131011\n",
            "100%|██████████| 1/1 [00:01<00:00,  1.15s/it, best loss: 5.840292059131011]\n"
          ]
        }
      ],
      "source": [
        "trials = Trials()\n",
        "best_dt_nox = fmin(surr_func_dt, space=param_dt_nox, algo=tpe.suggest,\n",
        "               max_evals=no_of_trials_dt, trials=trials)\n"
      ]
    },
    {
      "cell_type": "code",
      "execution_count": 171,
      "metadata": {
        "id": "35Ikp5QeNcGU",
        "colab": {
          "base_uri": "https://localhost:8080/"
        },
        "outputId": "7858eb33-b75f-4ed2-f1ee-9eff935880b6"
      },
      "outputs": [
        {
          "output_type": "stream",
          "name": "stdout",
          "text": [
            "2023-02-16 22:54:31.962344+05:30\n"
          ]
        }
      ],
      "source": [
        "print(datetime.now(pytz.timezone('Asia/Kolkata')))"
      ]
    },
    {
      "cell_type": "code",
      "execution_count": 172,
      "metadata": {
        "id": "U_aYB-Bc30iA",
        "colab": {
          "base_uri": "https://localhost:8080/"
        },
        "outputId": "a7843afa-b74f-4e41-9f4b-5ea2fc61b59f"
      },
      "outputs": [
        {
          "output_type": "stream",
          "name": "stdout",
          "text": [
            "best_dt for NOx:\n",
            "{'max_depth': 13, 'ccp_alpha': 0.013909270950269937}\n"
          ]
        }
      ],
      "source": [
        "best_dt_nox = to_int_dt(best_dt_nox)\n",
        "print('best_dt for NOx:')\n",
        "print(best_dt_nox)"
      ]
    },
    {
      "cell_type": "markdown",
      "metadata": {
        "id": "XGBPLqlBoeWF"
      },
      "source": [
        "##### Predict and score"
      ]
    },
    {
      "cell_type": "code",
      "execution_count": 173,
      "metadata": {
        "id": "PExkw2BuuH83"
      },
      "outputs": [],
      "source": [
        "# best_dt_nox = {'max_depth': 18, 'ccp_alpha': 0.02287382193476814} # 1000 iterations"
      ]
    },
    {
      "cell_type": "code",
      "execution_count": 174,
      "metadata": {
        "id": "dJSAiglTpMdq"
      },
      "outputs": [],
      "source": [
        "best_dt_nox = {'max_depth': 19, 'ccp_alpha': 0.02311145978949651} # 1500 iterations"
      ]
    },
    {
      "cell_type": "code",
      "execution_count": 175,
      "metadata": {
        "id": "rarpNo2cv7UT"
      },
      "outputs": [],
      "source": [
        "dt_reg = DecisionTreeRegressor(**best_dt_nox)\n",
        "dt_reg.fit(x_train, y_train)\n",
        "pred_dt_nox = dt_reg.predict(x_test)"
      ]
    },
    {
      "cell_type": "code",
      "execution_count": 176,
      "metadata": {
        "id": "fFpxv-THXBwg",
        "colab": {
          "base_uri": "https://localhost:8080/"
        },
        "outputId": "412e4e0b-c366-45ab-9b9e-ddf9eb627d38"
      },
      "outputs": [
        {
          "output_type": "execute_result",
          "data": {
            "text/plain": [
              "{'Model': 'Decision Tree',\n",
              " 'RMSE': 5.547025993832501,\n",
              " 'MAE': 3.6729414197281587,\n",
              " 'Explained Variance': 0.7686548012233835,\n",
              " 'R2 Score': 0.7686450336783457}"
            ]
          },
          "metadata": {},
          "execution_count": 176
        }
      ],
      "source": [
        "eval_dt_nox = evalfunc(y_test,pred_dt_nox)\n",
        "model = {'Model':'Decision Tree'}\n",
        "eval_dt_nox = {**model, **eval_dt_nox }\n",
        "eval_dt_nox"
      ]
    },
    {
      "cell_type": "markdown",
      "metadata": {
        "id": "c7-6RRRcv7UU"
      },
      "source": [
        "#### Random forest for NOx\n",
        "\n",
        "\n"
      ]
    },
    {
      "cell_type": "markdown",
      "metadata": {
        "id": "mkwvHCqWq6qD"
      },
      "source": [
        "##### Optimising hyperparameters with Hyperopt"
      ]
    },
    {
      "cell_type": "code",
      "execution_count": 177,
      "metadata": {
        "id": "f3pbEOyiNexo",
        "colab": {
          "base_uri": "https://localhost:8080/"
        },
        "outputId": "2f047e85-9aeb-415c-f7b4-6f875c1b1bb9"
      },
      "outputs": [
        {
          "output_type": "stream",
          "name": "stdout",
          "text": [
            "2023-02-16 22:54:33.773125+05:30\n"
          ]
        }
      ],
      "source": [
        "print(datetime.now(pytz.timezone('Asia/Kolkata')))"
      ]
    },
    {
      "cell_type": "code",
      "execution_count": 178,
      "metadata": {
        "id": "bMRgKNI3v7UV",
        "colab": {
          "base_uri": "https://localhost:8080/"
        },
        "outputId": "2d1f376a-43a1-4f09-9748-96b601faf006"
      },
      "outputs": [
        {
          "output_type": "stream",
          "name": "stdout",
          "text": [
            "-4.265465039769983\n",
            "100%|██████████| 1/1 [02:53<00:00, 173.33s/it, best loss: 4.265465039769983]\n"
          ]
        }
      ],
      "source": [
        "trials = Trials()\n",
        "best_rf_nox = fmin(surr_func_rf, space=param_rf_nox, algo=tpe.suggest,\n",
        "               max_evals=no_of_trials_rf, trials=trials)\n"
      ]
    },
    {
      "cell_type": "code",
      "execution_count": 179,
      "metadata": {
        "id": "IbYxDoSBNfSg",
        "colab": {
          "base_uri": "https://localhost:8080/"
        },
        "outputId": "fdc71e83-4719-4703-f394-b6fdec8c236a"
      },
      "outputs": [
        {
          "output_type": "stream",
          "name": "stdout",
          "text": [
            "2023-02-16 22:57:27.136328+05:30\n"
          ]
        }
      ],
      "source": [
        "print(datetime.now(pytz.timezone('Asia/Kolkata')))"
      ]
    },
    {
      "cell_type": "code",
      "execution_count": 180,
      "metadata": {
        "id": "URGEkXVw3-Fb",
        "colab": {
          "base_uri": "https://localhost:8080/"
        },
        "outputId": "b798afae-f335-46e5-ba09-218bb0d15ba5"
      },
      "outputs": [
        {
          "output_type": "stream",
          "name": "stdout",
          "text": [
            "best_rf for NOx:\n",
            "{'n_estimators': 389, 'max_features': 3}\n"
          ]
        }
      ],
      "source": [
        "best_rf_nox = to_int_rf(best_rf_nox)\n",
        "\n",
        "print('best_rf for NOx:')\n",
        "print(best_rf_nox)"
      ]
    },
    {
      "cell_type": "markdown",
      "metadata": {
        "id": "LwUg7bNZoia8"
      },
      "source": [
        "##### Predict and score"
      ]
    },
    {
      "cell_type": "code",
      "execution_count": 181,
      "metadata": {
        "id": "aoQx1hKnv7UW"
      },
      "outputs": [],
      "source": [
        "# best_rf = {'max_features': 2, 'n_estimators': 451}"
      ]
    },
    {
      "cell_type": "code",
      "execution_count": 182,
      "metadata": {
        "id": "nEVcVAfFDIxD"
      },
      "outputs": [],
      "source": [
        "best_rf_nox = {'n_estimators': 500, 'max_features': 3} # 100 trials - rmse 16.806"
      ]
    },
    {
      "cell_type": "code",
      "execution_count": 183,
      "metadata": {
        "id": "sD6Vkz31v7UW"
      },
      "outputs": [],
      "source": [
        "rf_reg = RandomForestRegressor(**best_rf_nox)\n",
        "rf_reg.fit(x_train, y_train)\n",
        "pred_rf_nox = rf_reg.predict(x_test)"
      ]
    },
    {
      "cell_type": "code",
      "execution_count": 184,
      "metadata": {
        "id": "cMNWsZEJR6XY",
        "colab": {
          "base_uri": "https://localhost:8080/"
        },
        "outputId": "ee33b251-5227-41e1-e0c4-0fbde9289ceb"
      },
      "outputs": [
        {
          "output_type": "execute_result",
          "data": {
            "text/plain": [
              "{'Model': 'Random Forest',\n",
              " 'RMSE': 4.109306368582923,\n",
              " 'MAE': 2.661468913611616,\n",
              " 'Explained Variance': 0.873039542401228,\n",
              " 'R2 Score': 0.8730316525798554}"
            ]
          },
          "metadata": {},
          "execution_count": 184
        }
      ],
      "source": [
        "eval_rf_nox = evalfunc(y_test,pred_rf_nox)\n",
        "model = {'Model':'Random Forest'}\n",
        "eval_rf_nox = {**model, **eval_rf_nox }\n",
        "eval_rf_nox"
      ]
    },
    {
      "cell_type": "markdown",
      "metadata": {
        "id": "AUodXXlev7UW"
      },
      "source": [
        "#### GBM for NOx"
      ]
    },
    {
      "cell_type": "markdown",
      "metadata": {
        "id": "6jOUCKglq9z6"
      },
      "source": [
        "##### Optimising hyperparameters with Hyperopt"
      ]
    },
    {
      "cell_type": "code",
      "execution_count": 185,
      "metadata": {
        "id": "zhh-2bWhNhnR",
        "colab": {
          "base_uri": "https://localhost:8080/"
        },
        "outputId": "40e678ca-7d21-4474-ff17-d057607c7564"
      },
      "outputs": [
        {
          "output_type": "stream",
          "name": "stdout",
          "text": [
            "2023-02-16 22:58:11.081817+05:30\n"
          ]
        }
      ],
      "source": [
        "print(datetime.now(pytz.timezone('Asia/Kolkata')))"
      ]
    },
    {
      "cell_type": "code",
      "execution_count": 186,
      "metadata": {
        "id": "tJxgjP6fv7UY",
        "colab": {
          "base_uri": "https://localhost:8080/"
        },
        "outputId": "bd703c7f-5327-47cd-c8cb-1ab75e3b7e21"
      },
      "outputs": [
        {
          "output_type": "stream",
          "name": "stdout",
          "text": [
            "-4.904062036104167\n",
            "100%|██████████| 1/1 [02:11<00:00, 131.49s/it, best loss: 4.904062036104167]\n"
          ]
        }
      ],
      "source": [
        "trials = Trials()\n",
        "best_gbm_nox = fmin(surr_func_gbm, space=param_gbm_nox, algo=tpe.suggest,\n",
        "               max_evals=no_of_trials_gbm, trials=trials)"
      ]
    },
    {
      "cell_type": "code",
      "execution_count": 187,
      "metadata": {
        "id": "27TPo25dNiMz",
        "colab": {
          "base_uri": "https://localhost:8080/"
        },
        "outputId": "3b667bf3-b765-4ffd-9da2-83794b3d1cc6"
      },
      "outputs": [
        {
          "output_type": "stream",
          "name": "stdout",
          "text": [
            "2023-02-16 23:00:22.601138+05:30\n"
          ]
        }
      ],
      "source": [
        "print(datetime.now(pytz.timezone('Asia/Kolkata')))"
      ]
    },
    {
      "cell_type": "code",
      "execution_count": 188,
      "metadata": {
        "id": "_9mjDXIb4B0d",
        "colab": {
          "base_uri": "https://localhost:8080/"
        },
        "outputId": "2b7a2030-0025-4c52-8fdd-3c5feb453363"
      },
      "outputs": [
        {
          "output_type": "stream",
          "name": "stdout",
          "text": [
            "best_gbm for NOx:\n",
            "{'max_depth': 4, 'n_estimators': 423, 'learning_rate': 0.06548204450552185}\n"
          ]
        }
      ],
      "source": [
        "best_gbm_nox = to_int_gbm(best_gbm_nox)\n",
        "\n",
        "print('best_gbm for NOx:')\n",
        "print(best_gbm_nox)"
      ]
    },
    {
      "cell_type": "markdown",
      "metadata": {
        "id": "LhGeJs-LomRy"
      },
      "source": [
        "##### Predict and score"
      ]
    },
    {
      "cell_type": "code",
      "execution_count": 189,
      "metadata": {
        "id": "TXwAn4264wt0"
      },
      "outputs": [],
      "source": [
        "best_gbm_nox = {'max_depth': 6, 'n_estimators': 500, 'learning_rate': 0.08604449047410508} # 100 trials"
      ]
    },
    {
      "cell_type": "code",
      "execution_count": 190,
      "metadata": {
        "id": "-hIeFtdCv7UZ"
      },
      "outputs": [],
      "source": [
        "gbm_reg = GradientBoostingRegressor(**best_gbm_nox)\n",
        "gbm_reg.fit(x_train, y_train)\n",
        "pred_gbm_nox = gbm_reg.predict(x_test)"
      ]
    },
    {
      "cell_type": "code",
      "execution_count": 191,
      "metadata": {
        "id": "fKOIZgOoovpm",
        "colab": {
          "base_uri": "https://localhost:8080/"
        },
        "outputId": "eaa41fdd-4e8e-4cfb-bda4-ac977e6c2b5f"
      },
      "outputs": [
        {
          "output_type": "execute_result",
          "data": {
            "text/plain": [
              "{'Model': 'GBM',\n",
              " 'RMSE': 4.248799901082434,\n",
              " 'MAE': 2.845100463808164,\n",
              " 'Explained Variance': 0.864281851208161,\n",
              " 'R2 Score': 0.8642652706951719}"
            ]
          },
          "metadata": {},
          "execution_count": 191
        }
      ],
      "source": [
        "eval_gbm_nox = evalfunc(y_test,pred_gbm_nox)\n",
        "model = {'Model':'GBM'}\n",
        "eval_gbm_nox = {**model, **eval_gbm_nox }\n",
        "eval_gbm_nox"
      ]
    },
    {
      "cell_type": "markdown",
      "metadata": {
        "id": "ldKkZvVfv7UZ"
      },
      "source": [
        "#### XgBoost for NOx"
      ]
    },
    {
      "cell_type": "markdown",
      "metadata": {
        "id": "06W9XSP9rCbE"
      },
      "source": [
        "##### Optimising hyperparameters with Hyperopt"
      ]
    },
    {
      "cell_type": "code",
      "execution_count": 192,
      "metadata": {
        "id": "af3_E5lJNj-D",
        "colab": {
          "base_uri": "https://localhost:8080/"
        },
        "outputId": "d9e4f922-f08c-4c35-bcad-2b3a80aa87df"
      },
      "outputs": [
        {
          "output_type": "stream",
          "name": "stdout",
          "text": [
            "2023-02-16 23:01:19.868807+05:30\n"
          ]
        }
      ],
      "source": [
        "print(datetime.now(pytz.timezone('Asia/Kolkata')))"
      ]
    },
    {
      "cell_type": "code",
      "execution_count": 193,
      "metadata": {
        "id": "ZRHJgrmzv7Ua",
        "colab": {
          "base_uri": "https://localhost:8080/"
        },
        "outputId": "c0b71289-6cfd-4d51-f82d-67bb8e4f6874"
      },
      "outputs": [
        {
          "output_type": "stream",
          "name": "stdout",
          "text": [
            "[17:31:19] WARNING: /workspace/src/objective/regression_obj.cu:152: reg:linear is now deprecated in favor of reg:squarederror.\n",
            "[17:31:21] WARNING: /workspace/src/objective/regression_obj.cu:152: reg:linear is now deprecated in favor of reg:squarederror.\n",
            "[17:31:23] WARNING: /workspace/src/objective/regression_obj.cu:152: reg:linear is now deprecated in favor of reg:squarederror.\n",
            "[17:31:25] WARNING: /workspace/src/objective/regression_obj.cu:152: reg:linear is now deprecated in favor of reg:squarederror.\n",
            "[17:31:26] WARNING: /workspace/src/objective/regression_obj.cu:152: reg:linear is now deprecated in favor of reg:squarederror.\n",
            "-33.55151024534771\n",
            "100%|██████████| 1/1 [00:09<00:00,  9.44s/it, best loss: 33.55151024534771]\n"
          ]
        }
      ],
      "source": [
        "trials = Trials()\n",
        "best_xgb_nox = fmin(surr_func_xgb, space=param_xgb_nox, algo=tpe.suggest,\n",
        "               max_evals=no_of_trials_xgb, trials=trials)\n"
      ]
    },
    {
      "cell_type": "code",
      "execution_count": 194,
      "metadata": {
        "id": "-CiDw230NkoH",
        "colab": {
          "base_uri": "https://localhost:8080/"
        },
        "outputId": "055df5a9-68a1-4c3d-c18f-8a6518ccf35e"
      },
      "outputs": [
        {
          "output_type": "stream",
          "name": "stdout",
          "text": [
            "2023-02-16 23:01:29.329007+05:30\n"
          ]
        }
      ],
      "source": [
        "print(datetime.now(pytz.timezone('Asia/Kolkata')))"
      ]
    },
    {
      "cell_type": "code",
      "execution_count": 195,
      "metadata": {
        "id": "fFs8-DI04Ecx",
        "colab": {
          "base_uri": "https://localhost:8080/"
        },
        "outputId": "12c3560f-ae74-4af0-9566-533247fc7009"
      },
      "outputs": [
        {
          "output_type": "stream",
          "name": "stdout",
          "text": [
            "best_xgb for NOx:\n",
            "{'max_depth': 2, 'n_estimators': 310, 'learning_rate': 0.0022692431429382006, 'colsample_bytree': 0.7738632945461748}\n"
          ]
        }
      ],
      "source": [
        "best_xgb_nox = to_int_xgb(best_xgb_nox)\n",
        "\n",
        "print('best_xgb for NOx:')\n",
        "print(best_xgb_nox)"
      ]
    },
    {
      "cell_type": "markdown",
      "metadata": {
        "id": "SZkcJFE2pNMO"
      },
      "source": [
        "##### Predict and score"
      ]
    },
    {
      "cell_type": "code",
      "execution_count": 196,
      "metadata": {
        "id": "zxKT143bv7Ub"
      },
      "outputs": [],
      "source": [
        "# best_xgb_nox = {'colsample_bytree': 0.5904951775918889,\n",
        "#                 'learning_rate': 0.024729072063200287,\n",
        "#                 'max_depth': 5,\n",
        "#                 'n_estimators': 267}"
      ]
    },
    {
      "cell_type": "code",
      "execution_count": 197,
      "metadata": {
        "id": "aif_gvBGv7Ub"
      },
      "outputs": [],
      "source": [
        "# best_xgb_nox = {'colsample_bytree': 0.7974445913518547,\n",
        "#                 'learning_rate': 0.09830911482175203,\n",
        "#                 'max_depth': 5,\n",
        "#                 'n_estimators': 380}"
      ]
    },
    {
      "cell_type": "code",
      "execution_count": 198,
      "metadata": {
        "id": "_55jVBfwAXoC"
      },
      "outputs": [],
      "source": [
        "best_xgb_nox = {'max_depth': 7, \n",
        "                 'n_estimators': 490, \n",
        "                 'learning_rate': 0.0998996416307708, \n",
        "                 'colsample_bytree': 0.7995911284894895}\n",
        "\n",
        "# 500 iterations of lgbm, gives better result than other"
      ]
    },
    {
      "cell_type": "code",
      "execution_count": 199,
      "metadata": {
        "id": "VgXOI8GCv7Ub",
        "colab": {
          "base_uri": "https://localhost:8080/"
        },
        "outputId": "a3223eba-a6ba-4102-89e9-3392295b5a0e"
      },
      "outputs": [
        {
          "output_type": "stream",
          "name": "stdout",
          "text": [
            "[17:31:29] WARNING: /workspace/src/objective/regression_obj.cu:152: reg:linear is now deprecated in favor of reg:squarederror.\n",
            "17.156184951688235\n"
          ]
        }
      ],
      "source": [
        "xgb_reg = XGBRegressor(**best_xgb_nox)\n",
        "xgb_reg.fit(x_train, y_train)\n",
        "pred_xgb_nox = xgb_reg.predict(x_test)\n",
        "print(mean_squared_error(pred_xgb_nox, y_test))"
      ]
    },
    {
      "cell_type": "code",
      "execution_count": 200,
      "metadata": {
        "id": "JTJ0cIoao44x",
        "colab": {
          "base_uri": "https://localhost:8080/"
        },
        "outputId": "37ea1593-3019-40b0-e72b-96f6563e73fe"
      },
      "outputs": [
        {
          "output_type": "execute_result",
          "data": {
            "text/plain": [
              "{'Model': 'XgBoost',\n",
              " 'RMSE': 4.142002529174534,\n",
              " 'MAE': 2.7480511681807664,\n",
              " 'Explained Variance': 0.871007668536202,\n",
              " 'R2 Score': 0.8710031384923065}"
            ]
          },
          "metadata": {},
          "execution_count": 200
        }
      ],
      "source": [
        "eval_xgb_nox = evalfunc(y_test,pred_xgb_nox)\n",
        "model = {'Model':'XgBoost'}\n",
        "eval_xgb_nox = {**model, **eval_xgb_nox }\n",
        "eval_xgb_nox"
      ]
    },
    {
      "cell_type": "markdown",
      "metadata": {
        "id": "aLqtKeTgv7Uc"
      },
      "source": [
        "#### LightGBM for NOx"
      ]
    },
    {
      "cell_type": "markdown",
      "metadata": {
        "id": "5UegbiJ2rFOl"
      },
      "source": [
        "##### Optimising hyperparameters with Hyperopt"
      ]
    },
    {
      "cell_type": "code",
      "execution_count": 201,
      "metadata": {
        "id": "iVORNfuMNnQ_",
        "colab": {
          "base_uri": "https://localhost:8080/"
        },
        "outputId": "50f5d475-0901-4e4d-8019-3fc215ac6466"
      },
      "outputs": [
        {
          "output_type": "stream",
          "name": "stdout",
          "text": [
            "2023-02-16 23:01:43.415370+05:30\n"
          ]
        }
      ],
      "source": [
        "print(datetime.now(pytz.timezone('Asia/Kolkata')))"
      ]
    },
    {
      "cell_type": "code",
      "execution_count": 202,
      "metadata": {
        "id": "e-xhAq0bv7Ud",
        "colab": {
          "base_uri": "https://localhost:8080/"
        },
        "outputId": "d0e8c982-fefc-433b-aa3b-2ec946c6441a"
      },
      "outputs": [
        {
          "output_type": "stream",
          "name": "stdout",
          "text": [
            "-4.617523015158826\n",
            "100%|██████████| 1/1 [00:02<00:00,  2.53s/it, best loss: 4.617523015158826]\n"
          ]
        }
      ],
      "source": [
        "trials = Trials()\n",
        "best_lgbm_nox = fmin(surr_func_lgbm, space=param_lgbm_nox, algo=tpe.suggest,\n",
        "               max_evals=no_of_trials_lgbm, trials=trials)\n"
      ]
    },
    {
      "cell_type": "code",
      "execution_count": 203,
      "metadata": {
        "id": "YFLruCitNnnX",
        "colab": {
          "base_uri": "https://localhost:8080/"
        },
        "outputId": "376ef42e-e147-46d5-ef5b-c508580d9a34"
      },
      "outputs": [
        {
          "output_type": "stream",
          "name": "stdout",
          "text": [
            "2023-02-16 23:01:45.969669+05:30\n"
          ]
        }
      ],
      "source": [
        "print(datetime.now(pytz.timezone('Asia/Kolkata')))"
      ]
    },
    {
      "cell_type": "code",
      "execution_count": 204,
      "metadata": {
        "id": "l0QEXLEK4HVe",
        "colab": {
          "base_uri": "https://localhost:8080/"
        },
        "outputId": "019e01b8-e9b1-481f-fcc8-eb0ae16ca162"
      },
      "outputs": [
        {
          "output_type": "stream",
          "name": "stdout",
          "text": [
            "best_lgbm for NOx:\n",
            "{'max_depth': 6, 'n_estimators': 241, 'learning_rate': 0.09728622740838021, 'colsample_bytree': 0.7028700459221762}\n"
          ]
        }
      ],
      "source": [
        "best_lgbm_nox = to_int_lgbm(best_lgbm_nox)\n",
        "\n",
        "print('best_lgbm for NOx:')\n",
        "print(best_lgbm_nox)"
      ]
    },
    {
      "cell_type": "markdown",
      "metadata": {
        "id": "1rGRve6opQfg"
      },
      "source": [
        "##### Predict and score"
      ]
    },
    {
      "cell_type": "code",
      "execution_count": 205,
      "metadata": {
        "id": "Yt-Fsu_wI2Nc"
      },
      "outputs": [],
      "source": [
        "best_lgbm_nox = {'max_depth': 7, \n",
        "                 'n_estimators': 490, \n",
        "                 'learning_rate': 0.0998996416307708, \n",
        "                 'colsample_bytree': 0.7995911284894895}\n",
        "\n",
        "# 500 iterations"
      ]
    },
    {
      "cell_type": "code",
      "execution_count": 206,
      "metadata": {
        "id": "TKr5EjItv7Ue"
      },
      "outputs": [],
      "source": [
        "lgbm_reg = LGBMRegressor( **best_lgbm_nox)\n",
        "lgbm_reg.fit(x_train, y_train)\n",
        "pred_lgbm_nox = lgbm_reg.predict(x_test)"
      ]
    },
    {
      "cell_type": "code",
      "execution_count": 207,
      "metadata": {
        "id": "vkClC4w1pDXZ",
        "colab": {
          "base_uri": "https://localhost:8080/"
        },
        "outputId": "192dcc94-1345-423d-f3bc-0b017f6997e5"
      },
      "outputs": [
        {
          "output_type": "execute_result",
          "data": {
            "text/plain": [
              "{'Model': 'LightGBM',\n",
              " 'RMSE': 4.227108313665661,\n",
              " 'MAE': 2.8351752598694593,\n",
              " 'Explained Variance': 0.8656519570940425,\n",
              " 'R2 Score': 0.8656476779523475}"
            ]
          },
          "metadata": {},
          "execution_count": 207
        }
      ],
      "source": [
        "eval_lgbm_nox = evalfunc(y_test,pred_lgbm_nox)\n",
        "model = {'Model':'LightGBM'}\n",
        "eval_lgbm_nox = {**model, **eval_lgbm_nox }\n",
        "eval_lgbm_nox"
      ]
    },
    {
      "cell_type": "code",
      "execution_count": 208,
      "metadata": {
        "id": "nii5gWXxv7Uf"
      },
      "outputs": [],
      "source": [
        "# best_lgbm = {'colsample_bytree': 0.6669160688292152,\n",
        "#              'learning_rate': 0.07968656287632815,\n",
        "#              'max_depth': 6,\n",
        "#              'n_estimators': 491}\n",
        "\n",
        "\n",
        "# Additional parameters to play around with\n",
        "\n",
        "# lgbm = LGBMRegressor(boosting_type = 'rf', \\\n",
        "#                      num_leaves = \\\n",
        "#                      max_depth = \\\n",
        "#                      learning_rate = \\\n",
        "#                      n_estimators = \\\n",
        "#                      objective='regression', \\\n",
        "#                      random_state=123\\\n",
        "#                      n_jobs)\n",
        "\n",
        "# lgbm.fit(X, y)\n",
        "# y_pred = lgbm.predict(X_test)"
      ]
    },
    {
      "cell_type": "markdown",
      "metadata": {
        "id": "hgWeibO5v7Uf"
      },
      "source": [
        "#### Linear and Nonlinear SVM for NOx"
      ]
    },
    {
      "cell_type": "markdown",
      "metadata": {
        "id": "omtfDFYAQ6kX"
      },
      "source": [
        "##### Model Fitting without Hyperopt"
      ]
    },
    {
      "cell_type": "code",
      "execution_count": 209,
      "metadata": {
        "id": "HpjBtUtiv7Ug",
        "colab": {
          "base_uri": "https://localhost:8080/"
        },
        "outputId": "b37295fe-5112-4654-e70c-d0e1df872c28"
      },
      "outputs": [
        {
          "output_type": "execute_result",
          "data": {
            "text/plain": [
              "0.5071580442768158"
            ]
          },
          "metadata": {},
          "execution_count": 209
        }
      ],
      "source": [
        "svr_linear = SVR(kernel='linear',gamma='scale', C=1.0, epsilon=0.1)\n",
        "svr_linear.fit(x_train, y_train)\n",
        "svr_linear.score(x_test,y_test)"
      ]
    },
    {
      "cell_type": "code",
      "execution_count": 210,
      "metadata": {
        "id": "x1SnaQxSv7Ug",
        "colab": {
          "base_uri": "https://localhost:8080/"
        },
        "outputId": "b810e35b-e9aa-427e-d10f-334e8e1813a8"
      },
      "outputs": [
        {
          "output_type": "execute_result",
          "data": {
            "text/plain": [
              "0.07610775525097846"
            ]
          },
          "metadata": {},
          "execution_count": 210
        }
      ],
      "source": [
        "svr_rbf = SVR(kernel='rbf',gamma='scale', C=1.0, epsilon=0.1)\n",
        "svr_rbf.fit(x_train, y_train) \n",
        "svr_rbf.score(x_test,y_test)"
      ]
    },
    {
      "cell_type": "markdown",
      "metadata": {
        "id": "Sza8-29spuOv"
      },
      "source": [
        "##### Predict and score"
      ]
    },
    {
      "cell_type": "code",
      "execution_count": 211,
      "metadata": {
        "id": "pQNCESlJhspo"
      },
      "outputs": [],
      "source": [
        "pred_svmlin_nox = svr_linear.predict(x_test)\n",
        "pred_svmrbf_nox = svr_rbf.predict(x_test)"
      ]
    },
    {
      "cell_type": "code",
      "execution_count": 212,
      "metadata": {
        "id": "y05xnX2Hhvsh",
        "colab": {
          "base_uri": "https://localhost:8080/"
        },
        "outputId": "cd540a26-5aa8-4254-bb63-35f7f8b26b6d"
      },
      "outputs": [
        {
          "output_type": "execute_result",
          "data": {
            "text/plain": [
              "{'Model': 'SVM (Linear)',\n",
              " 'RMSE': 8.096076885819537,\n",
              " 'MAE': 5.5589226861708845,\n",
              " 'Explained Variance': 0.5081795442279664,\n",
              " 'R2 Score': 0.5071580442768158}"
            ]
          },
          "metadata": {},
          "execution_count": 212
        }
      ],
      "source": [
        "eval_svmlin_nox = evalfunc(y_test,pred_svmlin_nox)\n",
        "model = {'Model':'SVM (Linear)'}\n",
        "eval_svmlin_nox = {**model, **eval_svmlin_nox }\n",
        "eval_svmlin_nox"
      ]
    },
    {
      "cell_type": "code",
      "execution_count": 213,
      "metadata": {
        "id": "cX7m4w91hytC",
        "colab": {
          "base_uri": "https://localhost:8080/"
        },
        "outputId": "1491598c-a7f5-45d1-e907-a65754794f43"
      },
      "outputs": [
        {
          "output_type": "execute_result",
          "data": {
            "text/plain": [
              "{'Model': 'SVM (RBF)',\n",
              " 'RMSE': 11.084891550320041,\n",
              " 'MAE': 8.354793332908104,\n",
              " 'Explained Variance': 0.08496734869599787,\n",
              " 'R2 Score': 0.07610775525097846}"
            ]
          },
          "metadata": {},
          "execution_count": 213
        }
      ],
      "source": [
        "eval_svmrbf_nox = evalfunc(y_test,pred_svmrbf_nox)\n",
        "model = {'Model':'SVM (RBF)'}\n",
        "eval_svmrbf_nox = {**model, **eval_svmrbf_nox }\n",
        "eval_svmrbf_nox"
      ]
    },
    {
      "cell_type": "code",
      "execution_count": 214,
      "metadata": {
        "id": "DRlqNUisv7Uh"
      },
      "outputs": [],
      "source": [
        "# print(\"RMSE for linear SVR:\",np.sqrt(mean_squared_error(y_test,svr_linear.predict(x_test))))\n",
        "# print(\"RMSE for RBF kernelized SVR:\",np.sqrt(mean_squared_error(y_test,svr_rbf.predict(x_test))))"
      ]
    },
    {
      "cell_type": "markdown",
      "metadata": {
        "id": "71NmPF08FCAg"
      },
      "source": [
        "### Summary of Results:"
      ]
    },
    {
      "cell_type": "code",
      "execution_count": 215,
      "metadata": {
        "id": "JOdfHKNCFK9s"
      },
      "outputs": [],
      "source": [
        "results_co = [eval_linreg_co,\n",
        "              eval_lassoreg_co,\n",
        "              eval_ridgereg_co,\n",
        "              eval_enetreg_co,\n",
        "              eval_dt_co,\n",
        "              eval_rf_co,\n",
        "              eval_gbm_co,\n",
        "              eval_xgb_co,\n",
        "              eval_lgbm_co,\n",
        "              eval_svmlin_co,\n",
        "              eval_svmrbf_co]\n",
        "\n",
        "results_nox = [eval_linreg_nox,\n",
        "               eval_lassoreg_nox,\n",
        "               eval_ridgereg_nox,\n",
        "               eval_enetreg_nox,\n",
        "               eval_dt_nox,\n",
        "               eval_rf_nox,\n",
        "               eval_gbm_nox,\n",
        "               eval_xgb_nox,\n",
        "               eval_lgbm_nox,\n",
        "               eval_svmlin_nox,\n",
        "               eval_svmrbf_nox]"
      ]
    },
    {
      "cell_type": "code",
      "execution_count": 216,
      "metadata": {
        "id": "8KhjVC4YJbFy"
      },
      "outputs": [],
      "source": [
        "results_co_df = pd.DataFrame(results_co)"
      ]
    },
    {
      "cell_type": "code",
      "execution_count": 217,
      "metadata": {
        "id": "tUNF86OqJa8G"
      },
      "outputs": [],
      "source": [
        "results_nox_df = pd.DataFrame(results_nox)"
      ]
    },
    {
      "cell_type": "code",
      "execution_count": 218,
      "metadata": {
        "id": "epDUSwW-pxce"
      },
      "outputs": [],
      "source": [
        "# results_co_df = pd.DataFrame.from_dict([{'RMSE': 1.2831949123178783, 'MAE': 0.63663274252477, 'Explained Variance': 0.6390983062732489, 'R2 Score': 0.63909376162987}, \n",
        "#                                         {'RMSE': 1.0230005499724242, 'MAE': 0.4839501019883641, 'Explained Variance': 0.7706503978923341, 'R2 Score': 0.7706171917423937}, \n",
        "#                                         {'RMSE': 1.1124170135315137, 'MAE': 0.5240301459624677, 'Explained Variance': 0.7287794834967483, 'R2 Score': 0.7287658456729215}, \n",
        "#                                         {'RMSE': 1.081893548111886, 'MAE': 0.523029104242749, 'Explained Variance': 0.7434534062117033, 'R2 Score': 0.7434463529704147}, \n",
        "#                                         {'RMSE': 1.0927872335054158, 'MAE': 0.5365204926494304, 'Explained Variance': 0.7382836637008163, 'R2 Score': 0.7382538174476667}, \n",
        "#                                         {'RMSE': 1.4786753680891283, 'MAE': 0.8820457907548394, 'Explained Variance': 0.5381233309235107, 'R2 Score': 0.5207580707476601}, \n",
        "#                                         {'RMSE': 1.5493592173593018, 'MAE': 0.8408302360288261, 'Explained Variance': 0.4903799289169122, 'R2 Score': 0.4738454004095387}])"
      ]
    },
    {
      "cell_type": "code",
      "execution_count": 219,
      "metadata": {
        "id": "vC2ttNQIq_Ug"
      },
      "outputs": [],
      "source": [
        "# results_nox_df = pd.DataFrame.from_dict([{'RMSE': 5.564350021787014, 'MAE': 3.678563155724315, 'Explained Variance': 0.767204733039701, 'R2 Score': 0.767197678414169}, \n",
        "#                                         {'RMSE': 4.11270962934515, 'MAE': 2.668006968784031, 'Explained Variance': 0.8728311774884279, 'R2 Score': 0.8728212592493059}, \n",
        "#                                         {'RMSE': 4.247769672331107, 'MAE': 2.8434135442674378, 'Explained Variance': 0.8643452477627779, 'R2 Score': 0.8643310873353218}, \n",
        "#                                         {'RMSE': 4.142002529174534, 'MAE': 2.7480511681807664, 'Explained Variance': 0.871007668536202, 'R2 Score': 0.8710031384923065}, \n",
        "#                                         {'RMSE': 4.227108313665661, 'MAE': 2.8351752598694593, 'Explained Variance': 0.8656519570940425, 'R2 Score': 0.8656476779523475}, \n",
        "#                                         {'RMSE': 8.096076885819537, 'MAE': 5.5589226861708845, 'Explained Variance': 0.5081795442279664, 'R2 Score': 0.5071580442768158}, \n",
        "#                                         {'RMSE': 11.084891550320041, 'MAE': 8.354793332908104, 'Explained Variance': 0.08496734869599787, 'R2 Score': 0.07610775525097846}])"
      ]
    },
    {
      "cell_type": "code",
      "execution_count": 220,
      "metadata": {
        "id": "VmWPx9IOtOpx",
        "colab": {
          "base_uri": "https://localhost:8080/",
          "height": 394
        },
        "outputId": "42a12965-2d23-4c09-c987-6b32d4b6fe89"
      },
      "outputs": [
        {
          "output_type": "execute_result",
          "data": {
            "text/plain": [
              "                     Model      RMSE       MAE  Explained Variance  R2 Score\n",
              "0        Linear Regression  1.394875  0.848451            0.573538  0.573538\n",
              "1         Lasso Regression  1.395076  0.847906            0.573415  0.573415\n",
              "2         Ridge Regression  1.394875  0.848451            0.573538  0.573538\n",
              "3   Elastic Net Regression  1.395175  0.847835            0.573355  0.573355\n",
              "4            Decision Tree  1.307804  0.638333            0.625123  0.625118\n",
              "5            Random Forest  1.024335  0.484764            0.770049  0.770018\n",
              "6                      GBM  1.108830  0.524849            0.730530  0.730512\n",
              "7                  XgBoost  1.081894  0.523029            0.743453  0.743446\n",
              "8                 LightGBM  1.092787  0.536520            0.738284  0.738254\n",
              "9             SVM (Linear)  1.478675  0.882046            0.538123  0.520758\n",
              "10               SVM (RBF)  1.549359  0.840830            0.490380  0.473845"
            ],
            "text/html": [
              "\n",
              "  <div id=\"df-e628413e-3832-4045-8ade-bee9c2960780\">\n",
              "    <div class=\"colab-df-container\">\n",
              "      <div>\n",
              "<style scoped>\n",
              "    .dataframe tbody tr th:only-of-type {\n",
              "        vertical-align: middle;\n",
              "    }\n",
              "\n",
              "    .dataframe tbody tr th {\n",
              "        vertical-align: top;\n",
              "    }\n",
              "\n",
              "    .dataframe thead th {\n",
              "        text-align: right;\n",
              "    }\n",
              "</style>\n",
              "<table border=\"1\" class=\"dataframe\">\n",
              "  <thead>\n",
              "    <tr style=\"text-align: right;\">\n",
              "      <th></th>\n",
              "      <th>Model</th>\n",
              "      <th>RMSE</th>\n",
              "      <th>MAE</th>\n",
              "      <th>Explained Variance</th>\n",
              "      <th>R2 Score</th>\n",
              "    </tr>\n",
              "  </thead>\n",
              "  <tbody>\n",
              "    <tr>\n",
              "      <th>0</th>\n",
              "      <td>Linear Regression</td>\n",
              "      <td>1.394875</td>\n",
              "      <td>0.848451</td>\n",
              "      <td>0.573538</td>\n",
              "      <td>0.573538</td>\n",
              "    </tr>\n",
              "    <tr>\n",
              "      <th>1</th>\n",
              "      <td>Lasso Regression</td>\n",
              "      <td>1.395076</td>\n",
              "      <td>0.847906</td>\n",
              "      <td>0.573415</td>\n",
              "      <td>0.573415</td>\n",
              "    </tr>\n",
              "    <tr>\n",
              "      <th>2</th>\n",
              "      <td>Ridge Regression</td>\n",
              "      <td>1.394875</td>\n",
              "      <td>0.848451</td>\n",
              "      <td>0.573538</td>\n",
              "      <td>0.573538</td>\n",
              "    </tr>\n",
              "    <tr>\n",
              "      <th>3</th>\n",
              "      <td>Elastic Net Regression</td>\n",
              "      <td>1.395175</td>\n",
              "      <td>0.847835</td>\n",
              "      <td>0.573355</td>\n",
              "      <td>0.573355</td>\n",
              "    </tr>\n",
              "    <tr>\n",
              "      <th>4</th>\n",
              "      <td>Decision Tree</td>\n",
              "      <td>1.307804</td>\n",
              "      <td>0.638333</td>\n",
              "      <td>0.625123</td>\n",
              "      <td>0.625118</td>\n",
              "    </tr>\n",
              "    <tr>\n",
              "      <th>5</th>\n",
              "      <td>Random Forest</td>\n",
              "      <td>1.024335</td>\n",
              "      <td>0.484764</td>\n",
              "      <td>0.770049</td>\n",
              "      <td>0.770018</td>\n",
              "    </tr>\n",
              "    <tr>\n",
              "      <th>6</th>\n",
              "      <td>GBM</td>\n",
              "      <td>1.108830</td>\n",
              "      <td>0.524849</td>\n",
              "      <td>0.730530</td>\n",
              "      <td>0.730512</td>\n",
              "    </tr>\n",
              "    <tr>\n",
              "      <th>7</th>\n",
              "      <td>XgBoost</td>\n",
              "      <td>1.081894</td>\n",
              "      <td>0.523029</td>\n",
              "      <td>0.743453</td>\n",
              "      <td>0.743446</td>\n",
              "    </tr>\n",
              "    <tr>\n",
              "      <th>8</th>\n",
              "      <td>LightGBM</td>\n",
              "      <td>1.092787</td>\n",
              "      <td>0.536520</td>\n",
              "      <td>0.738284</td>\n",
              "      <td>0.738254</td>\n",
              "    </tr>\n",
              "    <tr>\n",
              "      <th>9</th>\n",
              "      <td>SVM (Linear)</td>\n",
              "      <td>1.478675</td>\n",
              "      <td>0.882046</td>\n",
              "      <td>0.538123</td>\n",
              "      <td>0.520758</td>\n",
              "    </tr>\n",
              "    <tr>\n",
              "      <th>10</th>\n",
              "      <td>SVM (RBF)</td>\n",
              "      <td>1.549359</td>\n",
              "      <td>0.840830</td>\n",
              "      <td>0.490380</td>\n",
              "      <td>0.473845</td>\n",
              "    </tr>\n",
              "  </tbody>\n",
              "</table>\n",
              "</div>\n",
              "      <button class=\"colab-df-convert\" onclick=\"convertToInteractive('df-e628413e-3832-4045-8ade-bee9c2960780')\"\n",
              "              title=\"Convert this dataframe to an interactive table.\"\n",
              "              style=\"display:none;\">\n",
              "        \n",
              "  <svg xmlns=\"http://www.w3.org/2000/svg\" height=\"24px\"viewBox=\"0 0 24 24\"\n",
              "       width=\"24px\">\n",
              "    <path d=\"M0 0h24v24H0V0z\" fill=\"none\"/>\n",
              "    <path d=\"M18.56 5.44l.94 2.06.94-2.06 2.06-.94-2.06-.94-.94-2.06-.94 2.06-2.06.94zm-11 1L8.5 8.5l.94-2.06 2.06-.94-2.06-.94L8.5 2.5l-.94 2.06-2.06.94zm10 10l.94 2.06.94-2.06 2.06-.94-2.06-.94-.94-2.06-.94 2.06-2.06.94z\"/><path d=\"M17.41 7.96l-1.37-1.37c-.4-.4-.92-.59-1.43-.59-.52 0-1.04.2-1.43.59L10.3 9.45l-7.72 7.72c-.78.78-.78 2.05 0 2.83L4 21.41c.39.39.9.59 1.41.59.51 0 1.02-.2 1.41-.59l7.78-7.78 2.81-2.81c.8-.78.8-2.07 0-2.86zM5.41 20L4 18.59l7.72-7.72 1.47 1.35L5.41 20z\"/>\n",
              "  </svg>\n",
              "      </button>\n",
              "      \n",
              "  <style>\n",
              "    .colab-df-container {\n",
              "      display:flex;\n",
              "      flex-wrap:wrap;\n",
              "      gap: 12px;\n",
              "    }\n",
              "\n",
              "    .colab-df-convert {\n",
              "      background-color: #E8F0FE;\n",
              "      border: none;\n",
              "      border-radius: 50%;\n",
              "      cursor: pointer;\n",
              "      display: none;\n",
              "      fill: #1967D2;\n",
              "      height: 32px;\n",
              "      padding: 0 0 0 0;\n",
              "      width: 32px;\n",
              "    }\n",
              "\n",
              "    .colab-df-convert:hover {\n",
              "      background-color: #E2EBFA;\n",
              "      box-shadow: 0px 1px 2px rgba(60, 64, 67, 0.3), 0px 1px 3px 1px rgba(60, 64, 67, 0.15);\n",
              "      fill: #174EA6;\n",
              "    }\n",
              "\n",
              "    [theme=dark] .colab-df-convert {\n",
              "      background-color: #3B4455;\n",
              "      fill: #D2E3FC;\n",
              "    }\n",
              "\n",
              "    [theme=dark] .colab-df-convert:hover {\n",
              "      background-color: #434B5C;\n",
              "      box-shadow: 0px 1px 3px 1px rgba(0, 0, 0, 0.15);\n",
              "      filter: drop-shadow(0px 1px 2px rgba(0, 0, 0, 0.3));\n",
              "      fill: #FFFFFF;\n",
              "    }\n",
              "  </style>\n",
              "\n",
              "      <script>\n",
              "        const buttonEl =\n",
              "          document.querySelector('#df-e628413e-3832-4045-8ade-bee9c2960780 button.colab-df-convert');\n",
              "        buttonEl.style.display =\n",
              "          google.colab.kernel.accessAllowed ? 'block' : 'none';\n",
              "\n",
              "        async function convertToInteractive(key) {\n",
              "          const element = document.querySelector('#df-e628413e-3832-4045-8ade-bee9c2960780');\n",
              "          const dataTable =\n",
              "            await google.colab.kernel.invokeFunction('convertToInteractive',\n",
              "                                                     [key], {});\n",
              "          if (!dataTable) return;\n",
              "\n",
              "          const docLinkHtml = 'Like what you see? Visit the ' +\n",
              "            '<a target=\"_blank\" href=https://colab.research.google.com/notebooks/data_table.ipynb>data table notebook</a>'\n",
              "            + ' to learn more about interactive tables.';\n",
              "          element.innerHTML = '';\n",
              "          dataTable['output_type'] = 'display_data';\n",
              "          await google.colab.output.renderOutput(dataTable, element);\n",
              "          const docLink = document.createElement('div');\n",
              "          docLink.innerHTML = docLinkHtml;\n",
              "          element.appendChild(docLink);\n",
              "        }\n",
              "      </script>\n",
              "    </div>\n",
              "  </div>\n",
              "  "
            ]
          },
          "metadata": {},
          "execution_count": 220
        }
      ],
      "source": [
        "results_co_df"
      ]
    },
    {
      "cell_type": "code",
      "execution_count": 221,
      "metadata": {
        "id": "z_SG1ocgrXHO",
        "colab": {
          "base_uri": "https://localhost:8080/",
          "height": 394
        },
        "outputId": "1cc5ffc0-11eb-4aaf-c6a1-e4df9a98406e"
      },
      "outputs": [
        {
          "output_type": "execute_result",
          "data": {
            "text/plain": [
              "                     Model       RMSE       MAE  Explained Variance  R2 Score\n",
              "0        Linear Regression   8.011552  5.775180            0.517780  0.517395\n",
              "1         Lasso Regression   8.011677  5.775608            0.517765  0.517380\n",
              "2         Ridge Regression   8.011552  5.775180            0.517780  0.517395\n",
              "3   Elastic Net Regression   8.011658  5.775609            0.517768  0.517382\n",
              "4            Decision Tree   5.547026  3.672941            0.768655  0.768645\n",
              "5            Random Forest   4.109306  2.661469            0.873040  0.873032\n",
              "6                      GBM   4.248800  2.845100            0.864282  0.864265\n",
              "7                  XgBoost   4.142003  2.748051            0.871008  0.871003\n",
              "8                 LightGBM   4.227108  2.835175            0.865652  0.865648\n",
              "9             SVM (Linear)   8.096077  5.558923            0.508180  0.507158\n",
              "10               SVM (RBF)  11.084892  8.354793            0.084967  0.076108"
            ],
            "text/html": [
              "\n",
              "  <div id=\"df-9376460b-1731-42e5-849a-0d8173a50667\">\n",
              "    <div class=\"colab-df-container\">\n",
              "      <div>\n",
              "<style scoped>\n",
              "    .dataframe tbody tr th:only-of-type {\n",
              "        vertical-align: middle;\n",
              "    }\n",
              "\n",
              "    .dataframe tbody tr th {\n",
              "        vertical-align: top;\n",
              "    }\n",
              "\n",
              "    .dataframe thead th {\n",
              "        text-align: right;\n",
              "    }\n",
              "</style>\n",
              "<table border=\"1\" class=\"dataframe\">\n",
              "  <thead>\n",
              "    <tr style=\"text-align: right;\">\n",
              "      <th></th>\n",
              "      <th>Model</th>\n",
              "      <th>RMSE</th>\n",
              "      <th>MAE</th>\n",
              "      <th>Explained Variance</th>\n",
              "      <th>R2 Score</th>\n",
              "    </tr>\n",
              "  </thead>\n",
              "  <tbody>\n",
              "    <tr>\n",
              "      <th>0</th>\n",
              "      <td>Linear Regression</td>\n",
              "      <td>8.011552</td>\n",
              "      <td>5.775180</td>\n",
              "      <td>0.517780</td>\n",
              "      <td>0.517395</td>\n",
              "    </tr>\n",
              "    <tr>\n",
              "      <th>1</th>\n",
              "      <td>Lasso Regression</td>\n",
              "      <td>8.011677</td>\n",
              "      <td>5.775608</td>\n",
              "      <td>0.517765</td>\n",
              "      <td>0.517380</td>\n",
              "    </tr>\n",
              "    <tr>\n",
              "      <th>2</th>\n",
              "      <td>Ridge Regression</td>\n",
              "      <td>8.011552</td>\n",
              "      <td>5.775180</td>\n",
              "      <td>0.517780</td>\n",
              "      <td>0.517395</td>\n",
              "    </tr>\n",
              "    <tr>\n",
              "      <th>3</th>\n",
              "      <td>Elastic Net Regression</td>\n",
              "      <td>8.011658</td>\n",
              "      <td>5.775609</td>\n",
              "      <td>0.517768</td>\n",
              "      <td>0.517382</td>\n",
              "    </tr>\n",
              "    <tr>\n",
              "      <th>4</th>\n",
              "      <td>Decision Tree</td>\n",
              "      <td>5.547026</td>\n",
              "      <td>3.672941</td>\n",
              "      <td>0.768655</td>\n",
              "      <td>0.768645</td>\n",
              "    </tr>\n",
              "    <tr>\n",
              "      <th>5</th>\n",
              "      <td>Random Forest</td>\n",
              "      <td>4.109306</td>\n",
              "      <td>2.661469</td>\n",
              "      <td>0.873040</td>\n",
              "      <td>0.873032</td>\n",
              "    </tr>\n",
              "    <tr>\n",
              "      <th>6</th>\n",
              "      <td>GBM</td>\n",
              "      <td>4.248800</td>\n",
              "      <td>2.845100</td>\n",
              "      <td>0.864282</td>\n",
              "      <td>0.864265</td>\n",
              "    </tr>\n",
              "    <tr>\n",
              "      <th>7</th>\n",
              "      <td>XgBoost</td>\n",
              "      <td>4.142003</td>\n",
              "      <td>2.748051</td>\n",
              "      <td>0.871008</td>\n",
              "      <td>0.871003</td>\n",
              "    </tr>\n",
              "    <tr>\n",
              "      <th>8</th>\n",
              "      <td>LightGBM</td>\n",
              "      <td>4.227108</td>\n",
              "      <td>2.835175</td>\n",
              "      <td>0.865652</td>\n",
              "      <td>0.865648</td>\n",
              "    </tr>\n",
              "    <tr>\n",
              "      <th>9</th>\n",
              "      <td>SVM (Linear)</td>\n",
              "      <td>8.096077</td>\n",
              "      <td>5.558923</td>\n",
              "      <td>0.508180</td>\n",
              "      <td>0.507158</td>\n",
              "    </tr>\n",
              "    <tr>\n",
              "      <th>10</th>\n",
              "      <td>SVM (RBF)</td>\n",
              "      <td>11.084892</td>\n",
              "      <td>8.354793</td>\n",
              "      <td>0.084967</td>\n",
              "      <td>0.076108</td>\n",
              "    </tr>\n",
              "  </tbody>\n",
              "</table>\n",
              "</div>\n",
              "      <button class=\"colab-df-convert\" onclick=\"convertToInteractive('df-9376460b-1731-42e5-849a-0d8173a50667')\"\n",
              "              title=\"Convert this dataframe to an interactive table.\"\n",
              "              style=\"display:none;\">\n",
              "        \n",
              "  <svg xmlns=\"http://www.w3.org/2000/svg\" height=\"24px\"viewBox=\"0 0 24 24\"\n",
              "       width=\"24px\">\n",
              "    <path d=\"M0 0h24v24H0V0z\" fill=\"none\"/>\n",
              "    <path d=\"M18.56 5.44l.94 2.06.94-2.06 2.06-.94-2.06-.94-.94-2.06-.94 2.06-2.06.94zm-11 1L8.5 8.5l.94-2.06 2.06-.94-2.06-.94L8.5 2.5l-.94 2.06-2.06.94zm10 10l.94 2.06.94-2.06 2.06-.94-2.06-.94-.94-2.06-.94 2.06-2.06.94z\"/><path d=\"M17.41 7.96l-1.37-1.37c-.4-.4-.92-.59-1.43-.59-.52 0-1.04.2-1.43.59L10.3 9.45l-7.72 7.72c-.78.78-.78 2.05 0 2.83L4 21.41c.39.39.9.59 1.41.59.51 0 1.02-.2 1.41-.59l7.78-7.78 2.81-2.81c.8-.78.8-2.07 0-2.86zM5.41 20L4 18.59l7.72-7.72 1.47 1.35L5.41 20z\"/>\n",
              "  </svg>\n",
              "      </button>\n",
              "      \n",
              "  <style>\n",
              "    .colab-df-container {\n",
              "      display:flex;\n",
              "      flex-wrap:wrap;\n",
              "      gap: 12px;\n",
              "    }\n",
              "\n",
              "    .colab-df-convert {\n",
              "      background-color: #E8F0FE;\n",
              "      border: none;\n",
              "      border-radius: 50%;\n",
              "      cursor: pointer;\n",
              "      display: none;\n",
              "      fill: #1967D2;\n",
              "      height: 32px;\n",
              "      padding: 0 0 0 0;\n",
              "      width: 32px;\n",
              "    }\n",
              "\n",
              "    .colab-df-convert:hover {\n",
              "      background-color: #E2EBFA;\n",
              "      box-shadow: 0px 1px 2px rgba(60, 64, 67, 0.3), 0px 1px 3px 1px rgba(60, 64, 67, 0.15);\n",
              "      fill: #174EA6;\n",
              "    }\n",
              "\n",
              "    [theme=dark] .colab-df-convert {\n",
              "      background-color: #3B4455;\n",
              "      fill: #D2E3FC;\n",
              "    }\n",
              "\n",
              "    [theme=dark] .colab-df-convert:hover {\n",
              "      background-color: #434B5C;\n",
              "      box-shadow: 0px 1px 3px 1px rgba(0, 0, 0, 0.15);\n",
              "      filter: drop-shadow(0px 1px 2px rgba(0, 0, 0, 0.3));\n",
              "      fill: #FFFFFF;\n",
              "    }\n",
              "  </style>\n",
              "\n",
              "      <script>\n",
              "        const buttonEl =\n",
              "          document.querySelector('#df-9376460b-1731-42e5-849a-0d8173a50667 button.colab-df-convert');\n",
              "        buttonEl.style.display =\n",
              "          google.colab.kernel.accessAllowed ? 'block' : 'none';\n",
              "\n",
              "        async function convertToInteractive(key) {\n",
              "          const element = document.querySelector('#df-9376460b-1731-42e5-849a-0d8173a50667');\n",
              "          const dataTable =\n",
              "            await google.colab.kernel.invokeFunction('convertToInteractive',\n",
              "                                                     [key], {});\n",
              "          if (!dataTable) return;\n",
              "\n",
              "          const docLinkHtml = 'Like what you see? Visit the ' +\n",
              "            '<a target=\"_blank\" href=https://colab.research.google.com/notebooks/data_table.ipynb>data table notebook</a>'\n",
              "            + ' to learn more about interactive tables.';\n",
              "          element.innerHTML = '';\n",
              "          dataTable['output_type'] = 'display_data';\n",
              "          await google.colab.output.renderOutput(dataTable, element);\n",
              "          const docLink = document.createElement('div');\n",
              "          docLink.innerHTML = docLinkHtml;\n",
              "          element.appendChild(docLink);\n",
              "        }\n",
              "      </script>\n",
              "    </div>\n",
              "  </div>\n",
              "  "
            ]
          },
          "metadata": {},
          "execution_count": 221
        }
      ],
      "source": [
        "results_nox_df"
      ]
    },
    {
      "cell_type": "code",
      "execution_count": 222,
      "metadata": {
        "id": "-2hvKx1oQVHa",
        "colab": {
          "base_uri": "https://localhost:8080/",
          "height": 394
        },
        "outputId": "f8da9b4f-ff6b-48b8-8b2e-b6449d2a30e0"
      },
      "outputs": [
        {
          "output_type": "execute_result",
          "data": {
            "text/plain": [
              "                     Model      RMSE       MAE  Explained Variance  R2 Score\n",
              "5            Random Forest  1.024335  0.484764            0.770049  0.770018\n",
              "7                  XgBoost  1.081894  0.523029            0.743453  0.743446\n",
              "8                 LightGBM  1.092787  0.536520            0.738284  0.738254\n",
              "6                      GBM  1.108830  0.524849            0.730530  0.730512\n",
              "4            Decision Tree  1.307804  0.638333            0.625123  0.625118\n",
              "0        Linear Regression  1.394875  0.848451            0.573538  0.573538\n",
              "2         Ridge Regression  1.394875  0.848451            0.573538  0.573538\n",
              "1         Lasso Regression  1.395076  0.847906            0.573415  0.573415\n",
              "3   Elastic Net Regression  1.395175  0.847835            0.573355  0.573355\n",
              "9             SVM (Linear)  1.478675  0.882046            0.538123  0.520758\n",
              "10               SVM (RBF)  1.549359  0.840830            0.490380  0.473845"
            ],
            "text/html": [
              "\n",
              "  <div id=\"df-a0a776d7-73c8-48d5-9c28-84cb14a4cc2d\">\n",
              "    <div class=\"colab-df-container\">\n",
              "      <div>\n",
              "<style scoped>\n",
              "    .dataframe tbody tr th:only-of-type {\n",
              "        vertical-align: middle;\n",
              "    }\n",
              "\n",
              "    .dataframe tbody tr th {\n",
              "        vertical-align: top;\n",
              "    }\n",
              "\n",
              "    .dataframe thead th {\n",
              "        text-align: right;\n",
              "    }\n",
              "</style>\n",
              "<table border=\"1\" class=\"dataframe\">\n",
              "  <thead>\n",
              "    <tr style=\"text-align: right;\">\n",
              "      <th></th>\n",
              "      <th>Model</th>\n",
              "      <th>RMSE</th>\n",
              "      <th>MAE</th>\n",
              "      <th>Explained Variance</th>\n",
              "      <th>R2 Score</th>\n",
              "    </tr>\n",
              "  </thead>\n",
              "  <tbody>\n",
              "    <tr>\n",
              "      <th>5</th>\n",
              "      <td>Random Forest</td>\n",
              "      <td>1.024335</td>\n",
              "      <td>0.484764</td>\n",
              "      <td>0.770049</td>\n",
              "      <td>0.770018</td>\n",
              "    </tr>\n",
              "    <tr>\n",
              "      <th>7</th>\n",
              "      <td>XgBoost</td>\n",
              "      <td>1.081894</td>\n",
              "      <td>0.523029</td>\n",
              "      <td>0.743453</td>\n",
              "      <td>0.743446</td>\n",
              "    </tr>\n",
              "    <tr>\n",
              "      <th>8</th>\n",
              "      <td>LightGBM</td>\n",
              "      <td>1.092787</td>\n",
              "      <td>0.536520</td>\n",
              "      <td>0.738284</td>\n",
              "      <td>0.738254</td>\n",
              "    </tr>\n",
              "    <tr>\n",
              "      <th>6</th>\n",
              "      <td>GBM</td>\n",
              "      <td>1.108830</td>\n",
              "      <td>0.524849</td>\n",
              "      <td>0.730530</td>\n",
              "      <td>0.730512</td>\n",
              "    </tr>\n",
              "    <tr>\n",
              "      <th>4</th>\n",
              "      <td>Decision Tree</td>\n",
              "      <td>1.307804</td>\n",
              "      <td>0.638333</td>\n",
              "      <td>0.625123</td>\n",
              "      <td>0.625118</td>\n",
              "    </tr>\n",
              "    <tr>\n",
              "      <th>0</th>\n",
              "      <td>Linear Regression</td>\n",
              "      <td>1.394875</td>\n",
              "      <td>0.848451</td>\n",
              "      <td>0.573538</td>\n",
              "      <td>0.573538</td>\n",
              "    </tr>\n",
              "    <tr>\n",
              "      <th>2</th>\n",
              "      <td>Ridge Regression</td>\n",
              "      <td>1.394875</td>\n",
              "      <td>0.848451</td>\n",
              "      <td>0.573538</td>\n",
              "      <td>0.573538</td>\n",
              "    </tr>\n",
              "    <tr>\n",
              "      <th>1</th>\n",
              "      <td>Lasso Regression</td>\n",
              "      <td>1.395076</td>\n",
              "      <td>0.847906</td>\n",
              "      <td>0.573415</td>\n",
              "      <td>0.573415</td>\n",
              "    </tr>\n",
              "    <tr>\n",
              "      <th>3</th>\n",
              "      <td>Elastic Net Regression</td>\n",
              "      <td>1.395175</td>\n",
              "      <td>0.847835</td>\n",
              "      <td>0.573355</td>\n",
              "      <td>0.573355</td>\n",
              "    </tr>\n",
              "    <tr>\n",
              "      <th>9</th>\n",
              "      <td>SVM (Linear)</td>\n",
              "      <td>1.478675</td>\n",
              "      <td>0.882046</td>\n",
              "      <td>0.538123</td>\n",
              "      <td>0.520758</td>\n",
              "    </tr>\n",
              "    <tr>\n",
              "      <th>10</th>\n",
              "      <td>SVM (RBF)</td>\n",
              "      <td>1.549359</td>\n",
              "      <td>0.840830</td>\n",
              "      <td>0.490380</td>\n",
              "      <td>0.473845</td>\n",
              "    </tr>\n",
              "  </tbody>\n",
              "</table>\n",
              "</div>\n",
              "      <button class=\"colab-df-convert\" onclick=\"convertToInteractive('df-a0a776d7-73c8-48d5-9c28-84cb14a4cc2d')\"\n",
              "              title=\"Convert this dataframe to an interactive table.\"\n",
              "              style=\"display:none;\">\n",
              "        \n",
              "  <svg xmlns=\"http://www.w3.org/2000/svg\" height=\"24px\"viewBox=\"0 0 24 24\"\n",
              "       width=\"24px\">\n",
              "    <path d=\"M0 0h24v24H0V0z\" fill=\"none\"/>\n",
              "    <path d=\"M18.56 5.44l.94 2.06.94-2.06 2.06-.94-2.06-.94-.94-2.06-.94 2.06-2.06.94zm-11 1L8.5 8.5l.94-2.06 2.06-.94-2.06-.94L8.5 2.5l-.94 2.06-2.06.94zm10 10l.94 2.06.94-2.06 2.06-.94-2.06-.94-.94-2.06-.94 2.06-2.06.94z\"/><path d=\"M17.41 7.96l-1.37-1.37c-.4-.4-.92-.59-1.43-.59-.52 0-1.04.2-1.43.59L10.3 9.45l-7.72 7.72c-.78.78-.78 2.05 0 2.83L4 21.41c.39.39.9.59 1.41.59.51 0 1.02-.2 1.41-.59l7.78-7.78 2.81-2.81c.8-.78.8-2.07 0-2.86zM5.41 20L4 18.59l7.72-7.72 1.47 1.35L5.41 20z\"/>\n",
              "  </svg>\n",
              "      </button>\n",
              "      \n",
              "  <style>\n",
              "    .colab-df-container {\n",
              "      display:flex;\n",
              "      flex-wrap:wrap;\n",
              "      gap: 12px;\n",
              "    }\n",
              "\n",
              "    .colab-df-convert {\n",
              "      background-color: #E8F0FE;\n",
              "      border: none;\n",
              "      border-radius: 50%;\n",
              "      cursor: pointer;\n",
              "      display: none;\n",
              "      fill: #1967D2;\n",
              "      height: 32px;\n",
              "      padding: 0 0 0 0;\n",
              "      width: 32px;\n",
              "    }\n",
              "\n",
              "    .colab-df-convert:hover {\n",
              "      background-color: #E2EBFA;\n",
              "      box-shadow: 0px 1px 2px rgba(60, 64, 67, 0.3), 0px 1px 3px 1px rgba(60, 64, 67, 0.15);\n",
              "      fill: #174EA6;\n",
              "    }\n",
              "\n",
              "    [theme=dark] .colab-df-convert {\n",
              "      background-color: #3B4455;\n",
              "      fill: #D2E3FC;\n",
              "    }\n",
              "\n",
              "    [theme=dark] .colab-df-convert:hover {\n",
              "      background-color: #434B5C;\n",
              "      box-shadow: 0px 1px 3px 1px rgba(0, 0, 0, 0.15);\n",
              "      filter: drop-shadow(0px 1px 2px rgba(0, 0, 0, 0.3));\n",
              "      fill: #FFFFFF;\n",
              "    }\n",
              "  </style>\n",
              "\n",
              "      <script>\n",
              "        const buttonEl =\n",
              "          document.querySelector('#df-a0a776d7-73c8-48d5-9c28-84cb14a4cc2d button.colab-df-convert');\n",
              "        buttonEl.style.display =\n",
              "          google.colab.kernel.accessAllowed ? 'block' : 'none';\n",
              "\n",
              "        async function convertToInteractive(key) {\n",
              "          const element = document.querySelector('#df-a0a776d7-73c8-48d5-9c28-84cb14a4cc2d');\n",
              "          const dataTable =\n",
              "            await google.colab.kernel.invokeFunction('convertToInteractive',\n",
              "                                                     [key], {});\n",
              "          if (!dataTable) return;\n",
              "\n",
              "          const docLinkHtml = 'Like what you see? Visit the ' +\n",
              "            '<a target=\"_blank\" href=https://colab.research.google.com/notebooks/data_table.ipynb>data table notebook</a>'\n",
              "            + ' to learn more about interactive tables.';\n",
              "          element.innerHTML = '';\n",
              "          dataTable['output_type'] = 'display_data';\n",
              "          await google.colab.output.renderOutput(dataTable, element);\n",
              "          const docLink = document.createElement('div');\n",
              "          docLink.innerHTML = docLinkHtml;\n",
              "          element.appendChild(docLink);\n",
              "        }\n",
              "      </script>\n",
              "    </div>\n",
              "  </div>\n",
              "  "
            ]
          },
          "metadata": {},
          "execution_count": 222
        }
      ],
      "source": [
        "results_co_df.sort_values(by = ['RMSE'])"
      ]
    },
    {
      "cell_type": "code",
      "execution_count": 223,
      "metadata": {
        "id": "G6Jx2Qm0tQ7X",
        "colab": {
          "base_uri": "https://localhost:8080/",
          "height": 394
        },
        "outputId": "9cea5c48-5482-44e7-cc87-72ef5e4de1ce"
      },
      "outputs": [
        {
          "output_type": "execute_result",
          "data": {
            "text/plain": [
              "                     Model       RMSE       MAE  Explained Variance  R2 Score\n",
              "5            Random Forest   4.109306  2.661469            0.873040  0.873032\n",
              "7                  XgBoost   4.142003  2.748051            0.871008  0.871003\n",
              "8                 LightGBM   4.227108  2.835175            0.865652  0.865648\n",
              "6                      GBM   4.248800  2.845100            0.864282  0.864265\n",
              "4            Decision Tree   5.547026  3.672941            0.768655  0.768645\n",
              "0        Linear Regression   8.011552  5.775180            0.517780  0.517395\n",
              "2         Ridge Regression   8.011552  5.775180            0.517780  0.517395\n",
              "3   Elastic Net Regression   8.011658  5.775609            0.517768  0.517382\n",
              "1         Lasso Regression   8.011677  5.775608            0.517765  0.517380\n",
              "9             SVM (Linear)   8.096077  5.558923            0.508180  0.507158\n",
              "10               SVM (RBF)  11.084892  8.354793            0.084967  0.076108"
            ],
            "text/html": [
              "\n",
              "  <div id=\"df-f99be429-2bb3-46b6-b802-12a78f38d540\">\n",
              "    <div class=\"colab-df-container\">\n",
              "      <div>\n",
              "<style scoped>\n",
              "    .dataframe tbody tr th:only-of-type {\n",
              "        vertical-align: middle;\n",
              "    }\n",
              "\n",
              "    .dataframe tbody tr th {\n",
              "        vertical-align: top;\n",
              "    }\n",
              "\n",
              "    .dataframe thead th {\n",
              "        text-align: right;\n",
              "    }\n",
              "</style>\n",
              "<table border=\"1\" class=\"dataframe\">\n",
              "  <thead>\n",
              "    <tr style=\"text-align: right;\">\n",
              "      <th></th>\n",
              "      <th>Model</th>\n",
              "      <th>RMSE</th>\n",
              "      <th>MAE</th>\n",
              "      <th>Explained Variance</th>\n",
              "      <th>R2 Score</th>\n",
              "    </tr>\n",
              "  </thead>\n",
              "  <tbody>\n",
              "    <tr>\n",
              "      <th>5</th>\n",
              "      <td>Random Forest</td>\n",
              "      <td>4.109306</td>\n",
              "      <td>2.661469</td>\n",
              "      <td>0.873040</td>\n",
              "      <td>0.873032</td>\n",
              "    </tr>\n",
              "    <tr>\n",
              "      <th>7</th>\n",
              "      <td>XgBoost</td>\n",
              "      <td>4.142003</td>\n",
              "      <td>2.748051</td>\n",
              "      <td>0.871008</td>\n",
              "      <td>0.871003</td>\n",
              "    </tr>\n",
              "    <tr>\n",
              "      <th>8</th>\n",
              "      <td>LightGBM</td>\n",
              "      <td>4.227108</td>\n",
              "      <td>2.835175</td>\n",
              "      <td>0.865652</td>\n",
              "      <td>0.865648</td>\n",
              "    </tr>\n",
              "    <tr>\n",
              "      <th>6</th>\n",
              "      <td>GBM</td>\n",
              "      <td>4.248800</td>\n",
              "      <td>2.845100</td>\n",
              "      <td>0.864282</td>\n",
              "      <td>0.864265</td>\n",
              "    </tr>\n",
              "    <tr>\n",
              "      <th>4</th>\n",
              "      <td>Decision Tree</td>\n",
              "      <td>5.547026</td>\n",
              "      <td>3.672941</td>\n",
              "      <td>0.768655</td>\n",
              "      <td>0.768645</td>\n",
              "    </tr>\n",
              "    <tr>\n",
              "      <th>0</th>\n",
              "      <td>Linear Regression</td>\n",
              "      <td>8.011552</td>\n",
              "      <td>5.775180</td>\n",
              "      <td>0.517780</td>\n",
              "      <td>0.517395</td>\n",
              "    </tr>\n",
              "    <tr>\n",
              "      <th>2</th>\n",
              "      <td>Ridge Regression</td>\n",
              "      <td>8.011552</td>\n",
              "      <td>5.775180</td>\n",
              "      <td>0.517780</td>\n",
              "      <td>0.517395</td>\n",
              "    </tr>\n",
              "    <tr>\n",
              "      <th>3</th>\n",
              "      <td>Elastic Net Regression</td>\n",
              "      <td>8.011658</td>\n",
              "      <td>5.775609</td>\n",
              "      <td>0.517768</td>\n",
              "      <td>0.517382</td>\n",
              "    </tr>\n",
              "    <tr>\n",
              "      <th>1</th>\n",
              "      <td>Lasso Regression</td>\n",
              "      <td>8.011677</td>\n",
              "      <td>5.775608</td>\n",
              "      <td>0.517765</td>\n",
              "      <td>0.517380</td>\n",
              "    </tr>\n",
              "    <tr>\n",
              "      <th>9</th>\n",
              "      <td>SVM (Linear)</td>\n",
              "      <td>8.096077</td>\n",
              "      <td>5.558923</td>\n",
              "      <td>0.508180</td>\n",
              "      <td>0.507158</td>\n",
              "    </tr>\n",
              "    <tr>\n",
              "      <th>10</th>\n",
              "      <td>SVM (RBF)</td>\n",
              "      <td>11.084892</td>\n",
              "      <td>8.354793</td>\n",
              "      <td>0.084967</td>\n",
              "      <td>0.076108</td>\n",
              "    </tr>\n",
              "  </tbody>\n",
              "</table>\n",
              "</div>\n",
              "      <button class=\"colab-df-convert\" onclick=\"convertToInteractive('df-f99be429-2bb3-46b6-b802-12a78f38d540')\"\n",
              "              title=\"Convert this dataframe to an interactive table.\"\n",
              "              style=\"display:none;\">\n",
              "        \n",
              "  <svg xmlns=\"http://www.w3.org/2000/svg\" height=\"24px\"viewBox=\"0 0 24 24\"\n",
              "       width=\"24px\">\n",
              "    <path d=\"M0 0h24v24H0V0z\" fill=\"none\"/>\n",
              "    <path d=\"M18.56 5.44l.94 2.06.94-2.06 2.06-.94-2.06-.94-.94-2.06-.94 2.06-2.06.94zm-11 1L8.5 8.5l.94-2.06 2.06-.94-2.06-.94L8.5 2.5l-.94 2.06-2.06.94zm10 10l.94 2.06.94-2.06 2.06-.94-2.06-.94-.94-2.06-.94 2.06-2.06.94z\"/><path d=\"M17.41 7.96l-1.37-1.37c-.4-.4-.92-.59-1.43-.59-.52 0-1.04.2-1.43.59L10.3 9.45l-7.72 7.72c-.78.78-.78 2.05 0 2.83L4 21.41c.39.39.9.59 1.41.59.51 0 1.02-.2 1.41-.59l7.78-7.78 2.81-2.81c.8-.78.8-2.07 0-2.86zM5.41 20L4 18.59l7.72-7.72 1.47 1.35L5.41 20z\"/>\n",
              "  </svg>\n",
              "      </button>\n",
              "      \n",
              "  <style>\n",
              "    .colab-df-container {\n",
              "      display:flex;\n",
              "      flex-wrap:wrap;\n",
              "      gap: 12px;\n",
              "    }\n",
              "\n",
              "    .colab-df-convert {\n",
              "      background-color: #E8F0FE;\n",
              "      border: none;\n",
              "      border-radius: 50%;\n",
              "      cursor: pointer;\n",
              "      display: none;\n",
              "      fill: #1967D2;\n",
              "      height: 32px;\n",
              "      padding: 0 0 0 0;\n",
              "      width: 32px;\n",
              "    }\n",
              "\n",
              "    .colab-df-convert:hover {\n",
              "      background-color: #E2EBFA;\n",
              "      box-shadow: 0px 1px 2px rgba(60, 64, 67, 0.3), 0px 1px 3px 1px rgba(60, 64, 67, 0.15);\n",
              "      fill: #174EA6;\n",
              "    }\n",
              "\n",
              "    [theme=dark] .colab-df-convert {\n",
              "      background-color: #3B4455;\n",
              "      fill: #D2E3FC;\n",
              "    }\n",
              "\n",
              "    [theme=dark] .colab-df-convert:hover {\n",
              "      background-color: #434B5C;\n",
              "      box-shadow: 0px 1px 3px 1px rgba(0, 0, 0, 0.15);\n",
              "      filter: drop-shadow(0px 1px 2px rgba(0, 0, 0, 0.3));\n",
              "      fill: #FFFFFF;\n",
              "    }\n",
              "  </style>\n",
              "\n",
              "      <script>\n",
              "        const buttonEl =\n",
              "          document.querySelector('#df-f99be429-2bb3-46b6-b802-12a78f38d540 button.colab-df-convert');\n",
              "        buttonEl.style.display =\n",
              "          google.colab.kernel.accessAllowed ? 'block' : 'none';\n",
              "\n",
              "        async function convertToInteractive(key) {\n",
              "          const element = document.querySelector('#df-f99be429-2bb3-46b6-b802-12a78f38d540');\n",
              "          const dataTable =\n",
              "            await google.colab.kernel.invokeFunction('convertToInteractive',\n",
              "                                                     [key], {});\n",
              "          if (!dataTable) return;\n",
              "\n",
              "          const docLinkHtml = 'Like what you see? Visit the ' +\n",
              "            '<a target=\"_blank\" href=https://colab.research.google.com/notebooks/data_table.ipynb>data table notebook</a>'\n",
              "            + ' to learn more about interactive tables.';\n",
              "          element.innerHTML = '';\n",
              "          dataTable['output_type'] = 'display_data';\n",
              "          await google.colab.output.renderOutput(dataTable, element);\n",
              "          const docLink = document.createElement('div');\n",
              "          docLink.innerHTML = docLinkHtml;\n",
              "          element.appendChild(docLink);\n",
              "        }\n",
              "      </script>\n",
              "    </div>\n",
              "  </div>\n",
              "  "
            ]
          },
          "metadata": {},
          "execution_count": 223
        }
      ],
      "source": [
        "results_nox_df.sort_values(by = ['RMSE'])"
      ]
    },
    {
      "cell_type": "markdown",
      "metadata": {
        "id": "Ma4g1dqQPQEZ"
      },
      "source": [
        "## Hypothesis Testing"
      ]
    },
    {
      "cell_type": "markdown",
      "metadata": {
        "id": "EE44-3dBaEUt"
      },
      "source": [
        "###Z-Test 2 sample test\n"
      ]
    },
    {
      "cell_type": "code",
      "execution_count": 224,
      "metadata": {
        "id": "GgDO7N9hPPZ0"
      },
      "outputs": [],
      "source": [
        "import math\n",
        "import numpy as np\n",
        "from numpy.random import randn\n",
        "from statsmodels.stats.weightstats import ztest as ztest\n",
        "import pandas as pd\n",
        "\n"
      ]
    },
    {
      "cell_type": "code",
      "execution_count": 225,
      "metadata": {
        "id": "kUau8HWdRo9r"
      },
      "outputs": [],
      "source": [
        "df1=pd.concat([pd.read_csv(\"gt_2011.csv\"),pd.read_csv(\"gt_2012.csv\"),pd.read_csv(\"gt_2013.csv\"),pd.read_csv(\"gt_2014.csv\")],axis=0)\n",
        "df2=pd.read_csv(\"gt_2015.csv\")\n",
        "df3=pd.read_csv(\"gt_2014.csv\")\n"
      ]
    },
    {
      "cell_type": "code",
      "execution_count": 226,
      "metadata": {
        "id": "V3nQMLU9bhs7",
        "colab": {
          "base_uri": "https://localhost:8080/"
        },
        "outputId": "0862ee84-9ae3-4cde-ed67-9a52bb8fe1a3"
      },
      "outputs": [
        {
          "output_type": "execute_result",
          "data": {
            "text/plain": [
              "(1.4964623288921, 0.13453321762917658)"
            ]
          },
          "metadata": {},
          "execution_count": 226
        }
      ],
      "source": [
        "ztest(df3['NOX'], value=np.mean(df2['NOX']))"
      ]
    },
    {
      "cell_type": "markdown",
      "metadata": {
        "id": "sGIRMcAxaokR"
      },
      "source": [
        "Conclusion: The mean value of NOX emission for 2015 is  equal to the mean value of the NOX emissions of years from 2014."
      ]
    },
    {
      "cell_type": "code",
      "execution_count": 227,
      "metadata": {
        "id": "RVW-OwEYa_EI",
        "colab": {
          "base_uri": "https://localhost:8080/"
        },
        "outputId": "a6772c5e-ffce-421a-946f-520ab4fe9045"
      },
      "outputs": [
        {
          "output_type": "execute_result",
          "data": {
            "text/plain": [
              "(-44.21694756923266, 0.0)"
            ]
          },
          "metadata": {},
          "execution_count": 227
        }
      ],
      "source": [
        "ztest(df3['CO'], value= np.mean(df2['CO'])) "
      ]
    },
    {
      "cell_type": "markdown",
      "metadata": {
        "id": "YggmwxXGeGV2"
      },
      "source": [
        "Conclusion: The mean value of CO emission for 2015 is not equal to the mean value of the CO emissions of years from 2014."
      ]
    },
    {
      "cell_type": "markdown",
      "metadata": {
        "id": "mqD8s53DaMPJ"
      },
      "source": [
        "###ANOVA"
      ]
    },
    {
      "cell_type": "code",
      "execution_count": 228,
      "metadata": {
        "id": "k9Q8IQoraLFi",
        "colab": {
          "base_uri": "https://localhost:8080/"
        },
        "outputId": "81d5cc8f-db28-4560-8f79-2c92a24fcaf2"
      },
      "outputs": [
        {
          "output_type": "execute_result",
          "data": {
            "text/plain": [
              "F_onewayResult(statistic=50.66293889000715, pvalue=1.1463244391073537e-12)"
            ]
          },
          "metadata": {},
          "execution_count": 228
        }
      ],
      "source": [
        "from scipy.stats import f_oneway\n",
        "# result= f_oneway(pd.read_csv(\"gt_2011.csv\")['NOX'],pd.read_csv(\"gt_2012.csv\")['NOX'],pd.read_csv(\"gt_2013.csv\")['NOX'],pd.read_csv(\"gt_2014.csv\")['NOX'],df2['NOX'])\n",
        "result= f_oneway(pd.read_csv(\"gt_2011.csv\")['NOX'],pd.read_csv(\"gt_2012.csv\")['NOX'])\n",
        "result"
      ]
    },
    {
      "cell_type": "markdown",
      "metadata": {
        "id": "yDx-4OZRv7Uh"
      },
      "source": [
        "## Code Last Run:"
      ]
    },
    {
      "cell_type": "code",
      "execution_count": 229,
      "metadata": {
        "id": "9jFMVJQhv7Ui",
        "colab": {
          "base_uri": "https://localhost:8080/"
        },
        "outputId": "e21d6f5d-4e3f-42da-d8f7-88ff9255d102"
      },
      "outputs": [
        {
          "output_type": "stream",
          "name": "stdout",
          "text": [
            "signed off at   2023-02-16 23:04:34.346054+05:30\n"
          ]
        }
      ],
      "source": [
        "from datetime import datetime\n",
        "import pytz\n",
        "print('signed off at  ',datetime.now(pytz.timezone('Asia/Kolkata')))"
      ]
    },
    {
      "cell_type": "markdown",
      "source": [
        "![CO Results Sorted.png](data:image/png;base64,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)"
      ],
      "metadata": {
        "id": "AYD_EoUZY49q"
      }
    },
    {
      "cell_type": "markdown",
      "source": [
        "![NOx Results Sorted.png](data:image/png;base64,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)"
      ],
      "metadata": {
        "id": "fimoAC1cZF3I"
      }
    },
    {
      "cell_type": "markdown",
      "metadata": {
        "id": "O94RfMSSCJ9X"
      },
      "source": [
        "https://neptune.ai/blog/optuna-vs-hyperopt"
      ]
    },
    {
      "cell_type": "markdown",
      "metadata": {
        "id": "NJVG70dTDcDg"
      },
      "source": [
        "https://neptune.ai/blog/best-tools-for-model-tuning-and-hyperparameter-optimization"
      ]
    }
  ],
  "metadata": {
    "accelerator": "GPU",
    "colab": {
      "collapsed_sections": [
        "MI1-bRKImqfX",
        "mX16kGvDmzIC",
        "VryRaYvMYFkj",
        "_tnn0yQOYTVL",
        "R_tLIV8FYmFt",
        "P59MNe_FYLbJ",
        "dZrytQf1YO2D",
        "t2qCQmJkYgQ2",
        "BBE1V5f-dL8K",
        "2zQo6nKFaKTD",
        "R1vYCLu0acZT",
        "wHpeTNOxa7o9",
        "wYOhnvhLamzZ",
        "TUd362MXcZ94",
        "EDk7pxLQcQat",
        "kdwMMjxlcjIk",
        "wKa7q8YhfPLx",
        "iut-lbZXMXIi",
        "uU-tazgNfZF7",
        "dvbT_z6Gfwf2",
        "wbFE1ecef5CG",
        "JaAyL4odyPX1",
        "E4ow9H7Nz_f9",
        "4-wiIMeoG1TH",
        "Uz34FJPoNg85",
        "zjzVmu3bNsSh",
        "sc20J0hqOMuS",
        "zfsVV1ofgE-o",
        "B_je6qY-ndn3",
        "6KUMhRUOnjWF",
        "weHNJ8kUEXxx",
        "fnMv3CSdqICW",
        "xaSg2G0Znvwt",
        "ni6rPxNngLaD",
        "hVSSTRg8qLTX",
        "LV8q78xgn29A",
        "HYJY7dOqeKgA",
        "GIWvVxEZqZjz",
        "rTACVjqroIdQ",
        "Sh4yxBmQgOiw",
        "Opy4oiAbqdBv",
        "B7w12AjEoN2O",
        "O9_Z-qxbQygu",
        "Nh72HHpzoTjg",
        "k09IelL92-ST",
        "NxxVr-xDv7UI",
        "2LLhrVv9v7UR",
        "Cp3ICCztO4r-",
        "Vt1-LZXVO4sD",
        "-wDfsvmsO4sH",
        "Msx2ISEqv7US",
        "E3jgKaqSq3z4",
        "XGBPLqlBoeWF",
        "c7-6RRRcv7UU",
        "mkwvHCqWq6qD",
        "LwUg7bNZoia8",
        "AUodXXlev7UW",
        "6jOUCKglq9z6",
        "LhGeJs-LomRy",
        "ldKkZvVfv7UZ",
        "06W9XSP9rCbE",
        "SZkcJFE2pNMO",
        "aLqtKeTgv7Uc",
        "5UegbiJ2rFOl",
        "1rGRve6opQfg",
        "hgWeibO5v7Uf",
        "omtfDFYAQ6kX",
        "Sza8-29spuOv",
        "71NmPF08FCAg",
        "Ma4g1dqQPQEZ",
        "EE44-3dBaEUt",
        "mqD8s53DaMPJ",
        "yDx-4OZRv7Uh"
      ],
      "provenance": [],
      "toc_visible": true,
      "include_colab_link": true
    },
    "gpuClass": "standard",
    "kernelspec": {
      "display_name": "Python 3",
      "name": "python3"
    },
    "language_info": {
      "name": "python"
    }
  },
  "nbformat": 4,
  "nbformat_minor": 0
}